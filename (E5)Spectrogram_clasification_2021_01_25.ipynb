{
 "cells": [
  {
   "cell_type": "code",
   "execution_count": 1,
   "metadata": {},
   "outputs": [],
   "source": [
    "import numpy as np\n",
    "import matplotlib.pyplot as plt\n",
    "import os\n",
    "\n",
    "#아날로그 신호의 표본화(특정 부분을 잘라내는 작업)\n",
    "#single tone은 단순파(즉 하나의 음파)\n",
    "def single_tone(frequecy, sampling_rate=16000, duration=1):\n",
    "    t = np.linspace(0, duration, int(sampling_rate))\n",
    "    y = np.sin(2 * np.pi * frequecy * t)\n",
    "    return y\n",
    "\n",
    "y = single_tone(400)"
   ]
  },
  {
   "cell_type": "markdown",
   "metadata": {},
   "source": [
    "## 표본화?  \n",
    "시간축 방향에서 일정 간격으로 샘플을 추출하여 이산신호로 변환시키는 과정을 표본화라고 한다. 일정 간격으로 샘플을 추출하는 이유는 움직이고있는 연속된 신호이기 때문에  그 자체로 판단하기 어렵기 때문이다"
   ]
  },
  {
   "cell_type": "code",
   "execution_count": 2,
   "metadata": {},
   "outputs": [
    {
     "name": "stdout",
     "output_type": "stream",
     "text": [
      "✅\n"
     ]
    }
   ],
   "source": [
    "import numpy as np\n",
    "import os\n",
    "\n",
    "data_path = os.getenv(\"HOME\")+'/aiffel/speech_recognition/data/speech_wav_8000.npz'\n",
    "speech_data = np.load(data_path)\n",
    "\n",
    "print(\"✅\")"
   ]
  },
  {
   "cell_type": "code",
   "execution_count": 3,
   "metadata": {},
   "outputs": [
    {
     "name": "stdout",
     "output_type": "stream",
     "text": [
      "Wave data shape :  (50620, 8000)\n",
      "Label data shape :  (50620, 1)\n",
      "✅\n"
     ]
    }
   ],
   "source": [
    "print(\"Wave data shape : \", speech_data[\"wav_vals\"].shape)\n",
    "print(\"Label data shape : \", speech_data[\"label_vals\"].shape)\n",
    "print(\"✅\")"
   ]
  },
  {
   "cell_type": "code",
   "execution_count": 4,
   "metadata": {},
   "outputs": [
    {
     "name": "stdout",
     "output_type": "stream",
     "text": [
      "rand num :  18314\n",
      "Wave data shape :  (8000,)\n",
      "label :  ['up']\n"
     ]
    },
    {
     "data": {
      "text/html": [
       "\n",
       "                <audio  controls=\"controls\" >\n",
       "                    <source src=\"data:audio/wav;base64,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\" type=\"audio/wav\" />\n",
       "                    Your browser does not support the audio element.\n",
       "                </audio>\n",
       "              "
      ],
      "text/plain": [
       "<IPython.lib.display.Audio object>"
      ]
     },
     "execution_count": 4,
     "metadata": {},
     "output_type": "execute_result"
    }
   ],
   "source": [
    "import IPython.display as ipd\n",
    "import random\n",
    "\n",
    "# 데이터 선택 (랜덤하게 선택하고 있으니, 여러번 실행해 보세요)\n",
    "rand = random.randint(0, len(speech_data[\"wav_vals\"]))\n",
    "print(\"rand num : \", rand)\n",
    "\n",
    "sr = 8000 # 1초동안 재생되는 샘플의 갯수\n",
    "data = speech_data[\"wav_vals\"][rand]\n",
    "print(\"Wave data shape : \", data.shape)\n",
    "print(\"label : \", speech_data[\"label_vals\"][rand])\n",
    "\n",
    "ipd.Audio(data, rate=sr)"
   ]
  },
  {
   "cell_type": "code",
   "execution_count": 5,
   "metadata": {},
   "outputs": [
    {
     "name": "stdout",
     "output_type": "stream",
     "text": [
      "LABEL :  ['yes', 'no', 'up', 'down', 'left', 'right', 'on', 'off', 'stop', 'go', 'unknown', 'silence']\n",
      "Indexed LABEL :  {'yes': 0, 'no': 1, 'up': 2, 'down': 3, 'left': 4, 'right': 5, 'on': 6, 'off': 7, 'stop': 8, 'go': 9, 'unknown': 10, 'silence': 11}\n"
     ]
    }
   ],
   "source": [
    "target_list = ['yes', 'no', 'up', 'down', 'left', 'right', 'on', 'off', 'stop', 'go']\n",
    "\n",
    "label_value = target_list\n",
    "label_value.append('unknown')\n",
    "label_value.append('silence')\n",
    "\n",
    "print('LABEL : ', label_value)\n",
    "\n",
    "new_label_value = dict()\n",
    "for i, l in enumerate(label_value):\n",
    "    new_label_value[l] = i\n",
    "label_value = new_label_value\n",
    "\n",
    "print('Indexed LABEL : ', new_label_value)"
   ]
  },
  {
   "cell_type": "code",
   "execution_count": 6,
   "metadata": {},
   "outputs": [
    {
     "data": {
      "text/plain": [
       "array([ 3,  3,  3, ..., 11, 11, 11])"
      ]
     },
     "execution_count": 6,
     "metadata": {},
     "output_type": "execute_result"
    }
   ],
   "source": [
    "temp = []\n",
    "for v in speech_data[\"label_vals\"]:\n",
    "    temp.append(label_value[v[0]])\n",
    "label_data = np.array(temp)\n",
    "\n",
    "label_data"
   ]
  },
  {
   "cell_type": "code",
   "execution_count": 7,
   "metadata": {},
   "outputs": [
    {
     "name": "stdout",
     "output_type": "stream",
     "text": [
      "[[ 2.1559770e-04  4.5468533e-04  6.1167142e-04 ... -2.5257087e-04\n",
      "  -3.8395793e-04 -2.2552421e-04]\n",
      " [ 3.1286720e-03  5.9436332e-03  1.6938220e-03 ... -2.5104589e-03\n",
      "   2.9015055e-02 -1.9430419e-02]\n",
      " [ 3.2515801e-03  4.0524816e-03 -3.0375151e-05 ...  2.0389503e-03\n",
      "   1.5205252e-03 -2.4299398e-03]\n",
      " ...\n",
      " [ 3.3042072e-03  4.6864962e-03  1.0048585e-05 ...  2.5943036e-03\n",
      "   2.0632769e-03 -1.8395208e-03]\n",
      " [ 7.9560815e-04  1.2916829e-03  1.1293601e-03 ...  2.3143496e-03\n",
      "   9.1287121e-04 -1.2768717e-03]\n",
      " [ 3.3440036e-03  4.9875178e-03  3.6500962e-04 ...  2.2817175e-03\n",
      "   1.8996353e-03 -1.9993382e-03]]\n",
      "✅\n"
     ]
    }
   ],
   "source": [
    "from sklearn.model_selection import train_test_split\n",
    "\n",
    "sr = 8000\n",
    "train_wav, test_wav, train_label, test_label = train_test_split(speech_data[\"wav_vals\"], \n",
    "                                                                label_data, \n",
    "                                                                test_size=0.1,\n",
    "                                                                shuffle=True)\n",
    "print(train_wav)\n",
    "\n",
    "train_wav = train_wav.reshape([-1, sr, 1]) # add channel for CNN\n",
    "test_wav = test_wav.reshape([-1, sr, 1])\n",
    "print(\"✅\")"
   ]
  },
  {
   "cell_type": "code",
   "execution_count": 8,
   "metadata": {},
   "outputs": [
    {
     "name": "stdout",
     "output_type": "stream",
     "text": [
      "train data :  (45558, 8000, 1)\n",
      "train labels :  (45558,)\n",
      "test data :  (5062, 8000, 1)\n",
      "test labels :  (5062,)\n",
      "✅\n"
     ]
    }
   ],
   "source": [
    "print(\"train data : \", train_wav.shape)\n",
    "print(\"train labels : \", train_label.shape)\n",
    "print(\"test data : \", test_wav.shape)\n",
    "print(\"test labels : \", test_label.shape)\n",
    "print(\"✅\")"
   ]
  },
  {
   "cell_type": "code",
   "execution_count": 9,
   "metadata": {},
   "outputs": [
    {
     "data": {
      "text/plain": [
       "'/home/aiffel-dj16/aiffel/speech_recognition/models/wav'"
      ]
     },
     "execution_count": 9,
     "metadata": {},
     "output_type": "execute_result"
    }
   ],
   "source": [
    "batch_size = 32\n",
    "max_epochs = 1\n",
    "\n",
    "# the save point\n",
    "checkpoint_dir = os.getenv('HOME')+'/aiffel/speech_recognition/models/wav'\n",
    "\n",
    "checkpoint_dir"
   ]
  },
  {
   "cell_type": "code",
   "execution_count": 10,
   "metadata": {},
   "outputs": [
    {
     "name": "stdout",
     "output_type": "stream",
     "text": [
      "✅\n"
     ]
    }
   ],
   "source": [
    "def one_hot_label(wav, label):\n",
    "    label = tf.one_hot(label, depth=12)\n",
    "    return wav, label\n",
    "print(\"✅\")"
   ]
  },
  {
   "cell_type": "code",
   "execution_count": 11,
   "metadata": {},
   "outputs": [
    {
     "name": "stdout",
     "output_type": "stream",
     "text": [
      "<BatchDataset shapes: ((None, 8000, 1), (None, 12)), types: (tf.float32, tf.float32)>\n",
      "<BatchDataset shapes: ((None, 8000, 1), (None, 12)), types: (tf.float32, tf.float32)>\n",
      "✅\n"
     ]
    }
   ],
   "source": [
    "import tensorflow as tf\n",
    "\n",
    "# for train\n",
    "train_dataset = tf.data.Dataset.from_tensor_slices((train_wav, train_label))\n",
    "train_dataset = train_dataset.map(one_hot_label)\n",
    "train_dataset = train_dataset.repeat().batch(batch_size=batch_size)\n",
    "print(train_dataset)\n",
    "\n",
    "# for test\n",
    "test_dataset = tf.data.Dataset.from_tensor_slices((test_wav, test_label))\n",
    "test_dataset = test_dataset.map(one_hot_label)\n",
    "test_dataset = test_dataset.batch(batch_size=batch_size)\n",
    "print(test_dataset)\n",
    "print(\"✅\")"
   ]
  },
  {
   "cell_type": "code",
   "execution_count": 12,
   "metadata": {},
   "outputs": [
    {
     "name": "stdout",
     "output_type": "stream",
     "text": [
      "Model: \"model\"\n",
      "_________________________________________________________________\n",
      "Layer (type)                 Output Shape              Param #   \n",
      "=================================================================\n",
      "input_1 (InputLayer)         [(None, 8000, 1)]         0         \n",
      "_________________________________________________________________\n",
      "conv1d (Conv1D)              (None, 8000, 32)          320       \n",
      "_________________________________________________________________\n",
      "conv1d_1 (Conv1D)            (None, 8000, 32)          9248      \n",
      "_________________________________________________________________\n",
      "max_pooling1d (MaxPooling1D) (None, 4000, 32)          0         \n",
      "_________________________________________________________________\n",
      "conv1d_2 (Conv1D)            (None, 4000, 64)          18496     \n",
      "_________________________________________________________________\n",
      "conv1d_3 (Conv1D)            (None, 4000, 64)          36928     \n",
      "_________________________________________________________________\n",
      "max_pooling1d_1 (MaxPooling1 (None, 2000, 64)          0         \n",
      "_________________________________________________________________\n",
      "conv1d_4 (Conv1D)            (None, 2000, 128)         73856     \n",
      "_________________________________________________________________\n",
      "conv1d_5 (Conv1D)            (None, 2000, 128)         147584    \n",
      "_________________________________________________________________\n",
      "conv1d_6 (Conv1D)            (None, 2000, 128)         147584    \n",
      "_________________________________________________________________\n",
      "max_pooling1d_2 (MaxPooling1 (None, 1000, 128)         0         \n",
      "_________________________________________________________________\n",
      "conv1d_7 (Conv1D)            (None, 1000, 256)         295168    \n",
      "_________________________________________________________________\n",
      "conv1d_8 (Conv1D)            (None, 1000, 256)         590080    \n",
      "_________________________________________________________________\n",
      "conv1d_9 (Conv1D)            (None, 1000, 256)         590080    \n",
      "_________________________________________________________________\n",
      "max_pooling1d_3 (MaxPooling1 (None, 500, 256)          0         \n",
      "_________________________________________________________________\n",
      "dropout (Dropout)            (None, 500, 256)          0         \n",
      "_________________________________________________________________\n",
      "flatten (Flatten)            (None, 128000)            0         \n",
      "_________________________________________________________________\n",
      "dense (Dense)                (None, 256)               32768256  \n",
      "_________________________________________________________________\n",
      "batch_normalization (BatchNo (None, 256)               1024      \n",
      "_________________________________________________________________\n",
      "activation (Activation)      (None, 256)               0         \n",
      "_________________________________________________________________\n",
      "dense_1 (Dense)              (None, 12)                3084      \n",
      "=================================================================\n",
      "Total params: 34,681,708\n",
      "Trainable params: 34,681,196\n",
      "Non-trainable params: 512\n",
      "_________________________________________________________________\n"
     ]
    }
   ],
   "source": [
    "from tensorflow.keras import layers\n",
    "\n",
    "input_tensor = layers.Input(shape=(sr, 1))\n",
    "\n",
    "x = layers.Conv1D(32, 9, padding='same', activation='relu')(input_tensor)\n",
    "x = layers.Conv1D(32, 9, padding='same', activation='relu')(x)\n",
    "x = layers.MaxPool1D()(x)\n",
    "\n",
    "x = layers.Conv1D(64, 9, padding='same', activation='relu')(x)\n",
    "x = layers.Conv1D(64, 9, padding='same', activation='relu')(x)\n",
    "x = layers.MaxPool1D()(x)\n",
    "\n",
    "x = layers.Conv1D(128, 9, padding='same', activation='relu')(x)\n",
    "x = layers.Conv1D(128, 9, padding='same', activation='relu')(x)\n",
    "x = layers.Conv1D(128, 9, padding='same', activation='relu')(x)\n",
    "x = layers.MaxPool1D()(x)\n",
    "\n",
    "x = layers.Conv1D(256, 9, padding='same', activation='relu')(x)\n",
    "x = layers.Conv1D(256, 9, padding='same', activation='relu')(x)\n",
    "x = layers.Conv1D(256, 9, padding='same', activation='relu')(x)\n",
    "x = layers.MaxPool1D()(x)\n",
    "x = layers.Dropout(0.3)(x)\n",
    "\n",
    "x = layers.Flatten()(x)\n",
    "x = layers.Dense(256)(x)\n",
    "x = layers.BatchNormalization()(x)\n",
    "x = layers.Activation('relu')(x)\n",
    "\n",
    "output_tensor = layers.Dense(12)(x)\n",
    "\n",
    "model_wav = tf.keras.Model(input_tensor, output_tensor)\n",
    "\n",
    "model_wav.summary()"
   ]
  },
  {
   "cell_type": "code",
   "execution_count": 13,
   "metadata": {},
   "outputs": [
    {
     "name": "stdout",
     "output_type": "stream",
     "text": [
      "✅\n"
     ]
    }
   ],
   "source": [
    "optimizer=tf.keras.optimizers.Adam(1e-4)\n",
    "model_wav.compile(loss=tf.keras.losses.CategoricalCrossentropy(from_logits=True),\n",
    "             optimizer=optimizer,\n",
    "             metrics=['accuracy'])\n",
    "print(\"✅\")"
   ]
  },
  {
   "cell_type": "markdown",
   "metadata": {},
   "source": [
    "## 학습"
   ]
  },
  {
   "cell_type": "code",
   "execution_count": 14,
   "metadata": {},
   "outputs": [
    {
     "name": "stdout",
     "output_type": "stream",
     "text": [
      "✅\n"
     ]
    }
   ],
   "source": [
    "cp_callback = tf.keras.callbacks.ModelCheckpoint(checkpoint_dir,\n",
    "                                                 save_weights_only=True,\n",
    "                                                 monitor='val_loss',\n",
    "                                                 mode='auto',\n",
    "                                                 save_best_only=True,\n",
    "                                                 verbose=1)\n",
    "print(\"✅\")"
   ]
  },
  {
   "cell_type": "code",
   "execution_count": 15,
   "metadata": {},
   "outputs": [
    {
     "name": "stdout",
     "output_type": "stream",
     "text": [
      "1423/1423 [==============================] - ETA: 0s - loss: 1.3408 - accuracy: 0.5582\n",
      "Epoch 00001: val_loss improved from inf to 0.91742, saving model to /home/aiffel-dj16/aiffel/speech_recognition/models/wav\n",
      "1423/1423 [==============================] - 144s 101ms/step - loss: 1.3408 - accuracy: 0.5582 - val_loss: 0.9174 - val_accuracy: 0.7118\n",
      "✅\n"
     ]
    }
   ],
   "source": [
    "#30분 내외 소요 (메모리 사용량에 주의해 주세요.)\n",
    "history_wav = model_wav.fit(train_dataset, epochs=max_epochs,\n",
    "                    steps_per_epoch=len(train_wav) // batch_size,\n",
    "                    validation_data=test_dataset,\n",
    "                    validation_steps=len(test_wav) // batch_size,\n",
    "                    callbacks=[cp_callback]\n",
    "                    )\n",
    "print(\"✅\")"
   ]
  },
  {
   "cell_type": "code",
   "execution_count": 16,
   "metadata": {},
   "outputs": [
    {
     "data": {
      "image/png": "[encoded data removed]",
      "text/plain": [
       "<Figure size 576x576 with 2 Axes>"
      ]
     },
     "metadata": {
      "needs_background": "light"
     },
     "output_type": "display_data"
    },
    {
     "name": "stdout",
     "output_type": "stream",
     "text": [
      "✅\n"
     ]
    }
   ],
   "source": [
    "import matplotlib.pyplot as plt\n",
    "\n",
    "acc = history_wav.history['accuracy']\n",
    "val_acc = history_wav.history['val_accuracy']\n",
    "\n",
    "loss=history_wav.history['loss']\n",
    "val_loss=history_wav.history['val_loss']\n",
    "\n",
    "epochs_range = range(len(acc))\n",
    "\n",
    "plt.figure(figsize=(8, 8))\n",
    "plt.subplot(1, 2, 1)\n",
    "plt.plot(epochs_range, acc, label='Training Accuracy')\n",
    "plt.plot(epochs_range, val_acc, label='Validation Accuracy')\n",
    "plt.legend(loc='lower right')\n",
    "plt.title('Training and Validation Accuracy')\n",
    "\n",
    "plt.subplot(1, 2, 2)\n",
    "plt.plot(epochs_range, loss, label='Training Loss')\n",
    "plt.plot(epochs_range, val_loss, label='Validation Loss')\n",
    "plt.legend(loc='upper right')\n",
    "plt.title('Training and Validation Loss')\n",
    "plt.show()\n",
    "print(\"✅\")"
   ]
  },
  {
   "cell_type": "code",
   "execution_count": 17,
   "metadata": {},
   "outputs": [
    {
     "name": "stdout",
     "output_type": "stream",
     "text": [
      "✅\n"
     ]
    }
   ],
   "source": [
    "model_wav.load_weights(checkpoint_dir)\n",
    "print(\"✅\")"
   ]
  },
  {
   "cell_type": "code",
   "execution_count": 18,
   "metadata": {},
   "outputs": [
    {
     "name": "stdout",
     "output_type": "stream",
     "text": [
      "159/159 [==============================] - 11s 70ms/step - loss: 0.9170 - accuracy: 0.7120\n",
      "✅\n"
     ]
    }
   ],
   "source": [
    "results = model_wav.evaluate(test_dataset)\n",
    "print(\"✅\")"
   ]
  },
  {
   "cell_type": "code",
   "execution_count": 19,
   "metadata": {},
   "outputs": [
    {
     "name": "stdout",
     "output_type": "stream",
     "text": [
      "loss value: 0.917\n",
      "accuracy value: 71.1972%\n",
      "✅\n"
     ]
    }
   ],
   "source": [
    "# loss\n",
    "print(\"loss value: {:.3f}\".format(results[0]))\n",
    "# accuracy\n",
    "print(\"accuracy value: {:.4f}%\".format(results[1]*100))\n",
    "print(\"✅\")"
   ]
  },
  {
   "cell_type": "markdown",
   "metadata": {},
   "source": [
    "## 테스트"
   ]
  },
  {
   "cell_type": "code",
   "execution_count": 20,
   "metadata": {},
   "outputs": [
    {
     "name": "stdout",
     "output_type": "stream",
     "text": [
      "label :  yes\n"
     ]
    },
    {
     "data": {
      "text/html": [
       "\n",
       "                <audio  controls=\"controls\" >\n",
       "                    <source src=\"data:audio/wav;base64,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\" type=\"audio/wav\" />\n",
       "                    Your browser does not support the audio element.\n",
       "                </audio>\n",
       "              "
      ],
      "text/plain": [
       "<IPython.lib.display.Audio object>"
      ]
     },
     "execution_count": 20,
     "metadata": {},
     "output_type": "execute_result"
    }
   ],
   "source": [
    "inv_label_value = {v: k for k, v in label_value.items()}\n",
    "batch_index = np.random.choice(len(test_wav), size=1, replace=False)\n",
    "\n",
    "batch_xs = test_wav[batch_index]\n",
    "batch_ys = test_label[batch_index]\n",
    "y_pred_ = model_wav(batch_xs, training=False)\n",
    "\n",
    "print(\"label : \", str(inv_label_value[batch_ys[0]]))\n",
    "\n",
    "ipd.Audio(batch_xs.reshape(8000,), rate=8000)"
   ]
  },
  {
   "cell_type": "code",
   "execution_count": 21,
   "metadata": {},
   "outputs": [
    {
     "name": "stdout",
     "output_type": "stream",
     "text": [
      "y_pred: yes(Correct!)\n",
      "✅\n"
     ]
    }
   ],
   "source": [
    "if np.argmax(y_pred_) == batch_ys[0]:\n",
    "    print(\"y_pred: \" + str(inv_label_value[np.argmax(y_pred_)]) + '(Correct!)')\n",
    "else:\n",
    "    print(\"y_pred: \" + str(inv_label_value[np.argmax(y_pred_)]) + '(Incorrect!)')\n",
    "print(\"✅\")"
   ]
  },
  {
   "cell_type": "markdown",
   "metadata": {},
   "source": [
    "## Skip-Connection model"
   ]
  },
  {
   "cell_type": "code",
   "execution_count": 22,
   "metadata": {},
   "outputs": [
    {
     "name": "stdout",
     "output_type": "stream",
     "text": [
      "Model: \"model_1\"\n",
      "__________________________________________________________________________________________________\n",
      "Layer (type)                    Output Shape         Param #     Connected to                     \n",
      "==================================================================================================\n",
      "input_2 (InputLayer)            [(None, 8000, 1)]    0                                            \n",
      "__________________________________________________________________________________________________\n",
      "conv1d_10 (Conv1D)              (None, 8000, 32)     320         input_2[0][0]                    \n",
      "__________________________________________________________________________________________________\n",
      "conv1d_11 (Conv1D)              (None, 8000, 32)     9248        conv1d_10[0][0]                  \n",
      "__________________________________________________________________________________________________\n",
      "max_pooling1d_4 (MaxPooling1D)  (None, 4000, 32)     0           conv1d_11[0][0]                  \n",
      "__________________________________________________________________________________________________\n",
      "conv1d_12 (Conv1D)              (None, 4000, 64)     18496       max_pooling1d_4[0][0]            \n",
      "__________________________________________________________________________________________________\n",
      "conv1d_13 (Conv1D)              (None, 4000, 64)     36928       conv1d_12[0][0]                  \n",
      "__________________________________________________________________________________________________\n",
      "tf_op_layer_concat (TensorFlowO [(None, 4000, 96)]   0           conv1d_13[0][0]                  \n",
      "                                                                 max_pooling1d_4[0][0]            \n",
      "__________________________________________________________________________________________________\n",
      "max_pooling1d_5 (MaxPooling1D)  (None, 2000, 96)     0           tf_op_layer_concat[0][0]         \n",
      "__________________________________________________________________________________________________\n",
      "conv1d_14 (Conv1D)              (None, 2000, 128)    110720      max_pooling1d_5[0][0]            \n",
      "__________________________________________________________________________________________________\n",
      "conv1d_15 (Conv1D)              (None, 2000, 128)    147584      conv1d_14[0][0]                  \n",
      "__________________________________________________________________________________________________\n",
      "conv1d_16 (Conv1D)              (None, 2000, 128)    147584      conv1d_15[0][0]                  \n",
      "__________________________________________________________________________________________________\n",
      "tf_op_layer_concat_1 (TensorFlo [(None, 2000, 224)]  0           conv1d_16[0][0]                  \n",
      "                                                                 max_pooling1d_5[0][0]            \n",
      "__________________________________________________________________________________________________\n",
      "max_pooling1d_6 (MaxPooling1D)  (None, 1000, 224)    0           tf_op_layer_concat_1[0][0]       \n",
      "__________________________________________________________________________________________________\n",
      "conv1d_17 (Conv1D)              (None, 1000, 256)    516352      max_pooling1d_6[0][0]            \n",
      "__________________________________________________________________________________________________\n",
      "conv1d_18 (Conv1D)              (None, 1000, 256)    590080      conv1d_17[0][0]                  \n",
      "__________________________________________________________________________________________________\n",
      "conv1d_19 (Conv1D)              (None, 1000, 256)    590080      conv1d_18[0][0]                  \n",
      "__________________________________________________________________________________________________\n",
      "tf_op_layer_concat_2 (TensorFlo [(None, 1000, 480)]  0           conv1d_19[0][0]                  \n",
      "                                                                 max_pooling1d_6[0][0]            \n",
      "__________________________________________________________________________________________________\n",
      "max_pooling1d_7 (MaxPooling1D)  (None, 500, 480)     0           tf_op_layer_concat_2[0][0]       \n",
      "__________________________________________________________________________________________________\n",
      "dropout_1 (Dropout)             (None, 500, 480)     0           max_pooling1d_7[0][0]            \n",
      "__________________________________________________________________________________________________\n",
      "flatten_1 (Flatten)             (None, 240000)       0           dropout_1[0][0]                  \n",
      "__________________________________________________________________________________________________\n",
      "dense_2 (Dense)                 (None, 256)          61440256    flatten_1[0][0]                  \n",
      "__________________________________________________________________________________________________\n",
      "batch_normalization_1 (BatchNor (None, 256)          1024        dense_2[0][0]                    \n",
      "__________________________________________________________________________________________________\n",
      "activation_1 (Activation)       (None, 256)          0           batch_normalization_1[0][0]      \n",
      "__________________________________________________________________________________________________\n",
      "dense_3 (Dense)                 (None, 12)           3084        activation_1[0][0]               \n",
      "==================================================================================================\n",
      "Total params: 63,611,756\n",
      "Trainable params: 63,611,244\n",
      "Non-trainable params: 512\n",
      "__________________________________________________________________________________________________\n"
     ]
    }
   ],
   "source": [
    "input_tensor = layers.Input(shape=(sr, 1))\n",
    "\n",
    "x = layers.Conv1D(32, 9, padding='same', activation='relu')(input_tensor)\n",
    "x = layers.Conv1D(32, 9, padding='same', activation='relu')(x)\n",
    "skip_1 = layers.MaxPool1D()(x)\n",
    "\n",
    "x = layers.Conv1D(64, 9, padding='same', activation='relu')(skip_1)\n",
    "x = layers.Conv1D(64, 9, padding='same', activation='relu')(x)\n",
    "x = tf.concat([x, skip_1], -1)\n",
    "skip_2 = layers.MaxPool1D()(x)\n",
    "\n",
    "x = layers.Conv1D(128, 9, padding='same', activation='relu')(skip_2)\n",
    "x = layers.Conv1D(128, 9, padding='same', activation='relu')(x)\n",
    "x = layers.Conv1D(128, 9, padding='same', activation='relu')(x)\n",
    "x = tf.concat([x, skip_2], -1)\n",
    "skip_3 = layers.MaxPool1D()(x)\n",
    "\n",
    "x = layers.Conv1D(256, 9, padding='same', activation='relu')(skip_3)\n",
    "x = layers.Conv1D(256, 9, padding='same', activation='relu')(x)\n",
    "x = layers.Conv1D(256, 9, padding='same', activation='relu')(x)\n",
    "x = tf.concat([x, skip_3], -1)\n",
    "x = layers.MaxPool1D()(x)\n",
    "x = layers.Dropout(0.3)(x)\n",
    "\n",
    "x = layers.Flatten()(x)\n",
    "x = layers.Dense(256)(x)\n",
    "x = layers.BatchNormalization()(x)\n",
    "x = layers.Activation('relu')(x)\n",
    "\n",
    "output_tensor = layers.Dense(12)(x)\n",
    "\n",
    "model_wav_skip = tf.keras.Model(input_tensor, output_tensor)\n",
    "\n",
    "model_wav_skip.summary()"
   ]
  },
  {
   "cell_type": "code",
   "execution_count": 23,
   "metadata": {},
   "outputs": [
    {
     "name": "stdout",
     "output_type": "stream",
     "text": [
      "✅\n"
     ]
    }
   ],
   "source": [
    "optimizer=tf.keras.optimizers.Adam(1e-4)\n",
    "model_wav_skip.compile(loss=tf.keras.losses.CategoricalCrossentropy(from_logits=True),\n",
    "             optimizer=optimizer,\n",
    "             metrics=['accuracy'])\n",
    "print(\"✅\")"
   ]
  },
  {
   "cell_type": "code",
   "execution_count": 24,
   "metadata": {},
   "outputs": [
    {
     "name": "stdout",
     "output_type": "stream",
     "text": [
      "✅\n"
     ]
    }
   ],
   "source": [
    "# the save point\n",
    "checkpoint_dir = os.getenv('HOME')+'/aiffel/speech_recognition/models/wav_skip'\n",
    "\n",
    "cp_callback = tf.keras.callbacks.ModelCheckpoint(checkpoint_dir,\n",
    "                                                 save_weights_only=True,\n",
    "                                                 monitor='val_loss',\n",
    "                                                 mode='auto',\n",
    "                                                 save_best_only=True,\n",
    "                                                 verbose=1)\n",
    "print(\"✅\")"
   ]
  },
  {
   "cell_type": "code",
   "execution_count": 25,
   "metadata": {},
   "outputs": [
    {
     "name": "stdout",
     "output_type": "stream",
     "text": [
      "1423/1423 [==============================] - ETA: 0s - loss: 1.2194 - accuracy: 0.6064\n",
      "Epoch 00001: val_loss improved from inf to 0.86057, saving model to /home/aiffel-dj16/aiffel/speech_recognition/models/wav_skip\n",
      "1423/1423 [==============================] - 172s 121ms/step - loss: 1.2194 - accuracy: 0.6064 - val_loss: 0.8606 - val_accuracy: 0.7203\n",
      "✅\n"
     ]
    }
   ],
   "source": [
    "#30분 내외 소요\n",
    "history_wav_skip = model_wav_skip.fit(train_dataset, epochs=max_epochs,\n",
    "                    steps_per_epoch=len(train_wav) // batch_size,\n",
    "                    validation_data=test_dataset,\n",
    "                    validation_steps=len(test_wav) // batch_size,\n",
    "                    callbacks=[cp_callback]\n",
    "                    )\n",
    "print(\"✅\")"
   ]
  },
  {
   "cell_type": "code",
   "execution_count": 26,
   "metadata": {},
   "outputs": [
    {
     "data": {
      "image/png": "[encoded data removed]",
      "text/plain": [
       "<Figure size 576x576 with 2 Axes>"
      ]
     },
     "metadata": {
      "needs_background": "light"
     },
     "output_type": "display_data"
    },
    {
     "name": "stdout",
     "output_type": "stream",
     "text": [
      "✅\n"
     ]
    }
   ],
   "source": [
    "import matplotlib.pyplot as plt\n",
    "\n",
    "acc = history_wav_skip.history['accuracy']\n",
    "val_acc = history_wav_skip.history['val_accuracy']\n",
    "\n",
    "loss=history_wav_skip.history['loss']\n",
    "val_loss=history_wav_skip.history['val_loss']\n",
    "\n",
    "epochs_range = range(len(acc))\n",
    "\n",
    "plt.figure(figsize=(8, 8))\n",
    "plt.subplot(1, 2, 1)\n",
    "plt.plot(epochs_range, acc, label='Training Accuracy')\n",
    "plt.plot(epochs_range, val_acc, label='Validation Accuracy')\n",
    "plt.legend(loc='lower right')\n",
    "plt.title('Training and Validation Accuracy')\n",
    "\n",
    "plt.subplot(1, 2, 2)\n",
    "plt.plot(epochs_range, loss, label='Training Loss')\n",
    "plt.plot(epochs_range, val_loss, label='Validation Loss')\n",
    "plt.legend(loc='upper right')\n",
    "plt.title('Training and Validation Loss')\n",
    "plt.show()\n",
    "print(\"✅\")"
   ]
  },
  {
   "cell_type": "code",
   "execution_count": 27,
   "metadata": {},
   "outputs": [
    {
     "name": "stdout",
     "output_type": "stream",
     "text": [
      "159/159 [==============================] - 7s 44ms/step - loss: 0.8604 - accuracy: 0.7203\n",
      "loss value: 0.860\n",
      "accuracy value: 72.0269%\n",
      "✅\n"
     ]
    }
   ],
   "source": [
    "# Evaluation \n",
    "\n",
    "model_wav_skip.load_weights(checkpoint_dir)\n",
    "results = model_wav_skip.evaluate(test_dataset)\n",
    "\n",
    "# loss\n",
    "print(\"loss value: {:.3f}\".format(results[0]))\n",
    "# accuracy\n",
    "print(\"accuracy value: {:.4f}%\".format(results[1]*100))\n",
    "print(\"✅\")"
   ]
  },
  {
   "cell_type": "code",
   "execution_count": 28,
   "metadata": {},
   "outputs": [
    {
     "name": "stdout",
     "output_type": "stream",
     "text": [
      "label :  left\n"
     ]
    },
    {
     "data": {
      "text/html": [
       "\n",
       "                <audio  controls=\"controls\" >\n",
       "                    <source src=\"data:audio/wav;base64,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\" type=\"audio/wav\" />\n",
       "                    Your browser does not support the audio element.\n",
       "                </audio>\n",
       "              "
      ],
      "text/plain": [
       "<IPython.lib.display.Audio object>"
      ]
     },
     "execution_count": 28,
     "metadata": {},
     "output_type": "execute_result"
    }
   ],
   "source": [
    "# Test \n",
    "\n",
    "inv_label_value = {v: k for k, v in label_value.items()}\n",
    "batch_index = np.random.choice(len(test_wav), size=1, replace=False)\n",
    "\n",
    "batch_xs = test_wav[batch_index]\n",
    "batch_ys = test_label[batch_index]\n",
    "y_pred_ = model_wav_skip(batch_xs, training=False)\n",
    "\n",
    "print(\"label : \", str(inv_label_value[batch_ys[0]]))\n",
    "\n",
    "ipd.Audio(batch_xs.reshape(8000,), rate=8000)"
   ]
  },
  {
   "cell_type": "code",
   "execution_count": 29,
   "metadata": {},
   "outputs": [
    {
     "name": "stdout",
     "output_type": "stream",
     "text": [
      "y_pred: left(Correct!)\n",
      "✅\n"
     ]
    }
   ],
   "source": [
    "if np.argmax(y_pred_) == batch_ys[0]:\n",
    "    print(\"y_pred: \" + str(inv_label_value[np.argmax(y_pred_)]) + '(Correct!)')\n",
    "else:\n",
    "    print(\"y_pred: \" + str(inv_label_value[np.argmax(y_pred_)]) + '(Incorrect!)')\n",
    "print(\"✅\")"
   ]
  },
  {
   "cell_type": "code",
   "execution_count": 30,
   "metadata": {},
   "outputs": [
    {
     "name": "stdout",
     "output_type": "stream",
     "text": [
      "✅\n"
     ]
    }
   ],
   "source": [
    "import librosa\n",
    "\n",
    "def wav2spec(wav, fft_size=258): # spectrogram shape을 맞추기위해서 size 변형\n",
    "    D = np.abs(librosa.stft(wav, n_fft=fft_size))\n",
    "    return D\n",
    "print(\"✅\")"
   ]
  },
  {
   "cell_type": "code",
   "execution_count": 31,
   "metadata": {},
   "outputs": [
    {
     "name": "stdout",
     "output_type": "stream",
     "text": [
      "<class 'numpy.ndarray'>\n",
      "Waveform shape :  (8000,)\n",
      "Spectrogram shape :  (130, 126)\n"
     ]
    }
   ],
   "source": [
    "# 위에서 뽑았던 sample data\n",
    "spec = wav2spec(data)\n",
    "print(type(spec))\n",
    "print(\"Waveform shape : \",data.shape)\n",
    "print(\"Spectrogram shape : \",spec.shape)"
   ]
  },
  {
   "cell_type": "code",
   "execution_count": 4,
   "metadata": {},
   "outputs": [
    {
     "ename": "IndexError",
     "evalue": "only integers, slices (`:`), ellipsis (`...`), numpy.newaxis (`None`) and integer or boolean arrays are valid indices",
     "output_type": "error",
     "traceback": [
      "\u001b[0;31m---------------------------------------------------------------------------\u001b[0m",
      "\u001b[0;31mIndexError\u001b[0m                                Traceback (most recent call last)",
      "\u001b[0;32m<ipython-input-4-65822e45fdd0>\u001b[0m in \u001b[0;36m<module>\u001b[0;34m\u001b[0m\n\u001b[1;32m      4\u001b[0m         \u001b[0mspec\u001b[0m\u001b[0;34m.\u001b[0m\u001b[0mappend\u001b[0m\u001b[0;34m(\u001b[0m\u001b[0mwav2spec\u001b[0m\u001b[0;34m(\u001b[0m\u001b[0mspeech_data\u001b[0m\u001b[0;34m[\u001b[0m\u001b[0;34m\"wav_vals\"\u001b[0m\u001b[0;34m]\u001b[0m\u001b[0;34m[\u001b[0m\u001b[0mi\u001b[0m\u001b[0;34m]\u001b[0m\u001b[0;34m)\u001b[0m\u001b[0;34m)\u001b[0m\u001b[0;34m\u001b[0m\u001b[0;34m\u001b[0m\u001b[0m\n\u001b[1;32m      5\u001b[0m         \u001b[0;32mreturn\u001b[0m \u001b[0mspec\u001b[0m\u001b[0;34m\u001b[0m\u001b[0;34m\u001b[0m\u001b[0m\n\u001b[0;32m----> 6\u001b[0;31m \u001b[0mload_spec\u001b[0m\u001b[0;34m(\u001b[0m\u001b[0mspeech_data\u001b[0m\u001b[0;34m[\u001b[0m\u001b[0;34m\"wav_vals\"\u001b[0m\u001b[0;34m]\u001b[0m\u001b[0;34m)\u001b[0m\u001b[0;34m\u001b[0m\u001b[0;34m\u001b[0m\u001b[0m\n\u001b[0m\u001b[1;32m      7\u001b[0m \u001b[0mspec\u001b[0m\u001b[0;34m\u001b[0m\u001b[0;34m\u001b[0m\u001b[0m\n\u001b[1;32m      8\u001b[0m \u001b[0;34m\u001b[0m\u001b[0m\n",
      "\u001b[0;32m<ipython-input-4-65822e45fdd0>\u001b[0m in \u001b[0;36mload_spec\u001b[0;34m(speech_data)\u001b[0m\n\u001b[1;32m      1\u001b[0m \u001b[0mspec\u001b[0m \u001b[0;34m=\u001b[0m \u001b[0;34m[\u001b[0m\u001b[0;34m]\u001b[0m\u001b[0;34m\u001b[0m\u001b[0;34m\u001b[0m\u001b[0m\n\u001b[1;32m      2\u001b[0m \u001b[0;32mdef\u001b[0m \u001b[0mload_spec\u001b[0m\u001b[0;34m(\u001b[0m\u001b[0mspeech_data\u001b[0m\u001b[0;34m)\u001b[0m\u001b[0;34m:\u001b[0m\u001b[0;31m#wav2spec을 통해 wav파일을 spectogram으로 바꾸어 spec리스트에 넣어주는 함수\u001b[0m\u001b[0;34m\u001b[0m\u001b[0;34m\u001b[0m\u001b[0m\n\u001b[0;32m----> 3\u001b[0;31m     \u001b[0;32mfor\u001b[0m \u001b[0mi\u001b[0m \u001b[0;32min\u001b[0m \u001b[0mspeech_data\u001b[0m\u001b[0;34m[\u001b[0m\u001b[0;34m\"wav_vals\"\u001b[0m\u001b[0;34m]\u001b[0m\u001b[0;34m:\u001b[0m\u001b[0;34m\u001b[0m\u001b[0;34m\u001b[0m\u001b[0m\n\u001b[0m\u001b[1;32m      4\u001b[0m         \u001b[0mspec\u001b[0m\u001b[0;34m.\u001b[0m\u001b[0mappend\u001b[0m\u001b[0;34m(\u001b[0m\u001b[0mwav2spec\u001b[0m\u001b[0;34m(\u001b[0m\u001b[0mspeech_data\u001b[0m\u001b[0;34m[\u001b[0m\u001b[0;34m\"wav_vals\"\u001b[0m\u001b[0;34m]\u001b[0m\u001b[0;34m[\u001b[0m\u001b[0mi\u001b[0m\u001b[0;34m]\u001b[0m\u001b[0;34m)\u001b[0m\u001b[0;34m)\u001b[0m\u001b[0;34m\u001b[0m\u001b[0;34m\u001b[0m\u001b[0m\n\u001b[1;32m      5\u001b[0m         \u001b[0;32mreturn\u001b[0m \u001b[0mspec\u001b[0m\u001b[0;34m\u001b[0m\u001b[0;34m\u001b[0m\u001b[0m\n",
      "\u001b[0;31mIndexError\u001b[0m: only integers, slices (`:`), ellipsis (`...`), numpy.newaxis (`None`) and integer or boolean arrays are valid indices"
     ]
    }
   ],
   "source": [
    "spec = []\n",
    "def load_spec(speech_data):#wav2spec을 통해 wav파일을 spectogram으로 바꾸어 spec리스트에 넣어주는 함수\n",
    "    for i in speech_data[\"wav_vals\"]:\n",
    "        spec.append(wav2spec(speech_data[\"wav_vals\"][i]))\n",
    "        return spec\n",
    "load_spec(speech_data[\"wav_vals\"])\n",
    "\n",
    "    "
   ]
  },
  {
   "cell_type": "code",
   "execution_count": null,
   "metadata": {},
   "outputs": [],
   "source": [
    "import librosa.display\n",
    "\n",
    "librosa.display.specshow(librosa.amplitude_to_db(spec, ref=np.max), x_axis='time')\n",
    "plt.title('Power spectrogram')\n",
    "plt.colorbar(format='%+2.0f dB')\n",
    "plt.xticks(range(0, 1))\n",
    "plt.tight_layout()\n",
    "plt.show()"
   ]
  },
  {
   "cell_type": "code",
   "execution_count": null,
   "metadata": {},
   "outputs": [],
   "source": [
    "temp = []\n",
    "for v in speech_data[\"label_vals\"]:\n",
    "    temp.append(label_value[v[0]])\n",
    "label_data = np.array(temp)\n",
    "\n",
    "label_data"
   ]
  },
  {
   "cell_type": "code",
   "execution_count": null,
   "metadata": {},
   "outputs": [],
   "source": [
    "from sklearn.model_selection import train_test_split\n",
    "\n",
    "sr = 8000\n",
    "train_spec, test_spec, train_label, test_label = train_test_split(spec[\"wav_vals\"]#x_train \n",
    "                                                                label_data#y train, \n",
    "                                                                test_size=0.1,\n",
    "                                                                shuffle=True)\n",
    "print(train_spec)\n",
    "\n",
    "train_wav = train_wav.reshape([-1, sr, 1]) # add channel for CNN\n",
    "test_wav = test_wav.reshape([-1, sr, 1])\n",
    "print(\"✅\")"
   ]
  },
  {
   "cell_type": "code",
   "execution_count": null,
   "metadata": {},
   "outputs": [],
   "source": [
    "input_tensor = layers.Input(shape=(sr, 1))\n",
    "\n",
    "x = layers.Conv2D(32, (3,3), padding='same', activation='relu')(input_tensor)\n",
    "x = layers.Conv2D(32, (3,3), padding='same', activation='relu')(x)\n",
    "skip_1 = layers.MaxPool2D()(x)\n",
    "\n",
    "x = layers.Conv2D(64, (3,3), padding='same', activation='relu')(skip_1)\n",
    "x = layers.Conv2D(64, (3,3), padding='same', activation='relu')(x)\n",
    "x = tf.concat([x, skip_1], -1)\n",
    "skip_2 = layers.MaxPool2D()(x)\n",
    "\n",
    "x = layers.Conv2D(128, (3,3), padding='same', activation='relu')(skip_2)\n",
    "x = layers.Conv2D(128, (3,3), padding='same', activation='relu')(x)\n",
    "x = layers.Conv2D(128, (3,3), padding='same', activation='relu')(x)\n",
    "x = tf.concat([x, skip_2], -1)\n",
    "skip_3 = layers.MaxPool2D()(x)\n",
    "\n",
    "x = layers.Conv2D(256, (3,3), padding='same', activation='relu')(skip_3)\n",
    "x = layers.Conv2D(256, (3,3), padding='same', activation='relu')(x)\n",
    "x = layers.Conv2D(256, (3,3), padding='same', activation='relu')(x)\n",
    "x = tf.concat([x, skip_3], -1)\n",
    "x = layers.MaxPool2D()(x)\n",
    "x = layers.Dropout(0.3)(x)\n",
    "\n",
    "x = layers.Flatten()(x)\n",
    "x = layers.Dense(256)(x)\n",
    "x = layers.BatchNormalization()(x)\n",
    "x = layers.Activation('relu')(x)\n",
    "\n",
    "output_tensor = layers.Dense(12)(x)\n",
    "\n",
    "model_wav_skip = tf.keras.Model(input_tensor, output_tensor)\n",
    "\n",
    "model_wav_skip.summary()"
   ]
  },
  {
   "cell_type": "code",
   "execution_count": 5,
   "metadata": {},
   "outputs": [],
   "source": [
    "import antigravity"
   ]
  }
 ],
 "metadata": {
  "kernelspec": {
   "display_name": "aiffel",
   "language": "python",
   "name": "aiffel"
  },
  "language_info": {
   "codemirror_mode": {
    "name": "ipython",
    "version": 3
   },
   "file_extension": ".py",
   "mimetype": "text/x-python",
   "name": "python",
   "nbconvert_exporter": "python",
   "pygments_lexer": "ipython3",
   "version": "3.7.9"
  }
 },
 "nbformat": 4,
 "nbformat_minor": 5
}
