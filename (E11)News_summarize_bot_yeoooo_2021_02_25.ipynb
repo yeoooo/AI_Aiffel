{
 "cells": [
  {
   "cell_type": "markdown",
   "metadata": {},
   "source": [
    "## 뉴스 요약 봇 만들기 "
   ]
  },
  {
   "cell_type": "markdown",
   "metadata": {},
   "source": [
    "뉴스를 읽고 이를 요약하는 방법에는 추출적 요약, 추상적 요약이 있다. "
   ]
  },
  {
   "cell_type": "markdown",
   "metadata": {},
   "source": [
    "### 추출적 요약  \n",
    "> 추출적 요약은 원문에서 문장들을 추출해서 요약하는 방식이다. 이 방법에서는 핵심 문장을 추출해 낼 수는 있어도 핵심 문장을 문법적으로 자연스럽게 이어지는 것이 힘들 수 있는데, 이를 위해서 전통적인 머신 러닝 방식에 속하는 텍스트 랭크와 같은 알고리즘을 사용한다.  \n",
    "  \n",
    "### 추상적 요약  \n",
    ">추상적 요약은 원문으로부터 직접 추출해내는 것이 아니라 새로운 문장을 생성한다. 이 과정에서 원문에서 추출한 것이 아니기 때문에 원문에서 사용되지 않은 단어가 나타날 수 있다. 추상적 요약은 추출적 요약과 다르게 딥러닝 NLP, RNN으로 구현한다. 이는 인코더와 디코더의 구조로 구성된 딥러닝 아키텍처인 <strong>seq2seq</strong>으로 비교적 쉽게 구현이 가능하다."
   ]
  },
  {
   "cell_type": "markdown",
   "metadata": {},
   "source": [
    "## 라이브러리 및 데이터 준비"
   ]
  },
  {
   "cell_type": "code",
   "execution_count": 1,
   "metadata": {},
   "outputs": [],
   "source": [
    "import urllib.request\n",
    "import numpy as np\n",
    "import pandas as pd\n",
    "import os\n",
    "import re\n",
    "import matplotlib.pyplot as plt\n",
    "from nltk.corpus import stopwords\n",
    "from bs4 import BeautifulSoup \n",
    "from tensorflow.keras.preprocessing.text import Tokenizer \n",
    "from tensorflow.keras.preprocessing.sequence import pad_sequences\n",
    "import urllib.request\n",
    "urllib.request.urlretrieve(\"https://raw.githubusercontent.com/sunnysai12345/News_Summary/master/news_summary_more.csv\", filename=\"news_summary_more.csv\")\n",
    "data = pd.read_csv('news_summary_more.csv', encoding='iso-8859-1')"
   ]
  },
  {
   "cell_type": "code",
   "execution_count": 2,
   "metadata": {},
   "outputs": [
    {
     "data": {
      "text/html": [
       "<div>\n",
       "<style scoped>\n",
       "    .dataframe tbody tr th:only-of-type {\n",
       "        vertical-align: middle;\n",
       "    }\n",
       "\n",
       "    .dataframe tbody tr th {\n",
       "        vertical-align: top;\n",
       "    }\n",
       "\n",
       "    .dataframe thead th {\n",
       "        text-align: right;\n",
       "    }\n",
       "</style>\n",
       "<table border=\"1\" class=\"dataframe\">\n",
       "  <thead>\n",
       "    <tr style=\"text-align: right;\">\n",
       "      <th></th>\n",
       "      <th>headlines</th>\n",
       "      <th>text</th>\n",
       "    </tr>\n",
       "  </thead>\n",
       "  <tbody>\n",
       "    <tr>\n",
       "      <th>94591</th>\n",
       "      <td>Dhoni still best leader, Smith learning from h...</td>\n",
       "      <td>Speaking about Steve Smith taking over the cap...</td>\n",
       "    </tr>\n",
       "    <tr>\n",
       "      <th>34292</th>\n",
       "      <td>Need grievance cell for sexual offences in Bol...</td>\n",
       "      <td>Talking about the issue of sexual harassment, ...</td>\n",
       "    </tr>\n",
       "    <tr>\n",
       "      <th>53056</th>\n",
       "      <td>7 killed, 23 injured in blast aimed at police ...</td>\n",
       "      <td>At least seven people were killed and 23 other...</td>\n",
       "    </tr>\n",
       "    <tr>\n",
       "      <th>25066</th>\n",
       "      <td>Make Chandigarh 'original capital' of Punjab: ...</td>\n",
       "      <td>Punjab CM Captain Amarinder Singh has asked Ho...</td>\n",
       "    </tr>\n",
       "    <tr>\n",
       "      <th>13886</th>\n",
       "      <td>Yes Bank appoints Korn Ferry to find Rana Kapo...</td>\n",
       "      <td>Yes Bank has appointed US-based advisory firm ...</td>\n",
       "    </tr>\n",
       "    <tr>\n",
       "      <th>75637</th>\n",
       "      <td>Ab Ki Baar, BJP Sarkar, Amit Shah chants on Ka...</td>\n",
       "      <td>BJP National President Amit Shah said during h...</td>\n",
       "    </tr>\n",
       "    <tr>\n",
       "      <th>33287</th>\n",
       "      <td>Trump slams WH press dinner, calls it an embar...</td>\n",
       "      <td>Slamming this year's White House Correspondent...</td>\n",
       "    </tr>\n",
       "    <tr>\n",
       "      <th>2444</th>\n",
       "      <td>Will continue experimenting, taking risks as a...</td>\n",
       "      <td>Ranveer Singh has said that he will continue t...</td>\n",
       "    </tr>\n",
       "    <tr>\n",
       "      <th>36025</th>\n",
       "      <td>World is becoming more chaotic: Russian Presid...</td>\n",
       "      <td>Amid the ongoing tension between Russia and th...</td>\n",
       "    </tr>\n",
       "    <tr>\n",
       "      <th>40674</th>\n",
       "      <td>Man, son arrested for possessing tiger skin in...</td>\n",
       "      <td>Police have arrested a 62-year-old man and his...</td>\n",
       "    </tr>\n",
       "  </tbody>\n",
       "</table>\n",
       "</div>"
      ],
      "text/plain": [
       "                                               headlines  \\\n",
       "94591  Dhoni still best leader, Smith learning from h...   \n",
       "34292  Need grievance cell for sexual offences in Bol...   \n",
       "53056  7 killed, 23 injured in blast aimed at police ...   \n",
       "25066  Make Chandigarh 'original capital' of Punjab: ...   \n",
       "13886  Yes Bank appoints Korn Ferry to find Rana Kapo...   \n",
       "75637  Ab Ki Baar, BJP Sarkar, Amit Shah chants on Ka...   \n",
       "33287  Trump slams WH press dinner, calls it an embar...   \n",
       "2444   Will continue experimenting, taking risks as a...   \n",
       "36025  World is becoming more chaotic: Russian Presid...   \n",
       "40674  Man, son arrested for possessing tiger skin in...   \n",
       "\n",
       "                                                    text  \n",
       "94591  Speaking about Steve Smith taking over the cap...  \n",
       "34292  Talking about the issue of sexual harassment, ...  \n",
       "53056  At least seven people were killed and 23 other...  \n",
       "25066  Punjab CM Captain Amarinder Singh has asked Ho...  \n",
       "13886  Yes Bank has appointed US-based advisory firm ...  \n",
       "75637  BJP National President Amit Shah said during h...  \n",
       "33287  Slamming this year's White House Correspondent...  \n",
       "2444   Ranveer Singh has said that he will continue t...  \n",
       "36025  Amid the ongoing tension between Russia and th...  \n",
       "40674  Police have arrested a 62-year-old man and his...  "
      ]
     },
     "execution_count": 2,
     "metadata": {},
     "output_type": "execute_result"
    }
   ],
   "source": [
    "data.sample(10)"
   ]
  },
  {
   "cell_type": "markdown",
   "metadata": {},
   "source": [
    "받은 데이터에서 원문인 text 열과 요약된 headlines 열을 사용한다.  \n",
    "이를 위해서 간단하게 15개의 샘플 데이터를 추출해본다."
   ]
  },
  {
   "cell_type": "code",
   "execution_count": 3,
   "metadata": {},
   "outputs": [
    {
     "data": {
      "text/html": [
       "<div>\n",
       "<style scoped>\n",
       "    .dataframe tbody tr th:only-of-type {\n",
       "        vertical-align: middle;\n",
       "    }\n",
       "\n",
       "    .dataframe tbody tr th {\n",
       "        vertical-align: top;\n",
       "    }\n",
       "\n",
       "    .dataframe thead th {\n",
       "        text-align: right;\n",
       "    }\n",
       "</style>\n",
       "<table border=\"1\" class=\"dataframe\">\n",
       "  <thead>\n",
       "    <tr style=\"text-align: right;\">\n",
       "      <th></th>\n",
       "      <th>text</th>\n",
       "      <th>headlines</th>\n",
       "    </tr>\n",
       "  </thead>\n",
       "  <tbody>\n",
       "    <tr>\n",
       "      <th>79242</th>\n",
       "      <td>Delhi government has told Philip Morris and ot...</td>\n",
       "      <td>Delhi govt tells Marlboro maker, others to rem...</td>\n",
       "    </tr>\n",
       "    <tr>\n",
       "      <th>80604</th>\n",
       "      <td>At least 10 people were injured in Pamplona's ...</td>\n",
       "      <td>10 injured in bull run festival in Spain's Pam...</td>\n",
       "    </tr>\n",
       "    <tr>\n",
       "      <th>18197</th>\n",
       "      <td>Delhi Chief Minister Arvind Kejriwal on Saturd...</td>\n",
       "      <td>Delhi govt inaugurates drive to plant 5 lakh t...</td>\n",
       "    </tr>\n",
       "    <tr>\n",
       "      <th>26333</th>\n",
       "      <td>During his interaction with the women who are ...</td>\n",
       "      <td>Financial independence necessary to empower wo...</td>\n",
       "    </tr>\n",
       "    <tr>\n",
       "      <th>60754</th>\n",
       "      <td>Virat Kohli registered the joint-most internat...</td>\n",
       "      <td>Kohli records joint-most ducks by an India cap...</td>\n",
       "    </tr>\n",
       "    <tr>\n",
       "      <th>6508</th>\n",
       "      <td>Union Minister Sushma Swaraj on Wednesday asse...</td>\n",
       "      <td>Pakistan illegally occupying Indian territory ...</td>\n",
       "    </tr>\n",
       "    <tr>\n",
       "      <th>40303</th>\n",
       "      <td>Delhi Metro services between Dwarka Sector-21 ...</td>\n",
       "      <td>Delhi Metro services halted after staff fight ...</td>\n",
       "    </tr>\n",
       "    <tr>\n",
       "      <th>20108</th>\n",
       "      <td>US-based home-rental startup Airbnb has named ...</td>\n",
       "      <td>Airbnb adds ex-Pixar CFO as first-ever woman o...</td>\n",
       "    </tr>\n",
       "    <tr>\n",
       "      <th>73784</th>\n",
       "      <td>Danish police confirmed that a headless torso ...</td>\n",
       "      <td>Headless torso of missing journalist found</td>\n",
       "    </tr>\n",
       "    <tr>\n",
       "      <th>43279</th>\n",
       "      <td>Former Indian cricketer Rahul Dravid, who amon...</td>\n",
       "      <td>Dravid files police complaint against Bengalur...</td>\n",
       "    </tr>\n",
       "    <tr>\n",
       "      <th>59081</th>\n",
       "      <td>Congress leader P Chidambaram has said that Pr...</td>\n",
       "      <td>PM Modi's campaign in Gujarat is about himself...</td>\n",
       "    </tr>\n",
       "    <tr>\n",
       "      <th>58386</th>\n",
       "      <td>A US man has sued an amusement park alleging ...</td>\n",
       "      <td>Man sues amusement park for Ã¢ÂÂ¹22L over eye...</td>\n",
       "    </tr>\n",
       "    <tr>\n",
       "      <th>24157</th>\n",
       "      <td>The Indian Railways has inducted five new trac...</td>\n",
       "      <td>Indian Railways inducts 5 new track maintenanc...</td>\n",
       "    </tr>\n",
       "    <tr>\n",
       "      <th>1841</th>\n",
       "      <td>Jet Airways on Wednesday said SBI, along with ...</td>\n",
       "      <td>SBI, stakeholders working on resolution plan: ...</td>\n",
       "    </tr>\n",
       "    <tr>\n",
       "      <th>36017</th>\n",
       "      <td>An eight-year-old Muslim girl was drugged befo...</td>\n",
       "      <td>8-yr-old J&amp;K girl drugged, raped to punish her...</td>\n",
       "    </tr>\n",
       "  </tbody>\n",
       "</table>\n",
       "</div>"
      ],
      "text/plain": [
       "                                                    text  \\\n",
       "79242  Delhi government has told Philip Morris and ot...   \n",
       "80604  At least 10 people were injured in Pamplona's ...   \n",
       "18197  Delhi Chief Minister Arvind Kejriwal on Saturd...   \n",
       "26333  During his interaction with the women who are ...   \n",
       "60754  Virat Kohli registered the joint-most internat...   \n",
       "6508   Union Minister Sushma Swaraj on Wednesday asse...   \n",
       "40303  Delhi Metro services between Dwarka Sector-21 ...   \n",
       "20108  US-based home-rental startup Airbnb has named ...   \n",
       "73784  Danish police confirmed that a headless torso ...   \n",
       "43279  Former Indian cricketer Rahul Dravid, who amon...   \n",
       "59081  Congress leader P Chidambaram has said that Pr...   \n",
       "58386   A US man has sued an amusement park alleging ...   \n",
       "24157  The Indian Railways has inducted five new trac...   \n",
       "1841   Jet Airways on Wednesday said SBI, along with ...   \n",
       "36017  An eight-year-old Muslim girl was drugged befo...   \n",
       "\n",
       "                                               headlines  \n",
       "79242  Delhi govt tells Marlboro maker, others to rem...  \n",
       "80604  10 injured in bull run festival in Spain's Pam...  \n",
       "18197  Delhi govt inaugurates drive to plant 5 lakh t...  \n",
       "26333  Financial independence necessary to empower wo...  \n",
       "60754  Kohli records joint-most ducks by an India cap...  \n",
       "6508   Pakistan illegally occupying Indian territory ...  \n",
       "40303  Delhi Metro services halted after staff fight ...  \n",
       "20108  Airbnb adds ex-Pixar CFO as first-ever woman o...  \n",
       "73784         Headless torso of missing journalist found  \n",
       "43279  Dravid files police complaint against Bengalur...  \n",
       "59081  PM Modi's campaign in Gujarat is about himself...  \n",
       "58386  Man sues amusement park for Ã¢ÂÂ¹22L over eye...  \n",
       "24157  Indian Railways inducts 5 new track maintenanc...  \n",
       "1841   SBI, stakeholders working on resolution plan: ...  \n",
       "36017  8-yr-old J&K girl drugged, raped to punish her...  "
      ]
     },
     "execution_count": 3,
     "metadata": {},
     "output_type": "execute_result"
    }
   ],
   "source": [
    "data = data[['text','headlines']]\n",
    "data.head()\n",
    "\n",
    "#랜덤한 15개 샘플 출력\n",
    "data.sample(15)"
   ]
  },
  {
   "cell_type": "markdown",
   "metadata": {},
   "source": [
    "## 추상적 요약(seq2seq)"
   ]
  },
  {
   "cell_type": "markdown",
   "metadata": {},
   "source": [
    "## 데이터 전처리"
   ]
  },
  {
   "cell_type": "markdown",
   "metadata": {},
   "source": [
    "### 중복치와 결측치 제거 "
   ]
  },
  {
   "cell_type": "code",
   "execution_count": 4,
   "metadata": {},
   "outputs": [
    {
     "name": "stdout",
     "output_type": "stream",
     "text": [
      "Text 열에서 중복을 배제한 유일한 샘플의 수 : 98360\n",
      "Summary 열에서 중복을 배제한 유일한 샘플의 수 : 98280\n"
     ]
    }
   ],
   "source": [
    "print('Text 열에서 중복을 배제한 유일한 샘플의 수 :', data['text'].nunique())\n",
    "print('Summary 열에서 중복을 배제한 유일한 샘플의 수 :', data['headlines'].nunique())"
   ]
  },
  {
   "cell_type": "code",
   "execution_count": 5,
   "metadata": {},
   "outputs": [
    {
     "name": "stdout",
     "output_type": "stream",
     "text": [
      "전체 샘플수 : 98360\n"
     ]
    }
   ],
   "source": [
    "data.drop_duplicates(subset = ['text'], inplace = True)\n",
    "print('전체 샘플수 :',(len(data)))"
   ]
  },
  {
   "cell_type": "markdown",
   "metadata": {},
   "source": [
    "### 텍스트 정규화, 불용어 제거"
   ]
  },
  {
   "cell_type": "markdown",
   "metadata": {},
   "source": [
    "텍스트 정규화는 자연어에서 쓰이는 'it is'의 축약어인 '\"it's\"와 같은 문장, 표현을 서로 다르게 연산하지 않도록 미리 딕셔너리형으로 사전을 구성한다."
   ]
  },
  {
   "cell_type": "markdown",
   "metadata": {},
   "source": [
    "텍스트 정규화를 위한 사전을 아래와 같이 구성한다."
   ]
  },
  {
   "cell_type": "code",
   "execution_count": 6,
   "metadata": {},
   "outputs": [
    {
     "name": "stdout",
     "output_type": "stream",
     "text": [
      "정규화 사전의 수:  120\n"
     ]
    }
   ],
   "source": [
    "contractions = {\"ain't\": \"is not\", \"aren't\": \"are not\",\"can't\": \"cannot\", \"'cause\": \"because\", \"could've\": \"could have\", \"couldn't\": \"could not\",\n",
    "                           \"didn't\": \"did not\",  \"doesn't\": \"does not\", \"don't\": \"do not\", \"hadn't\": \"had not\", \"hasn't\": \"has not\", \"haven't\": \"have not\",\n",
    "                           \"he'd\": \"he would\",\"he'll\": \"he will\", \"he's\": \"he is\", \"how'd\": \"how did\", \"how'd'y\": \"how do you\", \"how'll\": \"how will\", \"how's\": \"how is\",\n",
    "                           \"I'd\": \"I would\", \"I'd've\": \"I would have\", \"I'll\": \"I will\", \"I'll've\": \"I will have\",\"I'm\": \"I am\", \"I've\": \"I have\", \"i'd\": \"i would\",\n",
    "                           \"i'd've\": \"i would have\", \"i'll\": \"i will\",  \"i'll've\": \"i will have\",\"i'm\": \"i am\", \"i've\": \"i have\", \"isn't\": \"is not\", \"it'd\": \"it would\",\n",
    "                           \"it'd've\": \"it would have\", \"it'll\": \"it will\", \"it'll've\": \"it will have\",\"it's\": \"it is\", \"let's\": \"let us\", \"ma'am\": \"madam\",\n",
    "                           \"mayn't\": \"may not\", \"might've\": \"might have\",\"mightn't\": \"might not\",\"mightn't've\": \"might not have\", \"must've\": \"must have\",\n",
    "                           \"mustn't\": \"must not\", \"mustn't've\": \"must not have\", \"needn't\": \"need not\", \"needn't've\": \"need not have\",\"o'clock\": \"of the clock\",\n",
    "                           \"oughtn't\": \"ought not\", \"oughtn't've\": \"ought not have\", \"shan't\": \"shall not\", \"sha'n't\": \"shall not\", \"shan't've\": \"shall not have\",\n",
    "                           \"she'd\": \"she would\", \"she'd've\": \"she would have\", \"she'll\": \"she will\", \"she'll've\": \"she will have\", \"she's\": \"she is\",\n",
    "                           \"should've\": \"should have\", \"shouldn't\": \"should not\", \"shouldn't've\": \"should not have\", \"so've\": \"so have\",\"so's\": \"so as\",\n",
    "                           \"this's\": \"this is\",\"that'd\": \"that would\", \"that'd've\": \"that would have\", \"that's\": \"that is\", \"there'd\": \"there would\",\n",
    "                           \"there'd've\": \"there would have\", \"there's\": \"there is\", \"here's\": \"here is\",\"they'd\": \"they would\", \"they'd've\": \"they would have\",\n",
    "                           \"they'll\": \"they will\", \"they'll've\": \"they will have\", \"they're\": \"they are\", \"they've\": \"they have\", \"to've\": \"to have\",\n",
    "                           \"wasn't\": \"was not\", \"we'd\": \"we would\", \"we'd've\": \"we would have\", \"we'll\": \"we will\", \"we'll've\": \"we will have\", \"we're\": \"we are\",\n",
    "                           \"we've\": \"we have\", \"weren't\": \"were not\", \"what'll\": \"what will\", \"what'll've\": \"what will have\", \"what're\": \"what are\",\n",
    "                           \"what's\": \"what is\", \"what've\": \"what have\", \"when's\": \"when is\", \"when've\": \"when have\", \"where'd\": \"where did\", \"where's\": \"where is\",\n",
    "                           \"where've\": \"where have\", \"who'll\": \"who will\", \"who'll've\": \"who will have\", \"who's\": \"who is\", \"who've\": \"who have\",\n",
    "                           \"why's\": \"why is\", \"why've\": \"why have\", \"will've\": \"will have\", \"won't\": \"will not\", \"won't've\": \"will not have\",\n",
    "                           \"would've\": \"would have\", \"wouldn't\": \"would not\", \"wouldn't've\": \"would not have\", \"y'all\": \"you all\",\n",
    "                           \"y'all'd\": \"you all would\",\"y'all'd've\": \"you all would have\",\"y'all're\": \"you all are\",\"y'all've\": \"you all have\",\n",
    "                           \"you'd\": \"you would\", \"you'd've\": \"you would have\", \"you'll\": \"you will\", \"you'll've\": \"you will have\",\n",
    "                           \"you're\": \"you are\", \"you've\": \"you have\"}\n",
    "\n",
    "print(\"정규화 사전의 수: \",len(contractions))"
   ]
  },
  {
   "cell_type": "markdown",
   "metadata": {},
   "source": [
    "자연어를 처리할 때 실질적으로 도움이 되지 않는 단어들이 존재한다.  \n",
    "이를 <strong>불용어</strong>라고 하고 이 불용어를 제거하는 것이 자연어 처리의 성능을 높일 수 있다. "
   ]
  },
  {
   "cell_type": "code",
   "execution_count": 7,
   "metadata": {
    "scrolled": true
   },
   "outputs": [
    {
     "name": "stdout",
     "output_type": "stream",
     "text": [
      "불용어 개수 : 179\n",
      "['i', 'me', 'my', 'myself', 'we', 'our', 'ours', 'ourselves', 'you', \"you're\", \"you've\", \"you'll\", \"you'd\", 'your', 'yours', 'yourself', 'yourselves', 'he', 'him', 'his', 'himself', 'she', \"she's\", 'her', 'hers', 'herself', 'it', \"it's\", 'its', 'itself', 'they', 'them', 'their', 'theirs', 'themselves', 'what', 'which', 'who', 'whom', 'this', 'that', \"that'll\", 'these', 'those', 'am', 'is', 'are', 'was', 'were', 'be', 'been', 'being', 'have', 'has', 'had', 'having', 'do', 'does', 'did', 'doing', 'a', 'an', 'the', 'and', 'but', 'if', 'or', 'because', 'as', 'until', 'while', 'of', 'at', 'by', 'for', 'with', 'about', 'against', 'between', 'into', 'through', 'during', 'before', 'after', 'above', 'below', 'to', 'from', 'up', 'down', 'in', 'out', 'on', 'off', 'over', 'under', 'again', 'further', 'then', 'once', 'here', 'there', 'when', 'where', 'why', 'how', 'all', 'any', 'both', 'each', 'few', 'more', 'most', 'other', 'some', 'such', 'no', 'nor', 'not', 'only', 'own', 'same', 'so', 'than', 'too', 'very', 's', 't', 'can', 'will', 'just', 'don', \"don't\", 'should', \"should've\", 'now', 'd', 'll', 'm', 'o', 're', 've', 'y', 'ain', 'aren', \"aren't\", 'couldn', \"couldn't\", 'didn', \"didn't\", 'doesn', \"doesn't\", 'hadn', \"hadn't\", 'hasn', \"hasn't\", 'haven', \"haven't\", 'isn', \"isn't\", 'ma', 'mightn', \"mightn't\", 'mustn', \"mustn't\", 'needn', \"needn't\", 'shan', \"shan't\", 'shouldn', \"shouldn't\", 'wasn', \"wasn't\", 'weren', \"weren't\", 'won', \"won't\", 'wouldn', \"wouldn't\"]\n"
     ]
    }
   ],
   "source": [
    "print('불용어 개수 :', len(stopwords.words('english') ))\n",
    "print(stopwords.words('english'))"
   ]
  },
  {
   "cell_type": "markdown",
   "metadata": {},
   "source": [
    "자연어 처리에 적합한 데이터로 만들기 위한 전처리를 과정을 함수로 정의했다."
   ]
  },
  {
   "cell_type": "code",
   "execution_count": 8,
   "metadata": {},
   "outputs": [],
   "source": [
    "#데이터 전처리 함수\n",
    "def preprocess_sentence(sentence, remove_stopwords=True):\n",
    "    sentence = sentence.lower() # 텍스트 소문자화\n",
    "    sentence = BeautifulSoup(sentence, \"lxml\").text # <br />, <a href = ...> 등의 html 태그 제거\n",
    "    sentence = re.sub(r'\\([^)]*\\)', '', sentence) # 괄호로 닫힌 문자열 (...) 제거 Ex) my husband (and myself!) for => my husband for\n",
    "    sentence = re.sub('\"','', sentence) # 쌍따옴표 \" 제거\n",
    "    sentence = ' '.join([contractions[t] if t in contractions else t for t in sentence.split(\" \")]) # 약어 정규화\n",
    "    sentence = re.sub(r\"'s\\b\",\"\",sentence) # 소유격 제거. Ex) roland's -> roland\n",
    "    sentence = re.sub(\"[^a-zA-Z]\", \" \", sentence) # 영어 외 문자(숫자, 특수문자 등) 공백으로 변환\n",
    "    sentence = re.sub('[m]{2,}', 'mm', sentence) # m이 3개 이상이면 2개로 변경. Ex) ummmmmmm yeah -> umm yeah\n",
    "    \n",
    "    # 불용어 제거 (Text)\n",
    "    if remove_stopwords:\n",
    "        tokens = ' '.join(word for word in sentence.split() if not word in stopwords.words('english') if len(word) > 1)\n",
    "    # 불용어 미제거 (Summary)\n",
    "    else:\n",
    "        tokens = ' '.join(word for word in sentence.split() if len(word) > 1)\n",
    "    return tokens"
   ]
  },
  {
   "cell_type": "code",
   "execution_count": 9,
   "metadata": {},
   "outputs": [
    {
     "name": "stdout",
     "output_type": "stream",
     "text": [
      "everything bought great infact ordered twice third ordered wasfor mother father\n",
      "great way to start the day\n"
     ]
    }
   ],
   "source": [
    "temp_text = 'Everything I bought was great, infact I ordered twice and the third ordered was<br />for my mother and father.'\n",
    "temp_summary = 'Great way to start (or finish) the day!!!'\n",
    "\n",
    "print(preprocess_sentence(temp_text))\n",
    "print(preprocess_sentence(temp_summary, False))  # 불용어를 제거하지 않습니다."
   ]
  },
  {
   "cell_type": "code",
   "execution_count": 10,
   "metadata": {},
   "outputs": [
    {
     "data": {
      "text/plain": [
       "['saurav kant alumnus upgrad iiit pg program machine learning artificial intelligence sr systems engineer infosys almost years work experience program upgrad degree career support helped transition data scientist tech mahindra salary hike upgrad online power learning powered lakh careers',\n",
       " 'kunal shah credit card bill payment platform cred gave users chance win free food swiggy one year pranav kaushik delhi techie bagged reward spending cred coins users get one cred coin per rupee bill paid used avail rewards brands like ixigo bookmyshow ubereats cult fit',\n",
       " 'new zealand defeated india wickets fourth odi hamilton thursday win first match five match odi series india lost international match rohit sharma captaincy consecutive victories dating back march match witnessed india getting seventh lowest total odi cricket history',\n",
       " 'aegon life iterm insurance plan customers enjoy tax benefits premiums paid save taxes plan provides life cover age years also customers options insure critical illnesses disability accidental death benefit rider life cover age years',\n",
       " 'speaking sexual harassment allegations rajkumar hirani sonam kapoor said known hirani many years true metoo movement get derailed metoo movement always believe woman case need reserve judgment added hirani accused assistant worked sanju']"
      ]
     },
     "execution_count": 10,
     "metadata": {},
     "output_type": "execute_result"
    }
   ],
   "source": [
    "clean_text = []\n",
    "\n",
    "# 전체 Text 데이터에 대한 전처리 : 10분 이상 시간이 걸릴 수 있습니다. \n",
    "for s in data['text']:\n",
    "    clean_text.append(preprocess_sentence(s))\n",
    "\n",
    "# 전처리 후 출력\n",
    "clean_text[:5]"
   ]
  },
  {
   "cell_type": "code",
   "execution_count": 11,
   "metadata": {},
   "outputs": [
    {
     "data": {
      "text/plain": [
       "['upgrad learner switches to career in ml al with salary hike',\n",
       " 'delhi techie wins free food from swiggy for one year on cred',\n",
       " 'new zealand end rohit sharma led india match winning streak',\n",
       " 'aegon life iterm insurance plan helps customers save tax',\n",
       " 'have known hirani for yrs what if metoo claims are not true sonam']"
      ]
     },
     "execution_count": 11,
     "metadata": {},
     "output_type": "execute_result"
    }
   ],
   "source": [
    "clean_summary = []\n",
    "\n",
    "# 전체 Summary 데이터에 대한 전처리 : 5분 이상 시간이 걸릴 수 있습니다. \n",
    "for s in data['headlines']:\n",
    "    clean_summary.append(preprocess_sentence(s, False))\n",
    "\n",
    "clean_summary[:5]"
   ]
  },
  {
   "cell_type": "code",
   "execution_count": 12,
   "metadata": {},
   "outputs": [],
   "source": [
    "data['text'] = clean_text\n",
    "data['headlines'] = clean_summary\n",
    "\n",
    "# 빈 값을 Null 값으로 변환\n",
    "data.replace('', np.nan, inplace=True)"
   ]
  },
  {
   "cell_type": "markdown",
   "metadata": {},
   "source": [
    "결측치가 없어진 것을 확인할 수 있다."
   ]
  },
  {
   "cell_type": "code",
   "execution_count": 13,
   "metadata": {},
   "outputs": [
    {
     "name": "stdout",
     "output_type": "stream",
     "text": [
      "text         0\n",
      "headlines    0\n",
      "dtype: int64\n"
     ]
    }
   ],
   "source": [
    "print(data.isnull().sum())"
   ]
  },
  {
   "cell_type": "code",
   "execution_count": 14,
   "metadata": {},
   "outputs": [
    {
     "name": "stdout",
     "output_type": "stream",
     "text": [
      "전체 샘플수 : 98360\n"
     ]
    }
   ],
   "source": [
    "data.dropna(axis = 0, inplace = True)\n",
    "print('전체 샘플수 :',(len(data)))"
   ]
  },
  {
   "cell_type": "markdown",
   "metadata": {},
   "source": [
    "## Train / Test data set "
   ]
  },
  {
   "cell_type": "markdown",
   "metadata": {},
   "source": [
    "데이터를 Train data와 Test data로 나눈다.  \n",
    "이 과정에서 데이터를 시각화하여 어느한 쪽으로 치우친 데이터인지 확인하기 쉽게 한다."
   ]
  },
  {
   "cell_type": "code",
   "execution_count": 15,
   "metadata": {},
   "outputs": [
    {
     "name": "stdout",
     "output_type": "stream",
     "text": [
      "텍스트의 최소 길이 : 1\n",
      "텍스트의 최대 길이 : 60\n",
      "텍스트의 평균 길이 : 35.09968483123221\n",
      "요약의 최소 길이 : 1\n",
      "요약의 최대 길이 : 16\n",
      "요약의 평균 길이 : 9.299532330215534\n"
     ]
    },
    {
     "data": {
      "image/png": "[encoded data removed]",
      "text/plain": [
       "<Figure size 432x288 with 2 Axes>"
      ]
     },
     "metadata": {
      "needs_background": "light"
     },
     "output_type": "display_data"
    },
    {
     "data": {
      "image/png": "[encoded data removed]",
      "text/plain": [
       "<Figure size 432x288 with 1 Axes>"
      ]
     },
     "metadata": {
      "needs_background": "light"
     },
     "output_type": "display_data"
    },
    {
     "data": {
      "image/png": "[encoded data removed]",
      "text/plain": [
       "<Figure size 432x288 with 1 Axes>"
      ]
     },
     "metadata": {
      "needs_background": "light"
     },
     "output_type": "display_data"
    }
   ],
   "source": [
    "# 길이 분포 출력\n",
    "import matplotlib.pyplot as plt\n",
    "\n",
    "text_len = [len(s.split()) for s in data['text']]\n",
    "summary_len = [len(s.split()) for s in data['headlines']]\n",
    "\n",
    "print('텍스트의 최소 길이 : {}'.format(np.min(text_len)))\n",
    "print('텍스트의 최대 길이 : {}'.format(np.max(text_len)))\n",
    "print('텍스트의 평균 길이 : {}'.format(np.mean(text_len)))\n",
    "print('요약의 최소 길이 : {}'.format(np.min(summary_len)))\n",
    "print('요약의 최대 길이 : {}'.format(np.max(summary_len)))\n",
    "print('요약의 평균 길이 : {}'.format(np.mean(summary_len)))\n",
    "\n",
    "plt.subplot(1,2,1)\n",
    "plt.boxplot(summary_len)\n",
    "plt.title('HeadLines')\n",
    "plt.subplot(1,2,2)\n",
    "plt.boxplot(text_len)\n",
    "plt.title('Text')\n",
    "plt.tight_layout()\n",
    "plt.show()\n",
    "\n",
    "plt.title('HeadLines')\n",
    "plt.hist(summary_len, bins = 40)\n",
    "plt.xlabel('length of samples')\n",
    "plt.ylabel('number of samples')\n",
    "plt.show()\n",
    "\n",
    "plt.title('Text')\n",
    "plt.hist(text_len, bins = 40)\n",
    "plt.xlabel('length of samples')\n",
    "plt.ylabel('number of samples')\n",
    "plt.show()"
   ]
  },
  {
   "cell_type": "code",
   "execution_count": 16,
   "metadata": {},
   "outputs": [],
   "source": [
    "text_max_len = 50\n",
    "summary_max_len = 8"
   ]
  },
  {
   "cell_type": "code",
   "execution_count": 17,
   "metadata": {},
   "outputs": [],
   "source": [
    "def below_threshold_len(max_len, nested_list):\n",
    "  cnt = 0\n",
    "  for s in nested_list:\n",
    "    if(len(s.split()) <= max_len):\n",
    "        cnt = cnt + 1\n",
    "  print('전체 샘플 중 길이가 %s 이하인 샘플의 비율: %s'%(max_len, (cnt / len(nested_list))))"
   ]
  },
  {
   "cell_type": "code",
   "execution_count": 18,
   "metadata": {},
   "outputs": [
    {
     "name": "stdout",
     "output_type": "stream",
     "text": [
      "전체 샘플 중 길이가 50 이하인 샘플의 비율: 0.9998576657177715\n",
      "전체 샘플 중 길이가 8 이하인 샘플의 비율: 0.2755693371289142\n"
     ]
    }
   ],
   "source": [
    "below_threshold_len(text_max_len, data['text'])\n",
    "below_threshold_len(summary_max_len,  data['headlines'])"
   ]
  },
  {
   "cell_type": "markdown",
   "metadata": {},
   "source": [
    "다음으로는 시작, 종료 토큰을 추가하여 문장의 시작과 끝을 모델이 파악하도록 한다."
   ]
  },
  {
   "cell_type": "code",
   "execution_count": 19,
   "metadata": {},
   "outputs": [
    {
     "data": {
      "text/html": [
       "<div>\n",
       "<style scoped>\n",
       "    .dataframe tbody tr th:only-of-type {\n",
       "        vertical-align: middle;\n",
       "    }\n",
       "\n",
       "    .dataframe tbody tr th {\n",
       "        vertical-align: top;\n",
       "    }\n",
       "\n",
       "    .dataframe thead th {\n",
       "        text-align: right;\n",
       "    }\n",
       "</style>\n",
       "<table border=\"1\" class=\"dataframe\">\n",
       "  <thead>\n",
       "    <tr style=\"text-align: right;\">\n",
       "      <th></th>\n",
       "      <th>text</th>\n",
       "      <th>headlines</th>\n",
       "      <th>decoder_input</th>\n",
       "      <th>decoder_target</th>\n",
       "    </tr>\n",
       "  </thead>\n",
       "  <tbody>\n",
       "    <tr>\n",
       "      <th>0</th>\n",
       "      <td>saurav kant alumnus upgrad iiit pg program mac...</td>\n",
       "      <td>upgrad learner switches to career in ml al wit...</td>\n",
       "      <td>sostoken upgrad learner switches to career in ...</td>\n",
       "      <td>upgrad learner switches to career in ml al wit...</td>\n",
       "    </tr>\n",
       "    <tr>\n",
       "      <th>1</th>\n",
       "      <td>kunal shah credit card bill payment platform c...</td>\n",
       "      <td>delhi techie wins free food from swiggy for on...</td>\n",
       "      <td>sostoken delhi techie wins free food from swig...</td>\n",
       "      <td>delhi techie wins free food from swiggy for on...</td>\n",
       "    </tr>\n",
       "    <tr>\n",
       "      <th>2</th>\n",
       "      <td>new zealand defeated india wickets fourth odi ...</td>\n",
       "      <td>new zealand end rohit sharma led india match w...</td>\n",
       "      <td>sostoken new zealand end rohit sharma led indi...</td>\n",
       "      <td>new zealand end rohit sharma led india match w...</td>\n",
       "    </tr>\n",
       "    <tr>\n",
       "      <th>3</th>\n",
       "      <td>aegon life iterm insurance plan customers enjo...</td>\n",
       "      <td>aegon life iterm insurance plan helps customer...</td>\n",
       "      <td>sostoken aegon life iterm insurance plan helps...</td>\n",
       "      <td>aegon life iterm insurance plan helps customer...</td>\n",
       "    </tr>\n",
       "    <tr>\n",
       "      <th>4</th>\n",
       "      <td>speaking sexual harassment allegations rajkuma...</td>\n",
       "      <td>have known hirani for yrs what if metoo claims...</td>\n",
       "      <td>sostoken have known hirani for yrs what if met...</td>\n",
       "      <td>have known hirani for yrs what if metoo claims...</td>\n",
       "    </tr>\n",
       "  </tbody>\n",
       "</table>\n",
       "</div>"
      ],
      "text/plain": [
       "                                                text  \\\n",
       "0  saurav kant alumnus upgrad iiit pg program mac...   \n",
       "1  kunal shah credit card bill payment platform c...   \n",
       "2  new zealand defeated india wickets fourth odi ...   \n",
       "3  aegon life iterm insurance plan customers enjo...   \n",
       "4  speaking sexual harassment allegations rajkuma...   \n",
       "\n",
       "                                           headlines  \\\n",
       "0  upgrad learner switches to career in ml al wit...   \n",
       "1  delhi techie wins free food from swiggy for on...   \n",
       "2  new zealand end rohit sharma led india match w...   \n",
       "3  aegon life iterm insurance plan helps customer...   \n",
       "4  have known hirani for yrs what if metoo claims...   \n",
       "\n",
       "                                       decoder_input  \\\n",
       "0  sostoken upgrad learner switches to career in ...   \n",
       "1  sostoken delhi techie wins free food from swig...   \n",
       "2  sostoken new zealand end rohit sharma led indi...   \n",
       "3  sostoken aegon life iterm insurance plan helps...   \n",
       "4  sostoken have known hirani for yrs what if met...   \n",
       "\n",
       "                                      decoder_target  \n",
       "0  upgrad learner switches to career in ml al wit...  \n",
       "1  delhi techie wins free food from swiggy for on...  \n",
       "2  new zealand end rohit sharma led india match w...  \n",
       "3  aegon life iterm insurance plan helps customer...  \n",
       "4  have known hirani for yrs what if metoo claims...  "
      ]
     },
     "execution_count": 19,
     "metadata": {},
     "output_type": "execute_result"
    }
   ],
   "source": [
    "#요약 데이터에는 시작 토큰과 종료 토큰을 추가한다.\n",
    "data['decoder_input'] = data['headlines'].apply(lambda x : 'sostoken '+ x)\n",
    "data['decoder_target'] = data['headlines'].apply(lambda x : x + ' eostoken')\n",
    "data.head()"
   ]
  },
  {
   "cell_type": "code",
   "execution_count": 20,
   "metadata": {},
   "outputs": [],
   "source": [
    "encoder_input = np.array(data['text']) # 인코더의 입력\n",
    "decoder_input = np.array(data['decoder_input']) # 디코더의 입력\n",
    "decoder_target = np.array(data['decoder_target']) # 디코더의 레이블"
   ]
  },
  {
   "cell_type": "code",
   "execution_count": 21,
   "metadata": {},
   "outputs": [
    {
     "name": "stdout",
     "output_type": "stream",
     "text": [
      "[  561 48519 25763 ...  4157 22433 95002]\n"
     ]
    }
   ],
   "source": [
    "indices = np.arange(encoder_input.shape[0])\n",
    "np.random.shuffle(indices)\n",
    "print(indices)"
   ]
  },
  {
   "cell_type": "code",
   "execution_count": 22,
   "metadata": {},
   "outputs": [],
   "source": [
    "encoder_input = encoder_input[indices]\n",
    "decoder_input = decoder_input[indices]\n",
    "decoder_target = decoder_target[indices]"
   ]
  },
  {
   "cell_type": "code",
   "execution_count": 23,
   "metadata": {},
   "outputs": [
    {
     "name": "stdout",
     "output_type": "stream",
     "text": [
      "테스트 데이터의 수 : 19672\n"
     ]
    }
   ],
   "source": [
    "n_of_val = int(len(encoder_input)*0.2)#학습, 테스트 데이터를 8:2로 설정한다.\n",
    "print('테스트 데이터의 수 :',n_of_val)"
   ]
  },
  {
   "cell_type": "code",
   "execution_count": 24,
   "metadata": {},
   "outputs": [
    {
     "name": "stdout",
     "output_type": "stream",
     "text": [
      "훈련 데이터의 개수 : 78688\n",
      "훈련 레이블의 개수 : 78688\n",
      "테스트 데이터의 개수 : 19672\n",
      "테스트 레이블의 개수 : 19672\n"
     ]
    }
   ],
   "source": [
    "encoder_input_train = encoder_input[:-n_of_val]\n",
    "decoder_input_train = decoder_input[:-n_of_val]\n",
    "decoder_target_train = decoder_target[:-n_of_val]\n",
    "\n",
    "encoder_input_test = encoder_input[-n_of_val:]\n",
    "decoder_input_test = decoder_input[-n_of_val:]\n",
    "decoder_target_test = decoder_target[-n_of_val:]\n",
    "\n",
    "print('훈련 데이터의 개수 :', len(encoder_input_train))\n",
    "print('훈련 레이블의 개수 :',len(decoder_input_train))\n",
    "print('테스트 데이터의 개수 :',len(encoder_input_test))\n",
    "print('테스트 레이블의 개수 :',len(decoder_input_test))"
   ]
  },
  {
   "cell_type": "markdown",
   "metadata": {},
   "source": [
    "## 정수 인코딩, 어휘 사전"
   ]
  },
  {
   "cell_type": "markdown",
   "metadata": {},
   "source": [
    "당연하지만 컴퓨터는 자연어 문자를 그대로 받아들이지 않고 숫자로 받아들인다.  \n",
    "즉 텍스트 데이터를 숫자로 처리할 수 있도록 훈련 데이터와 테스트 데이터의 단어들을 숫자(정수)로 바꾸어줘야 한다. 이 말은 즉 각 고유 단어에 고유 정수를 부여하는, 맵핑이 필요한 것이다.  \n",
    "이를 한 마디로 어휘 사전을 만든다고 한다."
   ]
  },
  {
   "cell_type": "code",
   "execution_count": 25,
   "metadata": {},
   "outputs": [],
   "source": [
    "src_tokenizer = Tokenizer() # 단어집합을 만들기 위한 토크나이저\n",
    "src_tokenizer.fit_on_texts(encoder_input_train) # 입력된 데이터로부터 단어 집합 생성"
   ]
  },
  {
   "cell_type": "code",
   "execution_count": 26,
   "metadata": {},
   "outputs": [
    {
     "name": "stdout",
     "output_type": "stream",
     "text": [
      "단어 집합(vocabulary)의 크기 : 69651\n",
      "등장 빈도가 6번 이하인 희귀 단어의 수: 47482\n",
      "단어 집합에서 희귀 단어를 제외시킬 경우의 단어 집합의 크기 22169\n",
      "단어 집합에서 희귀 단어의 비율: 68.17131125181261\n",
      "전체 등장 빈도에서 희귀 단어 등장 빈도 비율: 3.4850453724449717\n"
     ]
    }
   ],
   "source": [
    "threshold = 7\n",
    "total_cnt = len(src_tokenizer.word_index) # 단어의 수\n",
    "rare_cnt = 0 # 등장 빈도수가 threshold보다 작은 단어의 개수를 카운트\n",
    "total_freq = 0 # 훈련 데이터의 전체 단어 빈도수 총 합\n",
    "rare_freq = 0 # 등장 빈도수가 threshold보다 작은 단어의 등장 빈도수의 총 합\n",
    "\n",
    "# 단어와 빈도수의 쌍(pair)을 key와 value로 받는다.\n",
    "for key, value in src_tokenizer.word_counts.items():\n",
    "    total_freq = total_freq + value\n",
    "\n",
    "    # 단어의 등장 빈도수가 threshold보다 작으면\n",
    "    if(value < threshold):\n",
    "        rare_cnt = rare_cnt + 1\n",
    "        rare_freq = rare_freq + value\n",
    "\n",
    "print('단어 집합(vocabulary)의 크기 :',total_cnt)\n",
    "print('등장 빈도가 %s번 이하인 희귀 단어의 수: %s'%(threshold - 1, rare_cnt))\n",
    "print('단어 집합에서 희귀 단어를 제외시킬 경우의 단어 집합의 크기 %s'%(total_cnt - rare_cnt))\n",
    "print(\"단어 집합에서 희귀 단어의 비율:\", (rare_cnt / total_cnt)*100)\n",
    "print(\"전체 등장 빈도에서 희귀 단어 등장 빈도 비율:\", (rare_freq / total_freq)*100)"
   ]
  },
  {
   "cell_type": "code",
   "execution_count": 27,
   "metadata": {},
   "outputs": [],
   "source": [
    "src_vocab = 8000\n",
    "src_tokenizer = Tokenizer(num_words = src_vocab) # 단어 집합의 크기를 8,000으로 제한\n",
    "src_tokenizer.fit_on_texts(encoder_input_train) # 단어 집합 재생성."
   ]
  },
  {
   "cell_type": "code",
   "execution_count": 28,
   "metadata": {},
   "outputs": [
    {
     "name": "stdout",
     "output_type": "stream",
     "text": [
      "[[2, 898, 2393, 662, 7795, 5984, 119, 19, 662, 2369, 119, 405, 119, 691, 240, 1467, 2, 2895, 6806, 3747, 4223, 7261, 615, 663, 791, 6544, 3404, 1693, 1062, 6, 4655, 1999, 1871, 3465, 784, 1213, 34, 6108], [2, 1545, 565, 1083, 1105, 1, 3819, 2405, 3082, 2859, 1240, 19, 194, 531, 3287, 452, 6988, 4690, 5089, 1105, 81, 452, 4690, 908, 137, 596, 1694, 34, 1546, 2405, 2859, 29, 424, 307, 372, 487, 1307], [8, 1042, 378, 741, 13, 127, 468, 1442, 460, 3773, 8, 88, 1, 751, 3536, 79, 160, 23, 12, 66, 115, 277, 391, 468, 98, 566, 485, 2578, 4267, 3604]]\n"
     ]
    }
   ],
   "source": [
    "# 텍스트 시퀀스를 정수 시퀀스로 변환\n",
    "encoder_input_train = src_tokenizer.texts_to_sequences(encoder_input_train) \n",
    "encoder_input_test = src_tokenizer.texts_to_sequences(encoder_input_test)\n",
    "\n",
    "#잘 진행되었는지 샘플 출력\n",
    "print(encoder_input_train[:3])"
   ]
  },
  {
   "cell_type": "code",
   "execution_count": 29,
   "metadata": {},
   "outputs": [],
   "source": [
    "tar_tokenizer = Tokenizer()\n",
    "tar_tokenizer.fit_on_texts(decoder_input_train)"
   ]
  },
  {
   "cell_type": "code",
   "execution_count": 30,
   "metadata": {},
   "outputs": [
    {
     "name": "stdout",
     "output_type": "stream",
     "text": [
      "단어 집합(vocabulary)의 크기 : 30077\n",
      "등장 빈도가 5번 이하인 희귀 단어의 수: 19628\n",
      "단어 집합에서 희귀 단어를 제외시킬 경우의 단어 집합의 크기 10449\n",
      "단어 집합에서 희귀 단어의 비율: 65.25916813511986\n",
      "전체 등장 빈도에서 희귀 단어 등장 빈도 비율: 4.627727879978831\n"
     ]
    }
   ],
   "source": [
    "threshold = 6\n",
    "total_cnt = len(tar_tokenizer.word_index) # 단어의 수\n",
    "rare_cnt = 0 # 등장 빈도수가 threshold보다 작은 단어의 개수를 카운트\n",
    "total_freq = 0 # 훈련 데이터의 전체 단어 빈도수 총 합\n",
    "rare_freq = 0 # 등장 빈도수가 threshold보다 작은 단어의 등장 빈도수의 총 합\n",
    "\n",
    "# 단어와 빈도수의 쌍(pair)을 key와 value로 받는다.\n",
    "for key, value in tar_tokenizer.word_counts.items():\n",
    "    total_freq = total_freq + value\n",
    "\n",
    "    # 단어의 등장 빈도수가 threshold보다 작으면\n",
    "    if(value < threshold):\n",
    "        rare_cnt = rare_cnt + 1\n",
    "        rare_freq = rare_freq + value\n",
    "\n",
    "print('단어 집합(vocabulary)의 크기 :',total_cnt)\n",
    "print('등장 빈도가 %s번 이하인 희귀 단어의 수: %s'%(threshold - 1, rare_cnt))\n",
    "print('단어 집합에서 희귀 단어를 제외시킬 경우의 단어 집합의 크기 %s'%(total_cnt - rare_cnt))\n",
    "print(\"단어 집합에서 희귀 단어의 비율:\", (rare_cnt / total_cnt)*100)\n",
    "print(\"전체 등장 빈도에서 희귀 단어 등장 빈도 비율:\", (rare_freq / total_freq)*100)"
   ]
  },
  {
   "cell_type": "markdown",
   "metadata": {},
   "source": [
    "등장 빈도가 5회 이하인 단어는 19628개로 어휘 사전에서 65% 가량을 차지하고있다.  \n",
    "전체 원문에서 등장하는 빈도는 4.6%밖에 되지 않기 때문에 이 단어 들을 제거한다."
   ]
  },
  {
   "cell_type": "code",
   "execution_count": 31,
   "metadata": {},
   "outputs": [
    {
     "name": "stdout",
     "output_type": "stream",
     "text": [
      "input\n",
      "input  [[1, 8, 369, 28, 1377], [1, 1634, 1845, 10, 53, 6, 315, 682, 8, 1704, 340], [1, 387, 511, 1769, 4, 25, 11, 62], [1, 79, 1348, 266, 157, 15], [1, 49, 104, 1770, 1050, 5, 1038, 1204]]\n",
      "target\n",
      "decoder  [[8, 369, 28, 1377, 2], [1634, 1845, 10, 53, 6, 315, 682, 8, 1704, 340, 2], [387, 511, 1769, 4, 25, 11, 62, 2], [79, 1348, 266, 157, 15, 2], [49, 104, 1770, 1050, 5, 1038, 1204, 2]]\n"
     ]
    }
   ],
   "source": [
    "tar_vocab = 2000\n",
    "tar_tokenizer = Tokenizer(num_words = tar_vocab) \n",
    "tar_tokenizer.fit_on_texts(decoder_input_train)\n",
    "tar_tokenizer.fit_on_texts(decoder_target_train)\n",
    "\n",
    "# 텍스트 시퀀스를 정수 시퀀스로 변환\n",
    "decoder_input_train = tar_tokenizer.texts_to_sequences(decoder_input_train) \n",
    "decoder_target_train = tar_tokenizer.texts_to_sequences(decoder_target_train)\n",
    "decoder_input_test = tar_tokenizer.texts_to_sequences(decoder_input_test)\n",
    "decoder_target_test = tar_tokenizer.texts_to_sequences(decoder_target_test)\n",
    "\n",
    "#잘 변환되었는지 확인\n",
    "print('input')\n",
    "print('input ',decoder_input_train[:5])\n",
    "print('target')\n",
    "print('decoder ',decoder_target_train[:5])"
   ]
  },
  {
   "cell_type": "code",
   "execution_count": 32,
   "metadata": {},
   "outputs": [
    {
     "name": "stdout",
     "output_type": "stream",
     "text": [
      "삭제할 훈련 데이터의 개수 : 10\n",
      "삭제할 테스트 데이터의 개수 : 2\n",
      "훈련 데이터의 개수 : 78678\n",
      "훈련 레이블의 개수 : 78678\n",
      "테스트 데이터의 개수 : 19670\n",
      "테스트 레이블의 개수 : 19670\n"
     ]
    },
    {
     "name": "stderr",
     "output_type": "stream",
     "text": [
      "/home/aiffel-dj16/anaconda3/envs/aiffel/lib/python3.7/site-packages/numpy/core/_asarray.py:83: VisibleDeprecationWarning: Creating an ndarray from ragged nested sequences (which is a list-or-tuple of lists-or-tuples-or ndarrays with different lengths or shapes) is deprecated. If you meant to do this, you must specify 'dtype=object' when creating the ndarray\n",
      "  return array(a, dtype, copy=False, order=order)\n"
     ]
    }
   ],
   "source": [
    "drop_train = [index for index, sentence in enumerate(decoder_input_train) if len(sentence) == 1]\n",
    "drop_test = [index for index, sentence in enumerate(decoder_input_test) if len(sentence) == 1]\n",
    "\n",
    "print('삭제할 훈련 데이터의 개수 :',len(drop_train))\n",
    "print('삭제할 테스트 데이터의 개수 :',len(drop_test))\n",
    "\n",
    "encoder_input_train = np.delete(encoder_input_train, drop_train, axis=0)\n",
    "decoder_input_train = np.delete(decoder_input_train, drop_train, axis=0)\n",
    "decoder_target_train = np.delete(decoder_target_train, drop_train, axis=0)\n",
    "\n",
    "encoder_input_test = np.delete(encoder_input_test, drop_test, axis=0)\n",
    "decoder_input_test = np.delete(decoder_input_test, drop_test, axis=0)\n",
    "decoder_target_test = np.delete(decoder_target_test, drop_test, axis=0)\n",
    "\n",
    "print('훈련 데이터의 개수 :', len(encoder_input_train))\n",
    "print('훈련 레이블의 개수 :',len(decoder_input_train))\n",
    "print('테스트 데이터의 개수 :',len(encoder_input_test))\n",
    "print('테스트 레이블의 개수 :',len(decoder_input_test))"
   ]
  },
  {
   "cell_type": "markdown",
   "metadata": {},
   "source": [
    "빈도수가 낮은 단어로만 구성되었던 샘플은 위 과정으로 비었거나 과도하게 작은 샘플이 되었을 수 있다. 이 때 길이가 0이 된 샘플들의 현상이 두드러지게 나타나기 때문에 이 인덱스를 drop_train과 drop_test에 담아 삭제한다."
   ]
  },
  {
   "cell_type": "markdown",
   "metadata": {},
   "source": [
    "## 패딩 "
   ]
  },
  {
   "cell_type": "code",
   "execution_count": 33,
   "metadata": {},
   "outputs": [],
   "source": [
    "encoder_input_train = pad_sequences(encoder_input_train, maxlen = text_max_len, padding='post')\n",
    "encoder_input_test = pad_sequences(encoder_input_test, maxlen = text_max_len, padding='post')\n",
    "decoder_input_train = pad_sequences(decoder_input_train, maxlen = summary_max_len, padding='post')\n",
    "decoder_target_train = pad_sequences(decoder_target_train, maxlen = summary_max_len, padding='post')\n",
    "decoder_input_test = pad_sequences(decoder_input_test, maxlen = summary_max_len, padding='post')\n",
    "decoder_target_test = pad_sequences(decoder_target_test, maxlen = summary_max_len, padding='post')"
   ]
  },
  {
   "cell_type": "markdown",
   "metadata": {},
   "source": [
    "## 모델 설계 "
   ]
  },
  {
   "cell_type": "code",
   "execution_count": 34,
   "metadata": {},
   "outputs": [
    {
     "name": "stdout",
     "output_type": "stream",
     "text": [
      "WARNING:tensorflow:Layer lstm will not use cuDNN kernel since it doesn't meet the cuDNN kernel criteria. It will use generic GPU kernel as fallback when running on GPU\n",
      "WARNING:tensorflow:Layer lstm_1 will not use cuDNN kernel since it doesn't meet the cuDNN kernel criteria. It will use generic GPU kernel as fallback when running on GPU\n",
      "WARNING:tensorflow:Layer lstm_2 will not use cuDNN kernel since it doesn't meet the cuDNN kernel criteria. It will use generic GPU kernel as fallback when running on GPU\n"
     ]
    }
   ],
   "source": [
    "from tensorflow.keras.layers import Input, LSTM, Embedding, Dense, Concatenate\n",
    "from tensorflow.keras.models import Model\n",
    "from tensorflow.keras.callbacks import EarlyStopping, ModelCheckpoint\n",
    "\n",
    "\n",
    "# 인코더 설계 시작\n",
    "embedding_dim = 128\n",
    "hidden_size = 256\n",
    "\n",
    "# 인코더\n",
    "encoder_inputs = Input(shape=(text_max_len,))\n",
    "\n",
    "# 인코더의 임베딩 층\n",
    "enc_emb = Embedding(src_vocab, embedding_dim)(encoder_inputs)\n",
    "\n",
    "# 인코더의 LSTM 1\n",
    "encoder_lstm1 = LSTM(hidden_size, return_sequences=True, return_state=True ,dropout = 0.4, recurrent_dropout = 0.4)\n",
    "encoder_output1, state_h1, state_c1 = encoder_lstm1(enc_emb)\n",
    "\n",
    "# 인코더의 LSTM 2\n",
    "encoder_lstm2 = LSTM(hidden_size, return_sequences=True, return_state=True, dropout=0.4, recurrent_dropout=0.4)\n",
    "encoder_output2, state_h2, state_c2 = encoder_lstm2(encoder_output1)\n",
    "\n",
    "# 인코더의 LSTM 3\n",
    "encoder_lstm3 = LSTM(hidden_size, return_state=True, return_sequences=True, dropout=0.4, recurrent_dropout=0.4)\n",
    "encoder_outputs, state_h, state_c= encoder_lstm3(encoder_output2)"
   ]
  },
  {
   "cell_type": "code",
   "execution_count": 35,
   "metadata": {},
   "outputs": [
    {
     "name": "stdout",
     "output_type": "stream",
     "text": [
      "WARNING:tensorflow:Layer lstm_3 will not use cuDNN kernel since it doesn't meet the cuDNN kernel criteria. It will use generic GPU kernel as fallback when running on GPU\n"
     ]
    }
   ],
   "source": [
    "# 디코더 설계\n",
    "\n",
    "decoder_inputs = Input(shape=(None,))\n",
    "\n",
    "# 디코더의 임베딩 층\n",
    "dec_emb_layer = Embedding(tar_vocab, embedding_dim)\n",
    "dec_emb = dec_emb_layer(decoder_inputs)\n",
    "\n",
    "# 디코더의 LSTM\n",
    "decoder_lstm = LSTM(hidden_size, return_sequences = True, return_state = True, dropout = 0.4, recurrent_dropout=0.2)\n",
    "decoder_outputs, _, _ = decoder_lstm(dec_emb, initial_state = [state_h, state_c])"
   ]
  },
  {
   "cell_type": "code",
   "execution_count": 36,
   "metadata": {},
   "outputs": [
    {
     "name": "stdout",
     "output_type": "stream",
     "text": [
      "Model: \"model\"\n",
      "__________________________________________________________________________________________________\n",
      "Layer (type)                    Output Shape         Param #     Connected to                     \n",
      "==================================================================================================\n",
      "input_1 (InputLayer)            [(None, 50)]         0                                            \n",
      "__________________________________________________________________________________________________\n",
      "embedding (Embedding)           (None, 50, 128)      1024000     input_1[0][0]                    \n",
      "__________________________________________________________________________________________________\n",
      "lstm (LSTM)                     [(None, 50, 256), (N 394240      embedding[0][0]                  \n",
      "__________________________________________________________________________________________________\n",
      "input_2 (InputLayer)            [(None, None)]       0                                            \n",
      "__________________________________________________________________________________________________\n",
      "lstm_1 (LSTM)                   [(None, 50, 256), (N 525312      lstm[0][0]                       \n",
      "__________________________________________________________________________________________________\n",
      "embedding_1 (Embedding)         (None, None, 128)    256000      input_2[0][0]                    \n",
      "__________________________________________________________________________________________________\n",
      "lstm_2 (LSTM)                   [(None, 50, 256), (N 525312      lstm_1[0][0]                     \n",
      "__________________________________________________________________________________________________\n",
      "lstm_3 (LSTM)                   [(None, None, 256),  394240      embedding_1[0][0]                \n",
      "                                                                 lstm_2[0][1]                     \n",
      "                                                                 lstm_2[0][2]                     \n",
      "__________________________________________________________________________________________________\n",
      "dense (Dense)                   (None, None, 2000)   514000      lstm_3[0][0]                     \n",
      "==================================================================================================\n",
      "Total params: 3,633,104\n",
      "Trainable params: 3,633,104\n",
      "Non-trainable params: 0\n",
      "__________________________________________________________________________________________________\n"
     ]
    }
   ],
   "source": [
    "# 디코더의 출력층\n",
    "decoder_softmax_layer = Dense(tar_vocab, activation = 'softmax')\n",
    "decoder_softmax_outputs = decoder_softmax_layer(decoder_outputs) \n",
    "\n",
    "# 모델 정의\n",
    "model = Model([encoder_inputs, decoder_inputs], decoder_softmax_outputs)\n",
    "model.summary()"
   ]
  },
  {
   "cell_type": "markdown",
   "metadata": {},
   "source": [
    "## 어텐션 매커니즘 "
   ]
  },
  {
   "cell_type": "markdown",
   "metadata": {},
   "source": [
    "RNN 기반의 seq2seq 모델은 크게 두가지 문제가 있다.  \n",
    "1. 하나의 고정된 크기의 벡터에 모든 정보를 압축하는 과정에서 정보 손실이 발생한다.  \n",
    "2. RNN 특유의 고질적인 문제인 Gradient 소실이 발생한다.  \n",
    "위 두 문제는 NLP에서 입력 문장이 길어지면 성능이 떨어지게 되고, 이를 보안하기 위해 어텐션 매커니즘이 사용된다.  \n",
    "  \n",
    "### 어텐션 이란  \n",
    ">어텐션은 디코더에서 출력 단어를 예측하는 매 시점마다 인코더에서 전체 입력 문장을 참고한다. 하지만 전체 입력 문장을 계속 참고하는 것이 아닌 그 시점에서 예측해야되는 단어와 연관이 있는 입력 단어를 중점으로 더 집중(Attention)해서 참고하게 된다."
   ]
  },
  {
   "cell_type": "markdown",
   "metadata": {},
   "source": [
    "아직은 어텐션 매커니즘을 수행하는 어텐션 함수를 설계하는데에 무리이기 때문에, 이미 구현되어 있는 어텐션 함수를 다운로드한다."
   ]
  },
  {
   "cell_type": "code",
   "execution_count": 37,
   "metadata": {},
   "outputs": [],
   "source": [
    "urllib.request.urlretrieve(\"https://raw.githubusercontent.com/thushv89/attention_keras/master/src/layers/attention.py\", filename=\"attention.py\")\n",
    "from attention import AttentionLayer"
   ]
  },
  {
   "cell_type": "code",
   "execution_count": 38,
   "metadata": {},
   "outputs": [
    {
     "name": "stdout",
     "output_type": "stream",
     "text": [
      "Model: \"model_1\"\n",
      "__________________________________________________________________________________________________\n",
      "Layer (type)                    Output Shape         Param #     Connected to                     \n",
      "==================================================================================================\n",
      "input_1 (InputLayer)            [(None, 50)]         0                                            \n",
      "__________________________________________________________________________________________________\n",
      "embedding (Embedding)           (None, 50, 128)      1024000     input_1[0][0]                    \n",
      "__________________________________________________________________________________________________\n",
      "lstm (LSTM)                     [(None, 50, 256), (N 394240      embedding[0][0]                  \n",
      "__________________________________________________________________________________________________\n",
      "input_2 (InputLayer)            [(None, None)]       0                                            \n",
      "__________________________________________________________________________________________________\n",
      "lstm_1 (LSTM)                   [(None, 50, 256), (N 525312      lstm[0][0]                       \n",
      "__________________________________________________________________________________________________\n",
      "embedding_1 (Embedding)         (None, None, 128)    256000      input_2[0][0]                    \n",
      "__________________________________________________________________________________________________\n",
      "lstm_2 (LSTM)                   [(None, 50, 256), (N 525312      lstm_1[0][0]                     \n",
      "__________________________________________________________________________________________________\n",
      "lstm_3 (LSTM)                   [(None, None, 256),  394240      embedding_1[0][0]                \n",
      "                                                                 lstm_2[0][1]                     \n",
      "                                                                 lstm_2[0][2]                     \n",
      "__________________________________________________________________________________________________\n",
      "attention_layer (AttentionLayer ((None, None, 256),  131328      lstm_2[0][0]                     \n",
      "                                                                 lstm_3[0][0]                     \n",
      "__________________________________________________________________________________________________\n",
      "concat_layer (Concatenate)      (None, None, 512)    0           lstm_3[0][0]                     \n",
      "                                                                 attention_layer[0][0]            \n",
      "__________________________________________________________________________________________________\n",
      "dense_1 (Dense)                 (None, None, 2000)   1026000     concat_layer[0][0]               \n",
      "==================================================================================================\n",
      "Total params: 4,276,432\n",
      "Trainable params: 4,276,432\n",
      "Non-trainable params: 0\n",
      "__________________________________________________________________________________________________\n"
     ]
    }
   ],
   "source": [
    "# 어텐션 층(어텐션 함수)\n",
    "attn_layer = AttentionLayer(name='attention_layer')\n",
    "# 인코더와 디코더의 모든 time step의 hidden state를 어텐션 층에 전달하고 결과를 리턴\n",
    "attn_out, attn_states = attn_layer([encoder_outputs, decoder_outputs])\n",
    "\n",
    "# 어텐션의 결과와 디코더의 hidden state들을 연결\n",
    "decoder_concat_input = Concatenate(axis = -1, name='concat_layer')([decoder_outputs, attn_out])\n",
    "\n",
    "# 디코더의 출력층\n",
    "decoder_softmax_layer = Dense(tar_vocab, activation='softmax')\n",
    "decoder_softmax_outputs = decoder_softmax_layer(decoder_concat_input)\n",
    "\n",
    "# 모델 정의\n",
    "model = Model([encoder_inputs, decoder_inputs], decoder_softmax_outputs)\n",
    "model.summary()"
   ]
  },
  {
   "cell_type": "markdown",
   "metadata": {},
   "source": [
    "## 학습 "
   ]
  },
  {
   "cell_type": "code",
   "execution_count": 39,
   "metadata": {
    "scrolled": true
   },
   "outputs": [
    {
     "name": "stdout",
     "output_type": "stream",
     "text": [
      "Epoch 1/50\n",
      "308/308 [==============================] - 102s 331ms/step - loss: 5.1370 - val_loss: 4.7908\n",
      "Epoch 2/50\n",
      "308/308 [==============================] - 101s 327ms/step - loss: 4.5896 - val_loss: 4.3826\n",
      "Epoch 3/50\n",
      "308/308 [==============================] - 101s 327ms/step - loss: 4.2282 - val_loss: 4.1296\n",
      "Epoch 4/50\n",
      "308/308 [==============================] - 99s 323ms/step - loss: 3.9916 - val_loss: 3.9437\n",
      "Epoch 5/50\n",
      "308/308 [==============================] - 99s 323ms/step - loss: 3.8107 - val_loss: 3.8046\n",
      "Epoch 6/50\n",
      "308/308 [==============================] - 100s 326ms/step - loss: 3.6543 - val_loss: 3.6868\n",
      "Epoch 7/50\n",
      "308/308 [==============================] - 100s 326ms/step - loss: 3.5189 - val_loss: 3.5918\n",
      "Epoch 8/50\n",
      "308/308 [==============================] - 101s 330ms/step - loss: 3.4026 - val_loss: 3.5155\n",
      "Epoch 9/50\n",
      "308/308 [==============================] - 101s 329ms/step - loss: 3.3017 - val_loss: 3.4473\n",
      "Epoch 10/50\n",
      "308/308 [==============================] - 101s 329ms/step - loss: 3.2130 - val_loss: 3.4088\n",
      "Epoch 11/50\n",
      "308/308 [==============================] - 101s 327ms/step - loss: 3.1342 - val_loss: 3.3565\n",
      "Epoch 12/50\n",
      "308/308 [==============================] - 100s 325ms/step - loss: 3.0643 - val_loss: 3.3261\n",
      "Epoch 13/50\n",
      "308/308 [==============================] - 100s 325ms/step - loss: 2.9993 - val_loss: 3.2917\n",
      "Epoch 14/50\n",
      "308/308 [==============================] - 102s 332ms/step - loss: 2.9417 - val_loss: 3.2680\n",
      "Epoch 15/50\n",
      "308/308 [==============================] - 101s 328ms/step - loss: 2.8877 - val_loss: 3.2487\n",
      "Epoch 16/50\n",
      "308/308 [==============================] - 100s 323ms/step - loss: 2.8377 - val_loss: 3.2349\n",
      "Epoch 17/50\n",
      "308/308 [==============================] - 100s 324ms/step - loss: 2.7906 - val_loss: 3.2238\n",
      "Epoch 18/50\n",
      "308/308 [==============================] - 99s 323ms/step - loss: 2.7468 - val_loss: 3.2049\n",
      "Epoch 19/50\n",
      "308/308 [==============================] - 99s 323ms/step - loss: 2.7065 - val_loss: 3.1951\n",
      "Epoch 20/50\n",
      "308/308 [==============================] - 99s 323ms/step - loss: 2.6673 - val_loss: 3.1955\n",
      "Epoch 21/50\n",
      "308/308 [==============================] - 100s 323ms/step - loss: 2.6319 - val_loss: 3.1876\n",
      "Epoch 22/50\n",
      "308/308 [==============================] - 100s 323ms/step - loss: 2.5981 - val_loss: 3.1851\n",
      "Epoch 23/50\n",
      "308/308 [==============================] - 99s 323ms/step - loss: 2.5664 - val_loss: 3.1712\n",
      "Epoch 24/50\n",
      "308/308 [==============================] - 99s 322ms/step - loss: 2.5363 - val_loss: 3.1714\n",
      "Epoch 25/50\n",
      "308/308 [==============================] - 99s 323ms/step - loss: 2.5069 - val_loss: 3.1704\n",
      "Epoch 26/50\n",
      "308/308 [==============================] - 99s 323ms/step - loss: 2.4804 - val_loss: 3.1669\n",
      "Epoch 27/50\n",
      "308/308 [==============================] - 100s 323ms/step - loss: 2.4537 - val_loss: 3.1725\n",
      "Epoch 28/50\n",
      "308/308 [==============================] - 99s 323ms/step - loss: 2.4292 - val_loss: 3.1691\n",
      "Epoch 00028: early stopping\n"
     ]
    }
   ],
   "source": [
    "model.compile(optimizer='rmsprop', loss='sparse_categorical_crossentropy')\n",
    "es = EarlyStopping(monitor='val_loss', mode='min', verbose=1, patience = 2)\n",
    "history = model.fit(x = [encoder_input_train, decoder_input_train], y = decoder_target_train, \\\n",
    "          validation_data = ([encoder_input_test, decoder_input_test], decoder_target_test),\n",
    "          batch_size = 256, callbacks=[es], epochs = 50)"
   ]
  },
  {
   "cell_type": "code",
   "execution_count": 40,
   "metadata": {},
   "outputs": [
    {
     "data": {
      "image/png": "[encoded data removed]",
      "text/plain": [
       "<Figure size 432x288 with 1 Axes>"
      ]
     },
     "metadata": {
      "needs_background": "light"
     },
     "output_type": "display_data"
    }
   ],
   "source": [
    "plt.plot(history.history['loss'], label='train')\n",
    "plt.plot(history.history['val_loss'], label='test')\n",
    "plt.legend()\n",
    "plt.show()"
   ]
  },
  {
   "cell_type": "markdown",
   "metadata": {},
   "source": [
    "train 값과 test 값의 차가 점점 벌어진다."
   ]
  },
  {
   "cell_type": "markdown",
   "metadata": {},
   "source": [
    "## 인퍼런스 모델 "
   ]
  },
  {
   "cell_type": "markdown",
   "metadata": {},
   "source": [
    "테스트 단계에서는 행렬로 변형했던 데이터를 실제 데이터(텍스트)로 복원해준다."
   ]
  },
  {
   "cell_type": "code",
   "execution_count": 41,
   "metadata": {},
   "outputs": [],
   "source": [
    "src_index_to_word = src_tokenizer.index_word # 원문 단어 집합에서 정수 -> 단어를 얻음\n",
    "tar_word_to_index = tar_tokenizer.word_index # 요약 단어 집합에서 단어 -> 정수를 얻음\n",
    "tar_index_to_word = tar_tokenizer.index_word # 요약 단어 집합에서 정수 -> 단어를 얻음"
   ]
  },
  {
   "cell_type": "code",
   "execution_count": 42,
   "metadata": {},
   "outputs": [],
   "source": [
    "# 인코더 설계\n",
    "encoder_model = Model(inputs=encoder_inputs, outputs=[encoder_outputs, state_h, state_c])\n",
    "\n",
    "# 이전 시점의 상태들을 저장하는 텐서\n",
    "decoder_state_input_h = Input(shape=(hidden_size,))\n",
    "decoder_state_input_c = Input(shape=(hidden_size,))\n",
    "\n",
    "dec_emb2 = dec_emb_layer(decoder_inputs)\n",
    "# 문장의 다음 단어를 예측하기 위해서 초기 상태(initial_state)를 이전 시점의 상태로 사용. 이는 뒤의 함수 decode_sequence()에 구현\n",
    "# 훈련 과정에서와 달리 LSTM의 리턴하는 은닉 상태와 셀 상태인 state_h와 state_c를 버리지 않음.\n",
    "decoder_outputs2, state_h2, state_c2 = decoder_lstm(dec_emb2, initial_state=[decoder_state_input_h, decoder_state_input_c])"
   ]
  },
  {
   "cell_type": "code",
   "execution_count": 43,
   "metadata": {},
   "outputs": [],
   "source": [
    "# 어텐션 함수\n",
    "decoder_hidden_state_input = Input(shape=(text_max_len, hidden_size))\n",
    "attn_out_inf, attn_states_inf = attn_layer([decoder_hidden_state_input, decoder_outputs2])\n",
    "decoder_inf_concat = Concatenate(axis=-1, name='concat')([decoder_outputs2, attn_out_inf])\n",
    "\n",
    "# 디코더의 출력층\n",
    "decoder_outputs2 = decoder_softmax_layer(decoder_inf_concat) \n",
    "\n",
    "# 최종 디코더 모델\n",
    "decoder_model = Model(\n",
    "    [decoder_inputs] + [decoder_hidden_state_input,decoder_state_input_h, decoder_state_input_c],\n",
    "    [decoder_outputs2] + [state_h2, state_c2])"
   ]
  },
  {
   "cell_type": "code",
   "execution_count": 44,
   "metadata": {},
   "outputs": [],
   "source": [
    "def decode_sequence(input_seq):\n",
    "    # 입력으로부터 인코더의 상태를 얻음\n",
    "    e_out, e_h, e_c = encoder_model.predict(input_seq)\n",
    "\n",
    "     # <SOS>에 해당하는 토큰 생성\n",
    "    target_seq = np.zeros((1,1))\n",
    "    target_seq[0, 0] = tar_word_to_index['sostoken']\n",
    "\n",
    "    stop_condition = False\n",
    "    decoded_sentence = ''\n",
    "    while not stop_condition: # stop_condition이 True가 될 때까지 루프 반복\n",
    "\n",
    "        output_tokens, h, c = decoder_model.predict([target_seq] + [e_out, e_h, e_c])\n",
    "        sampled_token_index = np.argmax(output_tokens[0, -1, :])\n",
    "        sampled_token = tar_index_to_word[sampled_token_index]\n",
    "\n",
    "        if(sampled_token!='eostoken'):\n",
    "            decoded_sentence += ' '+sampled_token\n",
    "\n",
    "        #  <eos>에 도달하거나 최대 길이를 넘으면 중단.\n",
    "        if (sampled_token == 'eostoken'  or len(decoded_sentence.split()) >= (summary_max_len-1)):\n",
    "            stop_condition = True\n",
    "\n",
    "        # 길이가 1인 타겟 시결과퀀스를 업데이트\n",
    "        target_seq = np.zeros((1,1))\n",
    "        target_seq[0, 0] = sampled_token_index\n",
    "\n",
    "        # 상태를 업데이트 합니다.\n",
    "        e_h, e_c = h, c\n",
    "\n",
    "    return decoded_sentence"
   ]
  },
  {
   "cell_type": "markdown",
   "metadata": {},
   "source": [
    "## 모델 테스트 "
   ]
  },
  {
   "cell_type": "code",
   "execution_count": 45,
   "metadata": {},
   "outputs": [],
   "source": [
    "# 원문의 정수 시퀀스를 텍스트 시퀀스로 변환\n",
    "def seq2text(input_seq):\n",
    "    temp=''\n",
    "    for i in input_seq:\n",
    "        if(i!=0):\n",
    "            temp = temp + src_index_to_word[i]+' '\n",
    "    return temp\n",
    "\n",
    "# 요약문의 정수 시퀀스를 텍스트 시퀀스로 변환\n",
    "def seq2summary(input_seq):\n",
    "    temp=''\n",
    "    for i in input_seq:\n",
    "        if((i!=0 and i!=tar_word_to_index['sostoken']) and i!=tar_word_to_index['eostoken']):\n",
    "            temp = temp + tar_index_to_word[i] + ' '\n",
    "    return temp"
   ]
  },
  {
   "cell_type": "code",
   "execution_count": 46,
   "metadata": {},
   "outputs": [
    {
     "name": "stdout",
     "output_type": "stream",
     "text": [
      "원문 : instances currency india banking channels increased eight years according latest government data number reports increased data showed majority reports filed private indian banks \n",
      "실제 요약 : of fake currency has in years \n",
      "예측 요약 :  currency in india years rises to\n",
      "\n",
      "\n",
      "원문 : jammu kashmir police started officers among stone catch real recent incident policemen mob pelting stones security forces caught two leading strong crowd used toy guns scare mob two stone taken police station \n",
      "실제 요약 : cops as stone to catch real \n",
      "예측 요약 :  police catch police catch\n",
      "\n",
      "\n",
      "원문 : finance ministry asked public sector banks reduce government equity bid best corporate practices banks permission implement move market condition allows ministry said government stake help banks meet public norms market regulator sebi \n",
      "실제 요약 : state run banks to bring down govt to \n",
      "예측 요약 :  govt to sector banks\n",
      "\n",
      "\n",
      "원문 : us based successfully conducted first ever site specific surgery times human hair surgery performed gold reducing procedure increased particle fold could used properties \n",
      "실제 요약 : surgery done on times than hair \n",
      "예측 요약 :  first ever skin in\n",
      "\n",
      "\n",
      "원문 : bcci monday wrote letter centre seeking stance bilateral series india pakistan would grateful could formally policy position need requirement prior clearance india play pakistan bcci wrote according india scheduled play six series pakistan \n",
      "실제 요약 : policy india pakistan series bcci to govt \n",
      "예측 요약 :  bcci rejects bcci for india against bcci\n",
      "\n",
      "\n",
      "원문 : indian navy dismissed year old service underwent sex change surgery last year become female dismissed grounds violating rules regulations indian male citizen manish called said approach court fight justice \n",
      "실제 요약 : navy dismisses who sex change surgery \n",
      "예측 요약 :  navy officer sex with sex\n",
      "\n",
      "\n",
      "원문 : couple united states spent life saving kidney transplant year old cat stanley couple said used limited savings plans purchase new car adding worth every couple also adopted two year old cat donated kidney stanley \n",
      "실제 요약 : couple lakh on for \n",
      "예측 요약 :  couple gets married to\n",
      "\n",
      "\n",
      "원문 : swedish furniture major ikea set open first ever store country hyderabad july postponed store launch august ikea needs time live expected quality commitments towards customers co workers company said ikea hyderabad store come investment crore \n",
      "실제 요약 : its india debut from july to \n",
      "예측 요약 :  first store store in india\n",
      "\n",
      "\n",
      "원문 : german carmaker volkswagen friday said could build million electric cars several years new electric vehicle production platform earlier volkswagen ceo said company could build million electric cars meant say million million cars company spokesperson said \n",
      "실제 요약 : could build up to million electric cars \n",
      "예측 요약 :  to invest cars in electric cars\n",
      "\n",
      "\n",
      "원문 : police arrested year old former software company employee stealing gold worth lakh jewellery shops bengaluru accused committed theft january case filed police arrested friday based cctv footage investigation revealed committed another theft \n",
      "실제 요약 : ex held for gold theft from in luru \n",
      "예측 요약 :  man steals lakh worth lakh from\n",
      "\n",
      "\n",
      "원문 : virat kohli missed india series sri lanka due wedding displaced top spot rankings batsmen kohli slipped third position australia aaron finch claiming number one spot indian pacer jasprit bumrah also lost top rank going sri lanka series \n",
      "실제 요약 : virat kohli loses number one wedding \n",
      "예측 요약 :  virat kohli india wedding at icc\n",
      "\n",
      "\n",
      "원문 : american airlines two professional african american basketball players kicked domestic flight falsely accused theft forced plane flight attendant accused taking first class two athletes play nba minor league later flown first class destination \n",
      "실제 요약 : airline apologises for players off flight \n",
      "예측 요약 :  airline gives passenger to passenger\n",
      "\n",
      "\n",
      "원문 : speaking side bowling display india first innings second test lord english pacer james anderson said bowling batsmen would better anderson added conditions well anyone world think indian batsmen would \n",
      "실제 요약 : even england would have against us \n",
      "예측 요약 :  no in test innings\n",
      "\n",
      "\n",
      "원문 : indian aditi ashok qualified season ending event tour group tour championship becoming first indian qualify competition year old one eight qualify season ending event aditi became first female represent india olympics participating rio games \n",
      "실제 요약 : indian woman for tour ship for first time \n",
      "예측 요약 :  indian to host top in india\n",
      "\n",
      "\n",
      "원문 : us embassy china issued health alert citizens consulate worker reported brain injury caused sounds pressure us earlier embassy staff workers reported including hearing loss brain injury result alleged attacks \n",
      "실제 요약 : us embassy worker in china injured due to \n",
      "예측 요약 :  us airlines warns citizens against over\n",
      "\n",
      "\n",
      "원문 : german chancellor angela merkel said us president donald trump decision statement bit sometimes seems trump thinks one side wins everyone else added calling us less partner merkel said eu needs stand together increase influence world stage \n",
      "실제 요약 : trump is \n",
      "예측 요약 :  trump would never be us president\n",
      "\n",
      "\n",
      "원문 : mumbai indians captain rohit sharma bought crore ahead first ever indian premier league rohit slammed runs hyderabad based side bought mumbai indians crore retained crore crore respectively \n",
      "실제 요약 : sharma price in ipl changed over the years \n",
      "예측 요약 :  rohit buys ipl for ipl\n",
      "\n",
      "\n",
      "원문 : day cbi shared video uk showing like tv toilet sunlight liquor baron vijay mallya mumbai jail cell congress president rahul gandhi said indian prisons pretty far mallya concerned justice indian people said gandhi mallya indian banks crore \n",
      "실제 요약 : indian for mallya rahul on tv in jail \n",
      "예측 요약 :  video shows vijay mallya from gujarat\n",
      "\n",
      "\n",
      "원문 : many lakh government workers uttar pradesh go strike february demand restoration old pension schemes said tiwari convenor old pension restoration forum government workers claim government officials two months \n",
      "실제 요약 : up government workers to go on strike from \n",
      "예측 요약 :  workers lakh workers in west bengal strike\n",
      "\n",
      "\n",
      "원문 : year old boy asked white house could property granted wish friday always wanted something big like start seems like perfect example said president donald trump congratulated boy giving high five \n",
      "실제 요약 : us boy wish to white house \n",
      "예측 요약 :  man who me to house\n",
      "\n",
      "\n",
      "원문 : uttar pradesh health minister sidharth nath singh tuesday said crore families uttar pradesh amounting approximately crore people given lakh health insurance bharat pradhan mantri jan yojana beneficiaries mainly scheduled castes scheduled identified per economic caste added \n",
      "실제 요약 : people in up to get health cover under \n",
      "예측 요약 :  up cm yogi crore in up\n",
      "\n",
      "\n",
      "원문 : unique identification authority india refused share information fake aadhaar cards saying disclosure might affect national security replying rti query uidai also refused give details action taken cases format information held contains identity details could lead identity theft said \n",
      "실제 요약 : denies info on fake aadhaar on national security \n",
      "예측 요약 :  aadhaar card not to rti\n",
      "\n",
      "\n",
      "원문 : ikea looking opportunities open smaller stores india part expansion strategy swedish furniture retailer india ceo peter said added ikea start online retail operations india march ikea thursday laid foundation stone third india store bengaluru set open \n",
      "실제 요약 : plans to open in india \n",
      "예측 요약 :  open to india in india\n",
      "\n",
      "\n",
      "원문 : south africa ab de villiers revealed childhood house roof hidden love letters written girls liked school scared send got older got married decided use energy write letters wife de villiers said \n",
      "실제 요약 : de love he in his house \n",
      "예측 요약 :  de shares old pic with\n",
      "\n",
      "\n",
      "원문 : social media suicide game dubbed blue whale sentenced years prison russian court pleaded guilty detained last year initially charged attempts inciting teenagers commit suicide across russia eventually convicted two counts \n",
      "실제 요약 : blue suicide game jailed for yrs in russia \n",
      "예측 요약 :  blue death penalty for murder\n",
      "\n",
      "\n",
      "원문 : amazon friday unveiled controlled users giving company voice based assistant alexa users need give like alexa coffee alexa begin working amazon priced \n",
      "실제 요약 : amazon unveils that can be used with \n",
      "예측 요약 :  amazon unveils that\n",
      "\n",
      "\n",
      "원문 : indo tibetan border police personnel learning chinese basic training considering frequent face indian chinese troops home minister rajnath singh said tuesday added government working setting posts along indo china border using technology ensure round year temperature least high altitude posts \n",
      "실제 요약 : troops chinese in training home minister \n"
     ]
    },
    {
     "name": "stdout",
     "output_type": "stream",
     "text": [
      "예측 요약 :  bsf chinese army to chinese\n",
      "\n",
      "\n",
      "원문 : found message bottle travelled nearly kilometres greek island gaza via sea palestinian jihad al managed contact british couple placed bottle water july said felt letter travelled borders international waters without restrictions \n",
      "실제 요약 : finds message in from \n",
      "예측 요약 :  year old building in\n",
      "\n",
      "\n",
      "원문 : china friday threatened impose import tariffs billion worth us goods retaliation tariffs imposed goods us tariffs would target us goods range chinese commerce ministry said imposing tariffs subject actions us \n",
      "실제 요약 : china threatens on bn us amid trade war \n",
      "예측 요약 :  china threatens to us\n",
      "\n",
      "\n",
      "원문 : fleet north korean cargo ships laden coal turned back home port china issued official order april directing trading companies refuse comes china made initial announcement february banning imports north korean coal repeated missile tests despite international criticism \n",
      "실제 요약 : north korean ships head home after china rejects \n",
      "예측 요약 :  korea to south korean reports\n",
      "\n",
      "\n",
      "원문 : lender store credit card financial saw market capitalisation jump billion tuesday billionaire warren buffett berkshire hathaway revealed new stake shares lost seven months tuesday gave market capitalisation billion \n",
      "실제 요약 : firm crore as billionaire invests in it \n",
      "예측 요약 :  credit card after world biggest firm\n",
      "\n",
      "\n",
      "원문 : least people killed gunmen attacked government building afghanistan capital kabul monday officials said attack started suicide car bomb blast near building entrance gunmen inside militant group claimed responsibility attack however islamic state taliban carried similar attacks past \n",
      "실제 요약 : killed as attack afghanistan government building \n",
      "예측 요약 :  killed injured in attack on afghan car\n",
      "\n",
      "\n",
      "원문 : activist alleged pakistan intelligence agency isi paid omar known agent crores rupees kulbhushan jadhav iran claiming witnessed kidnapping said jadhav kidnapped iran brought handed isi \n",
      "실제 요약 : pak paid to jadhav from iran activist \n",
      "예측 요약 :  charged with fraud to pak\n",
      "\n",
      "\n",
      "원문 : argentina finance minister warned us president donald trump nationalist trade help economic growth making country economy adding argentina recent anti free trade policies harm good said policies result poverty economy \n",
      "실제 요약 : will not make economy to trump \n",
      "예측 요약 :  trump growth in economy\n",
      "\n",
      "\n",
      "원문 : world federation estimates third world population would annual costs treating ill health caused would top trillion federation smoking two main drivers behind heart attacks worldwide adding could prevent \n",
      "실제 요약 : to cost tn year by report \n",
      "예측 요약 :  world most children\n",
      "\n",
      "\n",
      "원문 : india pakistan wednesday agreed proposal release mentally challenged women elderly prisoners age proposal suggested external affairs minister sushma swaraj pakistani envoy sohail october pakistan said initiatives two countries could road dialogue \n",
      "실제 요약 : india pak to free each other \n",
      "예측 요약 :  pakistan refuses to allow pakistan to\n",
      "\n",
      "\n",
      "원문 : ipl auction expensive indian player bought crore rajasthan royals released team ahead ipl auction year old left arm fast bowler took wickets matches average last season rajasthan royals retained steve smith banned ipl \n",
      "실제 요약 : indian in ipl auction at crore released by \n",
      "예측 요약 :  ipl auction sold for cr in ipl\n",
      "\n",
      "\n",
      "원문 : delta air lines select seats employee farewell tour last boeing aircraft retired december customers bid seats using delta delta presently us passenger airline operating boeing aircraft reportedly fallen use favour fuel efficient planes \n",
      "실제 요약 : seats on its final flight \n",
      "예측 요약 :  air force jet airways air force\n",
      "\n",
      "\n",
      "원문 : albert einstein death april researcher thomas harvey removed brain without prior permission autopsy einstein family learned next day new york times later gave approval conduct research canadian study claimed einstein brain part associated ability \n",
      "실제 요약 : brain was stolen after death for \n",
      "예측 요약 :  killed in death by\n",
      "\n",
      "\n",
      "원문 : apple wednesday unveiled latest watch series detect user falls calls emergency services movement minute watch also take crown within seconds electrical heart sensor new watch larger display speaker \n",
      "실제 요약 : apple watch series can users fall take \n",
      "예측 요약 :  apple unveils smart that\n",
      "\n",
      "\n",
      "원문 : election rajya sabha members representation means single vote candidate requires minimum quota votes elected vote transferred one candidate another either candidate votes quota race winning seat \n",
      "실제 요약 : do elections to the rajya sabha take place \n",
      "예측 요약 :  ec to vote in presidential polls\n",
      "\n",
      "\n",
      "원문 : french government announced country end sales petrol diesel vehicles part plan meet targets paris climate accord adding move revolution officials said would tough objective france industry well equipped make switch \n",
      "실제 요약 : ban sales of petrol and diesel cars by \n",
      "예측 요약 :  france to launch diesel cars by\n",
      "\n",
      "\n",
      "원문 : announcing decision iran nuclear deal us president donald trump friday called iran regime accusing iran terrorism trump said iran regime responsible killing hundreds us citizens called full review nuclear deal vowed contain iran nuclear programme \n",
      "실제 요약 : us president trump calls iran \n",
      "예측 요약 :  iran iran calls trump iran nuclear\n",
      "\n",
      "\n",
      "원문 : bcci exploring ways avoid india pakistan nine team test league recently approved possible play team problem series india pakistan something affects international cricket bcci secretary said comes ahead bcci special general meeting december \n",
      "실제 요약 : avoid india pakistan match up in test league \n",
      "예측 요약 :  bcci to play pakistan pakistan\n",
      "\n",
      "\n",
      "원문 : man smashed car security reached runway france lyon airport monday arrested runway temporarily closed nearly police cars motorcycles helicopter joined chase driver abandoned car tried flee foot surrounded officers arrested \n",
      "실제 요약 : driver through at airport \n",
      "예측 요약 :  man car catches fire at delhi airport\n",
      "\n",
      "\n",
      "원문 : iit lifted restrictions girls bringing rules par boys students demanding long decided away restrictions like boys girls also step around campus round clock director ak said \n",
      "실제 요약 : iit at for girls \n",
      "예측 요약 :  iit iit to sleep with girls\n",
      "\n",
      "\n",
      "원문 : shahid kapoor speaking time bollywood said fair compare shah rukh khan worst thing happen compared big star added however shahid said comfortable today \n",
      "실제 요약 : new it was to me to srk shahid \n",
      "예측 요약 :  is not an of being not shahid\n",
      "\n",
      "\n",
      "원문 : future group back world shorts day april introduced hashtag encouraging everyone wear shorts bring self register shop largest collection shorts starting big store three lucky win free trip thailand \n",
      "실제 요약 : group is back with world day on april \n",
      "예측 요약 :  world champ to host at\n",
      "\n",
      "\n",
      "원문 : us judge dismissed lawsuit alleged google violated state law using facial recognition technology google photos collect users biometric data without permission judge supported dismissal citing lack concrete injuries state law requires companies obtain permission people make biometric bodies \n",
      "실제 요약 : us judge dismisses face tech against google \n",
      "예측 요약 :  google court orders google to lawsuit\n",
      "\n",
      "\n",
      "원문 : high school student asked actress emma stone date claimed sent letter responding proposal london working hope best time read letter said wrote lyrics film opening song video \n",
      "실제 요약 : stone responds to teen proposal reports \n",
      "예측 요약 :  school fired for asking him to stop\n",
      "\n",
      "\n"
     ]
    }
   ],
   "source": [
    "for i in range(50, 100):\n",
    "    print(\"원문 :\", seq2text(encoder_input_test[i]))\n",
    "    print(\"실제 요약 :\", seq2summary(decoder_input_test[i]))\n",
    "    print(\"예측 요약 :\", decode_sequence(encoder_input_test[i].reshape(1, text_max_len)))\n",
    "    print(\"\\n\")"
   ]
  },
  {
   "cell_type": "markdown",
   "metadata": {},
   "source": [
    "몇몇 요약은 비슷한 모습을 보이고 그렇지 못한 요약도 꽤 있어보인다. 이를 해결하는 방법으로는 <strong>어텐션의 조합을 개선</strong>하거나, <strong>빔 서치</strong>, <strong>사전 훈련이 되어있는 워드 임베딩</strong>, 인코더와 디코더의 구조를 새롭게 변경하는 <strong>트랜스포머</strong>와 같은 방안이 존재한다."
   ]
  },
  {
   "cell_type": "markdown",
   "metadata": {},
   "source": [
    "### 추출적 요약(summa)"
   ]
  },
  {
   "cell_type": "markdown",
   "metadata": {},
   "source": [
    "Summa 패키지의 summarize메서드를 사용하면, 추출적 요약을 손 쉽게 사용할 수 있다.  \n",
    "summarize 메서드에 들어가는 인자는 다음과 같다.  \n",
    "><strong>text</strong> - 요약하고자 하는 텍스트.  \n",
    " <strong>ratio</strong> - float형태로 원본에서 뽑아낼 문장의 비율이다. 0과 1사이의 값이 들어간다.  \n",
    " <strong>words</strong> - 선택적 인수로 int를 넣거나 안넣어도 된다.ratio와 함께 사용한다면 ratio는 무시한다.  \n",
    " <strong>split</strong> - bool 타입을 넣어주거나 안넣어줘도 된다. True일 경우에는 list형태로 반환한다."
   ]
  },
  {
   "cell_type": "code",
   "execution_count": 51,
   "metadata": {},
   "outputs": [],
   "source": [
    "import requests\n",
    "from summa.summarizer import summarize"
   ]
  },
  {
   "cell_type": "code",
   "execution_count": 108,
   "metadata": {},
   "outputs": [],
   "source": [
    "text = data['text'][5]"
   ]
  },
  {
   "cell_type": "code",
   "execution_count": 109,
   "metadata": {},
   "outputs": [
    {
     "data": {
      "text/plain": [
       "'pakistani singer rahat fateh ali khan denied receiving notice enforcement directorate allegedly smuggling foreign currency india would better authorities would served notice first publicised reads press release issued behalf rahat statement called allegation bizarre'"
      ]
     },
     "execution_count": 109,
     "metadata": {},
     "output_type": "execute_result"
    }
   ],
   "source": [
    "text"
   ]
  },
  {
   "cell_type": "code",
   "execution_count": 110,
   "metadata": {},
   "outputs": [
    {
     "name": "stdout",
     "output_type": "stream",
     "text": [
      "Summary:\n",
      "\n"
     ]
    }
   ],
   "source": [
    "print('Summary:')\n",
    "print(summarize(text, ratio=0.01))"
   ]
  },
  {
   "cell_type": "markdown",
   "metadata": {},
   "source": [
    "테스트의 결과를 리스트로 받고싶다면 split 옵션을 True로 변경한다."
   ]
  },
  {
   "cell_type": "code",
   "execution_count": 111,
   "metadata": {},
   "outputs": [
    {
     "name": "stdout",
     "output_type": "stream",
     "text": [
      "Summary:\n",
      "[]\n"
     ]
    }
   ],
   "source": [
    "print('Summary:')\n",
    "print(summarize(text, ratio=30, split=True))"
   ]
  },
  {
   "cell_type": "markdown",
   "metadata": {},
   "source": [
    "또한 단어 수로 요약문의 크기를 정해줄 수 있다."
   ]
  },
  {
   "cell_type": "code",
   "execution_count": 112,
   "metadata": {},
   "outputs": [
    {
     "name": "stdout",
     "output_type": "stream",
     "text": [
      "Summary:\n",
      "\n"
     ]
    }
   ],
   "source": [
    "print('Summary:')\n",
    "print(summarize(text, words=5))"
   ]
  },
  {
   "cell_type": "markdown",
   "metadata": {},
   "source": [
    "## 회고  \n",
    "summa가 사용되지 않았다. 처음 text로써 data['text']로 그대로 넣어줬는데 , 넣어준 값이 object 타입이라서 사용되지 않았고, 따로 하나씩 추출해주니 String형태로 나와서 사용하려고 했는데, 오류는 따로 뜨지 않고 summary 값만 나오지 않아서 당장에 해결 방법은 찾지 못해서 아쉬웠다. 추상적 요약은 상당히 흥미로웠다. 굉장히 근접한 요약을 이끌어내지는 못했지만, 오히려 모델에서 새로운 표현을 한다는 것이 놀라웠다. 다시 다듬어야 할 프로젝트지만, 굉장히 흥미로운 프로젝트였다."
   ]
  }
 ],
 "metadata": {
  "kernelspec": {
   "display_name": "aiffel",
   "language": "python",
   "name": "aiffel"
  },
  "language_info": {
   "codemirror_mode": {
    "name": "ipython",
    "version": 3
   },
   "file_extension": ".py",
   "mimetype": "text/x-python",
   "name": "python",
   "nbconvert_exporter": "python",
   "pygments_lexer": "ipython3",
   "version": "3.7.9"
  }
 },
 "nbformat": 4,
 "nbformat_minor": 4
}
