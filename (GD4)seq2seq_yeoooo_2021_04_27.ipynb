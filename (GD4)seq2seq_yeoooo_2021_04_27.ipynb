{
 "cells": [
  {
   "cell_type": "markdown",
   "metadata": {},
   "source": [
    "## seq2seq 한영번역"
   ]
  },
  {
   "cell_type": "code",
   "execution_count": 1,
   "metadata": {},
   "outputs": [],
   "source": [
    "import matplotlib as mpl\n",
    "import matplotlib.pyplot as plt\n",
    "from collections import Counter\n",
    " \n",
    "%config InlineBackend.figure_format = 'retina'\n",
    " \n",
    "import matplotlib.font_manager as fm\n",
    "fontpath = '/usr/share/fonts/truetype/nanum/NanumBarunGothic.ttf'\n",
    "font = fm.FontProperties(fname=fontpath, size=9)\n",
    "plt.rc('font', family='NanumBarunGothic') \n",
    "mpl.font_manager._rebuild()"
   ]
  },
  {
   "cell_type": "code",
   "execution_count": 2,
   "metadata": {},
   "outputs": [
    {
     "name": "stdout",
     "output_type": "stream",
     "text": [
      "2.2.0\n"
     ]
    }
   ],
   "source": [
    "import tensorflow as tf\n",
    "import numpy as np\n",
    "\n",
    "from sklearn.model_selection import train_test_split\n",
    "\n",
    "import matplotlib.ticker as ticker\n",
    "import matplotlib.pyplot as plt\n",
    "\n",
    "import time\n",
    "import re\n",
    "import os\n",
    "import io\n",
    "\n",
    "print(tf.__version__)"
   ]
  },
  {
   "cell_type": "code",
   "execution_count": 3,
   "metadata": {},
   "outputs": [
    {
     "name": "stdout",
     "output_type": "stream",
     "text": [
      "Data Size: 97123\n",
      "Data Size: 97123\n",
      "Example:\n",
      ">> After keeping the world's most powerful supercomputer to themselves for a year, government researchers showed off the $110 million wonder and said it might help save the world from nuclear war. 세계 에서 가장 강력한 수퍼컴퓨터를 1년 동안이나 독점해 오던 정부의 연구학자들이 이 1억1천만 달러 짜리 경이로운 설비를 공개하며, 이것이 핵전쟁으로부터 세계를 구하는데 도움이 될지도 모른다고 말했다.\n",
      ">> The head of the U.N. weapons inspection team met with an Iraqi delegation in what a Baghdad official called \"useful and fruitful\" discussions on the return of weapons inspectors. 무기 사찰관들의 복귀에 대하여 이라크 측의 한 관리가 \"유익하고 효과적인\" 논의였다고 말한 회합에서 유엔 무기 사찰단장이 이라크 대표단을 만났다.\n",
      ">> \"The issue of it just being a hardware expense is a serious impediment. 하드웨어를 구입하는 비용의 문제가 커다란 장애입니다.\n",
      ">> Most of the people involved in the discussion agree that there is a legitimate area in which the government needs to retain the right to intercept communications. 토의에 참가한 대부분의 사람들은 정부가 통신 내용을 도청할 수 있는 권리를 보유해야 할 필요성이 있는 합법적인 부분도 있다는 데에 동의를 한다.\n",
      ">> He's been known to keep a low profile \"You will never see me at a party,\" he told the Times of London and delights in concocting stories about his life. 그는 눈에 띄지 않게 행동하는 것으로 알려져있다. 그는 영국 시사잡지 타임즈에서 “파티에 잘 참석하지 않는다”며 자신의 생활에 대한 날조된 이야기를 즐기고 있다.\n"
     ]
    }
   ],
   "source": [
    "path_to_file = os.getenv('HOME')+'/aiffel/s2s_translation/korean-english-park.dev.en'\n",
    "with open(path_to_file, \"r\") as f:\n",
    "    raw_en = f.read().splitlines()\n",
    "\n",
    "path_to_file = os.getenv('HOME')+'/aiffel/s2s_translation/korean-english-park.dev.ko'    \n",
    "with open(path_to_file, \"r\") as f:\n",
    "    raw_ko = f.read().splitlines()\n",
    "\n",
    "path_to_file = os.getenv('HOME')+'/aiffel/s2s_translation/korean-english-park.test.en'\n",
    "with open(path_to_file, \"r\") as f:\n",
    "    raw_en += f.read().splitlines()\n",
    "\n",
    "path_to_file = os.getenv('HOME')+'/aiffel/s2s_translation/korean-english-park.test.ko'    \n",
    "with open(path_to_file, \"r\") as f:\n",
    "    raw_ko += f.read().splitlines()\n",
    "    \n",
    "path_to_file = os.getenv('HOME')+'/aiffel/s2s_translation/korean-english-park.train.en'\n",
    "with open(path_to_file, \"r\") as f:\n",
    "    raw_en += f.read().splitlines()\n",
    "\n",
    "path_to_file = os.getenv('HOME')+'/aiffel/s2s_translation/korean-english-park.train.ko'    \n",
    "with open(path_to_file, \"r\") as f:\n",
    "    raw_ko += f.read().splitlines()\n",
    "\n",
    "    \n",
    "    \n",
    "print(\"Data Size:\", len(raw_en))\n",
    "print(\"Data Size:\", len(raw_ko))\n",
    "\n",
    "print(\"Example:\")\n",
    "\n",
    "for sen1,sen2 in zip(raw_en[0:100][::20],raw_ko[0:100][::20]): \n",
    "    print(\">>\", sen1, sen2)"
   ]
  },
  {
   "cell_type": "code",
   "execution_count": 4,
   "metadata": {
    "scrolled": true
   },
   "outputs": [
    {
     "name": "stdout",
     "output_type": "stream",
     "text": [
      "78505\n",
      "78505\n",
      ">> After keeping the world's most powerful supercomputer to themselves for a year, government researchers showed off the $110 million wonder and said it might help save the world from nuclear war. 세계 에서 가장 강력한 수퍼컴퓨터를 1년 동안이나 독점해 오던 정부의 연구학자들이 이 1억1천만 달러 짜리 경이로운 설비를 공개하며, 이것이 핵전쟁으로부터 세계를 구하는데 도움이 될지도 모른다고 말했다.\n",
      ">> The head of the U.N. weapons inspection team met with an Iraqi delegation in what a Baghdad official called \"useful and fruitful\" discussions on the return of weapons inspectors. 무기 사찰관들의 복귀에 대하여 이라크 측의 한 관리가 \"유익하고 효과적인\" 논의였다고 말한 회합에서 유엔 무기 사찰단장이 이라크 대표단을 만났다.\n",
      ">> \"The issue of it just being a hardware expense is a serious impediment. 하드웨어를 구입하는 비용의 문제가 커다란 장애입니다.\n",
      ">> Most of the people involved in the discussion agree that there is a legitimate area in which the government needs to retain the right to intercept communications. 토의에 참가한 대부분의 사람들은 정부가 통신 내용을 도청할 수 있는 권리를 보유해야 할 필요성이 있는 합법적인 부분도 있다는 데에 동의를 한다.\n",
      ">> He's been known to keep a low profile \"You will never see me at a party,\" he told the Times of London and delights in concocting stories about his life. 그는 눈에 띄지 않게 행동하는 것으로 알려져있다. 그는 영국 시사잡지 타임즈에서 “파티에 잘 참석하지 않는다”며 자신의 생활에 대한 날조된 이야기를 즐기고 있다.\n"
     ]
    }
   ],
   "source": [
    "c_raw_en = list(set(raw_en))\n",
    "print(len(c_raw_en))\n",
    "\n",
    "sen_idx = {}\n",
    "cleaned_corpos_en = []\n",
    "cleaned_corpos_ko = []\n",
    "\n",
    "for sen1,sen2 in zip(raw_en,raw_ko): \n",
    "    #print('!')\n",
    "    if sen1 not in sen_idx:\n",
    "        #print('!')\n",
    "        sen_idx[sen1] = 1\n",
    "        cleaned_corpos_en.append(sen1)\n",
    "        cleaned_corpos_ko.append(sen2)\n",
    "\n",
    "print(len(cleaned_corpos_en))\n",
    "        \n",
    "for sen1,sen2 in zip(cleaned_corpos_en[:100:20],cleaned_corpos_ko[:100:20]): \n",
    "    print(\">>\",sen1,sen2)"
   ]
  },
  {
   "cell_type": "code",
   "execution_count": 5,
   "metadata": {},
   "outputs": [],
   "source": [
    "def preprocess_sentence(sentence, s_token=False, e_token=False):\n",
    "    sentence = sentence.lower().strip()\n",
    "\n",
    "    sentence = re.sub(r\"([?.!,])\", r\" \\1 \", sentence)\n",
    "    sentence = re.sub(r'[\" \"]+', \" \", sentence)\n",
    "    sentence = re.sub(r\"[^ㄱ-ㅎㅏ-ㅣ가-힣a-zA-Z?.!,]+\", \" \", sentence)\n",
    "\n",
    "    sentence = sentence.strip()\n",
    "\n",
    "    if s_token:\n",
    "        sentence = '<start> ' + sentence\n",
    "\n",
    "    if e_token:\n",
    "        sentence += ' <end>'\n",
    "    \n",
    "    return sentence"
   ]
  },
  {
   "cell_type": "code",
   "execution_count": 6,
   "metadata": {},
   "outputs": [
    {
     "name": "stdout",
     "output_type": "stream",
     "text": [
      "78505\n",
      "78505\n",
      ">> After keeping the world's most powerful supercomputer to themselves for a year, government researchers showed off the $110 million wonder and said it might help save the world from nuclear war. 세계 에서 가장 강력한 수퍼컴퓨터를 1년 동안이나 독점해 오던 정부의 연구학자들이 이 1억1천만 달러 짜리 경이로운 설비를 공개하며, 이것이 핵전쟁으로부터 세계를 구하는데 도움이 될지도 모른다고 말했다.\n",
      ">> The head of the U.N. weapons inspection team met with an Iraqi delegation in what a Baghdad official called \"useful and fruitful\" discussions on the return of weapons inspectors. 무기 사찰관들의 복귀에 대하여 이라크 측의 한 관리가 \"유익하고 효과적인\" 논의였다고 말한 회합에서 유엔 무기 사찰단장이 이라크 대표단을 만났다.\n",
      ">> \"The issue of it just being a hardware expense is a serious impediment. 하드웨어를 구입하는 비용의 문제가 커다란 장애입니다.\n",
      ">> Most of the people involved in the discussion agree that there is a legitimate area in which the government needs to retain the right to intercept communications. 토의에 참가한 대부분의 사람들은 정부가 통신 내용을 도청할 수 있는 권리를 보유해야 할 필요성이 있는 합법적인 부분도 있다는 데에 동의를 한다.\n",
      ">> He's been known to keep a low profile \"You will never see me at a party,\" he told the Times of London and delights in concocting stories about his life. 그는 눈에 띄지 않게 행동하는 것으로 알려져있다. 그는 영국 시사잡지 타임즈에서 “파티에 잘 참석하지 않는다”며 자신의 생활에 대한 날조된 이야기를 즐기고 있다.\n"
     ]
    }
   ],
   "source": [
    "c_raw_en = list(set(raw_en))\n",
    "print(len(c_raw_en))\n",
    "\n",
    "sen_idx = {}\n",
    "cleaned_corpos_en = []\n",
    "cleaned_corpos_ko = []\n",
    "\n",
    "for sen1,sen2 in zip(raw_en,raw_ko): \n",
    "    #print('!')\n",
    "    if sen1 not in sen_idx:\n",
    "        #print('!')\n",
    "        sen_idx[sen1] = 1\n",
    "        cleaned_corpos_en.append(sen1)\n",
    "        cleaned_corpos_ko.append(sen2)\n",
    "\n",
    "print(len(cleaned_corpos_en))\n",
    "        \n",
    "for sen1,sen2 in zip(cleaned_corpos_en[:100:20],cleaned_corpos_ko[:100:20]): \n",
    "    print(\">>\",sen1,sen2)"
   ]
  },
  {
   "cell_type": "code",
   "execution_count": 7,
   "metadata": {},
   "outputs": [],
   "source": [
    "# using konlpy\n",
    "vocab_size = 10000\n",
    "from konlpy.tag import Mecab\n",
    "tokenizer = Mecab()\n",
    "\n",
    "def tokenize_data(train_data, num_words=vocab_size):\n",
    "    X_train = []\n",
    "    for sentence in train_data:\n",
    "        temp_X = tokenizer.morphs(sentence) # 토큰화\n",
    "        X_train.append(temp_X)\n",
    "    \n",
    "    words = np.concatenate(X_train).tolist()\n",
    "    counter = Counter(words)\n",
    "    counter = counter.most_common(num_words-4)\n",
    "    vocab = ['<PAD>', '<BOS>', '<UNK>', '<UNUSED>'] + [key for key, _ in counter]\n",
    "    # 사전 구성\n",
    "    word_to_index = {word:index for index, word in enumerate(vocab)}\n",
    "\n",
    "    def wordlist_to_indexlist(wordlist):\n",
    "        return [word_to_index[word] if word in word_to_index else word_to_index['<UNK>'] for word in wordlist]\n",
    "    # 변환 text to index\n",
    "    X_train = list(map(wordlist_to_indexlist, X_train))\n",
    "\n",
    "    return X_train, word_to_index"
   ]
  },
  {
   "cell_type": "code",
   "execution_count": 8,
   "metadata": {},
   "outputs": [
    {
     "name": "stdout",
     "output_type": "stream",
     "text": [
      "Korean: 미국 전력회사들처럼 중국의 거대 기업들도 재생에너지에 더 많은 투자를 하고 있다 .\n",
      "English: <start> like their american counterparts , chinese tycoons are increasingly directing their investment into renewable power . <end>\n"
     ]
    }
   ],
   "source": [
    "enc_corpus = []\n",
    "dec_corpus = []\n",
    "\n",
    "#num_examples = 30000\n",
    "\n",
    "for en,ko in zip(cleaned_corpos_en,cleaned_corpos_ko):\n",
    "    enc_corpus.append(preprocess_sentence(ko))\n",
    "    dec_corpus.append(preprocess_sentence(en, s_token=True, e_token=True))\n",
    "\n",
    "print(\"Korean:\", enc_corpus[100])   # go away !\n",
    "print(\"English:\", dec_corpus[100])   # <start> salga de aqu ! <end>"
   ]
  },
  {
   "cell_type": "code",
   "execution_count": 9,
   "metadata": {},
   "outputs": [
    {
     "name": "stdout",
     "output_type": "stream",
     "text": [
      "62034\n",
      "[46, 11, 41, 10, 2351, 2157, 8, 2425, 533, 34, 151, 10, 550, 20, 2352, 9, 1090, 11, 20, 578, 9, 2, 40, 71, 839, 49, 74, 4]\n"
     ]
    }
   ],
   "source": [
    "# len = 40\n",
    "l_enc_corpus = []\n",
    "l_dec_corpus = []\n",
    "\n",
    "enc_tensor, word_to_index = tokenize_data(enc_corpus)\n",
    "\n",
    "# index to text 사전\n",
    "index_to_word = {index:word for word, index in word_to_index.items()}\n",
    "\n",
    "for sen, sen2 in zip(dec_corpus,enc_tensor):\n",
    "    if len(sen.split()) <= 40 and len(sen2) <= 40:\n",
    "        l_enc_corpus.append(sen2)\n",
    "        l_dec_corpus.append(sen)\n",
    "print(len(l_enc_corpus))\n",
    "#l_dec_corpus\n",
    "print(l_enc_corpus[0])"
   ]
  },
  {
   "cell_type": "code",
   "execution_count": 10,
   "metadata": {},
   "outputs": [],
   "source": [
    "def tokenize(corpus):\n",
    "    tokenizer = tf.keras.preprocessing.text.Tokenizer(num_words=vocab_size,filters='')\n",
    "    tokenizer.fit_on_texts(corpus)\n",
    "\n",
    "    tensor = tokenizer.texts_to_sequences(corpus)\n",
    "\n",
    "    tensor = tf.keras.preprocessing.sequence.pad_sequences(tensor, padding='post')\n",
    "\n",
    "    return tensor, tokenizer"
   ]
  },
  {
   "cell_type": "code",
   "execution_count": 11,
   "metadata": {},
   "outputs": [],
   "source": [
    "enc_tensor = tf.keras.preprocessing.sequence.pad_sequences(l_enc_corpus,\n",
    "                                                        value=word_to_index[\"<PAD>\"],                                                            \n",
    "                                                           padding='post')\n",
    "#print(enc_tensor[0])\n",
    "\n",
    "dec_tensor, dec_tokenizer = tokenize(l_dec_corpus)\n",
    "\n",
    "enc_train = enc_tensor\n",
    "dec_train = dec_tensor"
   ]
  },
  {
   "cell_type": "code",
   "execution_count": 12,
   "metadata": {},
   "outputs": [
    {
     "name": "stdout",
     "output_type": "stream",
     "text": [
      "40\n"
     ]
    }
   ],
   "source": [
    "\n",
    "print(len(enc_tensor[0]))"
   ]
  },
  {
   "cell_type": "code",
   "execution_count": 13,
   "metadata": {},
   "outputs": [
    {
     "name": "stdout",
     "output_type": "stream",
     "text": [
      "40\n"
     ]
    }
   ],
   "source": [
    "print(len(dec_tensor[0]))"
   ]
  },
  {
   "cell_type": "code",
   "execution_count": 14,
   "metadata": {},
   "outputs": [],
   "source": [
    "class BahdanauAttention(tf.keras.layers.Layer):\n",
    "    def __init__(self, units):\n",
    "        super(BahdanauAttention, self).__init__()\n",
    "        self.w_dec = tf.keras.layers.Dense(units)\n",
    "        self.w_enc = tf.keras.layers.Dense(units)\n",
    "        self.w_com = tf.keras.layers.Dense(1)\n",
    "    \n",
    "    def call(self, h_enc, h_dec):\n",
    "        # h_enc shape: [batch x length x units]\n",
    "        # h_dec shape: [batch x units]\n",
    "\n",
    "        h_enc = self.w_enc(h_enc)\n",
    "        h_dec = tf.expand_dims(h_dec, 1)\n",
    "        h_dec = self.w_dec(h_dec)\n",
    "\n",
    "        score = self.w_com(tf.nn.tanh(h_dec + h_enc))\n",
    "        \n",
    "        attn = tf.nn.softmax(score, axis=1)\n",
    "\n",
    "        context_vec = attn * h_enc\n",
    "        context_vec = tf.reduce_sum(context_vec, axis=1)\n",
    "\n",
    "        return context_vec, attn"
   ]
  },
  {
   "cell_type": "code",
   "execution_count": 15,
   "metadata": {},
   "outputs": [],
   "source": [
    "class Encoder(tf.keras.Model):\n",
    "    def __init__(self, vocab_size, embedding_dim, enc_units):\n",
    "        super(Encoder, self).__init__()\n",
    "\n",
    "        self.enc_units = enc_units\n",
    "        self.embedding = tf.keras.layers.Embedding(vocab_size, embedding_dim)\n",
    "        self.gru = tf.keras.layers.GRU(enc_units,\n",
    "                                       return_sequences=True)\n",
    "\n",
    "    def call(self, x):\n",
    "        out = self.embedding(x)\n",
    "        out = self.gru(out)\n",
    "\n",
    "        return out"
   ]
  },
  {
   "cell_type": "code",
   "execution_count": 16,
   "metadata": {},
   "outputs": [],
   "source": [
    "class Decoder(tf.keras.Model):\n",
    "    def __init__(self, vocab_size, embedding_dim, dec_units):\n",
    "        super(Decoder, self).__init__()\n",
    "        self.dec_units = dec_units\n",
    "        self.embedding = tf.keras.layers.Embedding(vocab_size, embedding_dim)\n",
    "        self.gru = tf.keras.layers.GRU(dec_units,\n",
    "                                       return_sequences=True,\n",
    "                                       return_state=True)\n",
    "        self.fc = tf.keras.layers.Dense(vocab_size)\n",
    "\n",
    "        self.attention = BahdanauAttention(self.dec_units)\n",
    "\n",
    "    def call(self, x, h_dec, enc_out):\n",
    "        context_vec, attn = self.attention(enc_out, h_dec)\n",
    "\n",
    "        out = self.embedding(x)\n",
    "        out = tf.concat([tf.expand_dims(context_vec, 1), out], axis=-1)\n",
    "\n",
    "        out, h_dec = self.gru(out)\n",
    "        out = tf.reshape(out, (-1, out.shape[2]))\n",
    "        out = self.fc(out)\n",
    "\n",
    "        return out, h_dec, attn"
   ]
  },
  {
   "cell_type": "code",
   "execution_count": 17,
   "metadata": {},
   "outputs": [
    {
     "name": "stdout",
     "output_type": "stream",
     "text": [
      "Encoder Output: (32, 40, 128)\n",
      "(32, 1)\n",
      "(32, 128)\n",
      "(32, 40, 128)\n",
      "Decoder Output: (32, 10001)\n",
      "Decoder Hidden State: (32, 128)\n",
      "Attention: (32, 40, 1)\n"
     ]
    }
   ],
   "source": [
    "\n",
    "# hyperparameter\n",
    "BATCH_SIZE     = 32\n",
    "SRC_VOCAB_SIZE = vocab_size + 1\n",
    "TGT_VOCAB_SIZE = vocab_size + 1\n",
    "\n",
    "units         = 128\n",
    "embedding_dim = 128\n",
    "\n",
    "encoder = Encoder(SRC_VOCAB_SIZE, embedding_dim, units)\n",
    "decoder = Decoder(TGT_VOCAB_SIZE, embedding_dim, units)\n",
    "\n",
    "# sample input\n",
    "sequence_len = 40\n",
    "\n",
    "sample_enc = tf.random.uniform((BATCH_SIZE, sequence_len))\n",
    "sample_output = encoder(sample_enc)\n",
    "\n",
    "print ('Encoder Output:', sample_output.shape)\n",
    "\n",
    "sample_state = tf.random.uniform((BATCH_SIZE, units))\n",
    "\n",
    "print(tf.random.uniform((BATCH_SIZE, 1)).shape)\n",
    "print(sample_state.shape)\n",
    "print(sample_output.shape)\n",
    "\n",
    "sample_logits, h_dec, attn = decoder(tf.random.uniform((BATCH_SIZE, 1)),\n",
    "                                     sample_state, sample_output)\n",
    "\n",
    "print ('Decoder Output:', sample_logits.shape)\n",
    "print ('Decoder Hidden State:', h_dec.shape)\n",
    "print ('Attention:', attn.shape)"
   ]
  },
  {
   "cell_type": "code",
   "execution_count": 18,
   "metadata": {},
   "outputs": [],
   "source": [
    "optimizer = tf.keras.optimizers.Adam()\n",
    "loss_object = tf.keras.losses.SparseCategoricalCrossentropy(\n",
    "    from_logits=True, reduction='none')\n",
    "\n",
    "def loss_function(real, pred):\n",
    "    mask = tf.math.logical_not(tf.math.equal(real, 0))\n",
    "    loss = loss_object(real, pred)\n",
    "    \n",
    "    mask = tf.cast(mask, dtype=loss.dtype)\n",
    "    loss *= mask\n",
    "    \n",
    "    return tf.reduce_mean(loss)"
   ]
  },
  {
   "cell_type": "code",
   "execution_count": 19,
   "metadata": {},
   "outputs": [],
   "source": [
    "\n",
    "@tf.function\n",
    "def train_step(src, tgt, encoder, decoder, optimizer, dec_tok):\n",
    "    bsz = src.shape[0]\n",
    "    loss = 0\n",
    "\n",
    "    with tf.GradientTape() as tape:\n",
    "        enc_out = encoder(src)\n",
    "        h_dec = enc_out[:, -1]\n",
    "        \n",
    "        dec_src = tf.expand_dims([dec_tok.word_index['<start>']] * bsz, 1)\n",
    "\n",
    "        for t in range(1, tgt.shape[1]):\n",
    "            pred, h_dec, _ = decoder(dec_src, h_dec, enc_out)\n",
    "\n",
    "            loss += loss_function(tgt[:, t], pred)\n",
    "            dec_src = tf.expand_dims(tgt[:, t], 1)\n",
    "        \n",
    "    batch_loss = (loss / int(tgt.shape[1]))\n",
    "\n",
    "    variables = encoder.trainable_variables + decoder.trainable_variables\n",
    "    gradients = tape.gradient(loss, variables)\n",
    "    optimizer.apply_gradients(zip(gradients, variables))\n",
    "    \n",
    "    return batch_loss"
   ]
  },
  {
   "cell_type": "code",
   "execution_count": 20,
   "metadata": {},
   "outputs": [
    {
     "name": "stderr",
     "output_type": "stream",
     "text": [
      "Epoch  1: 100%|██████████| 1939/1939 [06:57<00:00,  4.65it/s, Loss 3.5082]  \n",
      "Epoch  2: 100%|██████████| 1939/1939 [05:59<00:00,  5.39it/s, Loss 3.0558]\n",
      "Epoch  3: 100%|██████████| 1939/1939 [06:00<00:00,  5.38it/s, Loss 2.7972]\n",
      "Epoch  4: 100%|██████████| 1939/1939 [05:59<00:00,  5.40it/s, Loss 2.6378]\n",
      "Epoch  5: 100%|██████████| 1939/1939 [05:59<00:00,  5.40it/s, Loss 2.5281]\n",
      "Epoch  6: 100%|██████████| 1939/1939 [05:59<00:00,  5.39it/s, Loss 2.4428]\n",
      "Epoch  7: 100%|██████████| 1939/1939 [05:58<00:00,  5.40it/s, Loss 2.3739]\n",
      "Epoch  8: 100%|██████████| 1939/1939 [05:59<00:00,  5.40it/s, Loss 2.3167]\n",
      "Epoch  9: 100%|██████████| 1939/1939 [05:59<00:00,  5.39it/s, Loss 2.2603]\n",
      "Epoch 10: 100%|██████████| 1939/1939 [05:59<00:00,  5.39it/s, Loss 2.2130]\n",
      "Epoch 11: 100%|██████████| 1939/1939 [05:59<00:00,  5.39it/s, Loss 2.1668]\n",
      "Epoch 12: 100%|██████████| 1939/1939 [05:59<00:00,  5.39it/s, Loss 2.1246]\n",
      "Epoch 13: 100%|██████████| 1939/1939 [06:01<00:00,  5.37it/s, Loss 2.0859]\n",
      "Epoch 14: 100%|██████████| 1939/1939 [06:00<00:00,  5.38it/s, Loss 2.0495]\n",
      "Epoch 15: 100%|██████████| 1939/1939 [06:00<00:00,  5.37it/s, Loss 2.0130]\n",
      "Epoch 16: 100%|██████████| 1939/1939 [06:01<00:00,  5.37it/s, Loss 1.9801]\n",
      "Epoch 17: 100%|██████████| 1939/1939 [06:01<00:00,  5.37it/s, Loss 1.9485]\n",
      "Epoch 18: 100%|██████████| 1939/1939 [06:00<00:00,  5.38it/s, Loss 1.9193]\n",
      "Epoch 19: 100%|██████████| 1939/1939 [06:01<00:00,  5.37it/s, Loss 1.8989]\n",
      "Epoch 20: 100%|██████████| 1939/1939 [06:01<00:00,  5.37it/s, Loss 1.8773]\n",
      "Epoch 21: 100%|██████████| 1939/1939 [06:01<00:00,  5.37it/s, Loss 1.8377]\n",
      "Epoch 22: 100%|██████████| 1939/1939 [06:00<00:00,  5.37it/s, Loss 1.8133]\n",
      "Epoch 23: 100%|██████████| 1939/1939 [06:01<00:00,  5.37it/s, Loss 1.7896]\n",
      "Epoch 24: 100%|██████████| 1939/1939 [06:01<00:00,  5.37it/s, Loss 1.7677]\n",
      "Epoch 25: 100%|██████████| 1939/1939 [06:02<00:00,  5.36it/s, Loss 1.7484]\n",
      "Epoch 26: 100%|██████████| 1939/1939 [06:02<00:00,  5.35it/s, Loss 1.7312]\n",
      "Epoch 27: 100%|██████████| 1939/1939 [06:02<00:00,  5.35it/s, Loss 1.7043]\n",
      "Epoch 28: 100%|██████████| 1939/1939 [06:02<00:00,  5.35it/s, Loss 1.6907]\n",
      "Epoch 29: 100%|██████████| 1939/1939 [06:02<00:00,  5.35it/s, Loss 1.6718]\n",
      "Epoch 30: 100%|██████████| 1939/1939 [06:02<00:00,  5.34it/s, Loss 1.6600]\n"
     ]
    }
   ],
   "source": [
    "@tf.function\n",
    "def eval_step(src, tgt, encoder, decoder, dec_tok):\n",
    "    bsz = src.shape[0]\n",
    "    loss = 0\n",
    "\n",
    "    enc_out = encoder(src)\n",
    "\n",
    "    h_dec = enc_out[:, -1]\n",
    "\n",
    "    dec_src = tf.expand_dims([dec_tok.word_index['<start>']] * bsz, 1)\n",
    "\n",
    "    for t in range(1, tgt.shape[1]):\n",
    "        pred, h_dec, _ = decoder(dec_src, h_dec, enc_out)\n",
    "\n",
    "        loss += loss_function(tgt[:, t], pred)\n",
    "        dec_src = tf.expand_dims(tgt[:, t], 1)\n",
    "\n",
    "    batch_loss = (loss / int(tgt.shape[1]))\n",
    "\n",
    "    return batch_loss\n",
    "\n",
    "\n",
    "# Training Process\n",
    "\n",
    "from tqdm import tqdm\n",
    "import random\n",
    "EPOCHS = 30\n",
    "\n",
    "for epoch in range(EPOCHS):\n",
    "    total_loss = 0\n",
    "\n",
    "    idx_list = list(range(0, enc_train.shape[0], BATCH_SIZE))\n",
    "    random.shuffle(idx_list)\n",
    "    t = tqdm(idx_list)\n",
    "\n",
    "    for (batch, idx) in enumerate(t):\n",
    "        batch_loss = train_step(enc_train[idx:idx+BATCH_SIZE],\n",
    "                                dec_train[idx:idx+BATCH_SIZE],\n",
    "                                encoder,\n",
    "                                decoder,\n",
    "                                optimizer,\n",
    "                                dec_tokenizer)\n",
    "\n",
    "        total_loss += batch_loss\n",
    "\n",
    "        t.set_description_str('Epoch %2d' % (epoch + 1))\n",
    "        t.set_postfix_str('Loss %.4f' % (total_loss.numpy() / (batch + 1)))\n",
    "# validation (노드에서 모든 데이터 셋을 훈련 데이터로 사용하라고 했다. 데이터 양이 부족하기 때문에) 즉 생략\n",
    "#     test_loss = 0\n",
    "\n",
    "#     idx_list = list(range(0, enc_val.shape[0], BATCH_SIZE))\n",
    "#     random.shuffle(idx_list)\n",
    "#     t = tqdm(idx_list)\n",
    "\n",
    "#     for (test_batch, idx) in enumerate(t):\n",
    "#         test_batch_loss = eval_step(enc_val[idx:idx+BATCH_SIZE],\n",
    "#                                     dec_val[idx:idx+BATCH_SIZE],\n",
    "#                                     encoder,\n",
    "#                                     decoder,\n",
    "#                                     dec_tokenizer)\n",
    "\n",
    "#         test_loss += test_batch_loss\n",
    "\n",
    "#         t.set_description_str('Test Epoch %2d' % (epoch + 1))\n",
    "#         t.set_postfix_str('Test Loss %.4f' % (test_loss.numpy() / (test_batch + 1)))"
   ]
  },
  {
   "cell_type": "code",
   "execution_count": 21,
   "metadata": {},
   "outputs": [
    {
     "name": "stderr",
     "output_type": "stream",
     "text": [
      "/home/aiffel-dj16/anaconda3/envs/aiffel/lib/python3.7/site-packages/ipykernel_launcher.py:54: UserWarning: FixedFormatter should only be used together with FixedLocator\n",
      "/home/aiffel-dj16/anaconda3/envs/aiffel/lib/python3.7/site-packages/ipykernel_launcher.py:55: UserWarning: FixedFormatter should only be used together with FixedLocator\n"
     ]
    },
    {
     "name": "stdout",
     "output_type": "stream",
     "text": [
      "Input: 새로운 시간이다 .\n",
      "Predicted translation: new new york cnn . <end> \n"
     ]
    },
    {
     "data": {
      "image/png": "[encoded data removed]",
      "text/plain": [
       "<Figure size 720x720 with 1 Axes>"
      ]
     },
     "metadata": {
      "image/png": {
       "height": 618,
       "width": 330
      },
      "needs_background": "light"
     },
     "output_type": "display_data"
    }
   ],
   "source": [
    "def evaluate(sentence, encoder, decoder):\n",
    "    attention = np.zeros((dec_train.shape[-1], enc_train.shape[-1]))\n",
    "    \n",
    "    sentence = preprocess_sentence(sentence)\n",
    "    inputs = tokenizer.morphs(sentence)\n",
    "    \n",
    "    inputss = []\n",
    "    for s in inputs:\n",
    "        if s not in word_to_index:\n",
    "                inputss.append(word_to_index['<UNK>'])\n",
    "        else: inputss.append(word_to_index[s])\n",
    "    inputs = [inputss]\n",
    "    \n",
    "    inputs = tf.keras.preprocessing.sequence.pad_sequences(inputs,\n",
    "                                                           value=word_to_index[\"<PAD>\"],\n",
    "                                                           maxlen=enc_train.shape[-1],\n",
    "                                                           padding='post')\n",
    "\n",
    "    result = ''\n",
    "    enc_out = encoder(inputs)\n",
    "\n",
    "    dec_hidden = enc_out[:, -1]\n",
    "    dec_input = tf.expand_dims([dec_tokenizer.word_index['<start>']]*1, 0)\n",
    "\n",
    "    \n",
    "    for t in range(dec_train.shape[-1]):\n",
    "        predictions, dec_hidden, attention_weights = decoder(dec_input,\n",
    "                                                             dec_hidden,\n",
    "                                                             enc_out)\n",
    "\n",
    "        attention_weights = tf.reshape(attention_weights, (-1, ))\n",
    "        attention[t] = attention_weights.numpy()\n",
    "\n",
    "        predicted_id = \\\n",
    "        tf.argmax(tf.math.softmax(predictions, axis=-1)[0]).numpy()\n",
    "\n",
    "        result += dec_tokenizer.index_word[predicted_id] + ' '\n",
    "\n",
    "        if dec_tokenizer.index_word[predicted_id] == '<end>':\n",
    "            return result, sentence, attention\n",
    "\n",
    "        dec_input = tf.expand_dims([predicted_id], 0)\n",
    "\n",
    "    return result, sentence, attention\n",
    "\n",
    "\n",
    "def plot_attention(attention, sentence, predicted_sentence):\n",
    "    fig = plt.figure(figsize=(10,10))\n",
    "    ax = fig.add_subplot(1, 1, 1)\n",
    "    ax.matshow(attention, cmap='viridis')\n",
    "\n",
    "    fontdict = {'fontsize': 14}\n",
    "\n",
    "    ax.set_xticklabels([''] + sentence, fontdict=fontdict, rotation=90)\n",
    "    ax.set_yticklabels([''] + predicted_sentence, fontdict=fontdict)\n",
    "\n",
    "    ax.xaxis.set_major_locator(ticker.MultipleLocator(1))\n",
    "    ax.yaxis.set_major_locator(ticker.MultipleLocator(1))\n",
    "\n",
    "    plt.show()\n",
    "\n",
    "\n",
    "def translate(sentence, encoder, decoder):\n",
    "    result, sentence, attention = evaluate(sentence, encoder, decoder)\n",
    "\n",
    "    print('Input: %s' % (sentence))\n",
    "    print('Predicted translation: {}'.format(result))\n",
    "    \n",
    "    attention = attention[:len(result.split()), :len(sentence.split())]\n",
    "    plot_attention(attention, sentence.split(), result.split(' '))\n",
    "\n",
    "\n",
    "str_t = \"새로운 시간이다.\" \n",
    "translate(str_t, encoder, decoder)\n"
   ]
  },
  {
   "cell_type": "code",
   "execution_count": 22,
   "metadata": {
    "scrolled": true
   },
   "outputs": [
    {
     "name": "stdout",
     "output_type": "stream",
     "text": [
      "Input: 일곱 명의 사망자가 발생했다 .\n",
      "Predicted translation: eight deaths , the death toll was killed . <end> \n"
     ]
    },
    {
     "name": "stderr",
     "output_type": "stream",
     "text": [
      "/home/aiffel-dj16/anaconda3/envs/aiffel/lib/python3.7/site-packages/ipykernel_launcher.py:54: UserWarning: FixedFormatter should only be used together with FixedLocator\n",
      "/home/aiffel-dj16/anaconda3/envs/aiffel/lib/python3.7/site-packages/ipykernel_launcher.py:55: UserWarning: FixedFormatter should only be used together with FixedLocator\n"
     ]
    },
    {
     "data": {
      "image/png": "[encoded data removed]",
      "text/plain": [
       "<Figure size 720x720 with 1 Axes>"
      ]
     },
     "metadata": {
      "image/png": {
       "height": 618,
       "width": 336
      },
      "needs_background": "light"
     },
     "output_type": "display_data"
    }
   ],
   "source": [
    "str_t = \"일곱 명의 사망자가 발생했다.\" \n",
    "translate(str_t, encoder, decoder)"
   ]
  },
  {
   "cell_type": "code",
   "execution_count": 23,
   "metadata": {},
   "outputs": [
    {
     "name": "stdout",
     "output_type": "stream",
     "text": [
      "Input: 커피는 필요 없다 .\n",
      "Predicted translation: you can t be a lot of your destination <end> \n"
     ]
    },
    {
     "name": "stderr",
     "output_type": "stream",
     "text": [
      "/home/aiffel-dj16/anaconda3/envs/aiffel/lib/python3.7/site-packages/ipykernel_launcher.py:54: UserWarning: FixedFormatter should only be used together with FixedLocator\n",
      "/home/aiffel-dj16/anaconda3/envs/aiffel/lib/python3.7/site-packages/ipykernel_launcher.py:55: UserWarning: FixedFormatter should only be used together with FixedLocator\n"
     ]
    },
    {
     "data": {
      "image/png": "[encoded data removed]",
      "text/plain": [
       "<Figure size 720x720 with 1 Axes>"
      ]
     },
     "metadata": {
      "image/png": {
       "height": 606,
       "width": 310
      },
      "needs_background": "light"
     },
     "output_type": "display_data"
    }
   ],
   "source": [
    "str_t = \"커피는 필요 없다.\" \n",
    "translate(str_t, encoder, decoder)"
   ]
  },
  {
   "cell_type": "code",
   "execution_count": 24,
   "metadata": {
    "scrolled": true
   },
   "outputs": [
    {
     "name": "stdout",
     "output_type": "stream",
     "text": [
      "Input: 시민들은 도시 속에 산다 .\n",
      "Predicted translation: they are just over the world s most beautiful . <end> \n"
     ]
    },
    {
     "name": "stderr",
     "output_type": "stream",
     "text": [
      "/home/aiffel-dj16/anaconda3/envs/aiffel/lib/python3.7/site-packages/ipykernel_launcher.py:54: UserWarning: FixedFormatter should only be used together with FixedLocator\n",
      "/home/aiffel-dj16/anaconda3/envs/aiffel/lib/python3.7/site-packages/ipykernel_launcher.py:55: UserWarning: FixedFormatter should only be used together with FixedLocator\n"
     ]
    },
    {
     "data": {
      "image/png": "[encoded data removed]",
      "text/plain": [
       "<Figure size 720x720 with 1 Axes>"
      ]
     },
     "metadata": {
      "image/png": {
       "height": 618,
       "width": 325
      },
      "needs_background": "light"
     },
     "output_type": "display_data"
    }
   ],
   "source": [
    "str_t = \"시민들은 도시 속에 산다.\" \n",
    "translate(str_t, encoder, decoder)"
   ]
  },
  {
   "cell_type": "code",
   "execution_count": 25,
   "metadata": {},
   "outputs": [
    {
     "name": "stdout",
     "output_type": "stream",
     "text": [
      "Input: 오바마는 대통령이다 .\n",
      "Predicted translation: obama is a obama campaign . <end> \n"
     ]
    },
    {
     "name": "stderr",
     "output_type": "stream",
     "text": [
      "/home/aiffel-dj16/anaconda3/envs/aiffel/lib/python3.7/site-packages/ipykernel_launcher.py:54: UserWarning: FixedFormatter should only be used together with FixedLocator\n",
      "/home/aiffel-dj16/anaconda3/envs/aiffel/lib/python3.7/site-packages/ipykernel_launcher.py:55: UserWarning: FixedFormatter should only be used together with FixedLocator\n"
     ]
    },
    {
     "data": {
      "image/png": "[encoded data removed]",
      "text/plain": [
       "<Figure size 720x720 with 1 Axes>"
      ]
     },
     "metadata": {
      "image/png": {
       "height": 631,
       "width": 317
      },
      "needs_background": "light"
     },
     "output_type": "display_data"
    }
   ],
   "source": [
    "str_t = \"오바마는 대통령이다.\" \n",
    "translate(str_t, encoder, decoder)"
   ]
  },
  {
   "cell_type": "markdown",
   "metadata": {},
   "source": [
    "결과는 목표단어가 하나 정도 나오는데에 그쳤다. 언어 모델의 구조가 익숙치 않은데에 seq2seq의 개념도 명확히 와닿지 않아서 프로젝트를 진행하는데 꽤 힘이 많이 들었다. 하지만 이 프로젝트를 통해서 현재 번역사이트 및 어플들이 개략적으로 어떻게 돌아가겠구나 하는 생각을 줄 수 있었다."
   ]
  }
 ],
 "metadata": {
  "kernelspec": {
   "display_name": "Python 3",
   "language": "python",
   "name": "python3"
  },
  "language_info": {
   "codemirror_mode": {
    "name": "ipython",
    "version": 3
   },
   "file_extension": ".py",
   "mimetype": "text/x-python",
   "name": "python",
   "nbconvert_exporter": "python",
   "pygments_lexer": "ipython3",
   "version": "3.7.9"
  },
  "toc": {
   "base_numbering": 1,
   "nav_menu": {},
   "number_sections": true,
   "sideBar": true,
   "skip_h1_title": false,
   "title_cell": "Table of Contents",
   "title_sidebar": "Contents",
   "toc_cell": false,
   "toc_position": {},
   "toc_section_display": true,
   "toc_window_display": false
  }
 },
 "nbformat": 4,
 "nbformat_minor": 4
}
