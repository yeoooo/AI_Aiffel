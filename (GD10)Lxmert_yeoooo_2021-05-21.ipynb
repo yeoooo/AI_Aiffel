{
 "cells": [
  {
   "cell_type": "code",
   "execution_count": 1,
   "metadata": {},
   "outputs": [],
   "source": [
    "# 오늘 실습을 위한 작업디렉토리로 이동합니다.\n",
    "!cd ~/aiffel/lxmert\n",
    "\n",
    "from IPython.display import clear_output, Image, display\n",
    "import PIL.Image\n",
    "import io\n",
    "import json\n",
    "import torch\n",
    "import numpy as np\n",
    "from transformers import LxmertForQuestionAnswering, LxmertTokenizer\n",
    "import wget\n",
    "import pickle\n",
    "import os, sys\n",
    "\n",
    "# 추가해준 모듈을 임포트하기 위해 아래 경로를 path에 추가합니다. \n",
    "sys.path.append(os.getenv('HOME')+'/aiffel/lxmert')\n",
    "from processing_image import Preprocess\n",
    "from visualizing_image import SingleImageViz\n",
    "from modeling_frcnn import GeneralizedRCNN\n",
    "from utils import Config\n",
    "import utils"
   ]
  },
  {
   "cell_type": "code",
   "execution_count": 2,
   "metadata": {},
   "outputs": [
    {
     "name": "stdout",
     "output_type": "stream",
     "text": [
      "1600\n",
      "['yolk', 'goal', 'bathroom', 'macaroni', 'umpire', 'toothpick', 'alarm clock', 'ceiling fan', 'photos', 'parrot', 'tail fin', 'birthday cake', 'calculator', 'catcher', 'toilet', 'batter', 'stop sign,stopsign', 'cone', 'microwave,microwave oven', 'skateboard ramp', 'tea', 'dugout', 'products', 'halter', 'kettle', 'kitchen', 'refrigerator,fridge', 'ostrich', 'bathtub', 'blinds']\n"
     ]
    }
   ],
   "source": [
    "# object definition\n",
    "OBJ_URL = \"https://raw.githubusercontent.com/airsplay/py-bottom-up-attention/master/demo/data/genome/1600-400-20/objects_vocab.txt\"\n",
    "objids = utils.get_data(OBJ_URL)\n",
    "print(len(objids))\n",
    "print(objids[:30])"
   ]
  },
  {
   "cell_type": "code",
   "execution_count": 3,
   "metadata": {},
   "outputs": [
    {
     "name": "stdout",
     "output_type": "stream",
     "text": [
      "400\n",
      "['gray,grey', 'multi colored,multi-colored,multicolored', 'double decker,double-decker', 'unmade', 'red', 'camouflage', 'blue', 'white', 'green', 'pink', 'yellow', 'black', 'ivory', 'throwing', 'orange', 'spiky', 'plaid', 'purple', 'soccer', 'brake', 'blonde', 'american', 'flat screen', 'brown', 'wooden', 'performing', 'pulled back', 'windshield', 'bald', 'chocolate']\n"
     ]
    }
   ],
   "source": [
    "# attribute definition\n",
    "ATTR_URL = \"https://raw.githubusercontent.com/airsplay/py-bottom-up-attention/master/demo/data/genome/1600-400-20/attributes_vocab.txt\"\n",
    "attrids = utils.get_data(ATTR_URL)\n",
    "print(len(attrids))\n",
    "print(attrids[:30])"
   ]
  },
  {
   "cell_type": "code",
   "execution_count": 4,
   "metadata": {},
   "outputs": [
    {
     "name": "stdout",
     "output_type": "stream",
     "text": [
      "3129\n",
      "['', 'woods', 'trash can', 'hanging', 'wooden', 'cooking', 'china', 'kids', 'bike rack', 'on phone', 'music', 'travel', 'tulip', 'arrow', 'branch', 'chevron', 'mouth', 'on right', 'rice', 'plate', 'lots', 'nature', 'fruits', 'throwing frisbee', 'blonde', 'life jacket', 'ham', 'hay', 'hat', 'to get to other side']\n"
     ]
    }
   ],
   "source": [
    "# VQA answer definition\n",
    "VQA_URL = \"https://raw.githubusercontent.com/airsplay/lxmert/master/data/vqa/trainval_label2ans.json\"\n",
    "vqa_answers = utils.get_data(VQA_URL)\n",
    "print(len(vqa_answers))\n",
    "print(vqa_answers[:30])"
   ]
  },
  {
   "cell_type": "code",
   "execution_count": 5,
   "metadata": {},
   "outputs": [
    {
     "name": "stdout",
     "output_type": "stream",
     "text": [
      "loading configuration file cache\n"
     ]
    }
   ],
   "source": [
    "# 위 이미지의 URL\n",
    "URL = \"https://metro.co.uk/wp-content/uploads/2015/12/cat.jpg?quality=90&strip=all&zoom=1&resize=644%2C482\"\n",
    "\n",
    "frcnn_cfg = Config.from_pretrained(\"unc-nlp/frcnn-vg-finetuned\")\n",
    "image_preprocess = Preprocess(frcnn_cfg)\n",
    "\n",
    "images, sizes, scales_yx = image_preprocess(URL)"
   ]
  },
  {
   "cell_type": "code",
   "execution_count": 6,
   "metadata": {},
   "outputs": [
    {
     "name": "stdout",
     "output_type": "stream",
     "text": [
      "tensor([[[[-100.9801, -101.3838, -101.9862,  ...,  -96.0043,  -94.7874,\n",
      "            -93.9801],\n",
      "          [ -99.7689, -100.1725, -100.7749,  ...,  -95.1968,  -93.9799,\n",
      "            -93.1726],\n",
      "          [ -97.9801,  -98.3838,  -98.9862,  ...,  -93.9980,  -92.7848,\n",
      "            -91.9801],\n",
      "          ...,\n",
      "          [ -78.9926,  -79.8074,  -80.9809,  ...,  -86.9432,  -86.9552,\n",
      "            -86.9552],\n",
      "          [ -78.9801,  -79.7874,  -80.9497,  ...,  -86.9680,  -86.9801,\n",
      "            -86.9801],\n",
      "          [ -78.9801,  -79.7874,  -80.9497,  ...,  -86.9680,  -86.9801,\n",
      "            -86.9801]],\n",
      "\n",
      "         [[-111.9465, -112.3502, -112.9526,  ..., -106.9707, -105.7538,\n",
      "           -104.9465],\n",
      "          [-110.7353, -111.1389, -111.7413,  ..., -106.1632, -104.9463,\n",
      "           -104.1390],\n",
      "          [-108.9465, -109.3502, -109.9526,  ..., -104.9644, -103.7512,\n",
      "           -102.9465],\n",
      "          ...,\n",
      "          [ -53.9590,  -54.3727,  -54.9656,  ...,  -83.8975,  -85.1181,\n",
      "            -85.9278],\n",
      "          [ -53.9465,  -54.3502,  -54.9283,  ...,  -83.9223,  -85.1393,\n",
      "            -85.9465],\n",
      "          [ -53.9465,  -54.3502,  -54.9283,  ...,  -83.9223,  -85.1393,\n",
      "            -85.9465]],\n",
      "\n",
      "         [[-117.7717, -118.1753, -118.7778,  ..., -103.7959, -102.5789,\n",
      "           -101.7717],\n",
      "          [-116.5604, -116.9641, -117.5665,  ..., -102.9884, -101.7715,\n",
      "           -100.9642],\n",
      "          [-114.7717, -115.1753, -115.7778,  ..., -101.7896, -100.5764,\n",
      "            -99.7717],\n",
      "          ...,\n",
      "          [ -30.8215,  -32.0375,  -33.8279,  ...,  -78.7225,  -79.9259,\n",
      "            -80.7281],\n",
      "          [ -30.7717,  -31.9826,  -33.7656,  ...,  -78.7536,  -79.9644,\n",
      "            -80.7717],\n",
      "          [ -30.7717,  -31.9826,  -33.7656,  ...,  -78.7536,  -79.9644,\n",
      "            -80.7717]]]])\n",
      "tensor([[ 800, 1069]])\n"
     ]
    }
   ],
   "source": [
    "print(images)\n",
    "print(sizes)"
   ]
  },
  {
   "cell_type": "code",
   "execution_count": 7,
   "metadata": {},
   "outputs": [],
   "source": [
    "test_questions_for_url2 = [\n",
    "    \"Where is the cat?\",\n",
    "    \"What is the color of the table?\",\n",
    "    \"What is the color of the cat?\",\n",
    "    \"What is the cat doing?\",\n",
    "    \n",
    "]"
   ]
  },
  {
   "cell_type": "code",
   "execution_count": 8,
   "metadata": {},
   "outputs": [
    {
     "name": "stdout",
     "output_type": "stream",
     "text": [
      "loading configuration file cache\n",
      "loading weights file https://cdn.huggingface.co/unc-nlp/frcnn-vg-finetuned/pytorch_model.bin from cache at /home/aiffel-dj16/.cache/torch/transformers/57f6df6abe353be2773f2700159c65615babf39ab5b48114d2b49267672ae10f.77b59256a4cf8343ae0f923246a81489fc8d82f98d082edc2d2037c977c0d9d0\n",
      "All model checkpoint weights were used when initializing GeneralizedRCNN.\n",
      "\n",
      "All the weights of GeneralizedRCNN were initialized from the model checkpoint at unc-nlp/frcnn-vg-finetuned.\n",
      "If your task is similar to the task the model of the checkpoint was trained on, you can already use GeneralizedRCNN for predictions without further training.\n"
     ]
    }
   ],
   "source": [
    "frcnn_cfg = Config.from_pretrained(\"unc-nlp/frcnn-vg-finetuned\")\n",
    "\n",
    "frcnn = GeneralizedRCNN.from_pretrained(\"unc-nlp/frcnn-vg-finetuned\", config=frcnn_cfg)"
   ]
  },
  {
   "cell_type": "code",
   "execution_count": 9,
   "metadata": {},
   "outputs": [
    {
     "data": {
      "text/plain": [
       "36"
      ]
     },
     "execution_count": 9,
     "metadata": {},
     "output_type": "execute_result"
    }
   ],
   "source": [
    "frcnn_cfg.max_detections  # object detection 모델이 검출할 최대 object 개수"
   ]
  },
  {
   "cell_type": "code",
   "execution_count": 10,
   "metadata": {},
   "outputs": [],
   "source": [
    "output_dict = frcnn(\n",
    "    images, \n",
    "    sizes, \n",
    "    scales_yx=scales_yx, \n",
    "    padding=\"max_detections\",\n",
    "    max_detections=frcnn_cfg.max_detections,\n",
    "    return_tensors=\"pt\"\n",
    ")"
   ]
  },
  {
   "cell_type": "code",
   "execution_count": 11,
   "metadata": {},
   "outputs": [
    {
     "name": "stdout",
     "output_type": "stream",
     "text": [
      "tensor([[[3.9435e+02, 1.2747e+02, 4.8767e+02, 1.8069e+02],\n",
      "         [2.8427e+02, 1.7946e+02, 3.7146e+02, 2.5653e+02],\n",
      "         [3.1982e+02, 2.7844e+00, 5.6031e+02, 3.9253e+02],\n",
      "         [3.7756e+02, 9.4910e+01, 3.9746e+02, 1.1206e+02],\n",
      "         [3.6532e+02, 2.2697e+00, 6.3964e+02, 4.0377e+02],\n",
      "         [0.0000e+00, 1.3117e+02, 2.7655e+02, 4.6545e+02],\n",
      "         [5.3215e-01, 1.9959e+02, 1.4685e+02, 4.7832e+02],\n",
      "         [8.0157e+00, 1.4992e+02, 5.1165e+02, 4.3606e+02],\n",
      "         [2.6841e+02, 0.0000e+00, 5.7438e+02, 2.5631e+02],\n",
      "         [4.4043e+02, 2.8732e+02, 5.3060e+02, 3.5656e+02],\n",
      "         [0.0000e+00, 2.6975e+02, 3.3258e+02, 4.8200e+02],\n",
      "         [8.3758e+01, 1.9450e+02, 6.0540e+02, 4.8200e+02],\n",
      "         [1.5221e+00, 1.2498e+02, 1.7132e+02, 4.3413e+02],\n",
      "         [2.7592e+02, 3.1221e+01, 5.1777e+02, 4.5917e+02],\n",
      "         [2.2374e+02, 1.2267e+02, 6.4400e+02, 4.3412e+02],\n",
      "         [1.1740e+02, 2.9385e+02, 5.8137e+02, 4.8200e+02],\n",
      "         [3.4208e+02, 1.5488e+01, 4.8427e+02, 1.5728e+02],\n",
      "         [3.3588e+02, 2.6215e+01, 5.0007e+02, 2.1318e+02],\n",
      "         [2.5623e+02, 1.3720e+02, 4.0208e+02, 2.7048e+02],\n",
      "         [2.3421e+02, 2.4395e+02, 6.4400e+02, 4.8109e+02],\n",
      "         [2.3689e+02, 2.2543e+01, 6.3717e+02, 3.2014e+02],\n",
      "         [3.4784e+02, 3.2472e+02, 5.1137e+02, 4.8200e+02],\n",
      "         [1.1614e+02, 1.4671e+02, 4.2542e+02, 4.4841e+02],\n",
      "         [1.7794e+02, 6.5881e+01, 2.9002e+02, 2.3859e+02],\n",
      "         [0.0000e+00, 2.8368e+01, 3.6287e+02, 3.9375e+02],\n",
      "         [2.0002e+02, 3.5084e+02, 6.4114e+02, 4.8200e+02],\n",
      "         [3.4953e+02, 1.4604e+02, 6.4400e+02, 4.8016e+02],\n",
      "         [4.1766e+02, 2.2171e+02, 6.4400e+02, 4.8200e+02],\n",
      "         [9.0494e+01, 1.1394e+02, 5.8411e+02, 4.0372e+02],\n",
      "         [3.5062e+02, 3.2051e+02, 6.4400e+02, 4.8200e+02],\n",
      "         [4.0349e+02, 3.0184e+02, 5.1487e+02, 3.6971e+02],\n",
      "         [1.4885e+02, 3.0362e+01, 4.7664e+02, 3.2550e+02],\n",
      "         [3.1522e+02, 2.0225e+02, 5.5671e+02, 4.8200e+02],\n",
      "         [4.0963e+02, 1.1099e+00, 6.4394e+02, 2.8317e+02],\n",
      "         [1.0313e+02, 6.5049e+00, 4.0690e+02, 2.6576e+02],\n",
      "         [1.1780e+02, 9.7207e+00, 3.3892e+02, 3.4081e+02]]])\n",
      "-------------\n",
      "torch.Size([1, 36, 4])\n"
     ]
    }
   ],
   "source": [
    "print(output_dict.get(\"boxes\"))\n",
    "print('-------------')\n",
    "print(output_dict.get(\"boxes\").shape)"
   ]
  },
  {
   "cell_type": "code",
   "execution_count": 12,
   "metadata": {},
   "outputs": [
    {
     "name": "stdout",
     "output_type": "stream",
     "text": [
      "tensor([[[0.0000, 0.0000, 0.0233,  ..., 0.0000, 0.3959, 0.1714],\n",
      "         [2.8967, 0.0000, 0.1804,  ..., 0.0000, 0.0000, 4.4974],\n",
      "         [0.6888, 0.0000, 0.0892,  ..., 0.0180, 0.0596, 0.9366],\n",
      "         ...,\n",
      "         [1.3622, 0.2027, 0.5071,  ..., 0.0245, 2.5489, 0.0000],\n",
      "         [0.7507, 2.5998, 0.0153,  ..., 0.1879, 1.6932, 1.0203],\n",
      "         [0.2926, 1.3240, 0.0066,  ..., 0.0000, 0.0491, 1.9339]]])\n",
      "-------------\n",
      "torch.Size([1, 36, 2048])\n"
     ]
    }
   ],
   "source": [
    "print(output_dict.get(\"roi_features\"))\n",
    "print('-------------')\n",
    "print(output_dict.get(\"roi_features\").shape)"
   ]
  },
  {
   "cell_type": "code",
   "execution_count": 13,
   "metadata": {},
   "outputs": [
    {
     "data": {
      "image/jpeg": "[encoded data removed]",
      "text/plain": [
       "<IPython.core.display.Image object>"
      ]
     },
     "metadata": {},
     "output_type": "display_data"
    }
   ],
   "source": [
    "# for visualizing output\n",
    "def showarray(a, fmt='jpeg'):\n",
    "    a = np.uint8(np.clip(a, 0, 255))\n",
    "    f = io.BytesIO()\n",
    "    PIL.Image.fromarray(a).save(f, fmt)\n",
    "    display(Image(data=f.getvalue()))\n",
    "\n",
    "#image viz\n",
    "frcnn_visualizer = SingleImageViz(URL, id2obj=objids, id2attr=attrids)\n",
    "\n",
    "frcnn_visualizer.draw_boxes(\n",
    "    output_dict.get(\"boxes\"),\n",
    "    output_dict.pop(\"obj_ids\"),\n",
    "    output_dict.pop(\"obj_probs\"),\n",
    "    output_dict.pop(\"attr_ids\"),\n",
    "    output_dict.pop(\"attr_probs\"),\n",
    ")\n",
    "showarray(frcnn_visualizer._get_buffer())"
   ]
  },
  {
   "cell_type": "code",
   "execution_count": 14,
   "metadata": {},
   "outputs": [],
   "source": [
    "#Very important that the boxes are normalized\n",
    "normalized_boxes = output_dict.get(\"normalized_boxes\")\n",
    "features = output_dict.get(\"roi_features\")"
   ]
  },
  {
   "cell_type": "code",
   "execution_count": 15,
   "metadata": {},
   "outputs": [],
   "source": [
    "lxmert_tokenizer = LxmertTokenizer.from_pretrained(\"unc-nlp/lxmert-base-uncased\")"
   ]
  },
  {
   "cell_type": "code",
   "execution_count": 16,
   "metadata": {},
   "outputs": [],
   "source": [
    "test_question = [\"Where is the cat?\"]\n",
    "\n",
    "inputs = lxmert_tokenizer(\n",
    "    test_question,\n",
    "    padding=\"max_length\",\n",
    "    max_length=20,\n",
    "    truncation=True,\n",
    "    return_token_type_ids=True,\n",
    "    return_attention_mask=True,\n",
    "    add_special_tokens=True,\n",
    "    return_tensors=\"pt\"\n",
    ")"
   ]
  },
  {
   "cell_type": "code",
   "execution_count": 17,
   "metadata": {},
   "outputs": [
    {
     "name": "stdout",
     "output_type": "stream",
     "text": [
      "tensor([[ 101, 2073, 2003, 1996, 4937, 1029,  102,    0,    0,    0,    0,    0,\n",
      "            0,    0,    0,    0,    0,    0,    0,    0]])\n",
      "tensor([[1, 1, 1, 1, 1, 1, 1, 0, 0, 0, 0, 0, 0, 0, 0, 0, 0, 0, 0, 0]])\n"
     ]
    }
   ],
   "source": [
    "print(inputs.input_ids)\n",
    "print(inputs.attention_mask)"
   ]
  },
  {
   "cell_type": "code",
   "execution_count": 18,
   "metadata": {},
   "outputs": [],
   "source": [
    "lxmert_vqa = LxmertForQuestionAnswering.from_pretrained(\"unc-nlp/lxmert-vqa-uncased\")"
   ]
  },
  {
   "cell_type": "code",
   "execution_count": 19,
   "metadata": {},
   "outputs": [
    {
     "data": {
      "text/plain": [
       "LxmertForQuestionAnsweringOutput(loss=None, question_answering_score=tensor([[-2.1149,  0.2203,  3.9159,  ..., -1.4886,  3.3830,  1.3415]],\n",
       "       grad_fn=<AddmmBackward>), language_hidden_states=None, vision_hidden_states=None, language_attentions=None, vision_attentions=None, cross_encoder_attentions=None)"
      ]
     },
     "execution_count": 19,
     "metadata": {},
     "output_type": "execute_result"
    }
   ],
   "source": [
    "output_vqa = lxmert_vqa(\n",
    "    input_ids=inputs.input_ids,\n",
    "    attention_mask=inputs.attention_mask,\n",
    "    visual_feats=features,\n",
    "    visual_pos=normalized_boxes,\n",
    "    token_type_ids=inputs.token_type_ids,\n",
    "    output_attentions=False,\n",
    ")\n",
    "\n",
    "output_vqa"
   ]
  },
  {
   "cell_type": "code",
   "execution_count": 20,
   "metadata": {},
   "outputs": [
    {
     "data": {
      "text/plain": [
       "3129"
      ]
     },
     "execution_count": 20,
     "metadata": {},
     "output_type": "execute_result"
    }
   ],
   "source": [
    "len(output_vqa[\"question_answering_score\"][0])"
   ]
  },
  {
   "cell_type": "code",
   "execution_count": 21,
   "metadata": {},
   "outputs": [
    {
     "data": {
      "text/plain": [
       "tensor([1522])"
      ]
     },
     "execution_count": 21,
     "metadata": {},
     "output_type": "execute_result"
    }
   ],
   "source": [
    "# get prediction\n",
    "pred_vqa = output_vqa[\"question_answering_score\"].argmax(-1)\n",
    "\n",
    "pred_vqa"
   ]
  },
  {
   "cell_type": "code",
   "execution_count": 22,
   "metadata": {},
   "outputs": [
    {
     "data": {
      "text/plain": [
       "'desk'"
      ]
     },
     "execution_count": 22,
     "metadata": {},
     "output_type": "execute_result"
    }
   ],
   "source": [
    "vqa_answers[2534]"
   ]
  },
  {
   "cell_type": "code",
   "execution_count": 23,
   "metadata": {},
   "outputs": [
    {
     "name": "stdout",
     "output_type": "stream",
     "text": [
      "Question: ['Where is the cat?']\n",
      "prediction from LXMERT VQA: on toilet\n"
     ]
    }
   ],
   "source": [
    "print(\"Question:\", test_question)\n",
    "print(\"prediction from LXMERT VQA:\", vqa_answers[pred_vqa])"
   ]
  },
  {
   "cell_type": "code",
   "execution_count": 24,
   "metadata": {},
   "outputs": [
    {
     "name": "stdout",
     "output_type": "stream",
     "text": [
      "Question: ['Where is the cat?']\n",
      "prediction from LXMERT VQA: on toilet\n",
      "Question: ['What is near the disk?']\n",
      "prediction from LXMERT VQA: cat\n",
      "Question: ['What is the color of the table?']\n",
      "prediction from LXMERT VQA: white\n",
      "Question: ['What is the color of the cat?']\n",
      "prediction from LXMERT VQA: gray and white\n",
      "Question: ['What is the shape of the monitor?']\n",
      "prediction from LXMERT VQA: square\n",
      "Question: ['What is the color of the keyboard?']\n",
      "prediction from LXMERT VQA: white\n"
     ]
    }
   ],
   "source": [
    "test_questions_for_url2 = [\n",
    "    \"Where is the cat?\",\n",
    "    \"What is near the disk?\",\n",
    "    \"What is the color of the table?\",\n",
    "    \"What is the color of the cat?\",\n",
    "    \"What is the shape of the monitor?\",\n",
    "    \"What is the color of the keyboard?\",\n",
    "]\n",
    "\n",
    "for test_question in test_questions_for_url2:\n",
    "    # run lxmert\n",
    "    test_question = [test_question]\n",
    "\n",
    "    inputs = lxmert_tokenizer(\n",
    "        test_question,\n",
    "        padding=\"max_length\",\n",
    "        max_length=20,\n",
    "        truncation=True,\n",
    "        return_token_type_ids=True,\n",
    "        return_attention_mask=True,\n",
    "        add_special_tokens=True,\n",
    "        return_tensors=\"pt\"\n",
    "    )\n",
    "\n",
    "    # run lxmert(s)\n",
    "    output_vqa = lxmert_vqa(\n",
    "        input_ids=inputs.input_ids,\n",
    "        attention_mask=inputs.attention_mask,\n",
    "        visual_feats=features,\n",
    "        visual_pos=normalized_boxes,\n",
    "        token_type_ids=inputs.token_type_ids,\n",
    "        output_attentions=False,\n",
    "    )\n",
    "    # get prediction\n",
    "    pred_vqa = output_vqa[\"question_answering_score\"].argmax(-1)\n",
    "    print(\"Question:\", test_question)\n",
    "    print(\"prediction from LXMERT VQA:\", vqa_answers[pred_vqa])"
   ]
  },
  {
   "cell_type": "code",
   "execution_count": 25,
   "metadata": {},
   "outputs": [
    {
     "name": "stdout",
     "output_type": "stream",
     "text": [
      "1842\n",
      "['cat food', 'elephant', 'gloves', 'football', 'dock', 'shops', 'water', 'light blue', 'chair', 'players', 'tourist', 'magnet', 'railroad', 'ski lift', 'mirror', 'leggings', 'hurdle', 'shuttle', 'wildflowers', 'flowers', 'cooking pot', 'pipe', 'swan', 'girl', 'celery', 'brown', 'ambulance', 'steps', 'power line', 'asphalt']\n"
     ]
    }
   ],
   "source": [
    "# GQA answer definition\n",
    "GQA_URL = \"https://raw.githubusercontent.com/airsplay/lxmert/master/data/gqa/trainval_label2ans.json\"\n",
    "gqa_answers = utils.get_data(GQA_URL)\n",
    "print(len(gqa_answers))\n",
    "print(gqa_answers[:30])"
   ]
  },
  {
   "cell_type": "code",
   "execution_count": 26,
   "metadata": {},
   "outputs": [],
   "source": [
    "lxmert_gqa = LxmertForQuestionAnswering.from_pretrained(\"unc-nlp/lxmert-gqa-uncased\")"
   ]
  },
  {
   "cell_type": "code",
   "execution_count": 27,
   "metadata": {},
   "outputs": [
    {
     "data": {
      "text/plain": [
       "LxmertForQuestionAnsweringOutput(loss=None, question_answering_score=tensor([[1.4717, 0.3860, 0.5656,  ..., 0.6695, 0.1517, 2.7863]],\n",
       "       grad_fn=<AddmmBackward>), language_hidden_states=None, vision_hidden_states=None, language_attentions=None, vision_attentions=None, cross_encoder_attentions=None)"
      ]
     },
     "execution_count": 27,
     "metadata": {},
     "output_type": "execute_result"
    }
   ],
   "source": [
    "output_gqa = lxmert_gqa(\n",
    "    input_ids=inputs.input_ids,\n",
    "    attention_mask=inputs.attention_mask,\n",
    "    visual_feats=features,\n",
    "    visual_pos=normalized_boxes,\n",
    "    token_type_ids=inputs.token_type_ids,\n",
    "    output_attentions=False,\n",
    ")\n",
    "\n",
    "output_gqa"
   ]
  },
  {
   "cell_type": "code",
   "execution_count": 28,
   "metadata": {},
   "outputs": [
    {
     "data": {
      "text/plain": [
       "1842"
      ]
     },
     "execution_count": 28,
     "metadata": {},
     "output_type": "execute_result"
    }
   ],
   "source": [
    "len(output_gqa[\"question_answering_score\"][0])"
   ]
  },
  {
   "cell_type": "code",
   "execution_count": 29,
   "metadata": {},
   "outputs": [
    {
     "data": {
      "text/plain": [
       "tensor([549])"
      ]
     },
     "execution_count": 29,
     "metadata": {},
     "output_type": "execute_result"
    }
   ],
   "source": [
    "# get prediction\n",
    "pred_gqa = output_gqa[\"question_answering_score\"].argmax(-1)\n",
    "\n",
    "pred_gqa"
   ]
  },
  {
   "cell_type": "code",
   "execution_count": 30,
   "metadata": {},
   "outputs": [
    {
     "data": {
      "text/plain": [
       "'white'"
      ]
     },
     "execution_count": 30,
     "metadata": {},
     "output_type": "execute_result"
    }
   ],
   "source": [
    "gqa_answers[549]"
   ]
  },
  {
   "cell_type": "code",
   "execution_count": 31,
   "metadata": {},
   "outputs": [
    {
     "name": "stdout",
     "output_type": "stream",
     "text": [
      "Question: ['What is the color of the keyboard?']\n",
      "prediction from LXMERT VQA: white\n"
     ]
    }
   ],
   "source": [
    "print(\"Question:\", test_question)\n",
    "print(\"prediction from LXMERT VQA:\", gqa_answers[pred_gqa])"
   ]
  },
  {
   "cell_type": "code",
   "execution_count": 32,
   "metadata": {},
   "outputs": [
    {
     "name": "stdout",
     "output_type": "stream",
     "text": [
      "Question: ['Where is the cat?']\n",
      "prediction from LXMERT VQA: floor\n",
      "Question: ['What is near the disk?']\n",
      "prediction from LXMERT VQA: keyboard\n",
      "Question: ['What is the color of the table?']\n",
      "prediction from LXMERT VQA: gray\n",
      "Question: ['What is the color of the cat?']\n",
      "prediction from LXMERT VQA: gray\n",
      "Question: ['What is the shape of the monitor?']\n",
      "prediction from LXMERT VQA: rectangular\n",
      "Question: ['What is the color of the keyboard?']\n",
      "prediction from LXMERT VQA: white\n"
     ]
    }
   ],
   "source": [
    "test_questions_for_url2 = [\n",
    "    \"Where is the cat?\",\n",
    "    \"What is near the disk?\",\n",
    "    \"What is the color of the table?\",\n",
    "    \"What is the color of the cat?\",\n",
    "    \"What is the shape of the monitor?\",\n",
    "    \"What is the color of the keyboard?\",\n",
    "]\n",
    "\n",
    "for test_question in test_questions_for_url2:\n",
    "    # run lxmert\n",
    "    test_question = [test_question]\n",
    "\n",
    "    inputs = lxmert_tokenizer(\n",
    "        test_question,\n",
    "        padding=\"max_length\",\n",
    "        max_length=20,\n",
    "        truncation=True,\n",
    "        return_token_type_ids=True,\n",
    "        return_attention_mask=True,\n",
    "        add_special_tokens=True,\n",
    "        return_tensors=\"pt\"\n",
    "    )\n",
    "\n",
    "    # run lxmert(s)\n",
    "    output_gqa = lxmert_gqa(\n",
    "        input_ids=inputs.input_ids,\n",
    "        attention_mask=inputs.attention_mask,\n",
    "        visual_feats=features,\n",
    "        visual_pos=normalized_boxes,\n",
    "        token_type_ids=inputs.token_type_ids,\n",
    "        output_attentions=False,\n",
    "    )\n",
    "    # get prediction\n",
    "    pred_gqa = output_gqa[\"question_answering_score\"].argmax(-1)\n",
    "    print(\"Question:\", test_question)\n",
    "    print(\"prediction from LXMERT VQA:\", gqa_answers[pred_gqa])"
   ]
  },
  {
   "cell_type": "code",
   "execution_count": 33,
   "metadata": {},
   "outputs": [
    {
     "name": "stdout",
     "output_type": "stream",
     "text": [
      "loading configuration file cache\n"
     ]
    }
   ],
   "source": [
    "# 위 이미지의 URL\n",
    "URL = \"https://metro.co.uk/wp-content/uploads/2015/12/cat.jpg?quality=90&strip=all&zoom=1&resize=644%2C482\"#https://raw.githubusercontent.com/airsplay/py-bottom-up-attention/master/demo/data/images/input.jpg\"\n",
    "\n",
    "frcnn_cfg = Config.from_pretrained(\"unc-nlp/frcnn-vg-finetuned\")\n",
    "image_preprocess = Preprocess(frcnn_cfg)\n",
    "\n",
    "images, sizes, scales_yx = image_preprocess(URL)"
   ]
  },
  {
   "cell_type": "code",
   "execution_count": 34,
   "metadata": {},
   "outputs": [
    {
     "name": "stdout",
     "output_type": "stream",
     "text": [
      "tensor([[[[-100.9801, -101.3838, -101.9862,  ...,  -96.0043,  -94.7874,\n",
      "            -93.9801],\n",
      "          [ -99.7689, -100.1725, -100.7749,  ...,  -95.1968,  -93.9799,\n",
      "            -93.1726],\n",
      "          [ -97.9801,  -98.3838,  -98.9862,  ...,  -93.9980,  -92.7848,\n",
      "            -91.9801],\n",
      "          ...,\n",
      "          [ -78.9926,  -79.8074,  -80.9809,  ...,  -86.9432,  -86.9552,\n",
      "            -86.9552],\n",
      "          [ -78.9801,  -79.7874,  -80.9497,  ...,  -86.9680,  -86.9801,\n",
      "            -86.9801],\n",
      "          [ -78.9801,  -79.7874,  -80.9497,  ...,  -86.9680,  -86.9801,\n",
      "            -86.9801]],\n",
      "\n",
      "         [[-111.9465, -112.3502, -112.9526,  ..., -106.9707, -105.7538,\n",
      "           -104.9465],\n",
      "          [-110.7353, -111.1389, -111.7413,  ..., -106.1632, -104.9463,\n",
      "           -104.1390],\n",
      "          [-108.9465, -109.3502, -109.9526,  ..., -104.9644, -103.7512,\n",
      "           -102.9465],\n",
      "          ...,\n",
      "          [ -53.9590,  -54.3727,  -54.9656,  ...,  -83.8975,  -85.1181,\n",
      "            -85.9278],\n",
      "          [ -53.9465,  -54.3502,  -54.9283,  ...,  -83.9223,  -85.1393,\n",
      "            -85.9465],\n",
      "          [ -53.9465,  -54.3502,  -54.9283,  ...,  -83.9223,  -85.1393,\n",
      "            -85.9465]],\n",
      "\n",
      "         [[-117.7717, -118.1753, -118.7778,  ..., -103.7959, -102.5789,\n",
      "           -101.7717],\n",
      "          [-116.5604, -116.9641, -117.5665,  ..., -102.9884, -101.7715,\n",
      "           -100.9642],\n",
      "          [-114.7717, -115.1753, -115.7778,  ..., -101.7896, -100.5764,\n",
      "            -99.7717],\n",
      "          ...,\n",
      "          [ -30.8215,  -32.0375,  -33.8279,  ...,  -78.7225,  -79.9259,\n",
      "            -80.7281],\n",
      "          [ -30.7717,  -31.9826,  -33.7656,  ...,  -78.7536,  -79.9644,\n",
      "            -80.7717],\n",
      "          [ -30.7717,  -31.9826,  -33.7656,  ...,  -78.7536,  -79.9644,\n",
      "            -80.7717]]]])\n",
      "tensor([[ 800, 1069]])\n"
     ]
    }
   ],
   "source": [
    "print(images)\n",
    "print(sizes)"
   ]
  },
  {
   "cell_type": "code",
   "execution_count": 35,
   "metadata": {},
   "outputs": [],
   "source": [
    "test_questions_for_url = [\n",
    "    \"Where is this scene?\",\n",
    "    \"what is in the the man's hand?\",\n",
    "    \"What's the color of his shoes?\"\n",
    "]"
   ]
  },
  {
   "cell_type": "code",
   "execution_count": 36,
   "metadata": {},
   "outputs": [
    {
     "name": "stdout",
     "output_type": "stream",
     "text": [
      "loading configuration file cache\n",
      "loading weights file https://cdn.huggingface.co/unc-nlp/frcnn-vg-finetuned/pytorch_model.bin from cache at /home/aiffel-dj16/.cache/torch/transformers/57f6df6abe353be2773f2700159c65615babf39ab5b48114d2b49267672ae10f.77b59256a4cf8343ae0f923246a81489fc8d82f98d082edc2d2037c977c0d9d0\n",
      "All model checkpoint weights were used when initializing GeneralizedRCNN.\n",
      "\n",
      "All the weights of GeneralizedRCNN were initialized from the model checkpoint at unc-nlp/frcnn-vg-finetuned.\n",
      "If your task is similar to the task the model of the checkpoint was trained on, you can already use GeneralizedRCNN for predictions without further training.\n"
     ]
    }
   ],
   "source": [
    "frcnn_cfg = Config.from_pretrained(\"unc-nlp/frcnn-vg-finetuned\")\n",
    "\n",
    "frcnn = GeneralizedRCNN.from_pretrained(\"unc-nlp/frcnn-vg-finetuned\", config=frcnn_cfg)"
   ]
  },
  {
   "cell_type": "code",
   "execution_count": 37,
   "metadata": {},
   "outputs": [
    {
     "data": {
      "text/plain": [
       "36"
      ]
     },
     "execution_count": 37,
     "metadata": {},
     "output_type": "execute_result"
    }
   ],
   "source": [
    "frcnn_cfg.max_detections  # object detection 모델이 검출할 최대 object 개수"
   ]
  },
  {
   "cell_type": "code",
   "execution_count": 38,
   "metadata": {},
   "outputs": [],
   "source": [
    "output_dict = frcnn(\n",
    "    images, \n",
    "    sizes, \n",
    "    scales_yx=scales_yx, \n",
    "    padding=\"max_detections\",\n",
    "    max_detections=frcnn_cfg.max_detections,\n",
    "    return_tensors=\"pt\"\n",
    ")"
   ]
  },
  {
   "cell_type": "code",
   "execution_count": 39,
   "metadata": {},
   "outputs": [
    {
     "name": "stdout",
     "output_type": "stream",
     "text": [
      "tensor([[[3.9435e+02, 1.2747e+02, 4.8767e+02, 1.8069e+02],\n",
      "         [2.8427e+02, 1.7946e+02, 3.7146e+02, 2.5653e+02],\n",
      "         [3.1982e+02, 2.7844e+00, 5.6031e+02, 3.9253e+02],\n",
      "         [3.7756e+02, 9.4910e+01, 3.9746e+02, 1.1206e+02],\n",
      "         [3.6532e+02, 2.2697e+00, 6.3964e+02, 4.0377e+02],\n",
      "         [0.0000e+00, 1.3117e+02, 2.7655e+02, 4.6545e+02],\n",
      "         [5.3215e-01, 1.9959e+02, 1.4685e+02, 4.7832e+02],\n",
      "         [8.0157e+00, 1.4992e+02, 5.1165e+02, 4.3606e+02],\n",
      "         [2.6841e+02, 0.0000e+00, 5.7438e+02, 2.5631e+02],\n",
      "         [4.4043e+02, 2.8732e+02, 5.3060e+02, 3.5656e+02],\n",
      "         [0.0000e+00, 2.6975e+02, 3.3258e+02, 4.8200e+02],\n",
      "         [8.3758e+01, 1.9450e+02, 6.0540e+02, 4.8200e+02],\n",
      "         [1.5221e+00, 1.2498e+02, 1.7132e+02, 4.3413e+02],\n",
      "         [2.7592e+02, 3.1221e+01, 5.1777e+02, 4.5917e+02],\n",
      "         [2.2374e+02, 1.2267e+02, 6.4400e+02, 4.3412e+02],\n",
      "         [1.1740e+02, 2.9385e+02, 5.8137e+02, 4.8200e+02],\n",
      "         [3.4208e+02, 1.5488e+01, 4.8427e+02, 1.5728e+02],\n",
      "         [3.3588e+02, 2.6215e+01, 5.0007e+02, 2.1318e+02],\n",
      "         [2.5623e+02, 1.3720e+02, 4.0208e+02, 2.7048e+02],\n",
      "         [2.3421e+02, 2.4395e+02, 6.4400e+02, 4.8109e+02],\n",
      "         [2.3689e+02, 2.2543e+01, 6.3717e+02, 3.2014e+02],\n",
      "         [3.4784e+02, 3.2472e+02, 5.1137e+02, 4.8200e+02],\n",
      "         [1.1614e+02, 1.4671e+02, 4.2542e+02, 4.4841e+02],\n",
      "         [1.7794e+02, 6.5881e+01, 2.9002e+02, 2.3859e+02],\n",
      "         [0.0000e+00, 2.8368e+01, 3.6287e+02, 3.9375e+02],\n",
      "         [2.0002e+02, 3.5084e+02, 6.4114e+02, 4.8200e+02],\n",
      "         [3.4953e+02, 1.4604e+02, 6.4400e+02, 4.8016e+02],\n",
      "         [4.1766e+02, 2.2171e+02, 6.4400e+02, 4.8200e+02],\n",
      "         [9.0494e+01, 1.1394e+02, 5.8411e+02, 4.0372e+02],\n",
      "         [3.5062e+02, 3.2051e+02, 6.4400e+02, 4.8200e+02],\n",
      "         [4.0349e+02, 3.0184e+02, 5.1487e+02, 3.6971e+02],\n",
      "         [1.4885e+02, 3.0362e+01, 4.7664e+02, 3.2550e+02],\n",
      "         [3.1522e+02, 2.0225e+02, 5.5671e+02, 4.8200e+02],\n",
      "         [4.0963e+02, 1.1099e+00, 6.4394e+02, 2.8317e+02],\n",
      "         [1.0313e+02, 6.5049e+00, 4.0690e+02, 2.6576e+02],\n",
      "         [1.1780e+02, 9.7207e+00, 3.3892e+02, 3.4081e+02]]])\n",
      "-------------\n",
      "torch.Size([1, 36, 4])\n"
     ]
    }
   ],
   "source": [
    "print(output_dict.get(\"boxes\"))\n",
    "print('-------------')\n",
    "print(output_dict.get(\"boxes\").shape)"
   ]
  },
  {
   "cell_type": "code",
   "execution_count": 40,
   "metadata": {},
   "outputs": [
    {
     "name": "stdout",
     "output_type": "stream",
     "text": [
      "tensor([[[0.0000, 0.0000, 0.0233,  ..., 0.0000, 0.3959, 0.1714],\n",
      "         [2.8967, 0.0000, 0.1804,  ..., 0.0000, 0.0000, 4.4974],\n",
      "         [0.6888, 0.0000, 0.0892,  ..., 0.0180, 0.0596, 0.9366],\n",
      "         ...,\n",
      "         [1.3622, 0.2027, 0.5071,  ..., 0.0245, 2.5489, 0.0000],\n",
      "         [0.7507, 2.5998, 0.0153,  ..., 0.1879, 1.6932, 1.0203],\n",
      "         [0.2926, 1.3240, 0.0066,  ..., 0.0000, 0.0491, 1.9339]]])\n",
      "-------------\n",
      "torch.Size([1, 36, 2048])\n"
     ]
    }
   ],
   "source": [
    "print(output_dict.get(\"roi_features\"))\n",
    "print('-------------')\n",
    "print(output_dict.get(\"roi_features\").shape)"
   ]
  },
  {
   "cell_type": "code",
   "execution_count": 41,
   "metadata": {},
   "outputs": [
    {
     "data": {
      "image/jpeg": "[encoded data removed]",
      "text/plain": [
       "<IPython.core.display.Image object>"
      ]
     },
     "metadata": {},
     "output_type": "display_data"
    }
   ],
   "source": [
    "# for visualizing output\n",
    "def showarray(a, fmt='jpeg'):\n",
    "    a = np.uint8(np.clip(a, 0, 255))\n",
    "    f = io.BytesIO()\n",
    "    PIL.Image.fromarray(a).save(f, fmt)\n",
    "    display(Image(data=f.getvalue()))\n",
    "\n",
    "#image viz\n",
    "frcnn_visualizer = SingleImageViz(URL, id2obj=objids, id2attr=attrids)\n",
    "\n",
    "frcnn_visualizer.draw_boxes(\n",
    "    output_dict.get(\"boxes\"),\n",
    "    output_dict.pop(\"obj_ids\"),\n",
    "    output_dict.pop(\"obj_probs\"),\n",
    "    output_dict.pop(\"attr_ids\"),\n",
    "    output_dict.pop(\"attr_probs\"),\n",
    ")\n",
    "showarray(frcnn_visualizer._get_buffer())\n",
    "\n"
   ]
  },
  {
   "cell_type": "code",
   "execution_count": 42,
   "metadata": {},
   "outputs": [],
   "source": [
    "#Very important that the boxes are normalized\n",
    "normalized_boxes = output_dict.get(\"normalized_boxes\")\n",
    "features = output_dict.get(\"roi_features\")"
   ]
  },
  {
   "cell_type": "code",
   "execution_count": 43,
   "metadata": {},
   "outputs": [],
   "source": [
    "lxmert_tokenizer = LxmertTokenizer.from_pretrained(\"unc-nlp/lxmert-base-uncased\")"
   ]
  },
  {
   "cell_type": "code",
   "execution_count": 44,
   "metadata": {},
   "outputs": [],
   "source": [
    "test_question = [\"where is this place?\"]\n",
    "\n",
    "inputs = lxmert_tokenizer(\n",
    "    test_question,\n",
    "    padding=\"max_length\",\n",
    "    max_length=20,\n",
    "    truncation=True,\n",
    "    return_token_type_ids=True,\n",
    "    return_attention_mask=True,\n",
    "    add_special_tokens=True,\n",
    "    return_tensors=\"pt\"\n",
    ")"
   ]
  },
  {
   "cell_type": "code",
   "execution_count": 45,
   "metadata": {},
   "outputs": [
    {
     "name": "stdout",
     "output_type": "stream",
     "text": [
      "tensor([[ 101, 2073, 2003, 2023, 2173, 1029,  102,    0,    0,    0,    0,    0,\n",
      "            0,    0,    0,    0,    0,    0,    0,    0]])\n",
      "tensor([[1, 1, 1, 1, 1, 1, 1, 0, 0, 0, 0, 0, 0, 0, 0, 0, 0, 0, 0, 0]])\n"
     ]
    }
   ],
   "source": [
    "print(inputs.input_ids)\n",
    "print(inputs.attention_mask)"
   ]
  },
  {
   "cell_type": "code",
   "execution_count": 46,
   "metadata": {},
   "outputs": [],
   "source": [
    "lxmert_vqa = LxmertForQuestionAnswering.from_pretrained(\"unc-nlp/lxmert-vqa-uncased\")"
   ]
  },
  {
   "cell_type": "code",
   "execution_count": 47,
   "metadata": {},
   "outputs": [
    {
     "data": {
      "text/plain": [
       "LxmertForQuestionAnsweringOutput(loss=None, question_answering_score=tensor([[-3.7143,  0.9160,  2.8885,  ..., -0.5961,  0.5837,  1.6188]],\n",
       "       grad_fn=<AddmmBackward>), language_hidden_states=None, vision_hidden_states=None, language_attentions=None, vision_attentions=None, cross_encoder_attentions=None)"
      ]
     },
     "execution_count": 47,
     "metadata": {},
     "output_type": "execute_result"
    }
   ],
   "source": [
    "output_vqa = lxmert_vqa(\n",
    "    input_ids=inputs.input_ids,\n",
    "    attention_mask=inputs.attention_mask,\n",
    "    visual_feats=features,\n",
    "    visual_pos=normalized_boxes,\n",
    "    token_type_ids=inputs.token_type_ids,\n",
    "    output_attentions=False,\n",
    ")\n",
    "\n",
    "output_vqa"
   ]
  },
  {
   "cell_type": "code",
   "execution_count": 48,
   "metadata": {},
   "outputs": [
    {
     "data": {
      "text/plain": [
       "3129"
      ]
     },
     "execution_count": 48,
     "metadata": {},
     "output_type": "execute_result"
    }
   ],
   "source": [
    "len(output_vqa[\"question_answering_score\"][0])"
   ]
  },
  {
   "cell_type": "code",
   "execution_count": 49,
   "metadata": {},
   "outputs": [
    {
     "data": {
      "text/plain": [
       "tensor([2969])"
      ]
     },
     "execution_count": 49,
     "metadata": {},
     "output_type": "execute_result"
    }
   ],
   "source": [
    "# get prediction\n",
    "pred_vqa = output_vqa[\"question_answering_score\"].argmax(-1)\n",
    "\n",
    "pred_vqa"
   ]
  },
  {
   "cell_type": "code",
   "execution_count": 50,
   "metadata": {},
   "outputs": [
    {
     "data": {
      "text/plain": [
       "'baseball field'"
      ]
     },
     "execution_count": 50,
     "metadata": {},
     "output_type": "execute_result"
    }
   ],
   "source": [
    "vqa_answers[2605]"
   ]
  },
  {
   "cell_type": "code",
   "execution_count": 51,
   "metadata": {},
   "outputs": [
    {
     "name": "stdout",
     "output_type": "stream",
     "text": [
      "Question: ['where is this place?']\n",
      "prediction from LXMERT VQA: bathroom\n"
     ]
    }
   ],
   "source": [
    "print(\"Question:\", test_question)\n",
    "print(\"prediction from LXMERT VQA:\", vqa_answers[pred_vqa])"
   ]
  },
  {
   "cell_type": "code",
   "execution_count": 52,
   "metadata": {},
   "outputs": [
    {
     "name": "stdout",
     "output_type": "stream",
     "text": [
      "Question: ['Where is this scene?']\n",
      "prediction from LXMERT VQA: bathroom\n",
      "Question: ['What is in the office?']\n",
      "prediction from LXMERT VQA: cat\n",
      "Question: ['What is it doing?']\n",
      "prediction from LXMERT VQA: sitting\n"
     ]
    }
   ],
   "source": [
    "test_questions_for_url = [\n",
    "    \"Where is this scene?\",\n",
    "    \"What is in the office?\",\n",
    "    \"What is it doing?\"\n",
    "]\n",
    "\n",
    "for test_question in test_questions_for_url:\n",
    "    # run lxmert\n",
    "    test_question = [test_question]\n",
    "\n",
    "    inputs = lxmert_tokenizer(\n",
    "        test_question,\n",
    "        padding=\"max_length\",\n",
    "        max_length=20,\n",
    "        truncation=True,\n",
    "        return_token_type_ids=True,\n",
    "        return_attention_mask=True,\n",
    "        add_special_tokens=True,\n",
    "        return_tensors=\"pt\"\n",
    "    )\n",
    "\n",
    "    # run lxmert(s)\n",
    "    output_vqa = lxmert_vqa(\n",
    "        input_ids=inputs.input_ids,\n",
    "        attention_mask=inputs.attention_mask,\n",
    "        visual_feats=features,\n",
    "        visual_pos=normalized_boxes,\n",
    "        token_type_ids=inputs.token_type_ids,\n",
    "        output_attentions=False,\n",
    "    )\n",
    "    # get prediction\n",
    "    pred_vqa = output_vqa[\"question_answering_score\"].argmax(-1)\n",
    "    print(\"Question:\", test_question)\n",
    "    print(\"prediction from LXMERT VQA:\", vqa_answers[pred_vqa])"
   ]
  },
  {
   "cell_type": "code",
   "execution_count": 53,
   "metadata": {},
   "outputs": [],
   "source": [
    "test_question = [\"where is this place?\"]\n",
    "\n",
    "inputs = lxmert_tokenizer(\n",
    "    test_question,\n",
    "    padding=\"max_length\",\n",
    "    max_length=20,\n",
    "    truncation=True,\n",
    "    return_token_type_ids=True,\n",
    "    return_attention_mask=True,\n",
    "    add_special_tokens=True,\n",
    "    return_tensors=\"pt\"\n",
    ")"
   ]
  },
  {
   "cell_type": "code",
   "execution_count": 54,
   "metadata": {},
   "outputs": [],
   "source": [
    "lxmert_gqa = LxmertForQuestionAnswering.from_pretrained(\"unc-nlp/lxmert-gqa-uncased\")"
   ]
  },
  {
   "cell_type": "code",
   "execution_count": 55,
   "metadata": {},
   "outputs": [
    {
     "data": {
      "text/plain": [
       "LxmertForQuestionAnsweringOutput(loss=None, question_answering_score=tensor([[ 1.7766, -2.3217,  1.7504,  ...,  1.9706,  6.9509,  0.9539]],\n",
       "       grad_fn=<AddmmBackward>), language_hidden_states=None, vision_hidden_states=None, language_attentions=None, vision_attentions=None, cross_encoder_attentions=None)"
      ]
     },
     "execution_count": 55,
     "metadata": {},
     "output_type": "execute_result"
    }
   ],
   "source": [
    "output_gqa = lxmert_gqa(\n",
    "    input_ids=inputs.input_ids,\n",
    "    attention_mask=inputs.attention_mask,\n",
    "    visual_feats=features,\n",
    "    visual_pos=normalized_boxes,\n",
    "    token_type_ids=inputs.token_type_ids,\n",
    "    output_attentions=False,\n",
    ")\n",
    "\n",
    "output_gqa"
   ]
  },
  {
   "cell_type": "code",
   "execution_count": 56,
   "metadata": {},
   "outputs": [
    {
     "data": {
      "text/plain": [
       "tensor([198])"
      ]
     },
     "execution_count": 56,
     "metadata": {},
     "output_type": "execute_result"
    }
   ],
   "source": [
    "# get prediction\n",
    "pred_gqa = output_gqa[\"question_answering_score\"].argmax(-1)\n",
    "\n",
    "pred_gqa"
   ]
  },
  {
   "cell_type": "code",
   "execution_count": 57,
   "metadata": {},
   "outputs": [
    {
     "data": {
      "text/plain": [
       "'stadium'"
      ]
     },
     "execution_count": 57,
     "metadata": {},
     "output_type": "execute_result"
    }
   ],
   "source": [
    "gqa_answers[61]"
   ]
  },
  {
   "cell_type": "code",
   "execution_count": 58,
   "metadata": {},
   "outputs": [
    {
     "name": "stdout",
     "output_type": "stream",
     "text": [
      "Question: ['where is this place?']\n",
      "prediction from LXMERT VQA: office\n"
     ]
    }
   ],
   "source": [
    "print(\"Question:\", test_question)\n",
    "print(\"prediction from LXMERT VQA:\", gqa_answers[pred_gqa])"
   ]
  },
  {
   "cell_type": "code",
   "execution_count": 59,
   "metadata": {},
   "outputs": [
    {
     "name": "stdout",
     "output_type": "stream",
     "text": [
      "Question: ['Where is this scene?']\n",
      "prediction from LXMERT VQA: office\n",
      "Question: ['What is in the office?']\n",
      "prediction from LXMERT VQA: desk\n",
      "Question: ['What is it doing?']\n",
      "prediction from LXMERT VQA: sitting\n"
     ]
    }
   ],
   "source": [
    "for test_question in test_questions_for_url:\n",
    "    # run lxmert\n",
    "    test_question = [test_question]\n",
    "\n",
    "    inputs = lxmert_tokenizer(\n",
    "        test_question,\n",
    "        padding=\"max_length\",\n",
    "        max_length=20,\n",
    "        truncation=True,\n",
    "        return_token_type_ids=True,\n",
    "        return_attention_mask=True,\n",
    "        add_special_tokens=True,\n",
    "        return_tensors=\"pt\"\n",
    "    )\n",
    "\n",
    "    # run lxmert(s)\n",
    "    output_gqa = lxmert_gqa(\n",
    "        input_ids=inputs.input_ids,\n",
    "        attention_mask=inputs.attention_mask,\n",
    "        visual_feats=features,\n",
    "        visual_pos=normalized_boxes,\n",
    "        token_type_ids=inputs.token_type_ids,\n",
    "        output_attentions=False,\n",
    "    )\n",
    "    # get prediction\n",
    "    pred_gqa = output_gqa[\"question_answering_score\"].argmax(-1)\n",
    "    print(\"Question:\", test_question)\n",
    "    print(\"prediction from LXMERT VQA:\", gqa_answers[pred_gqa])"
   ]
  },
  {
   "cell_type": "markdown",
   "metadata": {},
   "source": [
    "VQA와 GQA에서 모두 대체적으로 만족할 만한 답을 냈다. 다만 GQA에서는 장소가 어디냐고 물었을 때 office라는 정확한 답을 낸 반면 VQA에서는 장소를 물었을 때 bathroom이라는 답을 냄으로써 VQA2 데이터셋이 좀 더 정교하게 학브"
   ]
  }
 ],
 "metadata": {
  "kernelspec": {
   "display_name": "aiffel",
   "language": "python",
   "name": "aiffel"
  },
  "language_info": {
   "codemirror_mode": {
    "name": "ipython",
    "version": 3
   },
   "file_extension": ".py",
   "mimetype": "text/x-python",
   "name": "python",
   "nbconvert_exporter": "python",
   "pygments_lexer": "ipython3",
   "version": "3.7.10"
  },
  "toc": {
   "base_numbering": 1,
   "nav_menu": {},
   "number_sections": true,
   "sideBar": true,
   "skip_h1_title": false,
   "title_cell": "Table of Contents",
   "title_sidebar": "Contents",
   "toc_cell": false,
   "toc_position": {},
   "toc_section_display": true,
   "toc_window_display": false
  }
 },
 "nbformat": 4,
 "nbformat_minor": 4
}
