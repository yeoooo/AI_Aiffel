{
 "cells": [
  {
   "cell_type": "code",
   "execution_count": 1,
   "metadata": {},
   "outputs": [],
   "source": [
    "import numpy as np\n",
    "import matplotlib.pyplot as plt\n",
    "import os\n",
    "\n",
    "#아날로그 신호의 표본화(특정 부분을 잘라내는 작업)\n",
    "#single tone은 단순파(즉 하나의 음파)\n",
    "def single_tone(frequecy, sampling_rate=16000, duration=1):\n",
    "    t = np.linspace(0, duration, int(sampling_rate))\n",
    "    y = np.sin(2 * np.pi * frequecy * t)\n",
    "    return y\n",
    "\n",
    "y = single_tone(400)"
   ]
  },
  {
   "cell_type": "markdown",
   "metadata": {},
   "source": [
    "## 표본화?  \n",
    "시간축 방향에서 일정 간격으로 샘플을 추출하여 이산신호로 변환시키는 과정을 표본화라고 한다. 일정 간격으로 샘플을 추출하는 이유는 움직이고있는 연속된 신호이기 때문에  그 자체로 판단하기 어렵기 때문이다"
   ]
  },
  {
   "cell_type": "code",
   "execution_count": 2,
   "metadata": {},
   "outputs": [
    {
     "name": "stdout",
     "output_type": "stream",
     "text": [
      "✅\n"
     ]
    }
   ],
   "source": [
    "import numpy as np\n",
    "import os\n",
    "\n",
    "data_path = os.getenv(\"HOME\")+'/aiffel/speech_recognition/data/speech_wav_8000.npz'\n",
    "speech_data = np.load(data_path)\n",
    "\n",
    "print(\"✅\")"
   ]
  },
  {
   "cell_type": "code",
   "execution_count": 3,
   "metadata": {},
   "outputs": [
    {
     "name": "stdout",
     "output_type": "stream",
     "text": [
      "Wave data shape :  (50620, 8000)\n",
      "Label data shape :  (50620, 1)\n",
      "✅\n"
     ]
    }
   ],
   "source": [
    "print(\"Wave data shape : \", speech_data[\"wav_vals\"].shape)\n",
    "print(\"Label data shape : \", speech_data[\"label_vals\"].shape)\n",
    "print(\"✅\")"
   ]
  },
  {
   "cell_type": "code",
   "execution_count": 4,
   "metadata": {},
   "outputs": [
    {
     "name": "stdout",
     "output_type": "stream",
     "text": [
      "rand num :  49310\n",
      "Wave data shape :  (8000,)\n",
      "label :  ['silence']\n"
     ]
    },
    {
     "data": {
      "text/html": [
       "\n",
       "                <audio  controls=\"controls\" >\n",
       "                    <source src=\"data:audio/wav;base64,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\" type=\"audio/wav\" />\n",
       "                    Your browser does not support the audio element.\n",
       "                </audio>\n",
       "              "
      ],
      "text/plain": [
       "<IPython.lib.display.Audio object>"
      ]
     },
     "execution_count": 4,
     "metadata": {},
     "output_type": "execute_result"
    }
   ],
   "source": [
    "import IPython.display as ipd\n",
    "import random\n",
    "\n",
    "# 데이터 선택 (랜덤하게 선택하고 있으니, 여러번 실행해 보세요)\n",
    "rand = random.randint(0, len(speech_data[\"wav_vals\"]))\n",
    "print(\"rand num : \", rand)\n",
    "\n",
    "sr = 8000 # 1초동안 재생되는 샘플의 갯수\n",
    "data = speech_data[\"wav_vals\"][rand]\n",
    "print(\"Wave data shape : \", data.shape)\n",
    "print(\"label : \", speech_data[\"label_vals\"][rand])\n",
    "\n",
    "ipd.Audio(data, rate=sr)"
   ]
  },
  {
   "cell_type": "code",
   "execution_count": 5,
   "metadata": {},
   "outputs": [
    {
     "name": "stdout",
     "output_type": "stream",
     "text": [
      "LABEL :  ['yes', 'no', 'up', 'down', 'left', 'right', 'on', 'off', 'stop', 'go', 'unknown', 'silence']\n",
      "Indexed LABEL :  {'yes': 0, 'no': 1, 'up': 2, 'down': 3, 'left': 4, 'right': 5, 'on': 6, 'off': 7, 'stop': 8, 'go': 9, 'unknown': 10, 'silence': 11}\n"
     ]
    }
   ],
   "source": [
    "target_list = ['yes', 'no', 'up', 'down', 'left', 'right', 'on', 'off', 'stop', 'go']\n",
    "\n",
    "label_value = target_list\n",
    "label_value.append('unknown')\n",
    "label_value.append('silence')\n",
    "\n",
    "print('LABEL : ', label_value)\n",
    "\n",
    "new_label_value = dict()\n",
    "for i, l in enumerate(label_value):\n",
    "    new_label_value[l] = i\n",
    "label_value = new_label_value\n",
    "\n",
    "print('Indexed LABEL : ', new_label_value)"
   ]
  },
  {
   "cell_type": "code",
   "execution_count": 6,
   "metadata": {},
   "outputs": [
    {
     "data": {
      "text/plain": [
       "array([ 3,  3,  3, ..., 11, 11, 11])"
      ]
     },
     "execution_count": 6,
     "metadata": {},
     "output_type": "execute_result"
    }
   ],
   "source": [
    "temp = []\n",
    "for v in speech_data[\"label_vals\"]:\n",
    "    temp.append(label_value[v[0]])\n",
    "label_data = np.array(temp)\n",
    "\n",
    "label_data"
   ]
  },
  {
   "cell_type": "code",
   "execution_count": 7,
   "metadata": {},
   "outputs": [
    {
     "name": "stdout",
     "output_type": "stream",
     "text": [
      "[[-9.6275320e-04 -3.5280336e-03 -4.4093612e-03 ... -8.3550543e-04\n",
      "  -3.2649811e-03 -1.9729370e-03]\n",
      " [ 6.9343473e-04  3.2305063e-04 -3.5544671e-04 ...  1.6051382e-03\n",
      "   1.3977763e-03  1.0146763e-03]\n",
      " [-1.8781472e-03 -2.8621960e-03 -3.0511271e-03 ... -3.4659023e-03\n",
      "  -3.1268268e-03 -3.1430896e-03]\n",
      " ...\n",
      " [-9.8181852e-05 -5.5668957e-04  2.2155583e-04 ...  1.8999305e-04\n",
      "   1.7997988e-04 -9.0507208e-04]\n",
      " [ 4.4193333e-03  6.5219165e-03  1.6536945e-03 ...  1.4745700e-04\n",
      "  -1.3839500e-04 -4.0280176e-03]\n",
      " [-2.4825656e-03  5.1787408e-04  2.8356807e-03 ... -1.1200476e-03\n",
      "  -7.9252076e-04 -6.5813283e-04]]\n",
      "✅\n"
     ]
    }
   ],
   "source": [
    "from sklearn.model_selection import train_test_split\n",
    "\n",
    "sr = 8000\n",
    "train_wav, test_wav, train_label, test_label = train_test_split(speech_data[\"wav_vals\"], \n",
    "                                                                label_data, \n",
    "                                                                test_size=0.1,\n",
    "                                                                shuffle=True)\n",
    "print(train_wav)\n",
    "\n",
    "train_wav = train_wav.reshape([-1, sr, 1]) # add channel for CNN\n",
    "test_wav = test_wav.reshape([-1, sr, 1])\n",
    "print(\"✅\")"
   ]
  },
  {
   "cell_type": "code",
   "execution_count": 8,
   "metadata": {},
   "outputs": [
    {
     "name": "stdout",
     "output_type": "stream",
     "text": [
      "train data :  (45558, 8000, 1)\n",
      "train labels :  (45558,)\n",
      "test data :  (5062, 8000, 1)\n",
      "test labels :  (5062,)\n",
      "✅\n"
     ]
    }
   ],
   "source": [
    "print(\"train data : \", train_wav.shape)\n",
    "print(\"train labels : \", train_label.shape)\n",
    "print(\"test data : \", test_wav.shape)\n",
    "print(\"test labels : \", test_label.shape)\n",
    "print(\"✅\")"
   ]
  },
  {
   "cell_type": "code",
   "execution_count": 9,
   "metadata": {},
   "outputs": [
    {
     "data": {
      "text/plain": [
       "'/home/aiffel-dj16/aiffel/speech_recognition/models/wav'"
      ]
     },
     "execution_count": 9,
     "metadata": {},
     "output_type": "execute_result"
    }
   ],
   "source": [
    "batch_size = 32\n",
    "max_epochs = 1\n",
    "\n",
    "# the save point\n",
    "checkpoint_dir = os.getenv('HOME')+'/aiffel/speech_recognition/models/wav'\n",
    "\n",
    "checkpoint_dir"
   ]
  },
  {
   "cell_type": "code",
   "execution_count": 10,
   "metadata": {},
   "outputs": [
    {
     "name": "stdout",
     "output_type": "stream",
     "text": [
      "✅\n"
     ]
    }
   ],
   "source": [
    "def one_hot_label(wav, label):\n",
    "    label = tf.one_hot(label, depth=12)\n",
    "    return wav, label\n",
    "print(\"✅\")"
   ]
  },
  {
   "cell_type": "code",
   "execution_count": 11,
   "metadata": {},
   "outputs": [
    {
     "name": "stdout",
     "output_type": "stream",
     "text": [
      "<BatchDataset shapes: ((None, 8000, 1), (None, 12)), types: (tf.float32, tf.float32)>\n",
      "<BatchDataset shapes: ((None, 8000, 1), (None, 12)), types: (tf.float32, tf.float32)>\n",
      "✅\n"
     ]
    }
   ],
   "source": [
    "import tensorflow as tf\n",
    "\n",
    "# for train\n",
    "train_dataset = tf.data.Dataset.from_tensor_slices((train_wav, train_label))\n",
    "train_dataset = train_dataset.map(one_hot_label)\n",
    "train_dataset = train_dataset.repeat().batch(batch_size=batch_size)\n",
    "print(train_dataset)\n",
    "\n",
    "# for test\n",
    "test_dataset = tf.data.Dataset.from_tensor_slices((test_wav, test_label))\n",
    "test_dataset = test_dataset.map(one_hot_label)\n",
    "test_dataset = test_dataset.batch(batch_size=batch_size)\n",
    "print(test_dataset)\n",
    "print(\"✅\")"
   ]
  },
  {
   "cell_type": "code",
   "execution_count": 12,
   "metadata": {},
   "outputs": [
    {
     "name": "stdout",
     "output_type": "stream",
     "text": [
      "Model: \"model\"\n",
      "_________________________________________________________________\n",
      "Layer (type)                 Output Shape              Param #   \n",
      "=================================================================\n",
      "input_1 (InputLayer)         [(None, 8000, 1)]         0         \n",
      "_________________________________________________________________\n",
      "conv1d (Conv1D)              (None, 8000, 32)          320       \n",
      "_________________________________________________________________\n",
      "conv1d_1 (Conv1D)            (None, 8000, 32)          9248      \n",
      "_________________________________________________________________\n",
      "max_pooling1d (MaxPooling1D) (None, 4000, 32)          0         \n",
      "_________________________________________________________________\n",
      "conv1d_2 (Conv1D)            (None, 4000, 64)          18496     \n",
      "_________________________________________________________________\n",
      "conv1d_3 (Conv1D)            (None, 4000, 64)          36928     \n",
      "_________________________________________________________________\n",
      "max_pooling1d_1 (MaxPooling1 (None, 2000, 64)          0         \n",
      "_________________________________________________________________\n",
      "conv1d_4 (Conv1D)            (None, 2000, 128)         73856     \n",
      "_________________________________________________________________\n",
      "conv1d_5 (Conv1D)            (None, 2000, 128)         147584    \n",
      "_________________________________________________________________\n",
      "conv1d_6 (Conv1D)            (None, 2000, 128)         147584    \n",
      "_________________________________________________________________\n",
      "max_pooling1d_2 (MaxPooling1 (None, 1000, 128)         0         \n",
      "_________________________________________________________________\n",
      "conv1d_7 (Conv1D)            (None, 1000, 256)         295168    \n",
      "_________________________________________________________________\n",
      "conv1d_8 (Conv1D)            (None, 1000, 256)         590080    \n",
      "_________________________________________________________________\n",
      "conv1d_9 (Conv1D)            (None, 1000, 256)         590080    \n",
      "_________________________________________________________________\n",
      "max_pooling1d_3 (MaxPooling1 (None, 500, 256)          0         \n",
      "_________________________________________________________________\n",
      "dropout (Dropout)            (None, 500, 256)          0         \n",
      "_________________________________________________________________\n",
      "flatten (Flatten)            (None, 128000)            0         \n",
      "_________________________________________________________________\n",
      "dense (Dense)                (None, 256)               32768256  \n",
      "_________________________________________________________________\n",
      "batch_normalization (BatchNo (None, 256)               1024      \n",
      "_________________________________________________________________\n",
      "activation (Activation)      (None, 256)               0         \n",
      "_________________________________________________________________\n",
      "dense_1 (Dense)              (None, 12)                3084      \n",
      "=================================================================\n",
      "Total params: 34,681,708\n",
      "Trainable params: 34,681,196\n",
      "Non-trainable params: 512\n",
      "_________________________________________________________________\n"
     ]
    }
   ],
   "source": [
    "from tensorflow.keras import layers\n",
    "\n",
    "input_tensor = layers.Input(shape=(sr, 1))\n",
    "\n",
    "x = layers.Conv1D(32, 9, padding='same', activation='relu')(input_tensor)\n",
    "x = layers.Conv1D(32, 9, padding='same', activation='relu')(x)\n",
    "x = layers.MaxPool1D()(x)\n",
    "\n",
    "x = layers.Conv1D(64, 9, padding='same', activation='relu')(x)\n",
    "x = layers.Conv1D(64, 9, padding='same', activation='relu')(x)\n",
    "x = layers.MaxPool1D()(x)\n",
    "\n",
    "x = layers.Conv1D(128, 9, padding='same', activation='relu')(x)\n",
    "x = layers.Conv1D(128, 9, padding='same', activation='relu')(x)\n",
    "x = layers.Conv1D(128, 9, padding='same', activation='relu')(x)\n",
    "x = layers.MaxPool1D()(x)\n",
    "\n",
    "x = layers.Conv1D(256, 9, padding='same', activation='relu')(x)\n",
    "x = layers.Conv1D(256, 9, padding='same', activation='relu')(x)\n",
    "x = layers.Conv1D(256, 9, padding='same', activation='relu')(x)\n",
    "x = layers.MaxPool1D()(x)\n",
    "x = layers.Dropout(0.3)(x)\n",
    "\n",
    "x = layers.Flatten()(x)\n",
    "x = layers.Dense(256)(x)\n",
    "x = layers.BatchNormalization()(x)\n",
    "x = layers.Activation('relu')(x)\n",
    "\n",
    "output_tensor = layers.Dense(12)(x)\n",
    "\n",
    "model_wav = tf.keras.Model(input_tensor, output_tensor)\n",
    "\n",
    "model_wav.summary()"
   ]
  },
  {
   "cell_type": "code",
   "execution_count": 13,
   "metadata": {},
   "outputs": [
    {
     "name": "stdout",
     "output_type": "stream",
     "text": [
      "✅\n"
     ]
    }
   ],
   "source": [
    "optimizer=tf.keras.optimizers.Adam(1e-4)\n",
    "model_wav.compile(loss=tf.keras.losses.CategoricalCrossentropy(from_logits=True),\n",
    "             optimizer=optimizer,\n",
    "             metrics=['accuracy'])\n",
    "print(\"✅\")"
   ]
  },
  {
   "cell_type": "markdown",
   "metadata": {},
   "source": [
    "## 학습"
   ]
  },
  {
   "cell_type": "code",
   "execution_count": 14,
   "metadata": {},
   "outputs": [
    {
     "name": "stdout",
     "output_type": "stream",
     "text": [
      "✅\n"
     ]
    }
   ],
   "source": [
    "cp_callback = tf.keras.callbacks.ModelCheckpoint(checkpoint_dir,\n",
    "                                                 save_weights_only=True,\n",
    "                                                 monitor='val_loss',\n",
    "                                                 mode='auto',\n",
    "                                                 save_best_only=True,\n",
    "                                                 verbose=1)\n",
    "print(\"✅\")"
   ]
  },
  {
   "cell_type": "code",
   "execution_count": 15,
   "metadata": {},
   "outputs": [
    {
     "name": "stdout",
     "output_type": "stream",
     "text": [
      "1423/1423 [==============================] - ETA: 0s - loss: 1.4372 - accuracy: 0.5211\n",
      "Epoch 00001: val_loss improved from inf to 1.03043, saving model to /home/aiffel-dj16/aiffel/speech_recognition/models/wav\n",
      "1423/1423 [==============================] - 487s 342ms/step - loss: 1.4372 - accuracy: 0.5211 - val_loss: 1.0304 - val_accuracy: 0.6715\n",
      "✅\n"
     ]
    }
   ],
   "source": [
    "#30분 내외 소요 (메모리 사용량에 주의해 주세요.)\n",
    "history_wav = model_wav.fit(train_dataset, epochs=max_epochs,\n",
    "                    steps_per_epoch=len(train_wav) // batch_size,\n",
    "                    validation_data=test_dataset,\n",
    "                    validation_steps=len(test_wav) // batch_size,\n",
    "                    callbacks=[cp_callback]\n",
    "                    )\n",
    "print(\"✅\")"
   ]
  },
  {
   "cell_type": "code",
   "execution_count": 16,
   "metadata": {},
   "outputs": [
    {
     "data": {
      "image/png": "[encoded data removed]",
      "text/plain": [
       "<Figure size 576x576 with 2 Axes>"
      ]
     },
     "metadata": {
      "needs_background": "light"
     },
     "output_type": "display_data"
    },
    {
     "name": "stdout",
     "output_type": "stream",
     "text": [
      "✅\n"
     ]
    }
   ],
   "source": [
    "import matplotlib.pyplot as plt\n",
    "\n",
    "acc = history_wav.history['accuracy']\n",
    "val_acc = history_wav.history['val_accuracy']\n",
    "\n",
    "loss=history_wav.history['loss']\n",
    "val_loss=history_wav.history['val_loss']\n",
    "\n",
    "epochs_range = range(len(acc))\n",
    "\n",
    "plt.figure(figsize=(8, 8))\n",
    "plt.subplot(1, 2, 1)\n",
    "plt.plot(epochs_range, acc, label='Training Accuracy')\n",
    "plt.plot(epochs_range, val_acc, label='Validation Accuracy')\n",
    "plt.legend(loc='lower right')\n",
    "plt.title('Training and Validation Accuracy')\n",
    "\n",
    "plt.subplot(1, 2, 2)\n",
    "plt.plot(epochs_range, loss, label='Training Loss')\n",
    "plt.plot(epochs_range, val_loss, label='Validation Loss')\n",
    "plt.legend(loc='upper right')\n",
    "plt.title('Training and Validation Loss')\n",
    "plt.show()\n",
    "print(\"✅\")"
   ]
  },
  {
   "cell_type": "code",
   "execution_count": 17,
   "metadata": {},
   "outputs": [
    {
     "name": "stdout",
     "output_type": "stream",
     "text": [
      "✅\n"
     ]
    }
   ],
   "source": [
    "model_wav.load_weights(checkpoint_dir)\n",
    "print(\"✅\")"
   ]
  },
  {
   "cell_type": "code",
   "execution_count": 18,
   "metadata": {},
   "outputs": [
    {
     "name": "stdout",
     "output_type": "stream",
     "text": [
      "159/159 [==============================] - 24s 154ms/step - loss: 1.0300 - accuracy: 0.6717\n",
      "✅\n"
     ]
    }
   ],
   "source": [
    "results = model_wav.evaluate(test_dataset)\n",
    "print(\"✅\")"
   ]
  },
  {
   "cell_type": "code",
   "execution_count": 19,
   "metadata": {},
   "outputs": [
    {
     "name": "stdout",
     "output_type": "stream",
     "text": [
      "loss value: 1.030\n",
      "accuracy value: 67.1671%\n",
      "✅\n"
     ]
    }
   ],
   "source": [
    "# loss\n",
    "print(\"loss value: {:.3f}\".format(results[0]))\n",
    "# accuracy\n",
    "print(\"accuracy value: {:.4f}%\".format(results[1]*100))\n",
    "print(\"✅\")"
   ]
  },
  {
   "cell_type": "markdown",
   "metadata": {},
   "source": [
    "## 테스트"
   ]
  },
  {
   "cell_type": "code",
   "execution_count": 20,
   "metadata": {},
   "outputs": [
    {
     "name": "stdout",
     "output_type": "stream",
     "text": [
      "label :  stop\n"
     ]
    },
    {
     "data": {
      "text/html": [
       "\n",
       "                <audio  controls=\"controls\" >\n",
       "                    <source src=\"data:audio/wav;base64,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\" type=\"audio/wav\" />\n",
       "                    Your browser does not support the audio element.\n",
       "                </audio>\n",
       "              "
      ],
      "text/plain": [
       "<IPython.lib.display.Audio object>"
      ]
     },
     "execution_count": 20,
     "metadata": {},
     "output_type": "execute_result"
    }
   ],
   "source": [
    "inv_label_value = {v: k for k, v in label_value.items()}\n",
    "batch_index = np.random.choice(len(test_wav), size=1, replace=False)\n",
    "\n",
    "batch_xs = test_wav[batch_index]\n",
    "batch_ys = test_label[batch_index]\n",
    "y_pred_ = model_wav(batch_xs, training=False)\n",
    "\n",
    "print(\"label : \", str(inv_label_value[batch_ys[0]]))\n",
    "\n",
    "ipd.Audio(batch_xs.reshape(8000,), rate=8000)"
   ]
  },
  {
   "cell_type": "code",
   "execution_count": 21,
   "metadata": {},
   "outputs": [
    {
     "name": "stdout",
     "output_type": "stream",
     "text": [
      "y_pred: go(Incorrect!)\n",
      "✅\n"
     ]
    }
   ],
   "source": [
    "if np.argmax(y_pred_) == batch_ys[0]:\n",
    "    print(\"y_pred: \" + str(inv_label_value[np.argmax(y_pred_)]) + '(Correct!)')\n",
    "else:\n",
    "    print(\"y_pred: \" + str(inv_label_value[np.argmax(y_pred_)]) + '(Incorrect!)')\n",
    "print(\"✅\")"
   ]
  },
  {
   "cell_type": "markdown",
   "metadata": {},
   "source": [
    "## Skip-Connection model"
   ]
  },
  {
   "cell_type": "code",
   "execution_count": 22,
   "metadata": {},
   "outputs": [
    {
     "name": "stdout",
     "output_type": "stream",
     "text": [
      "Model: \"model_1\"\n",
      "__________________________________________________________________________________________________\n",
      "Layer (type)                    Output Shape         Param #     Connected to                     \n",
      "==================================================================================================\n",
      "input_2 (InputLayer)            [(None, 8000, 1)]    0                                            \n",
      "__________________________________________________________________________________________________\n",
      "conv1d_10 (Conv1D)              (None, 8000, 32)     320         input_2[0][0]                    \n",
      "__________________________________________________________________________________________________\n",
      "conv1d_11 (Conv1D)              (None, 8000, 32)     9248        conv1d_10[0][0]                  \n",
      "__________________________________________________________________________________________________\n",
      "max_pooling1d_4 (MaxPooling1D)  (None, 4000, 32)     0           conv1d_11[0][0]                  \n",
      "__________________________________________________________________________________________________\n",
      "conv1d_12 (Conv1D)              (None, 4000, 64)     18496       max_pooling1d_4[0][0]            \n",
      "__________________________________________________________________________________________________\n",
      "conv1d_13 (Conv1D)              (None, 4000, 64)     36928       conv1d_12[0][0]                  \n",
      "__________________________________________________________________________________________________\n",
      "tf_op_layer_concat (TensorFlowO [(None, 4000, 96)]   0           conv1d_13[0][0]                  \n",
      "                                                                 max_pooling1d_4[0][0]            \n",
      "__________________________________________________________________________________________________\n",
      "max_pooling1d_5 (MaxPooling1D)  (None, 2000, 96)     0           tf_op_layer_concat[0][0]         \n",
      "__________________________________________________________________________________________________\n",
      "conv1d_14 (Conv1D)              (None, 2000, 128)    110720      max_pooling1d_5[0][0]            \n",
      "__________________________________________________________________________________________________\n",
      "conv1d_15 (Conv1D)              (None, 2000, 128)    147584      conv1d_14[0][0]                  \n",
      "__________________________________________________________________________________________________\n",
      "conv1d_16 (Conv1D)              (None, 2000, 128)    147584      conv1d_15[0][0]                  \n",
      "__________________________________________________________________________________________________\n",
      "tf_op_layer_concat_1 (TensorFlo [(None, 2000, 224)]  0           conv1d_16[0][0]                  \n",
      "                                                                 max_pooling1d_5[0][0]            \n",
      "__________________________________________________________________________________________________\n",
      "max_pooling1d_6 (MaxPooling1D)  (None, 1000, 224)    0           tf_op_layer_concat_1[0][0]       \n",
      "__________________________________________________________________________________________________\n",
      "conv1d_17 (Conv1D)              (None, 1000, 256)    516352      max_pooling1d_6[0][0]            \n",
      "__________________________________________________________________________________________________\n",
      "conv1d_18 (Conv1D)              (None, 1000, 256)    590080      conv1d_17[0][0]                  \n",
      "__________________________________________________________________________________________________\n",
      "conv1d_19 (Conv1D)              (None, 1000, 256)    590080      conv1d_18[0][0]                  \n",
      "__________________________________________________________________________________________________\n",
      "tf_op_layer_concat_2 (TensorFlo [(None, 1000, 480)]  0           conv1d_19[0][0]                  \n",
      "                                                                 max_pooling1d_6[0][0]            \n",
      "__________________________________________________________________________________________________\n",
      "max_pooling1d_7 (MaxPooling1D)  (None, 500, 480)     0           tf_op_layer_concat_2[0][0]       \n",
      "__________________________________________________________________________________________________\n",
      "dropout_1 (Dropout)             (None, 500, 480)     0           max_pooling1d_7[0][0]            \n",
      "__________________________________________________________________________________________________\n",
      "flatten_1 (Flatten)             (None, 240000)       0           dropout_1[0][0]                  \n",
      "__________________________________________________________________________________________________\n",
      "dense_2 (Dense)                 (None, 256)          61440256    flatten_1[0][0]                  \n",
      "__________________________________________________________________________________________________\n",
      "batch_normalization_1 (BatchNor (None, 256)          1024        dense_2[0][0]                    \n",
      "__________________________________________________________________________________________________\n",
      "activation_1 (Activation)       (None, 256)          0           batch_normalization_1[0][0]      \n",
      "__________________________________________________________________________________________________\n",
      "dense_3 (Dense)                 (None, 12)           3084        activation_1[0][0]               \n",
      "==================================================================================================\n",
      "Total params: 63,611,756\n",
      "Trainable params: 63,611,244\n",
      "Non-trainable params: 512\n",
      "__________________________________________________________________________________________________\n"
     ]
    }
   ],
   "source": [
    "input_tensor = layers.Input(shape=(sr, 1))\n",
    "\n",
    "x = layers.Conv1D(32, 9, padding='same', activation='relu')(input_tensor)\n",
    "x = layers.Conv1D(32, 9, padding='same', activation='relu')(x)\n",
    "skip_1 = layers.MaxPool1D()(x)\n",
    "\n",
    "x = layers.Conv1D(64, 9, padding='same', activation='relu')(skip_1)\n",
    "x = layers.Conv1D(64, 9, padding='same', activation='relu')(x)\n",
    "x = tf.concat([x, skip_1], -1)\n",
    "skip_2 = layers.MaxPool1D()(x)\n",
    "\n",
    "x = layers.Conv1D(128, 9, padding='same', activation='relu')(skip_2)\n",
    "x = layers.Conv1D(128, 9, padding='same', activation='relu')(x)\n",
    "x = layers.Conv1D(128, 9, padding='same', activation='relu')(x)\n",
    "x = tf.concat([x, skip_2], -1)\n",
    "skip_3 = layers.MaxPool1D()(x)\n",
    "\n",
    "x = layers.Conv1D(256, 9, padding='same', activation='relu')(skip_3)\n",
    "x = layers.Conv1D(256, 9, padding='same', activation='relu')(x)\n",
    "x = layers.Conv1D(256, 9, padding='same', activation='relu')(x)\n",
    "x = tf.concat([x, skip_3], -1)\n",
    "x = layers.MaxPool1D()(x)\n",
    "x = layers.Dropout(0.3)(x)\n",
    "\n",
    "x = layers.Flatten()(x)\n",
    "x = layers.Dense(256)(x)\n",
    "x = layers.BatchNormalization()(x)\n",
    "x = layers.Activation('relu')(x)\n",
    "\n",
    "output_tensor = layers.Dense(12)(x)\n",
    "\n",
    "model_wav_skip = tf.keras.Model(input_tensor, output_tensor)\n",
    "\n",
    "model_wav_skip.summary()"
   ]
  },
  {
   "cell_type": "code",
   "execution_count": 23,
   "metadata": {},
   "outputs": [
    {
     "name": "stdout",
     "output_type": "stream",
     "text": [
      "✅\n"
     ]
    }
   ],
   "source": [
    "optimizer=tf.keras.optimizers.Adam(1e-4)\n",
    "model_wav_skip.compile(loss=tf.keras.losses.CategoricalCrossentropy(from_logits=True),\n",
    "             optimizer=optimizer,\n",
    "             metrics=['accuracy'])\n",
    "print(\"✅\")"
   ]
  },
  {
   "cell_type": "code",
   "execution_count": 24,
   "metadata": {},
   "outputs": [
    {
     "name": "stdout",
     "output_type": "stream",
     "text": [
      "✅\n"
     ]
    }
   ],
   "source": [
    "# the save point\n",
    "checkpoint_dir = os.getenv('HOME')+'/aiffel/speech_recognition/models/wav_skip'\n",
    "\n",
    "cp_callback = tf.keras.callbacks.ModelCheckpoint(checkpoint_dir,\n",
    "                                                 save_weights_only=True,\n",
    "                                                 monitor='val_loss',\n",
    "                                                 mode='auto',\n",
    "                                                 save_best_only=True,\n",
    "                                                 verbose=1)\n",
    "print(\"✅\")"
   ]
  },
  {
   "cell_type": "code",
   "execution_count": 25,
   "metadata": {},
   "outputs": [
    {
     "name": "stdout",
     "output_type": "stream",
     "text": [
      "1423/1423 [==============================] - ETA: 0s - loss: 1.1995 - accuracy: 0.6139\n",
      "Epoch 00001: val_loss improved from inf to 0.80963, saving model to /home/aiffel-dj16/aiffel/speech_recognition/models/wav_skip\n",
      "1423/1423 [==============================] - 581s 408ms/step - loss: 1.1995 - accuracy: 0.6139 - val_loss: 0.8096 - val_accuracy: 0.7536\n",
      "✅\n"
     ]
    }
   ],
   "source": [
    "#30분 내외 소요\n",
    "history_wav_skip = model_wav_skip.fit(train_dataset, epochs=max_epochs,\n",
    "                    steps_per_epoch=len(train_wav) // batch_size,\n",
    "                    validation_data=test_dataset,\n",
    "                    validation_steps=len(test_wav) // batch_size,\n",
    "                    callbacks=[cp_callback]\n",
    "                    )\n",
    "print(\"✅\")"
   ]
  },
  {
   "cell_type": "code",
   "execution_count": 26,
   "metadata": {},
   "outputs": [
    {
     "data": {
      "image/png": "[encoded data removed]",
      "text/plain": [
       "<Figure size 576x576 with 2 Axes>"
      ]
     },
     "metadata": {
      "needs_background": "light"
     },
     "output_type": "display_data"
    },
    {
     "name": "stdout",
     "output_type": "stream",
     "text": [
      "✅\n"
     ]
    }
   ],
   "source": [
    "import matplotlib.pyplot as plt\n",
    "\n",
    "acc = history_wav_skip.history['accuracy']\n",
    "val_acc = history_wav_skip.history['val_accuracy']\n",
    "\n",
    "loss=history_wav_skip.history['loss']\n",
    "val_loss=history_wav_skip.history['val_loss']\n",
    "\n",
    "epochs_range = range(len(acc))\n",
    "\n",
    "plt.figure(figsize=(8, 8))\n",
    "plt.subplot(1, 2, 1)\n",
    "plt.plot(epochs_range, acc, label='Training Accuracy')\n",
    "plt.plot(epochs_range, val_acc, label='Validation Accuracy')\n",
    "plt.legend(loc='lower right')\n",
    "plt.title('Training and Validation Accuracy')\n",
    "\n",
    "plt.subplot(1, 2, 2)\n",
    "plt.plot(epochs_range, loss, label='Training Loss')\n",
    "plt.plot(epochs_range, val_loss, label='Validation Loss')\n",
    "plt.legend(loc='upper right')\n",
    "plt.title('Training and Validation Loss')\n",
    "plt.show()\n",
    "print(\"✅\")"
   ]
  },
  {
   "cell_type": "code",
   "execution_count": 27,
   "metadata": {},
   "outputs": [
    {
     "name": "stdout",
     "output_type": "stream",
     "text": [
      "159/159 [==============================] - 22s 137ms/step - loss: 0.8096 - accuracy: 0.7535\n",
      "loss value: 0.810\n",
      "accuracy value: 75.3457%\n",
      "✅\n"
     ]
    }
   ],
   "source": [
    "# Evaluation \n",
    "\n",
    "model_wav_skip.load_weights(checkpoint_dir)\n",
    "results = model_wav_skip.evaluate(test_dataset)\n",
    "\n",
    "# loss\n",
    "print(\"loss value: {:.3f}\".format(results[0]))\n",
    "# accuracy\n",
    "print(\"accuracy value: {:.4f}%\".format(results[1]*100))\n",
    "print(\"✅\")"
   ]
  },
  {
   "cell_type": "code",
   "execution_count": 28,
   "metadata": {},
   "outputs": [
    {
     "name": "stdout",
     "output_type": "stream",
     "text": [
      "label :  go\n"
     ]
    },
    {
     "data": {
      "text/html": [
       "\n",
       "                <audio  controls=\"controls\" >\n",
       "                    <source src=\"data:audio/wav;base64,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\" type=\"audio/wav\" />\n",
       "                    Your browser does not support the audio element.\n",
       "                </audio>\n",
       "              "
      ],
      "text/plain": [
       "<IPython.lib.display.Audio object>"
      ]
     },
     "execution_count": 28,
     "metadata": {},
     "output_type": "execute_result"
    }
   ],
   "source": [
    "# Test \n",
    "\n",
    "inv_label_value = {v: k for k, v in label_value.items()}\n",
    "batch_index = np.random.choice(len(test_wav), size=1, replace=False)\n",
    "\n",
    "batch_xs = test_wav[batch_index]\n",
    "batch_ys = test_label[batch_index]\n",
    "y_pred_ = model_wav_skip(batch_xs, training=False)\n",
    "\n",
    "print(\"label : \", str(inv_label_value[batch_ys[0]]))\n",
    "\n",
    "ipd.Audio(batch_xs.reshape(8000,), rate=8000)"
   ]
  },
  {
   "cell_type": "code",
   "execution_count": 29,
   "metadata": {},
   "outputs": [
    {
     "name": "stdout",
     "output_type": "stream",
     "text": [
      "y_pred: go(Correct!)\n",
      "✅\n"
     ]
    }
   ],
   "source": [
    "if np.argmax(y_pred_) == batch_ys[0]:\n",
    "    print(\"y_pred: \" + str(inv_label_value[np.argmax(y_pred_)]) + '(Correct!)')\n",
    "else:\n",
    "    print(\"y_pred: \" + str(inv_label_value[np.argmax(y_pred_)]) + '(Incorrect!)')\n",
    "print(\"✅\")"
   ]
  },
  {
   "cell_type": "code",
   "execution_count": 30,
   "metadata": {},
   "outputs": [
    {
     "name": "stdout",
     "output_type": "stream",
     "text": [
      "✅\n"
     ]
    }
   ],
   "source": [
    "import librosa\n",
    "\n",
    "def wav2spec(wav, fft_size=258): # spectrogram shape을 맞추기위해서 size 변형\n",
    "    D = np.abs(librosa.stft(wav, n_fft=fft_size))\n",
    "    return D\n",
    "print(\"✅\")"
   ]
  },
  {
   "cell_type": "code",
   "execution_count": 31,
   "metadata": {},
   "outputs": [
    {
     "name": "stdout",
     "output_type": "stream",
     "text": [
      "<class 'numpy.ndarray'>\n",
      "Waveform shape :  (8000,)\n",
      "Spectrogram shape :  (130, 126)\n"
     ]
    }
   ],
   "source": [
    "# 위에서 뽑았던 sample data\n",
    "spec = wav2spec(data)\n",
    "print(type(spec))\n",
    "print(\"Waveform shape : \",data.shape)\n",
    "print(\"Spectrogram shape : \",spec.shape)"
   ]
  },
  {
   "cell_type": "code",
   "execution_count": 32,
   "metadata": {},
   "outputs": [
    {
     "data": {
      "image/png": "[encoded data removed]",
      "text/plain": [
       "<Figure size 432x288 with 2 Axes>"
      ]
     },
     "metadata": {
      "needs_background": "light"
     },
     "output_type": "display_data"
    }
   ],
   "source": [
    "import librosa.display\n",
    "\n",
    "librosa.display.specshow(librosa.amplitude_to_db(spec, ref=np.max), x_axis='time')\n",
    "plt.title('Power spectrogram')\n",
    "plt.colorbar(format='%+2.0f dB')\n",
    "plt.xticks(range(0, 1))\n",
    "plt.tight_layout()\n",
    "plt.show()"
   ]
  },
  {
   "cell_type": "code",
   "execution_count": 33,
   "metadata": {},
   "outputs": [
    {
     "data": {
      "text/plain": [
       "array([ 3,  3,  3, ..., 11, 11, 11])"
      ]
     },
     "execution_count": 33,
     "metadata": {},
     "output_type": "execute_result"
    }
   ],
   "source": [
    "temp = []\n",
    "for v in speech_data[\"label_vals\"]:\n",
    "    temp.append(label_value[v[0]])\n",
    "label_data = np.array(temp)\n",
    "\n",
    "label_data"
   ]
  },
  {
   "cell_type": "code",
   "execution_count": 34,
   "metadata": {},
   "outputs": [
    {
     "ename": "SyntaxError",
     "evalue": "invalid syntax (<ipython-input-34-87d5fe03b92a>, line 5)",
     "output_type": "error",
     "traceback": [
      "\u001b[0;36m  File \u001b[0;32m\"<ipython-input-34-87d5fe03b92a>\"\u001b[0;36m, line \u001b[0;32m5\u001b[0m\n\u001b[0;31m    label_data#y train,\u001b[0m\n\u001b[0m             ^\u001b[0m\n\u001b[0;31mSyntaxError\u001b[0m\u001b[0;31m:\u001b[0m invalid syntax\n"
     ]
    }
   ],
   "source": [
    "from sklearn.model_selection import train_test_split\n",
    "\n",
    "sr = 8000\n",
    "train_spec, test_spec, train_label, test_label = train_test_split(spec[\"wav_vals\"]#x_train \n",
    "                                                                label_data#y train, \n",
    "                                                                test_size=0.1,\n",
    "                                                                shuffle=True)\n",
    "print(train_spec)\n",
    "\n",
    "train_wav = train_wav.reshape([-1, sr, 1]) # add channel for CNN\n",
    "test_wav = test_wav.reshape([-1, sr, 1])\n",
    "print(\"✅\")"
   ]
  },
  {
   "cell_type": "code",
   "execution_count": 35,
   "metadata": {},
   "outputs": [
    {
     "ename": "ValueError",
     "evalue": "Input 0 of layer conv2d is incompatible with the layer: expected ndim=4, found ndim=3. Full shape received: [None, 8000, 1]",
     "output_type": "error",
     "traceback": [
      "\u001b[0;31m---------------------------------------------------------------------------\u001b[0m",
      "\u001b[0;31mValueError\u001b[0m                                Traceback (most recent call last)",
      "\u001b[0;32m<ipython-input-35-1c16d3ec4029>\u001b[0m in \u001b[0;36m<module>\u001b[0;34m\u001b[0m\n\u001b[1;32m      1\u001b[0m \u001b[0minput_tensor\u001b[0m \u001b[0;34m=\u001b[0m \u001b[0mlayers\u001b[0m\u001b[0;34m.\u001b[0m\u001b[0mInput\u001b[0m\u001b[0;34m(\u001b[0m\u001b[0mshape\u001b[0m\u001b[0;34m=\u001b[0m\u001b[0;34m(\u001b[0m\u001b[0msr\u001b[0m\u001b[0;34m,\u001b[0m \u001b[0;36m1\u001b[0m\u001b[0;34m)\u001b[0m\u001b[0;34m)\u001b[0m\u001b[0;34m\u001b[0m\u001b[0;34m\u001b[0m\u001b[0m\n\u001b[1;32m      2\u001b[0m \u001b[0;34m\u001b[0m\u001b[0m\n\u001b[0;32m----> 3\u001b[0;31m \u001b[0mx\u001b[0m \u001b[0;34m=\u001b[0m \u001b[0mlayers\u001b[0m\u001b[0;34m.\u001b[0m\u001b[0mConv2D\u001b[0m\u001b[0;34m(\u001b[0m\u001b[0;36m32\u001b[0m\u001b[0;34m,\u001b[0m \u001b[0;34m(\u001b[0m\u001b[0;36m3\u001b[0m\u001b[0;34m,\u001b[0m\u001b[0;36m3\u001b[0m\u001b[0;34m)\u001b[0m\u001b[0;34m,\u001b[0m \u001b[0mpadding\u001b[0m\u001b[0;34m=\u001b[0m\u001b[0;34m'same'\u001b[0m\u001b[0;34m,\u001b[0m \u001b[0mactivation\u001b[0m\u001b[0;34m=\u001b[0m\u001b[0;34m'relu'\u001b[0m\u001b[0;34m)\u001b[0m\u001b[0;34m(\u001b[0m\u001b[0minput_tensor\u001b[0m\u001b[0;34m)\u001b[0m\u001b[0;34m\u001b[0m\u001b[0;34m\u001b[0m\u001b[0m\n\u001b[0m\u001b[1;32m      4\u001b[0m \u001b[0mx\u001b[0m \u001b[0;34m=\u001b[0m \u001b[0mlayers\u001b[0m\u001b[0;34m.\u001b[0m\u001b[0mConv2D\u001b[0m\u001b[0;34m(\u001b[0m\u001b[0;36m32\u001b[0m\u001b[0;34m,\u001b[0m \u001b[0;34m(\u001b[0m\u001b[0;36m3\u001b[0m\u001b[0;34m,\u001b[0m\u001b[0;36m3\u001b[0m\u001b[0;34m)\u001b[0m\u001b[0;34m,\u001b[0m \u001b[0mpadding\u001b[0m\u001b[0;34m=\u001b[0m\u001b[0;34m'same'\u001b[0m\u001b[0;34m,\u001b[0m \u001b[0mactivation\u001b[0m\u001b[0;34m=\u001b[0m\u001b[0;34m'relu'\u001b[0m\u001b[0;34m)\u001b[0m\u001b[0;34m(\u001b[0m\u001b[0mx\u001b[0m\u001b[0;34m)\u001b[0m\u001b[0;34m\u001b[0m\u001b[0;34m\u001b[0m\u001b[0m\n\u001b[1;32m      5\u001b[0m \u001b[0mskip_1\u001b[0m \u001b[0;34m=\u001b[0m \u001b[0mlayers\u001b[0m\u001b[0;34m.\u001b[0m\u001b[0mMaxPool2D\u001b[0m\u001b[0;34m(\u001b[0m\u001b[0;34m)\u001b[0m\u001b[0;34m(\u001b[0m\u001b[0mx\u001b[0m\u001b[0;34m)\u001b[0m\u001b[0;34m\u001b[0m\u001b[0;34m\u001b[0m\u001b[0m\n",
      "\u001b[0;32m~/anaconda3/envs/aiffel/lib/python3.7/site-packages/tensorflow/python/keras/engine/base_layer.py\u001b[0m in \u001b[0;36m__call__\u001b[0;34m(self, *args, **kwargs)\u001b[0m\n\u001b[1;32m    884\u001b[0m         \u001b[0;31m# are casted, not before.\u001b[0m\u001b[0;34m\u001b[0m\u001b[0;34m\u001b[0m\u001b[0;34m\u001b[0m\u001b[0m\n\u001b[1;32m    885\u001b[0m         input_spec.assert_input_compatibility(self.input_spec, inputs,\n\u001b[0;32m--> 886\u001b[0;31m                                               self.name)\n\u001b[0m\u001b[1;32m    887\u001b[0m         if (any(isinstance(x, ragged_tensor.RaggedTensor) for x in input_list)\n\u001b[1;32m    888\u001b[0m             and self._supports_ragged_inputs is False):  # pylint: disable=g-bool-id-comparison\n",
      "\u001b[0;32m~/anaconda3/envs/aiffel/lib/python3.7/site-packages/tensorflow/python/keras/engine/input_spec.py\u001b[0m in \u001b[0;36massert_input_compatibility\u001b[0;34m(input_spec, inputs, layer_name)\u001b[0m\n\u001b[1;32m    178\u001b[0m                          \u001b[0;34m'expected ndim='\u001b[0m \u001b[0;34m+\u001b[0m \u001b[0mstr\u001b[0m\u001b[0;34m(\u001b[0m\u001b[0mspec\u001b[0m\u001b[0;34m.\u001b[0m\u001b[0mndim\u001b[0m\u001b[0;34m)\u001b[0m \u001b[0;34m+\u001b[0m \u001b[0;34m', found ndim='\u001b[0m \u001b[0;34m+\u001b[0m\u001b[0;34m\u001b[0m\u001b[0;34m\u001b[0m\u001b[0m\n\u001b[1;32m    179\u001b[0m                          \u001b[0mstr\u001b[0m\u001b[0;34m(\u001b[0m\u001b[0mndim\u001b[0m\u001b[0;34m)\u001b[0m \u001b[0;34m+\u001b[0m \u001b[0;34m'. Full shape received: '\u001b[0m \u001b[0;34m+\u001b[0m\u001b[0;34m\u001b[0m\u001b[0;34m\u001b[0m\u001b[0m\n\u001b[0;32m--> 180\u001b[0;31m                          str(x.shape.as_list()))\n\u001b[0m\u001b[1;32m    181\u001b[0m     \u001b[0;32mif\u001b[0m \u001b[0mspec\u001b[0m\u001b[0;34m.\u001b[0m\u001b[0mmax_ndim\u001b[0m \u001b[0;32mis\u001b[0m \u001b[0;32mnot\u001b[0m \u001b[0;32mNone\u001b[0m\u001b[0;34m:\u001b[0m\u001b[0;34m\u001b[0m\u001b[0;34m\u001b[0m\u001b[0m\n\u001b[1;32m    182\u001b[0m       \u001b[0mndim\u001b[0m \u001b[0;34m=\u001b[0m \u001b[0mx\u001b[0m\u001b[0;34m.\u001b[0m\u001b[0mshape\u001b[0m\u001b[0;34m.\u001b[0m\u001b[0mndims\u001b[0m\u001b[0;34m\u001b[0m\u001b[0;34m\u001b[0m\u001b[0m\n",
      "\u001b[0;31mValueError\u001b[0m: Input 0 of layer conv2d is incompatible with the layer: expected ndim=4, found ndim=3. Full shape received: [None, 8000, 1]"
     ]
    }
   ],
   "source": [
    "input_tensor = layers.Input(shape=(sr, 1))\n",
    "\n",
    "x = layers.Conv2D(32, (3,3), padding='same', activation='relu')(input_tensor)\n",
    "x = layers.Conv2D(32, (3,3), padding='same', activation='relu')(x)\n",
    "skip_1 = layers.MaxPool2D()(x)\n",
    "\n",
    "x = layers.Conv2D(64, (3,3), padding='same', activation='relu')(skip_1)\n",
    "x = layers.Conv2D(64, (3,3), padding='same', activation='relu')(x)\n",
    "x = tf.concat([x, skip_1], -1)\n",
    "skip_2 = layers.MaxPool2D()(x)\n",
    "\n",
    "x = layers.Conv2D(128, (3,3), padding='same', activation='relu')(skip_2)\n",
    "x = layers.Conv2D(128, (3,3), padding='same', activation='relu')(x)\n",
    "x = layers.Conv2D(128, (3,3), padding='same', activation='relu')(x)\n",
    "x = tf.concat([x, skip_2], -1)\n",
    "skip_3 = layers.MaxPool2D()(x)\n",
    "\n",
    "x = layers.Conv2D(256, (3,3), padding='same', activation='relu')(skip_3)\n",
    "x = layers.Conv2D(256, (3,3), padding='same', activation='relu')(x)\n",
    "x = layers.Conv2D(256, (3,3), padding='same', activation='relu')(x)\n",
    "x = tf.concat([x, skip_3], -1)\n",
    "x = layers.MaxPool2D()(x)\n",
    "x = layers.Dropout(0.3)(x)\n",
    "\n",
    "x = layers.Flatten()(x)\n",
    "x = layers.Dense(256)(x)\n",
    "x = layers.BatchNormalization()(x)\n",
    "x = layers.Activation('relu')(x)\n",
    "\n",
    "output_tensor = layers.Dense(12)(x)\n",
    "\n",
    "model_wav_skip = tf.keras.Model(input_tensor, output_tensor)\n",
    "\n",
    "model_wav_skip.summary()"
   ]
  },
  {
   "cell_type": "code",
   "execution_count": null,
   "metadata": {},
   "outputs": [],
   "source": []
  }
 ],
 "metadata": {
  "kernelspec": {
   "display_name": "aiffel",
   "language": "python",
   "name": "aiffel"
  },
  "language_info": {
   "codemirror_mode": {
    "name": "ipython",
    "version": 3
   },
   "file_extension": ".py",
   "mimetype": "text/x-python",
   "name": "python",
   "nbconvert_exporter": "python",
   "pygments_lexer": "ipython3",
   "version": "3.7.9"
  }
 },
 "nbformat": 4,
 "nbformat_minor": 5
}
