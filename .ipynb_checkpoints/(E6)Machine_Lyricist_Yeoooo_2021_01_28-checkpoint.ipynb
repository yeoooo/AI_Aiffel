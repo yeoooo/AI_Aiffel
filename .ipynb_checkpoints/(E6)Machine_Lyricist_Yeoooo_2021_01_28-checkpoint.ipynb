{
 "cells": [
  {
   "cell_type": "markdown",
   "metadata": {},
   "source": [
    " # 작사가 인공지능"
   ]
  },
  {
   "cell_type": "markdown",
   "metadata": {},
   "source": [
    "이번엔 조금 특이하게 작사가 인공지능을 만들었다.  \n",
    "input data를 통해서 어떤 객체인지 판별하는 분류기가 아닌 새로운 산출물을 만들어내는  \n",
    "토이 프로젝트였기 때문에 조금 새로운 느낌이 들었다."
   ]
  },
  {
   "cell_type": "markdown",
   "metadata": {},
   "source": [
    " ## 데이터 준비  \n",
    "하지만 역시나 그렇듯 input data는 존재한다. 파일을 변수에 담아준다."
   ]
  },
  {
   "cell_type": "code",
   "execution_count": 1,
   "metadata": {},
   "outputs": [
    {
     "name": "stdout",
     "output_type": "stream",
     "text": [
      "데이터 크기: 187088\n",
      "Examples:\n",
      " ['Now greetings to the world! Standing at this liquor store,', 'Whiskey coming through my pores,', 'Feeling like I run this whole block.']\n"
     ]
    }
   ],
   "source": [
    "import glob\n",
    "import os\n",
    "import re\n",
    "import tensorflow as tf\n",
    "txt_file_path = os.getenv('HOME')+'/aiffel/lyricist/data/lyrics/*'\n",
    "\n",
    "txt_list = glob.glob(txt_file_path)\n",
    "\n",
    "raw_corpus = []\n",
    "\n",
    "# 여러개의 txt 파일을 모두 읽어서 raw_corpus 에 담습니다.\n",
    "for txt_file in txt_list:\n",
    "    with open(txt_file, \"r\") as f:\n",
    "        raw = f.read().splitlines()\n",
    "        raw_corpus.extend(raw)\n",
    "\n",
    "print(\"데이터 크기:\", len(raw_corpus))\n",
    "print(\"Examples:\\n\", raw_corpus[:3])"
   ]
  },
  {
   "cell_type": "markdown",
   "metadata": {},
   "source": [
    "담아준 텍스트의 일정 부분을 출력해 보았다."
   ]
  },
  {
   "cell_type": "code",
   "execution_count": 2,
   "metadata": {},
   "outputs": [],
   "source": [
    "for idx, sentence in enumerate(raw_corpus):\n",
    "    if len(sentence) == 0 or len(sentence) > 15: continue   # 길이가 0인 문장은 skip\n",
    "    if sentence[-1] == \":\": continue  # 문장의 끝이 : 인 문장 skip\n",
    "    if idx > 9: break   # 문장 10개만 확인\n",
    "        \n",
    "    print(sentence)"
   ]
  },
  {
   "cell_type": "markdown",
   "metadata": {},
   "source": [
    "enumerate 함수를 통해 raw_corpus에 들어있는 텍스트의 기본적인 전처리를 해준다.  \n"
   ]
  },
  {
   "cell_type": "code",
   "execution_count": 3,
   "metadata": {},
   "outputs": [
    {
     "name": "stdout",
     "output_type": "stream",
     "text": [
      "<start> this is sample sentence . <end>\n"
     ]
    }
   ],
   "source": [
    "def preprocess_sentence(sentence):\n",
    "    sentence = sentence.lower().strip()       # 소문자로 바꾸고 양쪽 공백을 삭제\n",
    "  \n",
    "    # 아래 3단계를 거쳐 sentence는 스페이스 1개를 delimeter로 하는 소문자 단어 시퀀스로 바꾼다.\n",
    "    sentence = re.sub(r\"([?.!,¿])\", r\" \\1 \", sentence)        # 패턴의 특수문자를 만나면 특수문자 양쪽에 공백을 추가\n",
    "    sentence = re.sub(r'[\" \"]+', \" \", sentence)                  # 공백 패턴을 만나면 스페이스 1개로 치환\n",
    "    sentence = re.sub(r\"[^a-zA-Z?.!,¿]+\", \" \", sentence)  # a-zA-Z?.!,¿ 패턴을 제외한 모든 문자(공백문자까지도)를 스페이스 1개로 치환\n",
    "\n",
    "    sentence = sentence.strip()\n",
    "\n",
    "    sentence = '<start> ' + sentence + ' <end>'      # 이전 스텝에서 본 것처럼 문장 앞뒤로 <start>와 <end>를 단어처럼 붙여 줍니다\n",
    "    \n",
    "    return sentence\n",
    "\n",
    "print(preprocess_sentence(\"This @_is ;;;sample        sentence.\"))   # 이 문장이 어떻게 필터링되는지 확인해 보세요."
   ]
  },
  {
   "cell_type": "markdown",
   "metadata": {},
   "source": [
    "이번 단계에서는 문장 전처리에 대한 함수를 정의했다. 위의 전처리 단계에서는 먼저 체로  \n",
    "학습할 데이터 들을 \n",
    "<strong>걸러 내는 듯한 느낌</strong>이었다면 이번 전처리에서는 데이터를 <strong>다루기 쉽게 만들어주는 단계</strong>이다."
   ]
  },
  {
   "cell_type": "code",
   "execution_count": 4,
   "metadata": {},
   "outputs": [
    {
     "name": "stdout",
     "output_type": "stream",
     "text": [
      "Like a serial killer, man is a goner (man cured) \n"
     ]
    }
   ],
   "source": [
    "corpus = []\n",
    "for sentence in raw_corpus: \n",
    "    if len(sentence) == 0 or len(sentence) > 15: continue #문장의 길이가 0이거나\n",
    "                                                          #15 이상이라면 skip\n",
    "    if sentence[-1] == \":\":continue #문장의 끝이 :이라면 skip\n",
    "        \n",
    "    corpus.append(preprocess_sentence(sentence))#corpus에 전처리된 문장을 추가\n",
    "    \n",
    "print(sentence)"
   ]
  },
  {
   "cell_type": "markdown",
   "metadata": {},
   "source": [
    "## Tokenizing  \n",
    "--------------------------------\n",
    "\n",
    "- ### 토큰화란?  \n",
    "코퍼스 데이터(말뭉치 - 사람들이 사용하는 자연어로 보면 된다!)가 필요에 맞게 전처리되지  \n",
    "않았을 때 입력데이터로 활용하고자 한다면 반드시 토큰화가 필요한데, token은 보통 단어나  \n",
    "어떤 부분이 의미를 가질 때 정해진다.  \n",
    "\n",
    "아래 코드는 토큰화를 해주는 코드이다."
   ]
  },
  {
   "cell_type": "code",
   "execution_count": 5,
   "metadata": {},
   "outputs": [
    {
     "name": "stdout",
     "output_type": "stream",
     "text": [
      "[[   2    8   14 ...    0    0    0]\n",
      " [   2    8   14 ...    0    0    0]\n",
      " [   2    8   14 ...    0    0    0]\n",
      " ...\n",
      " [   2   72   26 ...    0    0    0]\n",
      " [   2  140    3 ...    0    0    0]\n",
      " [   2   78 3416 ...    0    0    0]] <keras_preprocessing.text.Tokenizer object at 0x7f4df7e01c50>\n"
     ]
    }
   ],
   "source": [
    "def tokenize(corpus):\n",
    "    # 텐서플로우에서 제공하는 Tokenizer 패키지를 생성\n",
    "    tokenizer = tf.keras.preprocessing.text.Tokenizer(\n",
    "        num_words=7000,  # 전체 단어의 개수 \n",
    "        filters=' ',    #전처리 로직을 따로 설정해주지 않을 것(커스터마이징이 가능하다)\n",
    "        oov_token=\"<unk>\"  # <unk> == unknown 사전에 없는 단어는 해당 토큰으로 대체된다.\n",
    "    )\n",
    "    tokenizer.fit_on_texts(corpus)   #fit_on_text 함수를 통해서 사전을 자동구축할 수 있다.\n",
    "\n",
    "   #tokenizer를 통해서 입력할 수 있는 데이터로 만들어준다.\n",
    "    tensor = tokenizer.texts_to_sequences(corpus)   #text_to_sequeces는 corpus -> tensor의 역할을 한다.\n",
    "    # 입력 데이터의 시퀀스 길이를 맞춰주기 위해 padding 함수를 사용할 수 있다.\n",
    "    # maxlen의 디폴트값은 None인 경우 가장 긴 문장을 기준으로 시퀀스의 길이를 맞춰준다.\n",
    "    tensor = tf.keras.preprocessing.sequence.pad_sequences(tensor, padding='post', maxlen = 15)  \n",
    "\n",
    "    print(tensor,tokenizer)\n",
    "    \n",
    "    return tensor, tokenizer\n",
    "\n",
    "tensor, tokenizer = tokenize(corpus)"
   ]
  },
  {
   "cell_type": "markdown",
   "metadata": {},
   "source": [
    "## fit_on_text  \n",
    "주석으로는 '사전을 구축 한다'라는 바로 와닿지 않는 말을 사용했는데,  \n",
    "사실 이 함수는 문자 데이터를 입력받아서 리스트의 형태로 변환해준다. "
   ]
  },
  {
   "cell_type": "code",
   "execution_count": 6,
   "metadata": {},
   "outputs": [
    {
     "name": "stdout",
     "output_type": "stream",
     "text": [
      "[ 2  8 14 14  3  0  0  0  0  0  0  0  0  0]\n",
      "[ 8 14 14  3  0  0  0  0  0  0  0  0  0  0]\n"
     ]
    }
   ],
   "source": [
    "src_input = tensor[:, :-1]  # tensor에서 마지막 토큰을 잘라내서 소스 문장을 생성\n",
    "tgt_input = tensor[:, 1:]    # tensor에서 <start>를 잘라내서 타겟 문장을 생성\n",
    "\n",
    "print(src_input[0])\n",
    "print(tgt_input[0])"
   ]
  },
  {
   "cell_type": "markdown",
   "metadata": {},
   "source": [
    "위 src_input은 마지막 토큰을 잘라내었기 때문에 < end >로 끝날 수 있다고 생각하기  \n",
    "쉽지만 위에서 padding 작업을 했기 때문에 < pad >로 끝날 가능성이 더 높다 ! "
   ]
  },
  {
   "cell_type": "code",
   "execution_count": 7,
   "metadata": {},
   "outputs": [
    {
     "data": {
      "text/plain": [
       "<BatchDataset shapes: ((256, 14), (256, 14)), types: (tf.int32, tf.int32)>"
      ]
     },
     "execution_count": 7,
     "metadata": {},
     "output_type": "execute_result"
    }
   ],
   "source": [
    "BUFFER_SIZE = len(src_input) #buffer는 입력할 문장의 개수로 해주는 것이 당연!\n",
    "BATCH_SIZE = 256 \n",
    "steps_per_epoch = len(src_input) // BATCH_SIZE\n",
    "\n",
    "VOCAB_SIZE = tokenizer.num_words + 1    # tokenizer가 구축한 단어사전 내 7000개와, 여기 포함되지 않은 \n",
    "                                        #<pad>를 포함하여 7001개\n",
    "dataset = tf.data.Dataset.from_tensor_slices((src_input, tgt_input)).shuffle(BUFFER_SIZE)\n",
    "dataset = dataset.batch(BATCH_SIZE, drop_remainder=True)\n",
    "dataset"
   ]
  },
  {
   "cell_type": "markdown",
   "metadata": {},
   "source": [
    "## from_tensor_slices()??  \n",
    "----------------------------------------  \n",
    "tf.data.Dataset에서의 from_tensor_slices()는 <strong><span style = \"color  : blue\">주어진 입력 텐서의 첫번째 차원을 따라 슬라이스</span></strong> 해준다. 이때 모든 입력 텐서들은 첫번째 차원과 같은 크기를 가져야한다고 한다!"
   ]
  },
  {
   "cell_type": "markdown",
   "metadata": {},
   "source": [
    "이제 직접적으로 텍스트를 만들어줄 text Generator 클래스(모델)를 만들어준다"
   ]
  },
  {
   "cell_type": "code",
   "execution_count": 8,
   "metadata": {},
   "outputs": [],
   "source": [
    "class TextGenerator(tf.keras.Model):\n",
    "    def __init__(self, vocab_size, embedding_size, hidden_size): #초기화 함수에\n",
    "                                                                #각각 레이어를 달아준다\n",
    "        super(TextGenerator, self).__init__()\n",
    "        \n",
    "        self.embedding = tf.keras.layers.Embedding(vocab_size, embedding_size)\n",
    "        self.rnn_1 = tf.keras.layers.LSTM(hidden_size, return_sequences=True)\n",
    "        self.rnn_2 = tf.keras.layers.LSTM(hidden_size, return_sequences=True)\n",
    "        self.linear = tf.keras.layers.Dense(vocab_size)\n",
    "        \n",
    "    def call(self, x):\n",
    "        out = self.embedding(x)\n",
    "        out = self.rnn_1(out)\n",
    "        out = self.rnn_2(out)\n",
    "        out = self.linear(out)\n",
    "        \n",
    "        return out\n",
    "    \n",
    "embedding_size = 256 #워드 벡터의 차원수(단어가 추상적으로 표현되는 크기. 값이 커질수록\n",
    "                    #단어의 추상적인 특징들을 더 잘 잡아내는 반면 이에 맞는 데이터가 주어\n",
    "                    #지지 않는다면 오히려 그 특징들을 잡아낼 수 없을 것이다.)\n",
    "hidden_size = 1024\n",
    "#모델에 얼마나 많은 손을 달아줄 것인가? embedding_size와 비슷하게 크기에 맞는 데이터가\n",
    "#주어지지 않는다면 허공에 손을 휘젓는 꼴이 될 것이다\n",
    "model = TextGenerator(tokenizer.num_words + 1, embedding_size , hidden_size)"
   ]
  },
  {
   "cell_type": "code",
   "execution_count": 9,
   "metadata": {
    "scrolled": true
   },
   "outputs": [
    {
     "data": {
      "text/plain": [
       "<tf.Tensor: shape=(256, 14, 7001), dtype=float32, numpy=\n",
       "array([[[-2.60002678e-04, -2.91055621e-04,  3.49153503e-04, ...,\n",
       "          9.42660481e-05, -3.01746622e-05, -1.76199792e-05],\n",
       "        [-1.09811903e-04, -5.18679502e-04,  3.63463390e-04, ...,\n",
       "          4.44327452e-05, -3.32353884e-05, -5.77828614e-04],\n",
       "        [-3.65163985e-04, -6.87557273e-04,  6.27616071e-04, ...,\n",
       "          2.16907996e-04, -2.37984685e-04, -7.94493943e-04],\n",
       "        ...,\n",
       "        [ 7.10496772e-03,  1.22876576e-04, -2.05999677e-05, ...,\n",
       "         -6.28030684e-04, -2.56873458e-03, -6.32266514e-04],\n",
       "        [ 7.59970164e-03,  1.87520753e-04, -5.94455014e-05, ...,\n",
       "         -5.48104406e-04, -2.77944701e-03, -4.56092908e-04],\n",
       "        [ 7.99650978e-03,  2.33496525e-04, -9.04194094e-05, ...,\n",
       "         -4.52710665e-04, -2.96799350e-03, -2.74411315e-04]],\n",
       "\n",
       "       [[-2.60002678e-04, -2.91055621e-04,  3.49153503e-04, ...,\n",
       "          9.42660481e-05, -3.01746622e-05, -1.76199792e-05],\n",
       "        [-4.11462359e-04, -3.18801962e-04,  2.24932097e-04, ...,\n",
       "         -3.20252475e-05, -3.07360788e-05, -8.51844961e-05],\n",
       "        [-3.57453304e-04,  1.19916316e-04,  2.43867660e-04, ...,\n",
       "         -2.76305364e-04, -2.50578505e-05, -1.16208619e-04],\n",
       "        ...,\n",
       "        [ 5.43542439e-03, -8.28601987e-05, -1.53467074e-04, ...,\n",
       "          3.39379971e-04, -2.40657898e-03, -1.02083443e-03],\n",
       "        [ 6.19741250e-03, -2.00996092e-05, -2.06357843e-04, ...,\n",
       "          2.87387636e-04, -2.66617234e-03, -1.00051006e-03],\n",
       "        [ 6.84579182e-03,  4.03205377e-05, -2.51672609e-04, ...,\n",
       "          2.66243587e-04, -2.89372844e-03, -9.29565926e-04]],\n",
       "\n",
       "       [[-2.60002678e-04, -2.91055621e-04,  3.49153503e-04, ...,\n",
       "          9.42660481e-05, -3.01746622e-05, -1.76199792e-05],\n",
       "        [-4.81918774e-04, -4.69148741e-04,  4.12646303e-04, ...,\n",
       "          3.43685882e-04, -1.90702747e-04, -2.86505063e-04],\n",
       "        [-8.23633105e-04, -4.07104526e-04,  2.57849024e-04, ...,\n",
       "          1.35654118e-04,  1.50406428e-04, -2.94672471e-04],\n",
       "        ...,\n",
       "        [ 5.06772287e-03,  2.14770800e-04,  2.92398709e-05, ...,\n",
       "         -1.38664982e-04, -1.72004476e-03, -8.46607145e-04],\n",
       "        [ 5.88127878e-03,  2.96407175e-04, -4.05529208e-05, ...,\n",
       "         -1.96284615e-04, -2.00590561e-03, -7.99688976e-04],\n",
       "        [ 6.57056086e-03,  3.70313239e-04, -1.04083156e-04, ...,\n",
       "         -2.17513094e-04, -2.27051368e-03, -7.01862038e-04]],\n",
       "\n",
       "       ...,\n",
       "\n",
       "       [[-2.60002678e-04, -2.91055621e-04,  3.49153503e-04, ...,\n",
       "          9.42660481e-05, -3.01746622e-05, -1.76199792e-05],\n",
       "        [-4.03920072e-04, -6.41615712e-04,  4.19854739e-04, ...,\n",
       "          3.55255790e-04,  4.18419004e-05,  2.77963933e-04],\n",
       "        [-6.34533062e-04, -1.24950160e-03,  4.71381703e-04, ...,\n",
       "          2.96307378e-04,  4.54648572e-04,  2.14596497e-04],\n",
       "        ...,\n",
       "        [ 6.18793070e-03, -4.43255412e-04,  2.90477532e-04, ...,\n",
       "         -5.18732355e-04, -1.99628319e-03, -7.22285768e-04],\n",
       "        [ 6.83813309e-03, -2.82667635e-04,  1.92624066e-04, ...,\n",
       "         -4.84631455e-04, -2.29753763e-03, -6.16622739e-04],\n",
       "        [ 7.37386895e-03, -1.51197513e-04,  1.09695051e-04, ...,\n",
       "         -4.22637269e-04, -2.56597530e-03, -4.82299627e-04]],\n",
       "\n",
       "       [[-2.60002678e-04, -2.91055621e-04,  3.49153503e-04, ...,\n",
       "          9.42660481e-05, -3.01746622e-05, -1.76199792e-05],\n",
       "        [-1.08159693e-04, -4.46508406e-04,  5.38586348e-04, ...,\n",
       "          5.69534022e-05, -1.96159512e-04, -6.52255476e-05],\n",
       "        [-4.57184768e-04, -5.98778832e-04,  4.13200818e-04, ...,\n",
       "         -4.64289451e-06, -2.35315616e-04,  2.21625116e-04],\n",
       "        ...,\n",
       "        [ 6.10347884e-03, -1.36477000e-04,  3.04028974e-04, ...,\n",
       "         -3.92120128e-04, -2.31674663e-03, -3.17489030e-04],\n",
       "        [ 6.80101011e-03, -4.70863852e-05,  2.20741087e-04, ...,\n",
       "         -3.53764248e-04, -2.55166856e-03, -2.56142142e-04],\n",
       "        [ 7.37523753e-03,  2.99899311e-05,  1.46477512e-04, ...,\n",
       "         -2.97064282e-04, -2.76283058e-03, -1.63699166e-04]],\n",
       "\n",
       "       [[-2.60002678e-04, -2.91055621e-04,  3.49153503e-04, ...,\n",
       "          9.42660481e-05, -3.01746622e-05, -1.76199792e-05],\n",
       "        [-5.48814191e-04, -4.59254021e-04,  4.50190535e-04, ...,\n",
       "          3.87926004e-04, -8.15572057e-05, -1.38586620e-04],\n",
       "        [-7.17322633e-04, -5.46295836e-04,  6.60725345e-04, ...,\n",
       "          1.99244896e-04, -2.09712489e-05,  7.36678121e-05],\n",
       "        ...,\n",
       "        [ 4.76685725e-03,  2.79689673e-04,  5.30737670e-05, ...,\n",
       "          1.70002295e-05, -1.17073394e-03, -5.26283751e-04],\n",
       "        [ 5.67204226e-03,  3.47882422e-04,  1.36289018e-05, ...,\n",
       "         -9.79446777e-05, -1.50077452e-03, -5.78173553e-04],\n",
       "        [ 6.44160714e-03,  4.00190591e-04, -2.29372290e-05, ...,\n",
       "         -1.65581310e-04, -1.81179657e-03, -5.69317664e-04]]],\n",
       "      dtype=float32)>"
      ]
     },
     "execution_count": 9,
     "metadata": {},
     "output_type": "execute_result"
    }
   ],
   "source": [
    "for src_sample, tgt_sample in dataset.take(1): break\n",
    "model(src_sample)"
   ]
  },
  {
   "cell_type": "markdown",
   "metadata": {},
   "source": [
    "위의 코드로 나온 텐서의 shape는 256, 14, 7001의 값을 갖는다.  \n",
    "256은 위에서 정해준 batch size, 14는 자신에게 입력된 시퀀스의 길이만큼 동일한 길이의 시퀀스를 출력한다는 의미를 가지고, 7001은 익숙하게도 pad를 포함한 단어사전의 크기이다."
   ]
  },
  {
   "cell_type": "markdown",
   "metadata": {},
   "source": [
    "## 모델 확인  \n",
    "모델 구성을 완료했기 때문에 원하는 형태로 모델이 만들어졌는지 확인해 볼 수 있다."
   ]
  },
  {
   "cell_type": "code",
   "execution_count": 10,
   "metadata": {},
   "outputs": [
    {
     "name": "stdout",
     "output_type": "stream",
     "text": [
      "Model: \"text_generator\"\n",
      "_________________________________________________________________\n",
      "Layer (type)                 Output Shape              Param #   \n",
      "=================================================================\n",
      "embedding (Embedding)        multiple                  1792256   \n",
      "_________________________________________________________________\n",
      "lstm (LSTM)                  multiple                  5246976   \n",
      "_________________________________________________________________\n",
      "lstm_1 (LSTM)                multiple                  8392704   \n",
      "_________________________________________________________________\n",
      "dense (Dense)                multiple                  7176025   \n",
      "=================================================================\n",
      "Total params: 22,607,961\n",
      "Trainable params: 22,607,961\n",
      "Non-trainable params: 0\n",
      "_________________________________________________________________\n"
     ]
    }
   ],
   "source": [
    "model.summary()"
   ]
  },
  {
   "cell_type": "markdown",
   "metadata": {},
   "source": [
    "## 학습"
   ]
  },
  {
   "cell_type": "code",
   "execution_count": 11,
   "metadata": {},
   "outputs": [
    {
     "name": "stdout",
     "output_type": "stream",
     "text": [
      "Epoch 1/30\n",
      "55/55 [==============================] - 5s 90ms/step - loss: 2.3524\n",
      "Epoch 2/30\n",
      "55/55 [==============================] - 5s 90ms/step - loss: 1.3566\n",
      "Epoch 3/30\n",
      "55/55 [==============================] - 5s 91ms/step - loss: 1.2284\n",
      "Epoch 4/30\n",
      "55/55 [==============================] - 5s 94ms/step - loss: 1.1868\n",
      "Epoch 5/30\n",
      "55/55 [==============================] - 5s 92ms/step - loss: 1.1625\n",
      "Epoch 6/30\n",
      "55/55 [==============================] - 5s 92ms/step - loss: 1.1430\n",
      "Epoch 7/30\n",
      "55/55 [==============================] - 5s 97ms/step - loss: 1.1200\n",
      "Epoch 8/30\n",
      "55/55 [==============================] - 5s 96ms/step - loss: 1.0940\n",
      "Epoch 9/30\n",
      "55/55 [==============================] - 5s 93ms/step - loss: 1.0718\n",
      "Epoch 10/30\n",
      "55/55 [==============================] - 5s 93ms/step - loss: 1.0428\n",
      "Epoch 11/30\n",
      "55/55 [==============================] - 5s 93ms/step - loss: 1.0202\n",
      "Epoch 12/30\n",
      "55/55 [==============================] - 5s 93ms/step - loss: 0.9988\n",
      "Epoch 13/30\n",
      "55/55 [==============================] - 5s 93ms/step - loss: 0.9781\n",
      "Epoch 14/30\n",
      "55/55 [==============================] - 5s 93ms/step - loss: 0.9577\n",
      "Epoch 15/30\n",
      "55/55 [==============================] - 5s 94ms/step - loss: 0.9380\n",
      "Epoch 16/30\n",
      "55/55 [==============================] - 5s 94ms/step - loss: 0.9198\n",
      "Epoch 17/30\n",
      "55/55 [==============================] - 5s 94ms/step - loss: 0.9021\n",
      "Epoch 18/30\n",
      "55/55 [==============================] - 5s 94ms/step - loss: 0.8849\n",
      "Epoch 19/30\n",
      "55/55 [==============================] - 5s 94ms/step - loss: 0.8694\n",
      "Epoch 20/30\n",
      "55/55 [==============================] - 5s 95ms/step - loss: 0.8543\n",
      "Epoch 21/30\n",
      "55/55 [==============================] - 5s 94ms/step - loss: 0.8397\n",
      "Epoch 22/30\n",
      "55/55 [==============================] - 5s 94ms/step - loss: 0.8280\n",
      "Epoch 23/30\n",
      "55/55 [==============================] - 5s 94ms/step - loss: 0.8149\n",
      "Epoch 24/30\n",
      "55/55 [==============================] - 5s 94ms/step - loss: 0.8034\n",
      "Epoch 25/30\n",
      "55/55 [==============================] - 5s 94ms/step - loss: 0.7928\n",
      "Epoch 26/30\n",
      "55/55 [==============================] - 5s 94ms/step - loss: 0.7826\n",
      "Epoch 27/30\n",
      "55/55 [==============================] - 5s 94ms/step - loss: 0.7735\n",
      "Epoch 28/30\n",
      "55/55 [==============================] - 5s 94ms/step - loss: 0.7642\n",
      "Epoch 29/30\n",
      "55/55 [==============================] - 5s 94ms/step - loss: 0.7562\n",
      "Epoch 30/30\n",
      "55/55 [==============================] - 5s 95ms/step - loss: 0.7472\n"
     ]
    },
    {
     "data": {
      "text/plain": [
       "<tensorflow.python.keras.callbacks.History at 0x7f4df92a3a50>"
      ]
     },
     "execution_count": 11,
     "metadata": {},
     "output_type": "execute_result"
    }
   ],
   "source": [
    "optimizer = tf.keras.optimizers.Adam()\n",
    "loss = tf.keras.losses.SparseCategoricalCrossentropy(\n",
    "    from_logits=True,\n",
    "    reduction='none'\n",
    ")\n",
    "\n",
    "model.compile(loss=loss, optimizer=optimizer)\n",
    "model.fit(dataset, epochs=30)"
   ]
  },
  {
   "cell_type": "markdown",
   "metadata": {},
   "source": [
    "## 텍스트 생성\n",
    "학습까지 완료된 모델을 통해서 텍스트를 만들어줄 수 있다. "
   ]
  },
  {
   "cell_type": "code",
   "execution_count": 3,
   "metadata": {},
   "outputs": [],
   "source": [
    "def generate_text(model, tokenizer, init_sentence=\"<start>\", max_len=20):\n",
    "    # 우선 입력받은 단어를 텐서로 변환해준다\n",
    "    test_input = tokenizer.texts_to_sequences([init_sentence])\n",
    "    test_tensor = tf.convert_to_tensor(test_input, dtype=tf.int64)\n",
    "    end_token = tokenizer.word_index[\"<end>\"]\n",
    "\n",
    "    # 루프를 돌면서 단어 하나씩 생성. \n",
    "    while True:\n",
    "        predict = model(test_tensor)  # 입력받은 문장의 텐서를 입력 \n",
    "        predict_word = tf.argmax(tf.nn.softmax(predict, axis=-1), axis=-1)[:, -1]  \n",
    " \n",
    "        test_tensor = tf.concat([test_tensor, \n",
    "                                tf.expand_dims(predict_word, axis=0)], axis=-1)\n",
    "\n",
    "        #<end>를 예측하거나 maxlen에 다다를때 까지 루프 반복\n",
    "        if predict_word.numpy()[0] == end_token: break\n",
    "        if test_tensor.shape[1] >= max_len: break\n",
    "\n",
    "    generated = \"\"\n",
    "    # 생성된 tensor 안에 있는 word index를 tokenizer.index_word 사전을 통해 실제 단어로 하나씩 변환\n",
    "    for word_index in test_tensor[0].numpy():\n",
    "        generated += tokenizer.index_word[word_index] + \" \"\n",
    "\n",
    "    return generated   # 문장 반환"
   ]
  },
  {
   "cell_type": "code",
   "execution_count": 4,
   "metadata": {},
   "outputs": [
    {
     "ename": "NameError",
     "evalue": "name 'model' is not defined",
     "output_type": "error",
     "traceback": [
      "\u001b[0;31m---------------------------------------------------------------------------\u001b[0m",
      "\u001b[0;31mNameError\u001b[0m                                 Traceback (most recent call last)",
      "\u001b[0;32m<ipython-input-4-266a9726d1df>\u001b[0m in \u001b[0;36m<module>\u001b[0;34m\u001b[0m\n\u001b[0;32m----> 1\u001b[0;31m \u001b[0mgenerate_text\u001b[0m\u001b[0;34m(\u001b[0m\u001b[0mmodel\u001b[0m\u001b[0;34m,\u001b[0m \u001b[0mtokenizer\u001b[0m\u001b[0;34m,\u001b[0m \u001b[0minit_sentence\u001b[0m\u001b[0;34m=\u001b[0m\u001b[0;34m\"<start> be\"\u001b[0m\u001b[0;34m)\u001b[0m\u001b[0;34m\u001b[0m\u001b[0;34m\u001b[0m\u001b[0m\n\u001b[0m",
      "\u001b[0;31mNameError\u001b[0m: name 'model' is not defined"
     ]
    }
   ],
   "source": [
    "generate_text(model, tokenizer, init_sentence=\"<start> be\")"
   ]
  },
  {
   "cell_type": "markdown",
   "metadata": {},
   "source": [
    "## 회고  \n",
    "새로운 산출물을 내는 모델은 새로웠다. 사실 예측이라는 측면에서 분류기 모델들과  \n",
    "크게 다르지 않다는 생각이 들었고, 너무 복잡하게 생각할 필요도 없다는 생각이 들었다.  \n",
    "언어학을 전공해서 크게 어렵지 않겠다는 생각을 가지고 시작한 토이프로젝트 였지만, 사실  \n",
    "코퍼스나 진폭, 주파수(음성 분석) 등 용어만 익숙하고 텐서나 시퀀스 처리에 대한 개념 자체는 오히려 더 생소했기 때문에 사실 더 힘들었던 것 같다.   \n",
    "해당 프로젝트를 진행하면서 모델이 어떻게 문법을 예측하는지, 적절한 단어를 고르는지에 대한  \n",
    "모든 인사이트는 들어오지 않았지만, 어렴풋이 흐름에 대한 감을 잡을 수 있는 토이프로젝트 였던 것 같다.  "
   ]
  }
 ],
 "metadata": {
  "kernelspec": {
   "display_name": "aiffel",
   "language": "python",
   "name": "aiffel"
  },
  "language_info": {
   "codemirror_mode": {
    "name": "ipython",
    "version": 3
   },
   "file_extension": ".py",
   "mimetype": "text/x-python",
   "name": "python",
   "nbconvert_exporter": "python",
   "pygments_lexer": "ipython3",
   "version": "3.7.9"
  }
 },
 "nbformat": 4,
 "nbformat_minor": 5
}
