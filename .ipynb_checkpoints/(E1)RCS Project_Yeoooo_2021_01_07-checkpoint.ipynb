{
 "cells": [
  {
   "cell_type": "code",
   "execution_count": 28,
   "metadata": {},
   "outputs": [],
   "source": [
    "import numpy as np\n",
    "import os, glob\n",
    "from PIL import Image\n",
    "import tensorflow as tf\n",
    "from tensorflow import keras\n",
    "\n",
    "import matplotlib.pyplot as plt"
   ]
  },
  {
   "cell_type": "code",
   "execution_count": 5,
   "metadata": {},
   "outputs": [
    {
     "name": "stdout",
     "output_type": "stream",
     "text": [
      "이미지 디렉토리 경로:  /home/aiffel/rock_scissor_paper/scissor\n",
      "가위 이미지 resize 완료!\n"
     ]
    }
   ],
   "source": [
    "import os\n",
    "\n",
    "image_dir_path = os.getenv(\"HOME\") + \"/rock_scissor_paper/scissor\"\n",
    "#이미지 디렉토리에 타겟 파일의 경로를 저장\n",
    "print(\"이미지 디렉토리 경로: \", image_dir_path)\n",
    "\n",
    "images=glob.glob(image_dir_path + \"/*.jpg\")  \n",
    "#glob은 파일들의 리스트를 뽑을 때 사용하며 파일의 경로명을 이용해서 원하는대로 조작 가능\n",
    "#glob을 통하여 image_dir_path에 저장된 변수의 jpg 파일들을 선택\n",
    "\n",
    "target_size=(100,100)\n",
    "#target_size 변수에 28, 28 배열을 저장 \n",
    "\n",
    "for img in images:\n",
    "    #모든 이미지를 탐색하며\n",
    "    old_img=Image.open(img)\n",
    "    #old_img 변수에 타겟 이미지를 저장\n",
    "    new_img=old_img.resize(target_size,Image.ANTIALIAS)\n",
    "    #new_img 변수에 target_size의 값으로 resize\n",
    "    \n",
    "    new_img.save(img,\"JPEG\")\n",
    "    #resize된 new_img를 JPEG 확장자로 저장\n",
    "\n",
    "\n",
    "print(\"가위 이미지 resize 완료!\")"
   ]
  },
  {
   "cell_type": "markdown",
   "metadata": {},
   "source": [
    "# \"*바위* , *보* \"  또한 같은 방식으로 resizing"
   ]
  },
  {
   "cell_type": "markdown",
   "metadata": {},
   "source": [
    "이어서 이미지파일을 불러내기 위해 load_file 함수를 정의 해준다"
   ]
  },
  {
   "cell_type": "markdown",
   "metadata": {},
   "source": [
    "데이터를 원하는 사이즈로 resize를 했다면 이제는 \n",
    "_본격적인 데이터 전처리_ 를 해야한다"
   ]
  },
  {
   "cell_type": "code",
   "execution_count": 29,
   "metadata": {},
   "outputs": [
    {
     "name": "stdout",
     "output_type": "stream",
     "text": [
      "학습데이터(x_train)의 이미지 개수는 1800 입니다.\n",
      "x_train shape: (1800, 28, 28, 3)\n",
      "y_train shape: (1800,)\n"
     ]
    }
   ],
   "source": [
    "def load_data(img_path):\n",
    "    # 가위 : 0, 바위 : 1, 보 : 2\n",
    "    number_of_data=1800   # 데이터의 총합의 개수를 맞춰줘야 한다!\n",
    "    img_size=28\n",
    "    color=3\n",
    "    #이미지 데이터와 라벨데이터를 담을 행렬(matrix) 영역을 생성한다.\n",
    "    imgs=np.zeros(number_of_data*img_size*img_size*color,dtype=np.int32).reshape(number_of_data,img_size,img_size,color)\n",
    "    labels=np.zeros(number_of_data,dtype=np.int32)\n",
    "    #이 때 행렬 계산을 할 수 있게 도와주는 라이브러리인 위에서np로 예약어 설정을 한 numpy\n",
    "    #라이브러리를 사용한다!\n",
    "    idx=0\n",
    "    for file in glob.iglob(img_path+'/scissor/*.jpg'):\n",
    "        img = np.array(Image.open(file),dtype=np.int32)\n",
    "        imgs[idx,:,:,:]=img    # 데이터 영역에 이미지 행렬을 복사해준다.\n",
    "        labels[idx]=0   # 가위 : 0\n",
    "        idx=idx+1\n",
    "\n",
    "    for file in glob.iglob(img_path+'/rock/*.jpg'):\n",
    "        img = np.array(Image.open(file),dtype=np.int32)\n",
    "        imgs[idx,:,:,:]=img    \n",
    "        labels[idx]=1   # 바위 : 1\n",
    "        idx=idx+1       \n",
    "    \n",
    "    for file in glob.iglob(img_path+'/paper/*.jpg'):\n",
    "        img = np.array(Image.open(file),dtype=np.int32)\n",
    "        imgs[idx,:,:,:]=img    \n",
    "        labels[idx]=2   # 보 : 2\n",
    "        idx=idx+1\n",
    "        \n",
    "    print(\"학습데이터(x_train)의 이미지 개수는\",idx,\"입니다.\")\n",
    "    #데이터의 수는 이미지행렬을 복사한 수만큼 늘어난 idx로 파악한다\n",
    "    return imgs, labels\n",
    "\n",
    "image_dir_path = os.getenv(\"HOME\") + \"/aiffel/rock_scissor_paper\"\n",
    "(x_train, y_train)=load_data(image_dir_path)\n",
    "x_train_norm = x_train/255.0   # 입력된 데이터는 0~255의 범위만큼 난잡하게 표현될 필요없다!\n",
    "#따라서 255로 나눠 정규화를 진행한 값을 저장해둔다.\n",
    "\n",
    "print(\"x_train shape: {}\".format(x_train.shape))#실제 이미지 데이터가 들어가 있는 x_train\n",
    "print(\"y_train shape: {}\".format(y_train.shape))#이미지에 대한 라벨이 들어가있는 y_train\n"
   ]
  },
  {
   "cell_type": "markdown",
   "metadata": {},
   "source": [
    "데이터들이 학습데이터들로 잘 만들어졌는지 파악한다.  \n",
    "x_train 의 shape는 28x28사이즈에 R, G, B 3채널로 이뤄져있는 1800개의 데이터로 이뤄져있다.</br>\n",
    "y_train 의 shape는 라벨이기 때문에 1800개의 라벨로 구성되어있다."
   ]
  },
  {
   "cell_type": "markdown",
   "metadata": {},
   "source": [
    "## 이제는 정말 데이터가 들어가있는지 눈으로 확인할 차례!"
   ]
  },
  {
   "cell_type": "code",
   "execution_count": 30,
   "metadata": {},
   "outputs": [
    {
     "name": "stdout",
     "output_type": "stream",
     "text": [
      "라벨:  0\n"
     ]
    },
    {
     "data": {
      "image/png": "[encoded data removed]",
      "text/plain": [
       "<Figure size 432x288 with 1 Axes>"
      ]
     },
     "metadata": {
      "needs_background": "light"
     },
     "output_type": "display_data"
    }
   ],
   "source": [
    "import matplotlib.pyplot as plt #강력한 시각화 기능을 제공하는 matplotlib 라이브러리 모듈\n",
    "plt.imshow(x_train[0]) #xtrain에 들어있는 첫번재 이미지를 imshow메서드를 통해 불러온다\n",
    "print('라벨: ', y_train[0])#동시에 라벨도.."
   ]
  },
  {
   "cell_type": "markdown",
   "metadata": {},
   "source": [
    "### 학습시키기 전에...."
   ]
  },
  {
   "cell_type": "code",
   "execution_count": 34,
   "metadata": {},
   "outputs": [
    {
     "name": "stdout",
     "output_type": "stream",
     "text": [
      "Model: \"sequential_4\"\n",
      "_________________________________________________________________\n",
      "Layer (type)                 Output Shape              Param #   \n",
      "=================================================================\n",
      "conv2d_8 (Conv2D)            (None, 26, 26, 64)        1792      \n",
      "_________________________________________________________________\n",
      "max_pooling2d_8 (MaxPooling2 (None, 13, 13, 64)        0         \n",
      "_________________________________________________________________\n",
      "conv2d_9 (Conv2D)            (None, 11, 11, 128)       73856     \n",
      "_________________________________________________________________\n",
      "max_pooling2d_9 (MaxPooling2 (None, 5, 5, 128)         0         \n",
      "_________________________________________________________________\n",
      "flatten_4 (Flatten)          (None, 3200)              0         \n",
      "_________________________________________________________________\n",
      "dense_8 (Dense)              (None, 64)                204864    \n",
      "_________________________________________________________________\n",
      "dense_9 (Dense)              (None, 10)                650       \n",
      "=================================================================\n",
      "Total params: 281,162\n",
      "Trainable params: 281,162\n",
      "Non-trainable params: 0\n",
      "_________________________________________________________________\n",
      "Model에 추가된 Layer 개수:  7\n"
     ]
    }
   ],
   "source": [
    "\n",
    "#하이퍼파라미터들\n",
    "n_channel_1=64 #얼마나 많은 특징을 보는가\n",
    "n_channel_2=128 #얼마나 많은 특징을 보는가\n",
    "n_dense= 64 #분류기 알고리즘을 얼마나 복잡하게 할 것인가 / 복잡한 이미지일수록 높여주면 좋음\n",
    "n_train_epoch=15 #훈련 횟수(...?)\n",
    "\n",
    "model=keras.models.Sequential()#keras라이브러리의 모델중 간단히 모델을 만들어낼 수 있는 \n",
    "                                #Sequential 모델을 이용할 것이다.\n",
    "model.add(keras.layers.Conv2D(n_channel_1, (3,3), activation='relu', input_shape=(28,28,3))\n",
    "          #Conv2D는 필터로 특징을 뽑아주는 Convoultion(합성곱)레이어이다 \n",
    "model.add(keras.layers.MaxPool2D(2,2))\n",
    "          #MaxPool2D는 여러 종류의 Pooling Layer중에서 이미지 분류 모델에 가장 많이\n",
    "          #활용된다고 한다. 그 이유는...나중에 알아보자\n",
    "model.add(keras.layers.Conv2D(n_channel_2, (3,3), activation='relu'))\n",
    "model.add(keras.layers.MaxPooling2D((2,2)))\n",
    "model.add(keras.layers.Flatten())\n",
    "          #다차원 배열을 Flatten 메서드를 통해서 1차원으로 바꿔줄 수 있다!\n",
    "model.add(keras.layers.Dense(n_dense, activation='relu'))\n",
    "          #Dense는 입력뉴런과 출력 뉴런을 연결해준다. 이를 전결합층이라고 한다 \n",
    "model.add(keras.layers.Dense(3, activation='softmax'))\n",
    "        #두 번 쓰인 이유는 뭘까?\n",
    "\n",
    "model.summary()\n",
    "          #summary는 모델 구조 파악을 직관적으로 표현한다\n",
    "print('Model에 추가된 Layer 개수: ', len(model.layers))"
   ]
  },
  {
   "cell_type": "markdown",
   "metadata": {},
   "source": [
    "위와 같이 데이터 처리를 해줄 모델을 만들어줘야한다.  \n",
    "모델에는 각 층을 추가해서 구성해줘야 한다.(레고 블럭 같달까..)  \n",
    "\n",
    "이곳에서 설명하기 위해 주석에서는 아껴뒀는데, 두 레이어에 대해 간략하게 짚어봐야겠다  \n",
    "* __컨벌루션 레이어(합성곱 레이어)__  \n",
    "  \n",
    "  첫번째 인자는 컨벌루션 필터의 수가 들어가며 \n",
    "    \n",
    "  두번째 인자는  컨벌루션 커널의(행, 열)이 들어간다. \n",
    "    \n",
    "  세번째 인자로는 padding이 들어갈 수 있는데 이는 선택적인 것 같다.  \n",
    "   padding은 경계에 대한 처리 방법을 정의하는 곳인데, 아직까지는 깊게 파고들지 않을 것이다.\n",
    "     \n",
    "  네번째 인자로는 activation 으로 활성화 함수를 설정하는 곳이다.  \n",
    "   이곳에는 linear, relu, sigmoid, softmax가 들어갈 수 있다고 한다.  \n",
    "     \n",
    "\n",
    "* __Pooling 레이어__\n",
    "  \n",
    "  더 높은 정확도를 위해서는 필터가 많아야한다.  \n",
    "  필터가 늘어나는 것은 곧 차원이 늘어나는 것인데, 차원이 늘어난다면 오버피팅 문제와  \n",
    "  이런저런 문제들에 영향을 끼친다고 한다.  \n",
    "  이런 문제를 해결하기 위해서 차원을 감소시키는 역할을 하는것이 Pooling Layer라고 한다"
   ]
  },
  {
   "cell_type": "code",
   "execution_count": 38,
   "metadata": {},
   "outputs": [],
   "source": [
    "model.compile(optimizer='adam',\n",
    "             loss='sparse_categorical_crossentropy',\n",
    "             metrics=['accuracy'])\n",
    "#compile은 모델을 학습시키기 위한 학습과정을 설정하는 단계! \n",
    "#optimizer는 훈련 과정을 설정한다. 그 중 adam은 최적화하는 방향으로 학습이 일어난다고 한다.\n",
    "#mertics는 훈련과정을 모니터링 하는 방식을 설정할 수 있다! accuracy로 설정시에 학습과정에서 정확도를 수집한다."
   ]
  },
  {
   "cell_type": "markdown",
   "metadata": {},
   "source": [
    "## 드디어 학습!"
   ]
  },
  {
   "cell_type": "code",
   "execution_count": 39,
   "metadata": {},
   "outputs": [
    {
     "name": "stdout",
     "output_type": "stream",
     "text": [
      "Epoch 1/15\n",
      "57/57 [==============================] - 1s 9ms/step - loss: 0.0400 - accuracy: 0.9842\n",
      "Epoch 2/15\n",
      "57/57 [==============================] - 0s 9ms/step - loss: 0.0099 - accuracy: 0.9989\n",
      "Epoch 3/15\n",
      "57/57 [==============================] - 1s 9ms/step - loss: 0.0050 - accuracy: 1.0000\n",
      "Epoch 4/15\n",
      "57/57 [==============================] - 1s 9ms/step - loss: 0.0036 - accuracy: 1.0000\n",
      "Epoch 5/15\n",
      "57/57 [==============================] - 1s 9ms/step - loss: 0.0024 - accuracy: 1.0000\n",
      "Epoch 6/15\n",
      "57/57 [==============================] - 1s 9ms/step - loss: 0.0016 - accuracy: 1.0000\n",
      "Epoch 7/15\n",
      "57/57 [==============================] - 1s 9ms/step - loss: 0.0018 - accuracy: 1.0000\n",
      "Epoch 8/15\n",
      "57/57 [==============================] - 1s 9ms/step - loss: 0.0243 - accuracy: 0.9920\n",
      "Epoch 9/15\n",
      "57/57 [==============================] - 0s 9ms/step - loss: 0.0523 - accuracy: 0.9837\n",
      "Epoch 10/15\n",
      "57/57 [==============================] - 0s 9ms/step - loss: 0.0151 - accuracy: 0.9980\n",
      "Epoch 11/15\n",
      "57/57 [==============================] - 1s 9ms/step - loss: 0.0042 - accuracy: 1.0000\n",
      "Epoch 12/15\n",
      "57/57 [==============================] - 1s 9ms/step - loss: 9.6319e-04 - accuracy: 1.0000\n",
      "Epoch 13/15\n",
      "57/57 [==============================] - 1s 9ms/step - loss: 6.6521e-04 - accuracy: 1.0000\n",
      "Epoch 14/15\n",
      "57/57 [==============================] - 0s 9ms/step - loss: 5.9225e-04 - accuracy: 1.0000\n",
      "Epoch 15/15\n",
      "57/57 [==============================] - 1s 9ms/step - loss: 5.5165e-04 - accuracy: 1.0000\n"
     ]
    },
    {
     "data": {
      "text/plain": [
       "<tensorflow.python.keras.callbacks.History at 0x7f9ccff41150>"
      ]
     },
     "execution_count": 39,
     "metadata": {},
     "output_type": "execute_result"
    }
   ],
   "source": [
    "model.fit(x_train_reshaped, y_train, epochs=15)\n",
    "#x_train_reshaped, y_train을 사용하여 학습한다\n",
    "#epochs는 전체 입력데이터를 몇번 순회하는가를 지정해줄 수 있다 (몇 번 학습할 것인가로 이해해도 될 듯 싶다)"
   ]
  },
  {
   "cell_type": "markdown",
   "metadata": {},
   "source": [
    "### 학습 완료!\n",
    "\n",
    "이제 제대로 학습했는지 테스트를 해야할 시간이다."
   ]
  },
  {
   "cell_type": "code",
   "execution_count": 40,
   "metadata": {},
   "outputs": [
    {
     "name": "stdout",
     "output_type": "stream",
     "text": [
      "테스트 데이터(x_test)의 이미지 개수는 300 입니다.\n"
     ]
    }
   ],
   "source": [
    "def load_data(img_path):\n",
    "    # 가위 : 0, 바위 : 1, 보 : 2\n",
    "    number_of_data=300  #테스트 데이터의 개수에 유의해야한다!\n",
    "    img_size=28\n",
    "    color=3\n",
    "    \n",
    "    imgs=np.zeros(number_of_data*img_size*img_size*color,dtype=np.int32).reshape(number_of_data,img_size,img_size,color)\n",
    "    labels=np.zeros(number_of_data,dtype=np.int32)\n",
    "\n",
    "    idx=0\n",
    "    for file in glob.iglob(img_path+'/testset/scissor/*.jpg'):\n",
    "        img = np.array(Image.open(file),dtype=np.int32)\n",
    "        imgs[idx,:,:,:]=img   \n",
    "        labels[idx]=0   # 가위 : 0\n",
    "        idx=idx+1\n",
    "\n",
    "    for file in glob.iglob(img_path+'/testset/rock/*.jpg'):\n",
    "        img = np.array(Image.open(file),dtype=np.int32)\n",
    "        imgs[idx,:,:,:]=img    \n",
    "        labels[idx]=1   # 바위 : 1\n",
    "        idx=idx+1       \n",
    "    \n",
    "    for file in glob.iglob(img_path+'/testset/paper/*.jpg'):\n",
    "        img = np.array(Image.open(file),dtype=np.int32)\n",
    "        imgs[idx,:,:,:]=img    \n",
    "        labels[idx]=2   # 보 : 2\n",
    "        idx=idx+1\n",
    "        \n",
    "    print(\"테스트 데이터(x_test)의 이미지 개수는\",idx,\"입니다.\")\n",
    "    return imgs, labels\n",
    "#이미지 데이터를 불러올 수 있게 train 데이터를 만드는 방식과 똑 같 다\n",
    "  \n",
    "image_dir_path = os.getenv(\"HOME\") + \"/aiffel/rock_scissor_paper\"\n",
    "(x_test, y_test)=load_data(image_dir_path)\n",
    "x_test_norm = x_test/255.0\n",
    "x_test_reshaped=x_test_norm.reshape( -1, 28, 28, 3)"
   ]
  },
  {
   "cell_type": "markdown",
   "metadata": {},
   "source": [
    "## 이제 마지막으로 테스트 !"
   ]
  },
  {
   "cell_type": "code",
   "execution_count": 37,
   "metadata": {},
   "outputs": [
    {
     "name": "stdout",
     "output_type": "stream",
     "text": [
      "10/10 - 0s - loss: 0.7473 - accuracy: 0.7133\n",
      "test_loss: 0.7473486661911011 \n",
      "test_accuracy: 0.7133333086967468\n"
     ]
    }
   ],
   "source": [
    "# 모델 시험\n",
    "test_loss, test_accuracy = model.evaluate(x_test_reshaped, y_test, verbose=2)\n",
    "#손실률과 정확도를 model.evaluate로 측정한다\n",
    "print(\"test_loss: {} \".format(test_loss))\n",
    "print(\"test_accuracy: {}\".format(test_accuracy))\n"
   ]
  },
  {
   "cell_type": "markdown",
   "metadata": {},
   "source": [
    "테스트 결과는 정확도 0.7을 웃도는 결과가 나오는 가위바위보 이미지 분류기가 완성되었다!  \n",
    "살짝 아쉬운 결과이지만 내가 더 이상 버틸수가 없었다..  \n",
    "\n",
    "이번 프로젝트에서 가장 어려웠던 점은 데이터였다.\n",
    "처음 시도할 때는 정확도가 0.33333으로만 나오는데다가 이미지 손상문제가 있어서  \n",
    "많은 혼란이 있었지만, 데이터를 아예 갈아 엎어버리고 테스트셋까지 새로 갈아주니  \n",
    "언제 그랬냐는듯 잘만 돌아갔었다..  \n",
    "  \n",
    "여전히 이름도모르는 라이브러리와 메서드들에 혼란을 겪고있다.  \n",
    "처음 자바를 배웠을 때 처럼 의미도 모르고 계속계속 사용하고 찾아보다보면 어느새에 내게 녹아있지 않을까 하는 생각이 들었다!\n",
    "\n",
    "\n"
   ]
  }
 ],
 "metadata": {
  "kernelspec": {
   "display_name": "aiffel",
   "language": "python",
   "name": "aiffel"
  },
  "language_info": {
   "codemirror_mode": {
    "name": "ipython",
    "version": 3
   },
   "file_extension": ".py",
   "mimetype": "text/x-python",
   "name": "python",
   "nbconvert_exporter": "python",
   "pygments_lexer": "ipython3",
   "version": "3.7.9"
  }
 },
 "nbformat": 4,
 "nbformat_minor": 4
}
