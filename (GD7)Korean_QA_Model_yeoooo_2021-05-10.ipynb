{
 "cells": [
  {
   "cell_type": "code",
   "execution_count": 1,
   "metadata": {},
   "outputs": [],
   "source": [
    "from tensorflow.keras.utils import get_file\n",
    "from tensorflow.keras.preprocessing.sequence import pad_sequences\n",
    "from tensorflow.keras.utils import to_categorical\n",
    "import numpy as np\n",
    "import tarfile\n",
    "from nltk import FreqDist\n",
    "from functools import reduce\n",
    "import os\n",
    "import re"
   ]
  },
  {
   "cell_type": "code",
   "execution_count": 2,
   "metadata": {},
   "outputs": [],
   "source": [
    "TRAIN_FILE = os.getenv('HOME') + '/aiffel/babi_memory_net/data/qa1_single-supporting-fact_train_kor.txt'\n",
    "TEST_FILE = os.getenv('HOME') + '/aiffel/babi_memory_net/data/qa1_single-supporting-fact_test_kor.txt'"
   ]
  },
  {
   "cell_type": "code",
   "execution_count": 3,
   "metadata": {},
   "outputs": [
    {
     "name": "stdout",
     "output_type": "stream",
     "text": [
      "1 필웅이는 화장실로 갔습니다.\n",
      "2 은경이는 복도로 이동했습니다.\n",
      "3 필웅이는 어디야? \t화장실\t1\n",
      "4 수종이는 복도로 복귀했습니다.\n",
      "5 경임이는 정원으로 갔습니다.\n",
      "6 수종이는 어디야? \t복도\t4\n",
      "7 은경이는 사무실로 갔습니다.\n",
      "8 경임이는 화장실로 뛰어갔습니다.\n",
      "9 수종이는 어디야? \t복도\t4\n",
      "10 필웅이는 복도로 갔습니다.\n"
     ]
    }
   ],
   "source": [
    "i = 0\n",
    "lines = open(TRAIN_FILE , \"rb\")\n",
    "for line in lines:\n",
    "    line = line.decode(\"utf-8\").strip()\n",
    "    i = i + 1\n",
    "    print(line)\n",
    "    if i == 10:\n",
    "        break"
   ]
  },
  {
   "cell_type": "code",
   "execution_count": 4,
   "metadata": {},
   "outputs": [],
   "source": [
    "def read_data(dir):\n",
    "    stories, questions, answers = [], [], [] # 각각 스토리, 질문, 답변을 저장할 예정\n",
    "    story_temp = [] # 현재 시점의 스토리 임시 저장\n",
    "    lines = open(dir, \"rb\")\n",
    "\n",
    "    for line in lines:\n",
    "        line = line.decode(\"utf-8\") # b' 제거\n",
    "        line = line.strip() # '\\n' 제거\n",
    "        idx, text = line.split(\" \", 1) # 맨 앞에 있는 id number 분리\n",
    "        # 여기까지는 모든 줄에 적용되는 전처리\n",
    "\n",
    "        if int(idx) == 1:\n",
    "            story_temp = []\n",
    "        \n",
    "        if \"\\t\" in text: # 현재 읽는 줄이 질문 (tab) 답변 (tab)인 경우\n",
    "            question, answer, _ = text.split(\"\\t\") # 질문과 답변을 각각 저장\n",
    "            stories.append([x for x in story_temp if x]) # 지금까지의 누적 스토리를 스토리에 저장\n",
    "            questions.append(question)\n",
    "            answers.append(answer)\n",
    "\n",
    "        else: # 현재 읽는 줄이 스토리인 경우\n",
    "            story_temp.append(text) # 임시 저장\n",
    "\n",
    "    lines.close()\n",
    "    return stories, questions, answers"
   ]
  },
  {
   "cell_type": "code",
   "execution_count": 5,
   "metadata": {},
   "outputs": [],
   "source": [
    "train_data = read_data(TRAIN_FILE)\n",
    "test_data = read_data(TEST_FILE)"
   ]
  },
  {
   "cell_type": "code",
   "execution_count": 6,
   "metadata": {},
   "outputs": [],
   "source": [
    "train_stories, train_questions, train_answers = read_data(TRAIN_FILE)\n",
    "test_stories, test_questions, test_answers = read_data(TEST_FILE)"
   ]
  },
  {
   "cell_type": "code",
   "execution_count": 7,
   "metadata": {},
   "outputs": [
    {
     "name": "stdout",
     "output_type": "stream",
     "text": [
      "10000\n",
      "10000\n",
      "10000\n",
      "1000\n",
      "1000\n",
      "1000\n"
     ]
    }
   ],
   "source": [
    "print(len(train_stories))\n",
    "print(len(train_questions))\n",
    "print(len(train_answers))\n",
    "print(len(test_stories))\n",
    "print(len(test_questions))\n",
    "print(len(test_answers))"
   ]
  },
  {
   "cell_type": "code",
   "execution_count": 8,
   "metadata": {},
   "outputs": [
    {
     "data": {
      "text/plain": [
       "['수종이는 화장실로 뛰어갔습니다.',\n",
       " '경임이는 사무실로 갔습니다.',\n",
       " '은경이는 부엌으로 이동했습니다.',\n",
       " '경임이는 화장실로 갔습니다.',\n",
       " '수종이는 복도로 갔습니다.',\n",
       " '필웅이는 부엌으로 가버렸습니다.',\n",
       " '수종이는 부엌으로 이동했습니다.',\n",
       " '수종이는 화장실로 가버렸습니다.']"
      ]
     },
     "execution_count": 8,
     "metadata": {},
     "output_type": "execute_result"
    }
   ],
   "source": [
    "train_stories[3878]"
   ]
  },
  {
   "cell_type": "code",
   "execution_count": 9,
   "metadata": {},
   "outputs": [
    {
     "data": {
      "text/plain": [
       "['필웅이는 어디야? ', '수종이는 어디야? ', '수종이는 어디야? ', '수종이는 어디야? ', '경임이는 어디야? ']"
      ]
     },
     "execution_count": 9,
     "metadata": {},
     "output_type": "execute_result"
    }
   ],
   "source": [
    "train_questions[:5]"
   ]
  },
  {
   "cell_type": "code",
   "execution_count": 10,
   "metadata": {},
   "outputs": [
    {
     "data": {
      "text/plain": [
       "['화장실', '복도', '복도', '사무실', '화장실']"
      ]
     },
     "execution_count": 10,
     "metadata": {},
     "output_type": "execute_result"
    }
   ],
   "source": [
    "train_answers[:5]"
   ]
  },
  {
   "cell_type": "code",
   "execution_count": 11,
   "metadata": {},
   "outputs": [
    {
     "name": "stderr",
     "output_type": "stream",
     "text": [
      "/home/aiffel-dj16/anaconda3/envs/aiffel/lib/python3.7/site-packages/konlpy/tag/_okt.py:16: UserWarning: \"Twitter\" has changed to \"Okt\" since KoNLPy v0.4.5.\n",
      "  warn('\"Twitter\" has changed to \"Okt\" since KoNLPy v0.4.5.')\n"
     ]
    }
   ],
   "source": [
    "from ckonlpy.tag import Twitter\n",
    "\n",
    "twitter = Twitter()\n",
    "twitter.add_dictionary('수종이', 'Noun')\n",
    "twitter.add_dictionary('경임이', 'Noun')\n",
    "twitter.add_dictionary('은경이', 'Noun')\n",
    "twitter.add_dictionary('필웅이', 'Noun')\n"
   ]
  },
  {
   "cell_type": "code",
   "execution_count": 12,
   "metadata": {},
   "outputs": [],
   "source": [
    "def tokenize(sent):\n",
    "    return twitter.morphs(sent)"
   ]
  },
  {
   "cell_type": "code",
   "execution_count": 13,
   "metadata": {},
   "outputs": [],
   "source": [
    "def preprocess_data(train_data, test_data):\n",
    "    counter = FreqDist()\n",
    "    \n",
    "    # 두 문장의 story를 하나의 문장으로 통합하는 함수\n",
    "    flatten = lambda data: reduce(lambda x, y: x + y, data)\n",
    "\n",
    "    # 각 샘플의 길이를 저장하는 리스트\n",
    "    story_len = []\n",
    "    question_len = []\n",
    "    \n",
    "    for stories, questions, answers in [train_data, test_data]:\n",
    "        for story in stories:\n",
    "            stories = tokenize(flatten(story)) # 스토리의 문장들을 펼친 후 토큰화\n",
    "            story_len.append(len(stories)) # 각 story의 길이 저장\n",
    "            for word in stories: # 단어 집합에 단어 추가\n",
    "                counter[word] += 1\n",
    "        for question in questions:\n",
    "            question = tokenize(question)\n",
    "            question_len.append(len(question))\n",
    "            for word in question:\n",
    "                counter[word] += 1\n",
    "        for answer in answers:\n",
    "            answer = tokenize(answer)\n",
    "            for word in answer:\n",
    "                counter[word] += 1\n",
    "\n",
    "    # 단어장 생성\n",
    "    word2idx = {word : (idx + 1) for idx, (word, _) in enumerate(counter.most_common())}\n",
    "    idx2word = {idx : word for word, idx in word2idx.items()}\n",
    "\n",
    "    # 가장 긴 샘플의 길이\n",
    "    story_max_len = np.max(story_len)\n",
    "    question_max_len = np.max(question_len)\n",
    "\n",
    "    return word2idx, idx2word, story_max_len, question_max_len"
   ]
  },
  {
   "cell_type": "code",
   "execution_count": 14,
   "metadata": {},
   "outputs": [],
   "source": [
    "word2idx, idx2word, story_max_len, question_max_len = preprocess_data(train_data, test_data)"
   ]
  },
  {
   "cell_type": "code",
   "execution_count": 15,
   "metadata": {},
   "outputs": [
    {
     "name": "stdout",
     "output_type": "stream",
     "text": [
      "{'는': 1, '.': 2, '로': 3, '했습니다': 4, '으로': 5, '경임이': 6, '은경이': 7, '수종이': 8, '필웅이': 9, '이동': 10, '가버렸습니다': 11, '뛰어갔습니다': 12, '복귀': 13, '화장실': 14, '정원': 15, '복도': 16, '갔습니다': 17, '사무실': 18, '부엌': 19, '침실': 20, '어디': 21, '야': 22, '?': 23}\n"
     ]
    }
   ],
   "source": [
    "print(word2idx)"
   ]
  },
  {
   "cell_type": "code",
   "execution_count": 16,
   "metadata": {},
   "outputs": [],
   "source": [
    "vocab_size = len(word2idx) + 1"
   ]
  },
  {
   "cell_type": "code",
   "execution_count": 17,
   "metadata": {},
   "outputs": [
    {
     "name": "stdout",
     "output_type": "stream",
     "text": [
      "스토리의 최대 길이 : 70\n",
      "질문의 최대 길이 : 5\n"
     ]
    }
   ],
   "source": [
    "print('스토리의 최대 길이 :',story_max_len)\n",
    "print('질문의 최대 길이 :',question_max_len)"
   ]
  },
  {
   "cell_type": "code",
   "execution_count": 18,
   "metadata": {},
   "outputs": [],
   "source": [
    "def vectorize(data, word2idx, story_maxlen, question_maxlen):\n",
    "    Xs, Xq, Y = [], [], []\n",
    "    flatten = lambda data: reduce(lambda x, y: x + y, data)\n",
    "\n",
    "    stories, questions, answers = data\n",
    "    for story, question, answer in zip(stories, questions, answers):\n",
    "        xs = [word2idx[w] for w in tokenize(flatten(story))]\n",
    "        xq = [word2idx[w] for w in tokenize(question)]\n",
    "        Xs.append(xs)\n",
    "        Xq.append(xq)\n",
    "        Y.append(word2idx[answer])\n",
    "\n",
    "    # 스토리와 질문은 각각의 최대 길이로 패딩\n",
    "    # 정답은 원-핫 인코딩\n",
    "    return pad_sequences(Xs, maxlen=story_maxlen),\\\n",
    "           pad_sequences(Xq, maxlen=question_maxlen),\\\n",
    "           to_categorical(Y, num_classes=len(word2idx) + 1)"
   ]
  },
  {
   "cell_type": "code",
   "execution_count": 19,
   "metadata": {},
   "outputs": [],
   "source": [
    "Xstrain, Xqtrain, Ytrain = vectorize(train_data, word2idx, story_max_len, question_max_len)\n",
    "Xstest, Xqtest, Ytest = vectorize(test_data, word2idx, story_max_len, question_max_len)"
   ]
  },
  {
   "cell_type": "code",
   "execution_count": 20,
   "metadata": {},
   "outputs": [
    {
     "name": "stdout",
     "output_type": "stream",
     "text": [
      "(10000, 70) (10000, 5) (10000, 24) (1000, 70) (1000, 5) (1000, 24)\n"
     ]
    }
   ],
   "source": [
    "print(Xstrain.shape, Xqtrain.shape, Ytrain.shape, Xstest.shape, Xqtest.shape, Ytest.shape)"
   ]
  },
  {
   "cell_type": "code",
   "execution_count": 21,
   "metadata": {},
   "outputs": [],
   "source": [
    "from tensorflow.keras.models import Sequential, Model\n",
    "from tensorflow.keras.layers import Embedding\n",
    "from tensorflow.keras.layers import Permute, dot, add, concatenate\n",
    "from tensorflow.keras.layers import LSTM, Dense, Dropout, Input, Activation\n",
    "import matplotlib.pyplot as plt"
   ]
  },
  {
   "cell_type": "code",
   "execution_count": 22,
   "metadata": {},
   "outputs": [],
   "source": [
    "# 에포크 횟수\n",
    "train_epochs = 120\n",
    "# 배치 크기\n",
    "batch_size = 32\n",
    "# 임베딩 크기\n",
    "embed_size = 50\n",
    "# LSTM의 크기\n",
    "lstm_size = 64\n",
    "# 과적합 방지 기법인 드롭아웃 적용 비율\n",
    "dropout_rate = 0.30"
   ]
  },
  {
   "cell_type": "code",
   "execution_count": 23,
   "metadata": {},
   "outputs": [
    {
     "name": "stdout",
     "output_type": "stream",
     "text": [
      "Stories : Tensor(\"input_1:0\", shape=(None, 70), dtype=float32)\n",
      "Question: Tensor(\"input_2:0\", shape=(None, 5), dtype=float32)\n"
     ]
    }
   ],
   "source": [
    "input_sequence = Input((story_max_len,))\n",
    "question = Input((question_max_len,))\n",
    " \n",
    "print('Stories :', input_sequence)\n",
    "print('Question:', question)"
   ]
  },
  {
   "cell_type": "code",
   "execution_count": 24,
   "metadata": {},
   "outputs": [],
   "source": [
    "# 스토리를 위한 첫번째 임베딩. 그림에서의 Embedding A\n",
    "input_encoder_m = Sequential()\n",
    "input_encoder_m.add(Embedding(input_dim=vocab_size,\n",
    "                              output_dim=embed_size))\n",
    "input_encoder_m.add(Dropout(dropout_rate))\n",
    "# 결과 : (samples, story_max_len, embed_size) / 샘플의 수, 문장의 최대 길이, 임베딩 벡터의 차원\n",
    " \n",
    "# 스토리를 위한 두번째 임베딩. 그림에서의 Embedding C\n",
    "# 임베딩 벡터의 차원을 question_max_len(질문의 최대 길이)로 한다.\n",
    "input_encoder_c = Sequential()\n",
    "input_encoder_c.add(Embedding(input_dim=vocab_size,\n",
    "                              output_dim=question_max_len))\n",
    "input_encoder_c.add(Dropout(dropout_rate))\n",
    "# 결과 : (samples, story_max_len, question_max_len) / 샘플의 수, 문장의 최대 길이, 질문의 최대 길이(임베딩 벡터의 차원)"
   ]
  },
  {
   "cell_type": "code",
   "execution_count": 25,
   "metadata": {},
   "outputs": [],
   "source": [
    "# 질문을 위한 임베딩. 그림에서의 Embedding B\n",
    "question_encoder = Sequential()\n",
    "question_encoder.add(Embedding(input_dim=vocab_size,\n",
    "                               output_dim=embed_size,\n",
    "                               input_length=question_max_len))\n",
    "question_encoder.add(Dropout(dropout_rate))\n",
    "# 결과 : (samples, question_max_len, embed_size) / 샘플의 수, 질문의 최대 길이, 임베딩 벡터의 차원"
   ]
  },
  {
   "cell_type": "code",
   "execution_count": 26,
   "metadata": {},
   "outputs": [
    {
     "name": "stdout",
     "output_type": "stream",
     "text": [
      "Input encoded m Tensor(\"sequential/Identity:0\", shape=(None, 70, 50), dtype=float32)\n",
      "Input encoded c Tensor(\"sequential_1/Identity:0\", shape=(None, 70, 5), dtype=float32)\n",
      "Question encoded Tensor(\"sequential_2/Identity:0\", shape=(None, 5, 50), dtype=float32)\n"
     ]
    }
   ],
   "source": [
    "# 실질적인 임베딩 과정\n",
    "input_encoded_m = input_encoder_m(input_sequence)\n",
    "input_encoded_c = input_encoder_c(input_sequence)\n",
    "question_encoded = question_encoder(question)\n",
    "\n",
    "print('Input encoded m', input_encoded_m)\n",
    "print('Input encoded c', input_encoded_c)\n",
    "print('Question encoded', question_encoded)"
   ]
  },
  {
   "cell_type": "code",
   "execution_count": 27,
   "metadata": {},
   "outputs": [
    {
     "name": "stdout",
     "output_type": "stream",
     "text": [
      "Match shape Tensor(\"activation/Identity:0\", shape=(None, 70, 5), dtype=float32)\n"
     ]
    }
   ],
   "source": [
    "# 스토리 단어들과 질문 단어들 간의 유사도를 구하는 과정\n",
    "# 유사도는 내적을 사용한다.\n",
    "match = dot([input_encoded_m, question_encoded], axes=-1, normalize=False)\n",
    "match = Activation('softmax')(match)\n",
    "print('Match shape', match)\n",
    "# 결과 : (samples, story_max_len, question_max_len) / 샘플의 수, 문장의 최대 길이, 질문의 최대 길이"
   ]
  },
  {
   "cell_type": "code",
   "execution_count": 28,
   "metadata": {},
   "outputs": [
    {
     "name": "stdout",
     "output_type": "stream",
     "text": [
      "Response shape Tensor(\"permute/Identity:0\", shape=(None, 5, 70), dtype=float32)\n"
     ]
    }
   ],
   "source": [
    "# 매칭 유사도 행렬과 질문에 대한 임베딩을 더한다.\n",
    "response = add([match, input_encoded_c])  # (samples, story_maxlen, question_max_len)\n",
    "response = Permute((2, 1))(response)  # (samples, question_max_len, story_maxlen)\n",
    "print('Response shape', response)"
   ]
  },
  {
   "cell_type": "code",
   "execution_count": 29,
   "metadata": {},
   "outputs": [
    {
     "name": "stdout",
     "output_type": "stream",
     "text": [
      "Answer shape Tensor(\"concatenate/Identity:0\", shape=(None, 5, 120), dtype=float32)\n"
     ]
    }
   ],
   "source": [
    "# concatenate the response vector with the question vector sequence\n",
    "answer = concatenate([response, question_encoded])\n",
    "print('Answer shape', answer)\n",
    " \n",
    "answer = LSTM(lstm_size)(answer)  # Generate tensors of shape 32\n",
    "answer = Dropout(dropout_rate)(answer)\n",
    "answer = Dense(vocab_size)(answer)  # (samples, vocab_size)\n",
    "# we output a probability distribution over the vocabulary\n",
    "answer = Activation('softmax')(answer)"
   ]
  },
  {
   "cell_type": "code",
   "execution_count": 30,
   "metadata": {},
   "outputs": [
    {
     "name": "stdout",
     "output_type": "stream",
     "text": [
      "Epoch 1/120\n",
      "313/313 [==============================] - 2s 6ms/step - loss: 1.9009 - acc: 0.1695 - val_loss: 1.7751 - val_acc: 0.2530\n",
      "Epoch 2/120\n",
      "313/313 [==============================] - 1s 4ms/step - loss: 1.6935 - acc: 0.2642 - val_loss: 1.6508 - val_acc: 0.2860\n",
      "Epoch 3/120\n",
      "313/313 [==============================] - 1s 4ms/step - loss: 1.6017 - acc: 0.3450 - val_loss: 1.5426 - val_acc: 0.3710\n",
      "Epoch 4/120\n",
      "313/313 [==============================] - 1s 4ms/step - loss: 1.5083 - acc: 0.4016 - val_loss: 1.4887 - val_acc: 0.4090\n",
      "Epoch 5/120\n",
      "313/313 [==============================] - 1s 4ms/step - loss: 1.4674 - acc: 0.4282 - val_loss: 1.4416 - val_acc: 0.4530\n",
      "Epoch 6/120\n",
      "313/313 [==============================] - 1s 4ms/step - loss: 1.4182 - acc: 0.4514 - val_loss: 1.3973 - val_acc: 0.4580\n",
      "Epoch 7/120\n",
      "313/313 [==============================] - 1s 4ms/step - loss: 1.3764 - acc: 0.4735 - val_loss: 1.3793 - val_acc: 0.4570\n",
      "Epoch 8/120\n",
      "313/313 [==============================] - 1s 4ms/step - loss: 1.3423 - acc: 0.4814 - val_loss: 1.3425 - val_acc: 0.4810\n",
      "Epoch 9/120\n",
      "313/313 [==============================] - 1s 4ms/step - loss: 1.3223 - acc: 0.4955 - val_loss: 1.3129 - val_acc: 0.4900\n",
      "Epoch 10/120\n",
      "313/313 [==============================] - 1s 4ms/step - loss: 1.3017 - acc: 0.4995 - val_loss: 1.2799 - val_acc: 0.4890\n",
      "Epoch 11/120\n",
      "313/313 [==============================] - 1s 4ms/step - loss: 1.2698 - acc: 0.5018 - val_loss: 1.2598 - val_acc: 0.5000\n",
      "Epoch 12/120\n",
      "313/313 [==============================] - 1s 4ms/step - loss: 1.2312 - acc: 0.5154 - val_loss: 1.2256 - val_acc: 0.5140\n",
      "Epoch 13/120\n",
      "313/313 [==============================] - 1s 4ms/step - loss: 1.2139 - acc: 0.5170 - val_loss: 1.2060 - val_acc: 0.5130\n",
      "Epoch 14/120\n",
      "313/313 [==============================] - 1s 4ms/step - loss: 1.2020 - acc: 0.5173 - val_loss: 1.2057 - val_acc: 0.5250\n",
      "Epoch 15/120\n",
      "313/313 [==============================] - 1s 4ms/step - loss: 1.1843 - acc: 0.5235 - val_loss: 1.1862 - val_acc: 0.5080\n",
      "Epoch 16/120\n",
      "313/313 [==============================] - 1s 4ms/step - loss: 1.1591 - acc: 0.5303 - val_loss: 1.1798 - val_acc: 0.5290\n",
      "Epoch 17/120\n",
      "313/313 [==============================] - 1s 4ms/step - loss: 1.1454 - acc: 0.5323 - val_loss: 1.1794 - val_acc: 0.5220\n",
      "Epoch 18/120\n",
      "313/313 [==============================] - 1s 4ms/step - loss: 1.1343 - acc: 0.5294 - val_loss: 1.1611 - val_acc: 0.5140\n",
      "Epoch 19/120\n",
      "313/313 [==============================] - 1s 4ms/step - loss: 1.1236 - acc: 0.5285 - val_loss: 1.1692 - val_acc: 0.5000\n",
      "Epoch 20/120\n",
      "313/313 [==============================] - 1s 4ms/step - loss: 1.1104 - acc: 0.5331 - val_loss: 1.1702 - val_acc: 0.5110\n",
      "Epoch 21/120\n",
      "313/313 [==============================] - 1s 4ms/step - loss: 1.1039 - acc: 0.5324 - val_loss: 1.1500 - val_acc: 0.5080\n",
      "Epoch 22/120\n",
      "313/313 [==============================] - 1s 4ms/step - loss: 1.0970 - acc: 0.5317 - val_loss: 1.1518 - val_acc: 0.5180\n",
      "Epoch 23/120\n",
      "313/313 [==============================] - 1s 4ms/step - loss: 1.0794 - acc: 0.5433 - val_loss: 1.1390 - val_acc: 0.5260\n",
      "Epoch 24/120\n",
      "313/313 [==============================] - 1s 4ms/step - loss: 1.0760 - acc: 0.5371 - val_loss: 1.1501 - val_acc: 0.5270\n",
      "Epoch 25/120\n",
      "313/313 [==============================] - 1s 4ms/step - loss: 1.0737 - acc: 0.5384 - val_loss: 1.1288 - val_acc: 0.5040\n",
      "Epoch 26/120\n",
      "313/313 [==============================] - 1s 4ms/step - loss: 1.0635 - acc: 0.5509 - val_loss: 1.1533 - val_acc: 0.5180\n",
      "Epoch 27/120\n",
      "313/313 [==============================] - 1s 4ms/step - loss: 1.0535 - acc: 0.5514 - val_loss: 1.1272 - val_acc: 0.5230\n",
      "Epoch 28/120\n",
      "313/313 [==============================] - 1s 4ms/step - loss: 1.0453 - acc: 0.5531 - val_loss: 1.1425 - val_acc: 0.5210\n",
      "Epoch 29/120\n",
      "313/313 [==============================] - 1s 4ms/step - loss: 1.0446 - acc: 0.5496 - val_loss: 1.1412 - val_acc: 0.5080\n",
      "Epoch 30/120\n",
      "313/313 [==============================] - 1s 4ms/step - loss: 1.0347 - acc: 0.5522 - val_loss: 1.1436 - val_acc: 0.5210\n",
      "Epoch 31/120\n",
      "313/313 [==============================] - 1s 4ms/step - loss: 1.0278 - acc: 0.5505 - val_loss: 1.1555 - val_acc: 0.5220\n",
      "Epoch 32/120\n",
      "313/313 [==============================] - 1s 4ms/step - loss: 1.0164 - acc: 0.5629 - val_loss: 1.1694 - val_acc: 0.5010\n",
      "Epoch 33/120\n",
      "313/313 [==============================] - 1s 4ms/step - loss: 1.0144 - acc: 0.5608 - val_loss: 1.1435 - val_acc: 0.5270\n",
      "Epoch 34/120\n",
      "313/313 [==============================] - 1s 4ms/step - loss: 1.0030 - acc: 0.5659 - val_loss: 1.1497 - val_acc: 0.5200\n",
      "Epoch 35/120\n",
      "313/313 [==============================] - 1s 4ms/step - loss: 1.0017 - acc: 0.5630 - val_loss: 1.1708 - val_acc: 0.5150\n",
      "Epoch 36/120\n",
      "313/313 [==============================] - 1s 4ms/step - loss: 0.9796 - acc: 0.5763 - val_loss: 1.1607 - val_acc: 0.5080\n",
      "Epoch 37/120\n",
      "313/313 [==============================] - 1s 4ms/step - loss: 0.9727 - acc: 0.5784 - val_loss: 1.1692 - val_acc: 0.5200\n",
      "Epoch 38/120\n",
      "313/313 [==============================] - 1s 4ms/step - loss: 0.9687 - acc: 0.5797 - val_loss: 1.1535 - val_acc: 0.5310\n",
      "Epoch 39/120\n",
      "313/313 [==============================] - 1s 4ms/step - loss: 0.9424 - acc: 0.5984 - val_loss: 1.1189 - val_acc: 0.5480\n",
      "Epoch 40/120\n",
      "313/313 [==============================] - 1s 4ms/step - loss: 0.9047 - acc: 0.6231 - val_loss: 1.0619 - val_acc: 0.5940\n",
      "Epoch 41/120\n",
      "313/313 [==============================] - 1s 4ms/step - loss: 0.8195 - acc: 0.6653 - val_loss: 0.9859 - val_acc: 0.6260\n",
      "Epoch 42/120\n",
      "313/313 [==============================] - 1s 4ms/step - loss: 0.6797 - acc: 0.7310 - val_loss: 0.7575 - val_acc: 0.7150\n",
      "Epoch 43/120\n",
      "313/313 [==============================] - 1s 4ms/step - loss: 0.5709 - acc: 0.7779 - val_loss: 0.6567 - val_acc: 0.7450\n",
      "Epoch 44/120\n",
      "313/313 [==============================] - 1s 4ms/step - loss: 0.5167 - acc: 0.7965 - val_loss: 0.6590 - val_acc: 0.7520\n",
      "Epoch 45/120\n",
      "313/313 [==============================] - 1s 4ms/step - loss: 0.4724 - acc: 0.8148 - val_loss: 0.6218 - val_acc: 0.7630\n",
      "Epoch 46/120\n",
      "313/313 [==============================] - 1s 4ms/step - loss: 0.4399 - acc: 0.8273 - val_loss: 0.5377 - val_acc: 0.7830\n",
      "Epoch 47/120\n",
      "313/313 [==============================] - 1s 4ms/step - loss: 0.4025 - acc: 0.8370 - val_loss: 0.5003 - val_acc: 0.7910\n",
      "Epoch 48/120\n",
      "313/313 [==============================] - 1s 4ms/step - loss: 0.3757 - acc: 0.8548 - val_loss: 0.4790 - val_acc: 0.8110\n",
      "Epoch 49/120\n",
      "313/313 [==============================] - 1s 4ms/step - loss: 0.3461 - acc: 0.8656 - val_loss: 0.4693 - val_acc: 0.8110\n",
      "Epoch 50/120\n",
      "313/313 [==============================] - 1s 4ms/step - loss: 0.3188 - acc: 0.8743 - val_loss: 0.4062 - val_acc: 0.8430\n",
      "Epoch 51/120\n",
      "313/313 [==============================] - 1s 4ms/step - loss: 0.2878 - acc: 0.8897 - val_loss: 0.4120 - val_acc: 0.8490\n",
      "Epoch 52/120\n",
      "313/313 [==============================] - 1s 4ms/step - loss: 0.2748 - acc: 0.8922 - val_loss: 0.4056 - val_acc: 0.8480\n",
      "Epoch 53/120\n",
      "313/313 [==============================] - 1s 4ms/step - loss: 0.2509 - acc: 0.9039 - val_loss: 0.3501 - val_acc: 0.8690\n",
      "Epoch 54/120\n",
      "313/313 [==============================] - 1s 4ms/step - loss: 0.2363 - acc: 0.9118 - val_loss: 0.3856 - val_acc: 0.8660\n",
      "Epoch 55/120\n",
      "313/313 [==============================] - 1s 4ms/step - loss: 0.2250 - acc: 0.9170 - val_loss: 0.3705 - val_acc: 0.8670\n",
      "Epoch 56/120\n",
      "313/313 [==============================] - 1s 4ms/step - loss: 0.2114 - acc: 0.9202 - val_loss: 0.3485 - val_acc: 0.8590\n",
      "Epoch 57/120\n",
      "313/313 [==============================] - 1s 4ms/step - loss: 0.1856 - acc: 0.9275 - val_loss: 0.3485 - val_acc: 0.8760\n",
      "Epoch 58/120\n",
      "313/313 [==============================] - 1s 4ms/step - loss: 0.1760 - acc: 0.9338 - val_loss: 0.3954 - val_acc: 0.8670\n",
      "Epoch 59/120\n",
      "313/313 [==============================] - 1s 4ms/step - loss: 0.1732 - acc: 0.9334 - val_loss: 0.3306 - val_acc: 0.8830\n",
      "Epoch 60/120\n",
      "313/313 [==============================] - 1s 4ms/step - loss: 0.1536 - acc: 0.9422 - val_loss: 0.3410 - val_acc: 0.8830\n",
      "Epoch 61/120\n",
      "313/313 [==============================] - 1s 4ms/step - loss: 0.1463 - acc: 0.9472 - val_loss: 0.2952 - val_acc: 0.8960\n",
      "Epoch 62/120\n"
     ]
    },
    {
     "name": "stdout",
     "output_type": "stream",
     "text": [
      "313/313 [==============================] - 1s 4ms/step - loss: 0.1321 - acc: 0.9507 - val_loss: 0.2836 - val_acc: 0.9060\n",
      "Epoch 63/120\n",
      "313/313 [==============================] - 1s 4ms/step - loss: 0.1153 - acc: 0.9595 - val_loss: 0.2934 - val_acc: 0.9000\n",
      "Epoch 64/120\n",
      "313/313 [==============================] - 1s 4ms/step - loss: 0.1071 - acc: 0.9620 - val_loss: 0.2685 - val_acc: 0.9130\n",
      "Epoch 65/120\n",
      "313/313 [==============================] - 1s 4ms/step - loss: 0.1006 - acc: 0.9631 - val_loss: 0.3073 - val_acc: 0.9090\n",
      "Epoch 66/120\n",
      "313/313 [==============================] - 1s 4ms/step - loss: 0.0965 - acc: 0.9659 - val_loss: 0.2837 - val_acc: 0.9150\n",
      "Epoch 67/120\n",
      "313/313 [==============================] - 1s 4ms/step - loss: 0.0880 - acc: 0.9682 - val_loss: 0.2498 - val_acc: 0.9210\n",
      "Epoch 68/120\n",
      "313/313 [==============================] - 1s 4ms/step - loss: 0.0820 - acc: 0.9724 - val_loss: 0.2869 - val_acc: 0.9050\n",
      "Epoch 69/120\n",
      "313/313 [==============================] - 1s 4ms/step - loss: 0.0707 - acc: 0.9760 - val_loss: 0.3029 - val_acc: 0.9180\n",
      "Epoch 70/120\n",
      "313/313 [==============================] - 1s 4ms/step - loss: 0.0650 - acc: 0.9769 - val_loss: 0.2750 - val_acc: 0.9220\n",
      "Epoch 71/120\n",
      "313/313 [==============================] - 1s 4ms/step - loss: 0.0662 - acc: 0.9766 - val_loss: 0.2668 - val_acc: 0.9260\n",
      "Epoch 72/120\n",
      "313/313 [==============================] - 1s 4ms/step - loss: 0.0654 - acc: 0.9759 - val_loss: 0.2813 - val_acc: 0.9320\n",
      "Epoch 73/120\n",
      "313/313 [==============================] - 1s 4ms/step - loss: 0.0589 - acc: 0.9791 - val_loss: 0.2673 - val_acc: 0.9280\n",
      "Epoch 74/120\n",
      "313/313 [==============================] - 1s 4ms/step - loss: 0.0580 - acc: 0.9802 - val_loss: 0.2540 - val_acc: 0.9270\n",
      "Epoch 75/120\n",
      "313/313 [==============================] - 1s 4ms/step - loss: 0.0506 - acc: 0.9827 - val_loss: 0.2650 - val_acc: 0.9250\n",
      "Epoch 76/120\n",
      "313/313 [==============================] - 1s 4ms/step - loss: 0.0470 - acc: 0.9846 - val_loss: 0.2739 - val_acc: 0.9300\n",
      "Epoch 77/120\n",
      "313/313 [==============================] - 1s 4ms/step - loss: 0.0473 - acc: 0.9848 - val_loss: 0.2715 - val_acc: 0.9250\n",
      "Epoch 78/120\n",
      "313/313 [==============================] - 1s 4ms/step - loss: 0.0422 - acc: 0.9856 - val_loss: 0.2601 - val_acc: 0.9360\n",
      "Epoch 79/120\n",
      "313/313 [==============================] - 1s 4ms/step - loss: 0.0444 - acc: 0.9856 - val_loss: 0.2864 - val_acc: 0.9240\n",
      "Epoch 80/120\n",
      "313/313 [==============================] - 1s 4ms/step - loss: 0.0381 - acc: 0.9874 - val_loss: 0.2801 - val_acc: 0.9370\n",
      "Epoch 81/120\n",
      "313/313 [==============================] - 1s 4ms/step - loss: 0.0402 - acc: 0.9862 - val_loss: 0.2590 - val_acc: 0.9320\n",
      "Epoch 82/120\n",
      "313/313 [==============================] - 1s 4ms/step - loss: 0.0384 - acc: 0.9882 - val_loss: 0.2459 - val_acc: 0.9350\n",
      "Epoch 83/120\n",
      "313/313 [==============================] - 1s 4ms/step - loss: 0.0359 - acc: 0.9889 - val_loss: 0.2393 - val_acc: 0.9390\n",
      "Epoch 84/120\n",
      "313/313 [==============================] - 1s 4ms/step - loss: 0.0306 - acc: 0.9899 - val_loss: 0.2612 - val_acc: 0.9370\n",
      "Epoch 85/120\n",
      "313/313 [==============================] - 1s 4ms/step - loss: 0.0287 - acc: 0.9909 - val_loss: 0.2759 - val_acc: 0.9420\n",
      "Epoch 86/120\n",
      "313/313 [==============================] - 1s 4ms/step - loss: 0.0287 - acc: 0.9907 - val_loss: 0.2424 - val_acc: 0.9440\n",
      "Epoch 87/120\n",
      "313/313 [==============================] - 1s 4ms/step - loss: 0.0277 - acc: 0.9911 - val_loss: 0.2747 - val_acc: 0.9380\n",
      "Epoch 88/120\n",
      "313/313 [==============================] - 1s 4ms/step - loss: 0.0319 - acc: 0.9903 - val_loss: 0.2521 - val_acc: 0.9380\n",
      "Epoch 89/120\n",
      "313/313 [==============================] - 1s 4ms/step - loss: 0.0274 - acc: 0.9916 - val_loss: 0.2528 - val_acc: 0.9500\n",
      "Epoch 90/120\n",
      "313/313 [==============================] - 1s 4ms/step - loss: 0.0286 - acc: 0.9906 - val_loss: 0.2688 - val_acc: 0.9450\n",
      "Epoch 91/120\n",
      "313/313 [==============================] - 1s 4ms/step - loss: 0.0261 - acc: 0.9913 - val_loss: 0.2558 - val_acc: 0.9420\n",
      "Epoch 92/120\n",
      "313/313 [==============================] - 1s 4ms/step - loss: 0.0219 - acc: 0.9928 - val_loss: 0.2884 - val_acc: 0.9420\n",
      "Epoch 93/120\n",
      "313/313 [==============================] - 1s 4ms/step - loss: 0.0246 - acc: 0.9922 - val_loss: 0.2514 - val_acc: 0.9460\n",
      "Epoch 94/120\n",
      "313/313 [==============================] - 1s 4ms/step - loss: 0.0200 - acc: 0.9937 - val_loss: 0.2616 - val_acc: 0.9370\n",
      "Epoch 95/120\n",
      "313/313 [==============================] - 1s 4ms/step - loss: 0.0249 - acc: 0.9924 - val_loss: 0.2718 - val_acc: 0.9500\n",
      "Epoch 96/120\n",
      "313/313 [==============================] - 1s 3ms/step - loss: 0.0235 - acc: 0.9926 - val_loss: 0.3087 - val_acc: 0.9490\n",
      "Epoch 97/120\n",
      "313/313 [==============================] - 1s 4ms/step - loss: 0.0199 - acc: 0.9936 - val_loss: 0.2612 - val_acc: 0.9480\n",
      "Epoch 98/120\n",
      "313/313 [==============================] - 1s 4ms/step - loss: 0.0247 - acc: 0.9926 - val_loss: 0.2543 - val_acc: 0.9480\n",
      "Epoch 99/120\n",
      "313/313 [==============================] - 1s 4ms/step - loss: 0.0196 - acc: 0.9933 - val_loss: 0.2509 - val_acc: 0.9480\n",
      "Epoch 100/120\n",
      "313/313 [==============================] - 1s 4ms/step - loss: 0.0207 - acc: 0.9923 - val_loss: 0.2696 - val_acc: 0.9520\n",
      "Epoch 101/120\n",
      "313/313 [==============================] - 1s 4ms/step - loss: 0.0242 - acc: 0.9923 - val_loss: 0.2877 - val_acc: 0.9480\n",
      "Epoch 102/120\n",
      "313/313 [==============================] - 1s 4ms/step - loss: 0.0145 - acc: 0.9950 - val_loss: 0.2459 - val_acc: 0.9520\n",
      "Epoch 103/120\n",
      "313/313 [==============================] - 1s 4ms/step - loss: 0.0184 - acc: 0.9953 - val_loss: 0.2624 - val_acc: 0.9520\n",
      "Epoch 104/120\n",
      "313/313 [==============================] - 1s 3ms/step - loss: 0.0212 - acc: 0.9933 - val_loss: 0.2321 - val_acc: 0.9530\n",
      "Epoch 105/120\n",
      "313/313 [==============================] - 1s 3ms/step - loss: 0.0157 - acc: 0.9954 - val_loss: 0.2857 - val_acc: 0.9450\n",
      "Epoch 106/120\n",
      "313/313 [==============================] - 1s 3ms/step - loss: 0.0151 - acc: 0.9950 - val_loss: 0.2912 - val_acc: 0.9520\n",
      "Epoch 107/120\n",
      "313/313 [==============================] - 1s 3ms/step - loss: 0.0200 - acc: 0.9941 - val_loss: 0.2495 - val_acc: 0.9520\n",
      "Epoch 108/120\n",
      "313/313 [==============================] - 1s 4ms/step - loss: 0.0148 - acc: 0.9951 - val_loss: 0.2881 - val_acc: 0.9520\n",
      "Epoch 109/120\n",
      "313/313 [==============================] - 1s 4ms/step - loss: 0.0145 - acc: 0.9960 - val_loss: 0.3117 - val_acc: 0.9440\n",
      "Epoch 110/120\n",
      "313/313 [==============================] - 1s 4ms/step - loss: 0.0200 - acc: 0.9945 - val_loss: 0.2604 - val_acc: 0.9510\n",
      "Epoch 111/120\n",
      "313/313 [==============================] - 1s 4ms/step - loss: 0.0134 - acc: 0.9957 - val_loss: 0.2748 - val_acc: 0.9520\n",
      "Epoch 112/120\n",
      "313/313 [==============================] - 1s 3ms/step - loss: 0.0188 - acc: 0.9941 - val_loss: 0.2655 - val_acc: 0.9550\n",
      "Epoch 113/120\n",
      "313/313 [==============================] - 1s 4ms/step - loss: 0.0155 - acc: 0.9948 - val_loss: 0.2782 - val_acc: 0.9490\n",
      "Epoch 114/120\n",
      "313/313 [==============================] - 1s 3ms/step - loss: 0.0127 - acc: 0.9959 - val_loss: 0.2577 - val_acc: 0.9520\n",
      "Epoch 115/120\n",
      "313/313 [==============================] - 1s 3ms/step - loss: 0.0153 - acc: 0.9952 - val_loss: 0.2806 - val_acc: 0.9560\n",
      "Epoch 116/120\n",
      "313/313 [==============================] - 1s 4ms/step - loss: 0.0162 - acc: 0.9954 - val_loss: 0.2851 - val_acc: 0.9500\n",
      "Epoch 117/120\n",
      "313/313 [==============================] - 1s 3ms/step - loss: 0.0151 - acc: 0.9948 - val_loss: 0.3296 - val_acc: 0.9460\n",
      "Epoch 118/120\n",
      "313/313 [==============================] - 1s 4ms/step - loss: 0.0123 - acc: 0.9956 - val_loss: 0.2944 - val_acc: 0.9520\n",
      "Epoch 119/120\n",
      "313/313 [==============================] - 1s 4ms/step - loss: 0.0186 - acc: 0.9941 - val_loss: 0.3082 - val_acc: 0.9500\n",
      "Epoch 120/120\n",
      "313/313 [==============================] - 1s 4ms/step - loss: 0.0145 - acc: 0.9955 - val_loss: 0.2809 - val_acc: 0.9480\n"
     ]
    }
   ],
   "source": [
    "import os\n",
    "\n",
    "# 모델 컴파일\n",
    "model = Model([input_sequence, question], answer)\n",
    "model.compile(optimizer='rmsprop', loss='categorical_crossentropy',\n",
    "              metrics=['acc'])\n",
    " \n",
    "# 테스트 데이터를 검증 데이터로 사용하면서 모델 훈련 시작\n",
    "history = model.fit([Xstrain, Xqtrain],\n",
    "         Ytrain, batch_size, train_epochs,\n",
    "         validation_data=([Xstest, Xqtest], Ytest))\n",
    " \n",
    "# 훈련 후에는 모델 저장\n",
    "model_path = os.getenv('HOME')+'/aiffel/babi_memory_net/model_ko.h5'\n",
    "model.save(model_path)"
   ]
  },
  {
   "cell_type": "code",
   "execution_count": 31,
   "metadata": {},
   "outputs": [
    {
     "name": "stdout",
     "output_type": "stream",
     "text": [
      "32/32 [==============================] - 0s 2ms/step - loss: 0.2809 - acc: 0.9480\n",
      "\n",
      " 테스트 정확도: 0.9480\n"
     ]
    }
   ],
   "source": [
    "print(\"\\n 테스트 정확도: %.4f\" % (model.evaluate([Xstest, Xqtest], Ytest)[1]))"
   ]
  },
  {
   "cell_type": "code",
   "execution_count": 32,
   "metadata": {},
   "outputs": [
    {
     "data": {
      "image/png": "[encoded data removed]",
      "text/plain": [
       "<Figure size 432x288 with 2 Axes>"
      ]
     },
     "metadata": {
      "needs_background": "light"
     },
     "output_type": "display_data"
    }
   ],
   "source": [
    "# plot accuracy and loss plot\n",
    "plt.subplot(211)\n",
    "plt.title(\"Accuracy\")\n",
    "plt.plot(history.history[\"acc\"], color=\"g\", label=\"train\")\n",
    "plt.plot(history.history[\"val_acc\"], color=\"b\", label=\"validation\")\n",
    "plt.legend(loc=\"best\")\n",
    "\n",
    "plt.subplot(212)\n",
    "plt.title(\"Loss\")\n",
    "plt.plot(history.history[\"loss\"], color=\"g\", label=\"train\")\n",
    "plt.plot(history.history[\"val_loss\"], color=\"b\", label=\"validation\")\n",
    "plt.legend(loc=\"best\")\n",
    "\n",
    "plt.tight_layout()\n",
    "plt.show()\n",
    "\n",
    "# labels\n",
    "ytest = np.argmax(Ytest, axis=1)\n",
    "\n",
    "# get predictions\n",
    "Ytest_ = model.predict([Xstest, Xqtest])\n",
    "ytest_ = np.argmax(Ytest_, axis=1)"
   ]
  },
  {
   "cell_type": "code",
   "execution_count": 33,
   "metadata": {},
   "outputs": [
    {
     "name": "stdout",
     "output_type": "stream",
     "text": [
      "질문                |실제값  |예측값\n",
      "---------------------------------------\n",
      "은경이 는 어디 야 ?        : 복도      복도\n",
      "필웅이 는 어디 야 ?        : 화장실     화장실\n",
      "경임이 는 어디 야 ?        : 부엌      부엌\n",
      "경임이 는 어디 야 ?        : 복도      복도\n",
      "경임이 는 어디 야 ?        : 부엌      부엌\n",
      "경임이 는 어디 야 ?        : 복도      복도\n",
      "경임이 는 어디 야 ?        : 정원      정원\n",
      "수종이 는 어디 야 ?        : 복도      복도\n",
      "경임이 는 어디 야 ?        : 사무실     정원\n",
      "수종이 는 어디 야 ?        : 사무실     사무실\n",
      "필웅이 는 어디 야 ?        : 부엌      부엌\n",
      "필웅이 는 어디 야 ?        : 정원      정원\n",
      "수종이 는 어디 야 ?        : 사무실     사무실\n",
      "필웅이 는 어디 야 ?        : 침실      침실\n",
      "필웅이 는 어디 야 ?        : 침실      침실\n",
      "은경이 는 어디 야 ?        : 부엌      부엌\n",
      "은경이 는 어디 야 ?        : 정원      정원\n",
      "은경이 는 어디 야 ?        : 부엌      부엌\n",
      "수종이 는 어디 야 ?        : 사무실     사무실\n",
      "은경이 는 어디 야 ?        : 부엌      정원\n",
      "필웅이 는 어디 야 ?        : 복도      복도\n",
      "은경이 는 어디 야 ?        : 사무실     사무실\n",
      "은경이 는 어디 야 ?        : 사무실     사무실\n",
      "경임이 는 어디 야 ?        : 복도      복도\n",
      "수종이 는 어디 야 ?        : 침실      침실\n",
      "경임이 는 어디 야 ?        : 침실      침실\n",
      "필웅이 는 어디 야 ?        : 침실      침실\n",
      "수종이 는 어디 야 ?        : 부엌      부엌\n",
      "수종이 는 어디 야 ?        : 부엌      부엌\n",
      "수종이 는 어디 야 ?        : 부엌      부엌\n"
     ]
    }
   ],
   "source": [
    "NUM_DISPLAY = 30\n",
    "\n",
    "print(\"{:18}|{:5}|{}\".format(\"질문\", \"실제값\", \"예측값\"))\n",
    "print(39 * \"-\")\n",
    "\n",
    "for i in range(NUM_DISPLAY):\n",
    "    question = \" \".join([idx2word[x] for x in Xqtest[i].tolist()])\n",
    "    label = idx2word[ytest[i]]\n",
    "    prediction = idx2word[ytest_[i]]\n",
    "    print(\"{:20}: {:7} {}\".format(question, label, prediction))"
   ]
  },
  {
   "cell_type": "code",
   "execution_count": 34,
   "metadata": {},
   "outputs": [],
   "source": [
    "from ckonlpy.tag import Postprocessor\n",
    "\n",
    "stopwords = {'는',  '로', '으로', '야'}\n",
    "postprocessor = Postprocessor(\n",
    "    base_tagger = twitter,\n",
    "    stopwords = stopwords)"
   ]
  },
  {
   "cell_type": "code",
   "execution_count": 35,
   "metadata": {},
   "outputs": [],
   "source": [
    "def tokenize_stopwords(sentence):\n",
    "    sentence_list = []\n",
    "    sentence = postprocessor.pos(sentence)\n",
    "    \n",
    "    for a in range(len(sentence)):\n",
    "        s1 = sentence[a][0]\n",
    "        sentence_list.append(s1)\n",
    "        \n",
    "    return sentence_list"
   ]
  },
  {
   "cell_type": "code",
   "execution_count": 36,
   "metadata": {},
   "outputs": [],
   "source": [
    "def preprocess_data(train_data, test_data):\n",
    "    counter = FreqDist()\n",
    "    \n",
    "    # 두 문장의 story를 하나의 문장으로 통합하는 함수\n",
    "    flatten = lambda data: reduce(lambda x, y: x + y, data)\n",
    "\n",
    "    # 각 샘플의 길이를 저장하는 리스트\n",
    "    story_len = []\n",
    "    question_len = []\n",
    "    story_list = []\n",
    "    question_list = []\n",
    "    \n",
    "    for stories, questions, answers in [train_data, test_data]:\n",
    "        for story in stories:\n",
    "            first_stories = postprocessor.pos(flatten(story))\n",
    "            story_len.append(len(first_stories))\n",
    "            for a in range(len(first_stories)):\n",
    "                stories_1 = first_stories[a][0]\n",
    "                story_list.append(stories_1)\n",
    "        for word in story_list: # 단어 집합에 단어 추가\n",
    "            counter[word] += 1\n",
    "        for question in questions:\n",
    "            first_question = postprocessor.pos(flatten(question))\n",
    "            question_len.append(len(first_question))\n",
    "            for a in range(len(first_question)):\n",
    "                question_1 = first_question[a][0]\n",
    "                question_list.append(question_1)\n",
    "        for word in question_list:\n",
    "             counter[word] += 1\n",
    "        for answer in answers:\n",
    "            answer = tokenize_stopwords(answer)\n",
    "            for word in answer:\n",
    "                counter[word] += 1\n",
    "\n",
    "    # 단어장 생성\n",
    "    word2idx = {word : (idx + 1) for idx, (word, _) in enumerate(counter.most_common())}\n",
    "    idx2word = {idx : word for word, idx in word2idx.items()}\n",
    "\n",
    "    # 가장 긴 샘플의 길이\n",
    "    story_max_len = np.max(story_len)\n",
    "    question_max_len = np.max(question_len)\n",
    "\n",
    "    return word2idx, idx2word, story_max_len, question_max_len"
   ]
  },
  {
   "cell_type": "code",
   "execution_count": 37,
   "metadata": {},
   "outputs": [],
   "source": [
    "word2idx, idx2word, story_max_len, question_max_len = preprocess_data(train_data, test_data)"
   ]
  },
  {
   "cell_type": "code",
   "execution_count": 38,
   "metadata": {},
   "outputs": [],
   "source": [
    "vocab_size = len(word2idx) + 1"
   ]
  },
  {
   "cell_type": "code",
   "execution_count": 39,
   "metadata": {},
   "outputs": [
    {
     "name": "stdout",
     "output_type": "stream",
     "text": [
      "{'.': 1, '했습니다': 2, '경임이': 3, '은경이': 4, '수종이': 5, '필웅이': 6, '이동': 7, '뛰어갔습니다': 8, '가버렸습니다': 9, '복귀': 10, '갔습니다': 11, '화장실': 12, '복도': 13, '정원': 14, '사무실': 15, '부엌': 16, '침실': 17, '어디': 18, '?': 19}\n"
     ]
    }
   ],
   "source": [
    "print(word2idx)"
   ]
  },
  {
   "cell_type": "code",
   "execution_count": 40,
   "metadata": {},
   "outputs": [],
   "source": [
    "def vectorize(data, word2idx, story_maxlen, question_maxlen):\n",
    "    Xs, Xq, Y = [], [], []\n",
    "    flatten = lambda data: reduce(lambda x, y: x + y, data)\n",
    "\n",
    "    stories, questions, answers = data\n",
    "    for story, question, answer in zip(stories, questions, answers):\n",
    "        xs = [word2idx[w] for w in tokenize_stopwords(flatten(story))]\n",
    "        xq = [word2idx[w] for w in tokenize_stopwords(question)]\n",
    "        Xs.append(xs)\n",
    "        Xq.append(xq)\n",
    "        Y.append(word2idx[answer])\n",
    "\n",
    "    # 스토리와 질문은 각각의 최대 길이로 패딩\n",
    "    # 정답은 원-핫 인코딩\n",
    "    return pad_sequences(Xs, maxlen=story_maxlen),\\\n",
    "           pad_sequences(Xq, maxlen=question_maxlen),\\\n",
    "           to_categorical(Y, num_classes=len(word2idx) + 1)"
   ]
  },
  {
   "cell_type": "code",
   "execution_count": 41,
   "metadata": {},
   "outputs": [],
   "source": [
    "Xstrain, Xqtrain, Ytrain = vectorize(train_data, word2idx, story_max_len, question_max_len)\n",
    "Xstest, Xqtest, Ytest = vectorize(test_data, word2idx, story_max_len, question_max_len)"
   ]
  },
  {
   "cell_type": "code",
   "execution_count": 42,
   "metadata": {},
   "outputs": [
    {
     "name": "stdout",
     "output_type": "stream",
     "text": [
      "(10000, 50) (10000, 3) (10000, 20) (1000, 50) (1000, 3) (1000, 20)\n"
     ]
    }
   ],
   "source": [
    "print(Xstrain.shape, Xqtrain.shape, Ytrain.shape, Xstest.shape, Xqtest.shape, Ytest.shape)"
   ]
  },
  {
   "cell_type": "code",
   "execution_count": 43,
   "metadata": {},
   "outputs": [],
   "source": [
    "# 에포크 횟수\n",
    "train_epochs = 120\n",
    "# 배치 크기\n",
    "batch_size = 32\n",
    "# 임베딩 크기\n",
    "embed_size = 50\n",
    "# LSTM의 크기\n",
    "lstm_size = 64\n",
    "# 과적합 방지 기법인 드롭아웃 적용 비율\n",
    "dropout_rate = 0.30"
   ]
  },
  {
   "cell_type": "code",
   "execution_count": 44,
   "metadata": {},
   "outputs": [
    {
     "name": "stdout",
     "output_type": "stream",
     "text": [
      "Stories : Tensor(\"input_3:0\", shape=(None, 50), dtype=float32)\n",
      "Question: Tensor(\"input_4:0\", shape=(None, 3), dtype=float32)\n"
     ]
    }
   ],
   "source": [
    "input_sequence = Input((story_max_len,))\n",
    "question = Input((question_max_len,))\n",
    " \n",
    "print('Stories :', input_sequence)\n",
    "print('Question:', question)"
   ]
  },
  {
   "cell_type": "code",
   "execution_count": 45,
   "metadata": {},
   "outputs": [],
   "source": [
    "# 스토리를 위한 첫번째 임베딩. 그림에서의 Embedding A\n",
    "input_encoder_m = Sequential()\n",
    "input_encoder_m.add(Embedding(input_dim=vocab_size,\n",
    "                              output_dim=embed_size))\n",
    "input_encoder_m.add(Dropout(dropout_rate))\n",
    "# 결과 : (samples, story_max_len, embed_size) / 샘플의 수, 문장의 최대 길이, 임베딩 벡터의 차원\n",
    " \n",
    "# 스토리를 위한 두번째 임베딩. 그림에서의 Embedding C\n",
    "# 임베딩 벡터의 차원을 question_max_len(질문의 최대 길이)로 한다.\n",
    "input_encoder_c = Sequential()\n",
    "input_encoder_c.add(Embedding(input_dim=vocab_size,\n",
    "                              output_dim=question_max_len))\n",
    "input_encoder_c.add(Dropout(dropout_rate))\n",
    "# 결과 : (samples, story_max_len, question_max_len) / 샘플의 수, 문장의 최대 길이, 질문의 최대 길이(임베딩 벡터의 차원)|"
   ]
  },
  {
   "cell_type": "code",
   "execution_count": 46,
   "metadata": {},
   "outputs": [],
   "source": [
    "# 질문을 위한 임베딩. 그림에서의 Embedding B\n",
    "question_encoder = Sequential()\n",
    "question_encoder.add(Embedding(input_dim=vocab_size,\n",
    "                               output_dim=embed_size,\n",
    "                               input_length=question_max_len))\n",
    "question_encoder.add(Dropout(dropout_rate))\n",
    "# 결과 : (samples, question_max_len, embed_size) / 샘플의 수, 질문의 최대 길이, 임베딩 벡터의 차원"
   ]
  },
  {
   "cell_type": "code",
   "execution_count": 47,
   "metadata": {},
   "outputs": [
    {
     "name": "stdout",
     "output_type": "stream",
     "text": [
      "Input encoded m Tensor(\"sequential_3/Identity:0\", shape=(None, 50, 50), dtype=float32)\n",
      "Input encoded c Tensor(\"sequential_4/Identity:0\", shape=(None, 50, 3), dtype=float32)\n",
      "Question encoded Tensor(\"sequential_5/Identity:0\", shape=(None, 3, 50), dtype=float32)\n"
     ]
    }
   ],
   "source": [
    "# 실질적인 임베딩 과정\n",
    "input_encoded_m = input_encoder_m(input_sequence)\n",
    "input_encoded_c = input_encoder_c(input_sequence)\n",
    "question_encoded = question_encoder(question)\n",
    "\n",
    "print('Input encoded m', input_encoded_m)\n",
    "print('Input encoded c', input_encoded_c)\n",
    "print('Question encoded', question_encoded)"
   ]
  },
  {
   "cell_type": "code",
   "execution_count": 48,
   "metadata": {},
   "outputs": [
    {
     "name": "stdout",
     "output_type": "stream",
     "text": [
      "Match shape Tensor(\"activation_2/Identity:0\", shape=(None, 50, 3), dtype=float32)\n"
     ]
    }
   ],
   "source": [
    "# 스토리 단어들과 질문 단어들 간의 유사도를 구하는 과정\n",
    "# 유사도는 내적을 사용한다.\n",
    "match = dot([input_encoded_m, question_encoded], axes=-1, normalize=False)\n",
    "match = Activation('softmax')(match)\n",
    "print('Match shape', match)\n",
    "# 결과 : (samples, story_max_len, question_max_len) / 샘플의 수, 문장의 최대 길이, 질문의 최대 길이"
   ]
  },
  {
   "cell_type": "code",
   "execution_count": 49,
   "metadata": {},
   "outputs": [
    {
     "name": "stdout",
     "output_type": "stream",
     "text": [
      "Response shape Tensor(\"permute_1/Identity:0\", shape=(None, 3, 50), dtype=float32)\n"
     ]
    }
   ],
   "source": [
    "# 매칭 유사도 행렬과 질문에 대한 임베딩을 더한다.\n",
    "response = add([match, input_encoded_c])  # (samples, story_maxlen, question_max_len)\n",
    "response = Permute((2, 1))(response)  # (samples, question_max_len, story_maxlen)\n",
    "print('Response shape', response)"
   ]
  },
  {
   "cell_type": "code",
   "execution_count": 50,
   "metadata": {},
   "outputs": [
    {
     "name": "stdout",
     "output_type": "stream",
     "text": [
      "Answer shape Tensor(\"concatenate_1/Identity:0\", shape=(None, 3, 100), dtype=float32)\n"
     ]
    }
   ],
   "source": [
    "# concatenate the response vector with the question vector sequence\n",
    "answer = concatenate([response, question_encoded])\n",
    "print('Answer shape', answer)\n",
    " \n",
    "answer = LSTM(lstm_size)(answer)  # Generate tensors of shape 32\n",
    "answer = Dropout(dropout_rate)(answer)\n",
    "answer = Dense(vocab_size)(answer)  # (samples, vocab_size)\n",
    "# we output a probability distribution over the vocabulary\n",
    "answer = Activation('softmax')(answer)"
   ]
  },
  {
   "cell_type": "code",
   "execution_count": 51,
   "metadata": {},
   "outputs": [
    {
     "name": "stdout",
     "output_type": "stream",
     "text": [
      "Epoch 1/120\n",
      "313/313 [==============================] - 2s 5ms/step - loss: 1.8902 - acc: 0.1733 - val_loss: 1.8099 - val_acc: 0.1540\n",
      "Epoch 2/120\n",
      "313/313 [==============================] - 1s 4ms/step - loss: 1.7859 - acc: 0.1974 - val_loss: 1.7101 - val_acc: 0.2540\n",
      "Epoch 3/120\n",
      "313/313 [==============================] - 1s 3ms/step - loss: 1.6878 - acc: 0.2818 - val_loss: 1.6447 - val_acc: 0.3360\n",
      "Epoch 4/120\n",
      "313/313 [==============================] - 1s 3ms/step - loss: 1.6323 - acc: 0.3437 - val_loss: 1.5486 - val_acc: 0.4220\n",
      "Epoch 5/120\n",
      "313/313 [==============================] - 1s 4ms/step - loss: 1.5408 - acc: 0.3968 - val_loss: 1.4957 - val_acc: 0.4320\n",
      "Epoch 6/120\n",
      "313/313 [==============================] - 1s 4ms/step - loss: 1.5047 - acc: 0.4224 - val_loss: 1.4637 - val_acc: 0.4380\n",
      "Epoch 7/120\n",
      "313/313 [==============================] - 1s 3ms/step - loss: 1.4435 - acc: 0.4553 - val_loss: 1.3967 - val_acc: 0.4430\n",
      "Epoch 8/120\n",
      "313/313 [==============================] - 1s 3ms/step - loss: 1.3982 - acc: 0.4570 - val_loss: 1.3389 - val_acc: 0.4880\n",
      "Epoch 9/120\n",
      "313/313 [==============================] - 1s 3ms/step - loss: 1.3741 - acc: 0.4660 - val_loss: 1.3216 - val_acc: 0.5050\n",
      "Epoch 10/120\n",
      "313/313 [==============================] - 1s 4ms/step - loss: 1.3682 - acc: 0.4718 - val_loss: 1.3263 - val_acc: 0.4860\n",
      "Epoch 11/120\n",
      "313/313 [==============================] - 1s 4ms/step - loss: 1.3417 - acc: 0.4846 - val_loss: 1.3101 - val_acc: 0.5130\n",
      "Epoch 12/120\n",
      "313/313 [==============================] - 1s 3ms/step - loss: 1.3303 - acc: 0.4858 - val_loss: 1.2912 - val_acc: 0.5240\n",
      "Epoch 13/120\n",
      "313/313 [==============================] - 1s 4ms/step - loss: 1.3192 - acc: 0.4862 - val_loss: 1.3196 - val_acc: 0.5030\n",
      "Epoch 14/120\n",
      "313/313 [==============================] - 1s 4ms/step - loss: 1.3064 - acc: 0.4975 - val_loss: 1.2903 - val_acc: 0.5060\n",
      "Epoch 15/120\n",
      "313/313 [==============================] - 1s 4ms/step - loss: 1.3008 - acc: 0.5019 - val_loss: 1.2727 - val_acc: 0.5210\n",
      "Epoch 16/120\n",
      "313/313 [==============================] - 1s 4ms/step - loss: 1.2866 - acc: 0.5051 - val_loss: 1.2677 - val_acc: 0.5250\n",
      "Epoch 17/120\n",
      "313/313 [==============================] - 1s 4ms/step - loss: 1.2723 - acc: 0.5136 - val_loss: 1.2537 - val_acc: 0.5200\n",
      "Epoch 18/120\n",
      "313/313 [==============================] - 1s 4ms/step - loss: 1.2803 - acc: 0.5062 - val_loss: 1.2483 - val_acc: 0.5280\n",
      "Epoch 19/120\n",
      "313/313 [==============================] - 1s 4ms/step - loss: 1.2578 - acc: 0.5136 - val_loss: 1.2526 - val_acc: 0.5250\n",
      "Epoch 20/120\n",
      "313/313 [==============================] - 1s 4ms/step - loss: 1.2534 - acc: 0.5190 - val_loss: 1.2505 - val_acc: 0.5200\n",
      "Epoch 21/120\n",
      "313/313 [==============================] - 1s 4ms/step - loss: 1.2508 - acc: 0.5164 - val_loss: 1.2623 - val_acc: 0.5220\n",
      "Epoch 22/120\n",
      "313/313 [==============================] - 1s 4ms/step - loss: 1.2414 - acc: 0.5197 - val_loss: 1.2623 - val_acc: 0.5220\n",
      "Epoch 23/120\n",
      "313/313 [==============================] - 1s 4ms/step - loss: 1.2346 - acc: 0.5208 - val_loss: 1.2650 - val_acc: 0.5150\n",
      "Epoch 24/120\n",
      "313/313 [==============================] - 1s 4ms/step - loss: 1.2288 - acc: 0.5206 - val_loss: 1.2516 - val_acc: 0.5190\n",
      "Epoch 25/120\n",
      "313/313 [==============================] - 1s 4ms/step - loss: 1.2228 - acc: 0.5209 - val_loss: 1.2390 - val_acc: 0.5140\n",
      "Epoch 26/120\n",
      "313/313 [==============================] - 1s 4ms/step - loss: 1.2123 - acc: 0.5310 - val_loss: 1.2318 - val_acc: 0.5240\n",
      "Epoch 27/120\n",
      "313/313 [==============================] - 1s 3ms/step - loss: 1.2043 - acc: 0.5295 - val_loss: 1.2315 - val_acc: 0.5270\n",
      "Epoch 28/120\n",
      "313/313 [==============================] - 1s 3ms/step - loss: 1.2060 - acc: 0.5315 - val_loss: 1.2392 - val_acc: 0.5340\n",
      "Epoch 29/120\n",
      "313/313 [==============================] - 1s 4ms/step - loss: 1.1940 - acc: 0.5393 - val_loss: 1.2222 - val_acc: 0.5270\n",
      "Epoch 30/120\n",
      "313/313 [==============================] - 1s 4ms/step - loss: 1.1856 - acc: 0.5439 - val_loss: 1.2124 - val_acc: 0.5400\n",
      "Epoch 31/120\n",
      "313/313 [==============================] - 1s 4ms/step - loss: 1.1769 - acc: 0.5451 - val_loss: 1.2128 - val_acc: 0.5620\n",
      "Epoch 32/120\n",
      "313/313 [==============================] - 1s 4ms/step - loss: 1.1529 - acc: 0.5581 - val_loss: 1.1983 - val_acc: 0.5410\n",
      "Epoch 33/120\n",
      "313/313 [==============================] - 1s 4ms/step - loss: 1.1456 - acc: 0.5725 - val_loss: 1.1648 - val_acc: 0.5820\n",
      "Epoch 34/120\n",
      "313/313 [==============================] - 1s 4ms/step - loss: 1.1100 - acc: 0.5843 - val_loss: 1.1024 - val_acc: 0.6040\n",
      "Epoch 35/120\n",
      "313/313 [==============================] - 1s 4ms/step - loss: 1.0519 - acc: 0.6203 - val_loss: 1.0308 - val_acc: 0.6300\n",
      "Epoch 36/120\n",
      "313/313 [==============================] - 1s 4ms/step - loss: 0.9938 - acc: 0.6467 - val_loss: 0.9484 - val_acc: 0.6620\n",
      "Epoch 37/120\n",
      "313/313 [==============================] - 1s 4ms/step - loss: 0.9285 - acc: 0.6705 - val_loss: 0.9146 - val_acc: 0.6830\n",
      "Epoch 38/120\n",
      "313/313 [==============================] - 1s 4ms/step - loss: 0.8777 - acc: 0.6878 - val_loss: 0.8078 - val_acc: 0.7150\n",
      "Epoch 39/120\n",
      "313/313 [==============================] - 1s 4ms/step - loss: 0.8273 - acc: 0.7044 - val_loss: 0.7752 - val_acc: 0.7140\n",
      "Epoch 40/120\n",
      "313/313 [==============================] - 1s 4ms/step - loss: 0.7656 - acc: 0.7313 - val_loss: 0.7229 - val_acc: 0.7500\n",
      "Epoch 41/120\n",
      "313/313 [==============================] - 1s 4ms/step - loss: 0.7190 - acc: 0.7482 - val_loss: 0.6659 - val_acc: 0.7690\n",
      "Epoch 42/120\n",
      "313/313 [==============================] - 1s 4ms/step - loss: 0.6824 - acc: 0.7579 - val_loss: 0.6494 - val_acc: 0.7660\n",
      "Epoch 43/120\n",
      "313/313 [==============================] - 1s 4ms/step - loss: 0.6486 - acc: 0.7681 - val_loss: 0.6015 - val_acc: 0.7840\n",
      "Epoch 44/120\n",
      "313/313 [==============================] - 1s 4ms/step - loss: 0.6160 - acc: 0.7773 - val_loss: 0.5853 - val_acc: 0.7930\n",
      "Epoch 45/120\n",
      "313/313 [==============================] - 1s 4ms/step - loss: 0.5947 - acc: 0.7857 - val_loss: 0.5742 - val_acc: 0.7880\n",
      "Epoch 46/120\n",
      "313/313 [==============================] - 1s 4ms/step - loss: 0.5658 - acc: 0.7908 - val_loss: 0.5620 - val_acc: 0.7990\n",
      "Epoch 47/120\n",
      "313/313 [==============================] - 1s 4ms/step - loss: 0.5408 - acc: 0.8039 - val_loss: 0.5260 - val_acc: 0.8060\n",
      "Epoch 48/120\n",
      "313/313 [==============================] - 1s 3ms/step - loss: 0.5216 - acc: 0.8097 - val_loss: 0.5175 - val_acc: 0.8080\n",
      "Epoch 49/120\n",
      "313/313 [==============================] - 1s 4ms/step - loss: 0.5038 - acc: 0.8160 - val_loss: 0.5158 - val_acc: 0.7980\n",
      "Epoch 50/120\n",
      "313/313 [==============================] - 1s 4ms/step - loss: 0.4855 - acc: 0.8202 - val_loss: 0.4993 - val_acc: 0.8120\n",
      "Epoch 51/120\n",
      "313/313 [==============================] - 1s 4ms/step - loss: 0.4753 - acc: 0.8275 - val_loss: 0.4839 - val_acc: 0.8260\n",
      "Epoch 52/120\n",
      "313/313 [==============================] - 1s 4ms/step - loss: 0.4573 - acc: 0.8291 - val_loss: 0.4776 - val_acc: 0.8210\n",
      "Epoch 53/120\n",
      "313/313 [==============================] - 1s 3ms/step - loss: 0.4483 - acc: 0.8384 - val_loss: 0.4686 - val_acc: 0.8170\n",
      "Epoch 54/120\n",
      "313/313 [==============================] - 1s 4ms/step - loss: 0.4329 - acc: 0.8425 - val_loss: 0.4713 - val_acc: 0.8180\n",
      "Epoch 55/120\n",
      "313/313 [==============================] - 1s 4ms/step - loss: 0.4262 - acc: 0.8406 - val_loss: 0.4498 - val_acc: 0.8250\n",
      "Epoch 56/120\n",
      "313/313 [==============================] - 1s 4ms/step - loss: 0.4152 - acc: 0.8495 - val_loss: 0.4576 - val_acc: 0.8260\n",
      "Epoch 57/120\n",
      "313/313 [==============================] - 1s 4ms/step - loss: 0.4077 - acc: 0.8500 - val_loss: 0.4342 - val_acc: 0.8410\n",
      "Epoch 58/120\n",
      "313/313 [==============================] - 1s 3ms/step - loss: 0.3959 - acc: 0.8549 - val_loss: 0.4436 - val_acc: 0.8360\n",
      "Epoch 59/120\n",
      "313/313 [==============================] - 1s 4ms/step - loss: 0.3942 - acc: 0.8536 - val_loss: 0.4323 - val_acc: 0.8300\n",
      "Epoch 60/120\n",
      "313/313 [==============================] - 1s 4ms/step - loss: 0.3860 - acc: 0.8560 - val_loss: 0.4409 - val_acc: 0.8270\n",
      "Epoch 61/120\n",
      "313/313 [==============================] - 1s 4ms/step - loss: 0.3763 - acc: 0.8618 - val_loss: 0.4499 - val_acc: 0.8300\n",
      "Epoch 62/120\n"
     ]
    },
    {
     "name": "stdout",
     "output_type": "stream",
     "text": [
      "313/313 [==============================] - 1s 4ms/step - loss: 0.3640 - acc: 0.8663 - val_loss: 0.4186 - val_acc: 0.8390\n",
      "Epoch 63/120\n",
      "313/313 [==============================] - 1s 4ms/step - loss: 0.3682 - acc: 0.8669 - val_loss: 0.4286 - val_acc: 0.8430\n",
      "Epoch 64/120\n",
      "313/313 [==============================] - 1s 4ms/step - loss: 0.3561 - acc: 0.8693 - val_loss: 0.4046 - val_acc: 0.8420\n",
      "Epoch 65/120\n",
      "313/313 [==============================] - 1s 3ms/step - loss: 0.3552 - acc: 0.8696 - val_loss: 0.4142 - val_acc: 0.8420\n",
      "Epoch 66/120\n",
      "313/313 [==============================] - 1s 4ms/step - loss: 0.3463 - acc: 0.8708 - val_loss: 0.3995 - val_acc: 0.8500\n",
      "Epoch 67/120\n",
      "313/313 [==============================] - 1s 4ms/step - loss: 0.3387 - acc: 0.8752 - val_loss: 0.4269 - val_acc: 0.8370\n",
      "Epoch 68/120\n",
      "313/313 [==============================] - 1s 4ms/step - loss: 0.3280 - acc: 0.8795 - val_loss: 0.4140 - val_acc: 0.8510\n",
      "Epoch 69/120\n",
      "313/313 [==============================] - 1s 4ms/step - loss: 0.3242 - acc: 0.8815 - val_loss: 0.4069 - val_acc: 0.8450\n",
      "Epoch 70/120\n",
      "313/313 [==============================] - 1s 4ms/step - loss: 0.3135 - acc: 0.8829 - val_loss: 0.3755 - val_acc: 0.8560\n",
      "Epoch 71/120\n",
      "313/313 [==============================] - 1s 4ms/step - loss: 0.3063 - acc: 0.8884 - val_loss: 0.3780 - val_acc: 0.8610\n",
      "Epoch 72/120\n",
      "313/313 [==============================] - 1s 4ms/step - loss: 0.3035 - acc: 0.8906 - val_loss: 0.3640 - val_acc: 0.8610\n",
      "Epoch 73/120\n",
      "313/313 [==============================] - 1s 4ms/step - loss: 0.2922 - acc: 0.8932 - val_loss: 0.3535 - val_acc: 0.8710\n",
      "Epoch 74/120\n",
      "313/313 [==============================] - 1s 4ms/step - loss: 0.2906 - acc: 0.8967 - val_loss: 0.3575 - val_acc: 0.8620\n",
      "Epoch 75/120\n",
      "313/313 [==============================] - 1s 4ms/step - loss: 0.2744 - acc: 0.9016 - val_loss: 0.3378 - val_acc: 0.8710\n",
      "Epoch 76/120\n",
      "313/313 [==============================] - 1s 4ms/step - loss: 0.2644 - acc: 0.9019 - val_loss: 0.3332 - val_acc: 0.8790\n",
      "Epoch 77/120\n",
      "313/313 [==============================] - 1s 4ms/step - loss: 0.2639 - acc: 0.9055 - val_loss: 0.3618 - val_acc: 0.8680\n",
      "Epoch 78/120\n",
      "313/313 [==============================] - 1s 4ms/step - loss: 0.2633 - acc: 0.9059 - val_loss: 0.3335 - val_acc: 0.8840\n",
      "Epoch 79/120\n",
      "313/313 [==============================] - 1s 4ms/step - loss: 0.2472 - acc: 0.9097 - val_loss: 0.3257 - val_acc: 0.8720\n",
      "Epoch 80/120\n",
      "313/313 [==============================] - 1s 3ms/step - loss: 0.2475 - acc: 0.9092 - val_loss: 0.3148 - val_acc: 0.8810\n",
      "Epoch 81/120\n",
      "313/313 [==============================] - 1s 4ms/step - loss: 0.2464 - acc: 0.9119 - val_loss: 0.3277 - val_acc: 0.8730\n",
      "Epoch 82/120\n",
      "313/313 [==============================] - 1s 4ms/step - loss: 0.2369 - acc: 0.9152 - val_loss: 0.3055 - val_acc: 0.8940\n",
      "Epoch 83/120\n",
      "313/313 [==============================] - 1s 4ms/step - loss: 0.2339 - acc: 0.9148 - val_loss: 0.3143 - val_acc: 0.8890\n",
      "Epoch 84/120\n",
      "313/313 [==============================] - 1s 4ms/step - loss: 0.2313 - acc: 0.9175 - val_loss: 0.2998 - val_acc: 0.8970\n",
      "Epoch 85/120\n",
      "313/313 [==============================] - 1s 4ms/step - loss: 0.2247 - acc: 0.9176 - val_loss: 0.3146 - val_acc: 0.8980\n",
      "Epoch 86/120\n",
      "313/313 [==============================] - 1s 4ms/step - loss: 0.2250 - acc: 0.9185 - val_loss: 0.3113 - val_acc: 0.8940\n",
      "Epoch 87/120\n",
      "313/313 [==============================] - 1s 4ms/step - loss: 0.2165 - acc: 0.9235 - val_loss: 0.2966 - val_acc: 0.8970\n",
      "Epoch 88/120\n",
      "313/313 [==============================] - 1s 4ms/step - loss: 0.2109 - acc: 0.9256 - val_loss: 0.3016 - val_acc: 0.8930\n",
      "Epoch 89/120\n",
      "313/313 [==============================] - 1s 4ms/step - loss: 0.2105 - acc: 0.9259 - val_loss: 0.2999 - val_acc: 0.8970\n",
      "Epoch 90/120\n",
      "313/313 [==============================] - 1s 4ms/step - loss: 0.2059 - acc: 0.9251 - val_loss: 0.2980 - val_acc: 0.8950\n",
      "Epoch 91/120\n",
      "313/313 [==============================] - 1s 4ms/step - loss: 0.2048 - acc: 0.9263 - val_loss: 0.3085 - val_acc: 0.8930\n",
      "Epoch 92/120\n",
      "313/313 [==============================] - 1s 4ms/step - loss: 0.1987 - acc: 0.9303 - val_loss: 0.2918 - val_acc: 0.9030\n",
      "Epoch 93/120\n",
      "313/313 [==============================] - 1s 4ms/step - loss: 0.1932 - acc: 0.9332 - val_loss: 0.2935 - val_acc: 0.9010\n",
      "Epoch 94/120\n",
      "313/313 [==============================] - 1s 4ms/step - loss: 0.1945 - acc: 0.9309 - val_loss: 0.2931 - val_acc: 0.8890\n",
      "Epoch 95/120\n",
      "313/313 [==============================] - 1s 4ms/step - loss: 0.1894 - acc: 0.9314 - val_loss: 0.3091 - val_acc: 0.8930\n",
      "Epoch 96/120\n",
      "313/313 [==============================] - 1s 3ms/step - loss: 0.1825 - acc: 0.9353 - val_loss: 0.2838 - val_acc: 0.8970\n",
      "Epoch 97/120\n",
      "313/313 [==============================] - 1s 4ms/step - loss: 0.1782 - acc: 0.9365 - val_loss: 0.3561 - val_acc: 0.8710\n",
      "Epoch 98/120\n",
      "313/313 [==============================] - 1s 4ms/step - loss: 0.1807 - acc: 0.9337 - val_loss: 0.2785 - val_acc: 0.9040\n",
      "Epoch 99/120\n",
      "313/313 [==============================] - 1s 3ms/step - loss: 0.1813 - acc: 0.9364 - val_loss: 0.2977 - val_acc: 0.8920\n",
      "Epoch 100/120\n",
      "313/313 [==============================] - 1s 4ms/step - loss: 0.1742 - acc: 0.9400 - val_loss: 0.2788 - val_acc: 0.9070\n",
      "Epoch 101/120\n",
      "313/313 [==============================] - 1s 4ms/step - loss: 0.1710 - acc: 0.9404 - val_loss: 0.3042 - val_acc: 0.9060\n",
      "Epoch 102/120\n",
      "313/313 [==============================] - 1s 4ms/step - loss: 0.1604 - acc: 0.9410 - val_loss: 0.2733 - val_acc: 0.9060\n",
      "Epoch 103/120\n",
      "313/313 [==============================] - 1s 4ms/step - loss: 0.1657 - acc: 0.9431 - val_loss: 0.2876 - val_acc: 0.9030\n",
      "Epoch 104/120\n",
      "313/313 [==============================] - 1s 4ms/step - loss: 0.1722 - acc: 0.9398 - val_loss: 0.3153 - val_acc: 0.8940\n",
      "Epoch 105/120\n",
      "313/313 [==============================] - 1s 4ms/step - loss: 0.1604 - acc: 0.9433 - val_loss: 0.2676 - val_acc: 0.9150\n",
      "Epoch 106/120\n",
      "313/313 [==============================] - 1s 4ms/step - loss: 0.1617 - acc: 0.9410 - val_loss: 0.2690 - val_acc: 0.9090\n",
      "Epoch 107/120\n",
      "313/313 [==============================] - 1s 4ms/step - loss: 0.1570 - acc: 0.9425 - val_loss: 0.2911 - val_acc: 0.9020\n",
      "Epoch 108/120\n",
      "313/313 [==============================] - 1s 4ms/step - loss: 0.1582 - acc: 0.9450 - val_loss: 0.2747 - val_acc: 0.9190\n",
      "Epoch 109/120\n",
      "313/313 [==============================] - 1s 4ms/step - loss: 0.1579 - acc: 0.9447 - val_loss: 0.2947 - val_acc: 0.9070\n",
      "Epoch 110/120\n",
      "313/313 [==============================] - 1s 4ms/step - loss: 0.1554 - acc: 0.9441 - val_loss: 0.2655 - val_acc: 0.9110\n",
      "Epoch 111/120\n",
      "313/313 [==============================] - 1s 4ms/step - loss: 0.1478 - acc: 0.9479 - val_loss: 0.2565 - val_acc: 0.9120\n",
      "Epoch 112/120\n",
      "313/313 [==============================] - 1s 4ms/step - loss: 0.1503 - acc: 0.9477 - val_loss: 0.2777 - val_acc: 0.9070\n",
      "Epoch 113/120\n",
      "313/313 [==============================] - 1s 4ms/step - loss: 0.1434 - acc: 0.9518 - val_loss: 0.2898 - val_acc: 0.9040\n",
      "Epoch 114/120\n",
      "313/313 [==============================] - 1s 4ms/step - loss: 0.1547 - acc: 0.9464 - val_loss: 0.3236 - val_acc: 0.9020\n",
      "Epoch 115/120\n",
      "313/313 [==============================] - 1s 4ms/step - loss: 0.1437 - acc: 0.9515 - val_loss: 0.2896 - val_acc: 0.9130\n",
      "Epoch 116/120\n",
      "313/313 [==============================] - 1s 4ms/step - loss: 0.1459 - acc: 0.9516 - val_loss: 0.2772 - val_acc: 0.9060\n",
      "Epoch 117/120\n",
      "313/313 [==============================] - 1s 4ms/step - loss: 0.1451 - acc: 0.9492 - val_loss: 0.2772 - val_acc: 0.9120\n",
      "Epoch 118/120\n",
      "313/313 [==============================] - 1s 4ms/step - loss: 0.1393 - acc: 0.9496 - val_loss: 0.2829 - val_acc: 0.9000\n",
      "Epoch 119/120\n",
      "313/313 [==============================] - 1s 4ms/step - loss: 0.1350 - acc: 0.9528 - val_loss: 0.3174 - val_acc: 0.8960\n",
      "Epoch 120/120\n",
      "313/313 [==============================] - 1s 4ms/step - loss: 0.1388 - acc: 0.9497 - val_loss: 0.2503 - val_acc: 0.9180\n"
     ]
    }
   ],
   "source": [
    "# 모델 컴파일\n",
    "model = Model([input_sequence, question], answer)\n",
    "model.compile(optimizer='rmsprop', loss='categorical_crossentropy',\n",
    "              metrics=['acc'])\n",
    " \n",
    "# 테스트 데이터를 검증 데이터로 사용하면서 모델 훈련 시작\n",
    "history = model.fit([Xstrain, Xqtrain],\n",
    "         Ytrain, batch_size, train_epochs,\n",
    "         validation_data=([Xstest, Xqtest], Ytest))\n",
    " \n",
    "# 훈련 후에는 모델 저장\n",
    "model_path = os.getenv('HOME')+'/aiffel/babi_memory_net/model_ko_stopwords.h5'\n",
    "model.save(model_path)"
   ]
  },
  {
   "cell_type": "code",
   "execution_count": 52,
   "metadata": {},
   "outputs": [
    {
     "name": "stdout",
     "output_type": "stream",
     "text": [
      "32/32 [==============================] - 0s 2ms/step - loss: 0.2503 - acc: 0.9180\n",
      "\n",
      " 테스트 정확도: 0.9180\n"
     ]
    }
   ],
   "source": [
    "print(\"\\n 테스트 정확도: %.4f\" % (model.evaluate([Xstest, Xqtest], Ytest)[1]))"
   ]
  },
  {
   "cell_type": "code",
   "execution_count": 53,
   "metadata": {},
   "outputs": [
    {
     "data": {
      "image/png": "[encoded data removed]",
      "text/plain": [
       "<Figure size 432x288 with 2 Axes>"
      ]
     },
     "metadata": {
      "needs_background": "light"
     },
     "output_type": "display_data"
    }
   ],
   "source": [
    "# plot accuracy and loss plot\n",
    "plt.subplot(211)\n",
    "plt.title(\"Accuracy\")\n",
    "plt.plot(history.history[\"acc\"], color=\"g\", label=\"train\")\n",
    "plt.plot(history.history[\"val_acc\"], color=\"b\", label=\"validation\")\n",
    "plt.legend(loc=\"best\")\n",
    "\n",
    "plt.subplot(212)\n",
    "plt.title(\"Loss\")\n",
    "plt.plot(history.history[\"loss\"], color=\"g\", label=\"train\")\n",
    "plt.plot(history.history[\"val_loss\"], color=\"b\", label=\"validation\")\n",
    "plt.legend(loc=\"best\")\n",
    "\n",
    "plt.tight_layout()\n",
    "plt.show()\n",
    "\n",
    "# labels\n",
    "ytest = np.argmax(Ytest, axis=1)\n",
    "\n",
    "# get predictions\n",
    "Ytest_ = model.predict([Xstest, Xqtest])\n",
    "ytest_ = np.argmax(Ytest_, axis=1)"
   ]
  },
  {
   "cell_type": "code",
   "execution_count": 54,
   "metadata": {},
   "outputs": [
    {
     "name": "stdout",
     "output_type": "stream",
     "text": [
      "질문                |실제값  |예측값\n",
      "---------------------------------------\n",
      "은경이 어디 ?            : 복도      복도\n",
      "필웅이 어디 ?            : 화장실     화장실\n",
      "경임이 어디 ?            : 부엌      부엌\n",
      "경임이 어디 ?            : 복도      복도\n",
      "경임이 어디 ?            : 부엌      부엌\n",
      "경임이 어디 ?            : 복도      복도\n",
      "경임이 어디 ?            : 정원      정원\n",
      "수종이 어디 ?            : 복도      복도\n",
      "경임이 어디 ?            : 사무실     사무실\n",
      "수종이 어디 ?            : 사무실     복도\n",
      "필웅이 어디 ?            : 부엌      부엌\n",
      "필웅이 어디 ?            : 정원      정원\n",
      "수종이 어디 ?            : 사무실     사무실\n",
      "필웅이 어디 ?            : 침실      침실\n",
      "필웅이 어디 ?            : 침실      침실\n",
      "은경이 어디 ?            : 부엌      부엌\n",
      "은경이 어디 ?            : 정원      정원\n",
      "은경이 어디 ?            : 부엌      부엌\n",
      "수종이 어디 ?            : 사무실     정원\n",
      "은경이 어디 ?            : 부엌      부엌\n",
      "필웅이 어디 ?            : 복도      복도\n",
      "은경이 어디 ?            : 사무실     사무실\n",
      "은경이 어디 ?            : 사무실     사무실\n",
      "경임이 어디 ?            : 복도      복도\n",
      "수종이 어디 ?            : 침실      침실\n",
      "경임이 어디 ?            : 침실      침실\n",
      "필웅이 어디 ?            : 침실      침실\n",
      "수종이 어디 ?            : 부엌      부엌\n",
      "수종이 어디 ?            : 부엌      부엌\n",
      "수종이 어디 ?            : 부엌      침실\n"
     ]
    }
   ],
   "source": [
    "NUM_DISPLAY = 30\n",
    "\n",
    "print(\"{:18}|{:5}|{}\".format(\"질문\", \"실제값\", \"예측값\"))\n",
    "print(39 * \"-\")\n",
    "\n",
    "for i in range(NUM_DISPLAY):\n",
    "    question = \" \".join([idx2word[x] for x in Xqtest[i].tolist()])\n",
    "    label = idx2word[ytest[i]]\n",
    "    prediction = idx2word[ytest_[i]]\n",
    "    print(\"{:20}: {:7} {}\".format(question, label, prediction))"
   ]
  },
  {
   "cell_type": "code",
   "execution_count": null,
   "metadata": {},
   "outputs": [],
   "source": []
  }
 ],
 "metadata": {
  "kernelspec": {
   "display_name": "aiffel",
   "language": "python",
   "name": "aiffel"
  },
  "language_info": {
   "codemirror_mode": {
    "name": "ipython",
    "version": 3
   },
   "file_extension": ".py",
   "mimetype": "text/x-python",
   "name": "python",
   "nbconvert_exporter": "python",
   "pygments_lexer": "ipython3",
   "version": "3.7.9"
  },
  "toc": {
   "base_numbering": 1,
   "nav_menu": {},
   "number_sections": true,
   "sideBar": true,
   "skip_h1_title": false,
   "title_cell": "Table of Contents",
   "title_sidebar": "Contents",
   "toc_cell": false,
   "toc_position": {},
   "toc_section_display": true,
   "toc_window_display": false
  }
 },
 "nbformat": 4,
 "nbformat_minor": 4
}
